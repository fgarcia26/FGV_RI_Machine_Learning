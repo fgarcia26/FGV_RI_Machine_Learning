{
  "cells": [
    {
      "cell_type": "markdown",
      "metadata": {
        "id": "h_YI-2fOpkMj"
      },
      "source": [
        "\n",
        "# Titanic - Machine Learning Final Project\n",
        "\n",
        "Group 1: Fernanda Garcia, Gabriela Brogim, Isabella Nascimento e Julia Duó"
      ]
    },
    {
      "cell_type": "markdown",
      "source": [
        "# Executive Summary\n",
        "\n",
        "\n",
        "* In terms of data preparation, our strategy was to focus on encoding, given that most of our variables were not numeric. The main variables encoded were Cabin, Age, Embarked, Sex, Name and Family Size.\n",
        "\n",
        "* Sex, Fare, Age, Cabin_Digit and Pclass are the main characteristics that explain if a Titanic passenger survived the tragedy.\n",
        "The best model was the Logistic Regression with an accuracy higher than 80%. \n",
        "\n",
        "* The machine learning models have not performed as good as expected with an average accuracy of 50%. \n",
        "\n",
        "* Further paths of development include creating a variable Has_Title, which would encode the extracted titles that are considered rare, and combining the best models using stacking techniques. \n",
        "\n",
        "\n"
      ],
      "metadata": {
        "id": "_lPg7ULbPmJe"
      }
    },
    {
      "cell_type": "markdown",
      "metadata": {
        "id": "K7qJbIDgKdE5"
      },
      "source": [
        "# Contents \n",
        "\n",
        "1.   Download the data\n",
        "2.   General Information\n",
        "3.   Data Preparation and Featuring Engeneering\n",
        "\n",
        "\n",
        "> 3.1 Variable Cabin\n",
        "\n",
        "> 3.2 Variable Age \n",
        "\n",
        "> 3.3 Variable Embarked\n",
        "\n",
        "> 3.4 Variable Sex\n",
        "\n",
        "> 3.5 Variable Name\n",
        "\n",
        "> 3.6 Variable Family Size \n",
        "\n",
        "\n",
        "4.   Outliers \n",
        "5.   Correlation Matrix \n",
        "6.   Data Visualization\n",
        "7.   Preparing to run the Models \n",
        "8.   Decision Tree \n",
        "9.   Random Forest \n",
        "10.  Adaboosting and XG Boosting\n",
        "11.  Logistic Regression\n",
        "11.  Insights and Results \n",
        "12.  Conclusion\n",
        "\n",
        "\n",
        "\n",
        "\n",
        "\n",
        "\n",
        "\n",
        "\n",
        "\n",
        "\n",
        "\n",
        "\n",
        "\n",
        "\n",
        "\n",
        "\n",
        "\n"
      ]
    },
    {
      "cell_type": "markdown",
      "metadata": {
        "id": "MiSrkuBcSUXa"
      },
      "source": [
        "\n",
        "# ***"
      ]
    },
    {
      "cell_type": "markdown",
      "metadata": {
        "id": "MLoTMoQXpkMn"
      },
      "source": [
        "# Section 1 - Download the Data"
      ]
    },
    {
      "cell_type": "markdown",
      "metadata": {
        "id": "nUTgkBX-pkMn"
      },
      "source": [
        "Here you can find the original data and challenge: https://www.kaggle.com/c/titanic/data"
      ]
    },
    {
      "cell_type": "code",
      "execution_count": null,
      "metadata": {
        "id": "27FsRfC5pkMm"
      },
      "outputs": [],
      "source": [
        "# First, we will load all the necessary libraries and packages to run our \n",
        "# analysis. \n",
        "\n",
        "import seaborn as sns\n",
        "import pandas as pd\n",
        "import numpy as np\n",
        "\n",
        "import matplotlib.pyplot as plt\n",
        "import graphviz\n",
        "import pprint\n",
        "\n",
        "from sklearn import tree as sk_tree\n",
        "from sklearn.ensemble import RandomForestRegressor\n",
        "from sklearn.metrics import confusion_matrix, classification_report\n",
        "from sklearn.metrics import median_absolute_error, mean_absolute_error, r2_score, max_error, explained_variance_score\n",
        "from sklearn.model_selection import train_test_split\n",
        "from sklearn.impute import SimpleImputer\n",
        "from sklearn import svm\n",
        "\n",
        "import io"
      ]
    },
    {
      "cell_type": "code",
      "execution_count": null,
      "metadata": {
        "colab": {
          "base_uri": "https://localhost:8080/",
          "height": 431,
          "resources": {
            "http://localhost:8080/nbextensions/google.colab/files.js": {
              "data": "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",
              "headers": [
                [
                  "content-type",
                  "application/javascript"
                ]
              ],
              "ok": true,
              "status": 200,
              "status_text": ""
            }
          }
        },
        "id": "2TasjcOZpkMo",
        "outputId": "13260a7d-56b1-44ce-9659-63c548ec95fa"
      },
      "outputs": [
        {
          "output_type": "display_data",
          "data": {
            "text/plain": [
              "<IPython.core.display.HTML object>"
            ],
            "text/html": [
              "\n",
              "     <input type=\"file\" id=\"files-47d43680-7a4c-442e-a3a5-72333d5484e4\" name=\"files[]\" multiple disabled\n",
              "        style=\"border:none\" />\n",
              "     <output id=\"result-47d43680-7a4c-442e-a3a5-72333d5484e4\">\n",
              "      Upload widget is only available when the cell has been executed in the\n",
              "      current browser session. Please rerun this cell to enable.\n",
              "      </output>\n",
              "      <script src=\"/nbextensions/google.colab/files.js\"></script> "
            ]
          },
          "metadata": {}
        },
        {
          "output_type": "stream",
          "name": "stdout",
          "text": [
            "Saving train.csv to train.csv\n",
            "<class 'pandas.core.frame.DataFrame'>\n",
            "RangeIndex: 891 entries, 0 to 890\n",
            "Data columns (total 12 columns):\n",
            " #   Column       Non-Null Count  Dtype  \n",
            "---  ------       --------------  -----  \n",
            " 0   PassengerId  891 non-null    int64  \n",
            " 1   Survived     891 non-null    int64  \n",
            " 2   Pclass       891 non-null    int64  \n",
            " 3   Name         891 non-null    object \n",
            " 4   Sex          891 non-null    object \n",
            " 5   Age          714 non-null    float64\n",
            " 6   SibSp        891 non-null    int64  \n",
            " 7   Parch        891 non-null    int64  \n",
            " 8   Ticket       891 non-null    object \n",
            " 9   Fare         891 non-null    float64\n",
            " 10  Cabin        204 non-null    object \n",
            " 11  Embarked     889 non-null    object \n",
            "dtypes: float64(2), int64(5), object(5)\n",
            "memory usage: 83.7+ KB\n"
          ]
        },
        {
          "output_type": "execute_result",
          "data": {
            "text/plain": [
              "pandas.core.frame.DataFrame"
            ]
          },
          "metadata": {},
          "execution_count": 2
        }
      ],
      "source": [
        "# Now, we will upload the dataset \n",
        "\n",
        "from google.colab import files\n",
        "\n",
        "uploaded = files.upload()\n",
        "\n",
        "titanic_df = pd.read_csv(io.BytesIO(uploaded['train.csv']))\n",
        "\n",
        "titanic_df.head()\n",
        "titanic_df.info()\n",
        "type(titanic_df)"
      ]
    },
    {
      "cell_type": "code",
      "execution_count": null,
      "metadata": {
        "id": "lU1AxTHnTSl8",
        "colab": {
          "base_uri": "https://localhost:8080/"
        },
        "outputId": "bf98630f-8bab-4f84-f379-00f5f0f9018f"
      },
      "outputs": [
        {
          "output_type": "execute_result",
          "data": {
            "text/plain": [
              "(891, 12)"
            ]
          },
          "metadata": {},
          "execution_count": 3
        }
      ],
      "source": [
        "# Lets first take a look at the shape of our data \n",
        "\n",
        "titanic_df.shape"
      ]
    },
    {
      "cell_type": "code",
      "execution_count": null,
      "metadata": {
        "id": "eHU3P8iXWvoi"
      },
      "outputs": [],
      "source": [
        "# Splitting the dataset into train and test\n",
        "\n",
        "train_df, test_df = train_test_split(titanic_df, test_size = 0.3, random_state = 7)\n",
        "#train_df, val_df = train_test_split(train_df, test_size = 0.3, random_state = 7)\n"
      ]
    },
    {
      "cell_type": "code",
      "execution_count": null,
      "metadata": {
        "id": "yRelLK7ERzJY",
        "colab": {
          "base_uri": "https://localhost:8080/"
        },
        "outputId": "0d971dc8-d26e-4f0f-a296-74c520abfeec"
      },
      "outputs": [
        {
          "output_type": "execute_result",
          "data": {
            "text/plain": [
              "(623, 12)"
            ]
          },
          "metadata": {},
          "execution_count": 5
        }
      ],
      "source": [
        "# Checking for the size of our new datasets and if our splitting code worked \n",
        "\n",
        "# This step is important to see if the matrix that we will build to test the models \n",
        "# is correct\n",
        "\n",
        "# Train dataset shape \n",
        "train_df.shape"
      ]
    },
    {
      "cell_type": "code",
      "execution_count": null,
      "metadata": {
        "id": "eEM-shRRR6Vj",
        "colab": {
          "base_uri": "https://localhost:8080/"
        },
        "outputId": "c408f5c0-69d5-40d8-d669-b004f79ac127"
      },
      "outputs": [
        {
          "output_type": "execute_result",
          "data": {
            "text/plain": [
              "(268, 12)"
            ]
          },
          "metadata": {},
          "execution_count": 6
        }
      ],
      "source": [
        "# Test dataset shape\n",
        "test_df.shape"
      ]
    },
    {
      "cell_type": "code",
      "execution_count": null,
      "metadata": {
        "id": "DGJUJ2TVXLiy"
      },
      "outputs": [],
      "source": [
        "# Now, we will concat these dataframes in one (df) so we can apply all the transformations \n",
        "# at the same time to all the dataframes \n",
        "\n",
        "df = pd.concat((train_df.loc[:,'Pclass':'Embarked'],\n",
        "                test_df.loc[:,'Pclass':'Embarked']))\n"
      ]
    },
    {
      "cell_type": "code",
      "execution_count": null,
      "metadata": {
        "id": "_mq3B1dlTOJG",
        "colab": {
          "base_uri": "https://localhost:8080/"
        },
        "outputId": "04b338fa-f941-438c-c52d-7f7d250971bf"
      },
      "outputs": [
        {
          "output_type": "execute_result",
          "data": {
            "text/plain": [
              "(891, 10)"
            ]
          },
          "metadata": {},
          "execution_count": 8
        }
      ],
      "source": [
        "# Checking if everything went well when concating the data \n",
        "\n",
        "df.shape"
      ]
    },
    {
      "cell_type": "markdown",
      "metadata": {
        "id": "VfHwi4sgjTPA"
      },
      "source": [
        "# Section 2 - General Information"
      ]
    },
    {
      "cell_type": "code",
      "execution_count": null,
      "metadata": {
        "id": "TgX_7VVNcpPb",
        "colab": {
          "base_uri": "https://localhost:8080/",
          "height": 206
        },
        "outputId": "42240ae2-7849-4885-cb39-fae3e6218d61"
      },
      "outputs": [
        {
          "output_type": "execute_result",
          "data": {
            "text/plain": [
              "     Pclass                                             Name     Sex   Age  \\\n",
              "192       3  Andersen-Jensen, Miss. Carla Christine Nielsine  female  19.0   \n",
              "191       2                            Carbines, Mr. William    male  19.0   \n",
              "714       2                            Greenberg, Mr. Samuel    male  52.0   \n",
              "532       3                             Elias, Mr. Joseph Jr    male  17.0   \n",
              "132       3   Robins, Mrs. Alexander A (Grace Charity Laury)  female  47.0   \n",
              "\n",
              "     SibSp  Parch     Ticket     Fare Cabin Embarked  \n",
              "192      1      0     350046   7.8542   NaN        S  \n",
              "191      0      0      28424  13.0000   NaN        S  \n",
              "714      0      0     250647  13.0000   NaN        S  \n",
              "532      1      1       2690   7.2292   NaN        C  \n",
              "132      1      0  A/5. 3337  14.5000   NaN        S  "
            ],
            "text/html": [
              "\n",
              "  <div id=\"df-8bc03176-e7ac-4cb0-8db3-e44d58db2ea5\">\n",
              "    <div class=\"colab-df-container\">\n",
              "      <div>\n",
              "<style scoped>\n",
              "    .dataframe tbody tr th:only-of-type {\n",
              "        vertical-align: middle;\n",
              "    }\n",
              "\n",
              "    .dataframe tbody tr th {\n",
              "        vertical-align: top;\n",
              "    }\n",
              "\n",
              "    .dataframe thead th {\n",
              "        text-align: right;\n",
              "    }\n",
              "</style>\n",
              "<table border=\"1\" class=\"dataframe\">\n",
              "  <thead>\n",
              "    <tr style=\"text-align: right;\">\n",
              "      <th></th>\n",
              "      <th>Pclass</th>\n",
              "      <th>Name</th>\n",
              "      <th>Sex</th>\n",
              "      <th>Age</th>\n",
              "      <th>SibSp</th>\n",
              "      <th>Parch</th>\n",
              "      <th>Ticket</th>\n",
              "      <th>Fare</th>\n",
              "      <th>Cabin</th>\n",
              "      <th>Embarked</th>\n",
              "    </tr>\n",
              "  </thead>\n",
              "  <tbody>\n",
              "    <tr>\n",
              "      <th>192</th>\n",
              "      <td>3</td>\n",
              "      <td>Andersen-Jensen, Miss. Carla Christine Nielsine</td>\n",
              "      <td>female</td>\n",
              "      <td>19.0</td>\n",
              "      <td>1</td>\n",
              "      <td>0</td>\n",
              "      <td>350046</td>\n",
              "      <td>7.8542</td>\n",
              "      <td>NaN</td>\n",
              "      <td>S</td>\n",
              "    </tr>\n",
              "    <tr>\n",
              "      <th>191</th>\n",
              "      <td>2</td>\n",
              "      <td>Carbines, Mr. William</td>\n",
              "      <td>male</td>\n",
              "      <td>19.0</td>\n",
              "      <td>0</td>\n",
              "      <td>0</td>\n",
              "      <td>28424</td>\n",
              "      <td>13.0000</td>\n",
              "      <td>NaN</td>\n",
              "      <td>S</td>\n",
              "    </tr>\n",
              "    <tr>\n",
              "      <th>714</th>\n",
              "      <td>2</td>\n",
              "      <td>Greenberg, Mr. Samuel</td>\n",
              "      <td>male</td>\n",
              "      <td>52.0</td>\n",
              "      <td>0</td>\n",
              "      <td>0</td>\n",
              "      <td>250647</td>\n",
              "      <td>13.0000</td>\n",
              "      <td>NaN</td>\n",
              "      <td>S</td>\n",
              "    </tr>\n",
              "    <tr>\n",
              "      <th>532</th>\n",
              "      <td>3</td>\n",
              "      <td>Elias, Mr. Joseph Jr</td>\n",
              "      <td>male</td>\n",
              "      <td>17.0</td>\n",
              "      <td>1</td>\n",
              "      <td>1</td>\n",
              "      <td>2690</td>\n",
              "      <td>7.2292</td>\n",
              "      <td>NaN</td>\n",
              "      <td>C</td>\n",
              "    </tr>\n",
              "    <tr>\n",
              "      <th>132</th>\n",
              "      <td>3</td>\n",
              "      <td>Robins, Mrs. Alexander A (Grace Charity Laury)</td>\n",
              "      <td>female</td>\n",
              "      <td>47.0</td>\n",
              "      <td>1</td>\n",
              "      <td>0</td>\n",
              "      <td>A/5. 3337</td>\n",
              "      <td>14.5000</td>\n",
              "      <td>NaN</td>\n",
              "      <td>S</td>\n",
              "    </tr>\n",
              "  </tbody>\n",
              "</table>\n",
              "</div>\n",
              "      <button class=\"colab-df-convert\" onclick=\"convertToInteractive('df-8bc03176-e7ac-4cb0-8db3-e44d58db2ea5')\"\n",
              "              title=\"Convert this dataframe to an interactive table.\"\n",
              "              style=\"display:none;\">\n",
              "        \n",
              "  <svg xmlns=\"http://www.w3.org/2000/svg\" height=\"24px\"viewBox=\"0 0 24 24\"\n",
              "       width=\"24px\">\n",
              "    <path d=\"M0 0h24v24H0V0z\" fill=\"none\"/>\n",
              "    <path d=\"M18.56 5.44l.94 2.06.94-2.06 2.06-.94-2.06-.94-.94-2.06-.94 2.06-2.06.94zm-11 1L8.5 8.5l.94-2.06 2.06-.94-2.06-.94L8.5 2.5l-.94 2.06-2.06.94zm10 10l.94 2.06.94-2.06 2.06-.94-2.06-.94-.94-2.06-.94 2.06-2.06.94z\"/><path d=\"M17.41 7.96l-1.37-1.37c-.4-.4-.92-.59-1.43-.59-.52 0-1.04.2-1.43.59L10.3 9.45l-7.72 7.72c-.78.78-.78 2.05 0 2.83L4 21.41c.39.39.9.59 1.41.59.51 0 1.02-.2 1.41-.59l7.78-7.78 2.81-2.81c.8-.78.8-2.07 0-2.86zM5.41 20L4 18.59l7.72-7.72 1.47 1.35L5.41 20z\"/>\n",
              "  </svg>\n",
              "      </button>\n",
              "      \n",
              "  <style>\n",
              "    .colab-df-container {\n",
              "      display:flex;\n",
              "      flex-wrap:wrap;\n",
              "      gap: 12px;\n",
              "    }\n",
              "\n",
              "    .colab-df-convert {\n",
              "      background-color: #E8F0FE;\n",
              "      border: none;\n",
              "      border-radius: 50%;\n",
              "      cursor: pointer;\n",
              "      display: none;\n",
              "      fill: #1967D2;\n",
              "      height: 32px;\n",
              "      padding: 0 0 0 0;\n",
              "      width: 32px;\n",
              "    }\n",
              "\n",
              "    .colab-df-convert:hover {\n",
              "      background-color: #E2EBFA;\n",
              "      box-shadow: 0px 1px 2px rgba(60, 64, 67, 0.3), 0px 1px 3px 1px rgba(60, 64, 67, 0.15);\n",
              "      fill: #174EA6;\n",
              "    }\n",
              "\n",
              "    [theme=dark] .colab-df-convert {\n",
              "      background-color: #3B4455;\n",
              "      fill: #D2E3FC;\n",
              "    }\n",
              "\n",
              "    [theme=dark] .colab-df-convert:hover {\n",
              "      background-color: #434B5C;\n",
              "      box-shadow: 0px 1px 3px 1px rgba(0, 0, 0, 0.15);\n",
              "      filter: drop-shadow(0px 1px 2px rgba(0, 0, 0, 0.3));\n",
              "      fill: #FFFFFF;\n",
              "    }\n",
              "  </style>\n",
              "\n",
              "      <script>\n",
              "        const buttonEl =\n",
              "          document.querySelector('#df-8bc03176-e7ac-4cb0-8db3-e44d58db2ea5 button.colab-df-convert');\n",
              "        buttonEl.style.display =\n",
              "          google.colab.kernel.accessAllowed ? 'block' : 'none';\n",
              "\n",
              "        async function convertToInteractive(key) {\n",
              "          const element = document.querySelector('#df-8bc03176-e7ac-4cb0-8db3-e44d58db2ea5');\n",
              "          const dataTable =\n",
              "            await google.colab.kernel.invokeFunction('convertToInteractive',\n",
              "                                                     [key], {});\n",
              "          if (!dataTable) return;\n",
              "\n",
              "          const docLinkHtml = 'Like what you see? Visit the ' +\n",
              "            '<a target=\"_blank\" href=https://colab.research.google.com/notebooks/data_table.ipynb>data table notebook</a>'\n",
              "            + ' to learn more about interactive tables.';\n",
              "          element.innerHTML = '';\n",
              "          dataTable['output_type'] = 'display_data';\n",
              "          await google.colab.output.renderOutput(dataTable, element);\n",
              "          const docLink = document.createElement('div');\n",
              "          docLink.innerHTML = docLinkHtml;\n",
              "          element.appendChild(docLink);\n",
              "        }\n",
              "      </script>\n",
              "    </div>\n",
              "  </div>\n",
              "  "
            ]
          },
          "metadata": {},
          "execution_count": 9
        }
      ],
      "source": [
        "# Lets see how the dataframe looks like and get a view from its 5 observations \n",
        "\n",
        "df.head()"
      ]
    },
    {
      "cell_type": "code",
      "execution_count": null,
      "metadata": {
        "id": "VJx0vRvzpkMp",
        "colab": {
          "base_uri": "https://localhost:8080/"
        },
        "outputId": "ab4d4a62-b4b3-4879-b970-e00ee40b3154"
      },
      "outputs": [
        {
          "output_type": "execute_result",
          "data": {
            "text/plain": [
              "Index(['Pclass', 'Name', 'Sex', 'Age', 'SibSp', 'Parch', 'Ticket', 'Fare',\n",
              "       'Cabin', 'Embarked'],\n",
              "      dtype='object')"
            ]
          },
          "metadata": {},
          "execution_count": 10
        }
      ],
      "source": [
        "# Now, lets get a look at the columns that we have our disposal \n",
        "\n",
        "df.columns"
      ]
    },
    {
      "cell_type": "code",
      "execution_count": null,
      "metadata": {
        "id": "IvC1cC3ZpkMq",
        "colab": {
          "base_uri": "https://localhost:8080/",
          "height": 300
        },
        "outputId": "78ce1f58-f9ba-454e-ac6b-52ef129e6d5f"
      },
      "outputs": [
        {
          "output_type": "execute_result",
          "data": {
            "text/plain": [
              "           Pclass         Age       SibSp       Parch        Fare\n",
              "count  891.000000  714.000000  891.000000  891.000000  891.000000\n",
              "mean     2.308642   29.699118    0.523008    0.381594   32.204208\n",
              "std      0.836071   14.526497    1.102743    0.806057   49.693429\n",
              "min      1.000000    0.420000    0.000000    0.000000    0.000000\n",
              "25%      2.000000   20.125000    0.000000    0.000000    7.910400\n",
              "50%      3.000000   28.000000    0.000000    0.000000   14.454200\n",
              "75%      3.000000   38.000000    1.000000    0.000000   31.000000\n",
              "max      3.000000   80.000000    8.000000    6.000000  512.329200"
            ],
            "text/html": [
              "\n",
              "  <div id=\"df-366308fa-1039-42a6-a7d5-c9aba2a03345\">\n",
              "    <div class=\"colab-df-container\">\n",
              "      <div>\n",
              "<style scoped>\n",
              "    .dataframe tbody tr th:only-of-type {\n",
              "        vertical-align: middle;\n",
              "    }\n",
              "\n",
              "    .dataframe tbody tr th {\n",
              "        vertical-align: top;\n",
              "    }\n",
              "\n",
              "    .dataframe thead th {\n",
              "        text-align: right;\n",
              "    }\n",
              "</style>\n",
              "<table border=\"1\" class=\"dataframe\">\n",
              "  <thead>\n",
              "    <tr style=\"text-align: right;\">\n",
              "      <th></th>\n",
              "      <th>Pclass</th>\n",
              "      <th>Age</th>\n",
              "      <th>SibSp</th>\n",
              "      <th>Parch</th>\n",
              "      <th>Fare</th>\n",
              "    </tr>\n",
              "  </thead>\n",
              "  <tbody>\n",
              "    <tr>\n",
              "      <th>count</th>\n",
              "      <td>891.000000</td>\n",
              "      <td>714.000000</td>\n",
              "      <td>891.000000</td>\n",
              "      <td>891.000000</td>\n",
              "      <td>891.000000</td>\n",
              "    </tr>\n",
              "    <tr>\n",
              "      <th>mean</th>\n",
              "      <td>2.308642</td>\n",
              "      <td>29.699118</td>\n",
              "      <td>0.523008</td>\n",
              "      <td>0.381594</td>\n",
              "      <td>32.204208</td>\n",
              "    </tr>\n",
              "    <tr>\n",
              "      <th>std</th>\n",
              "      <td>0.836071</td>\n",
              "      <td>14.526497</td>\n",
              "      <td>1.102743</td>\n",
              "      <td>0.806057</td>\n",
              "      <td>49.693429</td>\n",
              "    </tr>\n",
              "    <tr>\n",
              "      <th>min</th>\n",
              "      <td>1.000000</td>\n",
              "      <td>0.420000</td>\n",
              "      <td>0.000000</td>\n",
              "      <td>0.000000</td>\n",
              "      <td>0.000000</td>\n",
              "    </tr>\n",
              "    <tr>\n",
              "      <th>25%</th>\n",
              "      <td>2.000000</td>\n",
              "      <td>20.125000</td>\n",
              "      <td>0.000000</td>\n",
              "      <td>0.000000</td>\n",
              "      <td>7.910400</td>\n",
              "    </tr>\n",
              "    <tr>\n",
              "      <th>50%</th>\n",
              "      <td>3.000000</td>\n",
              "      <td>28.000000</td>\n",
              "      <td>0.000000</td>\n",
              "      <td>0.000000</td>\n",
              "      <td>14.454200</td>\n",
              "    </tr>\n",
              "    <tr>\n",
              "      <th>75%</th>\n",
              "      <td>3.000000</td>\n",
              "      <td>38.000000</td>\n",
              "      <td>1.000000</td>\n",
              "      <td>0.000000</td>\n",
              "      <td>31.000000</td>\n",
              "    </tr>\n",
              "    <tr>\n",
              "      <th>max</th>\n",
              "      <td>3.000000</td>\n",
              "      <td>80.000000</td>\n",
              "      <td>8.000000</td>\n",
              "      <td>6.000000</td>\n",
              "      <td>512.329200</td>\n",
              "    </tr>\n",
              "  </tbody>\n",
              "</table>\n",
              "</div>\n",
              "      <button class=\"colab-df-convert\" onclick=\"convertToInteractive('df-366308fa-1039-42a6-a7d5-c9aba2a03345')\"\n",
              "              title=\"Convert this dataframe to an interactive table.\"\n",
              "              style=\"display:none;\">\n",
              "        \n",
              "  <svg xmlns=\"http://www.w3.org/2000/svg\" height=\"24px\"viewBox=\"0 0 24 24\"\n",
              "       width=\"24px\">\n",
              "    <path d=\"M0 0h24v24H0V0z\" fill=\"none\"/>\n",
              "    <path d=\"M18.56 5.44l.94 2.06.94-2.06 2.06-.94-2.06-.94-.94-2.06-.94 2.06-2.06.94zm-11 1L8.5 8.5l.94-2.06 2.06-.94-2.06-.94L8.5 2.5l-.94 2.06-2.06.94zm10 10l.94 2.06.94-2.06 2.06-.94-2.06-.94-.94-2.06-.94 2.06-2.06.94z\"/><path d=\"M17.41 7.96l-1.37-1.37c-.4-.4-.92-.59-1.43-.59-.52 0-1.04.2-1.43.59L10.3 9.45l-7.72 7.72c-.78.78-.78 2.05 0 2.83L4 21.41c.39.39.9.59 1.41.59.51 0 1.02-.2 1.41-.59l7.78-7.78 2.81-2.81c.8-.78.8-2.07 0-2.86zM5.41 20L4 18.59l7.72-7.72 1.47 1.35L5.41 20z\"/>\n",
              "  </svg>\n",
              "      </button>\n",
              "      \n",
              "  <style>\n",
              "    .colab-df-container {\n",
              "      display:flex;\n",
              "      flex-wrap:wrap;\n",
              "      gap: 12px;\n",
              "    }\n",
              "\n",
              "    .colab-df-convert {\n",
              "      background-color: #E8F0FE;\n",
              "      border: none;\n",
              "      border-radius: 50%;\n",
              "      cursor: pointer;\n",
              "      display: none;\n",
              "      fill: #1967D2;\n",
              "      height: 32px;\n",
              "      padding: 0 0 0 0;\n",
              "      width: 32px;\n",
              "    }\n",
              "\n",
              "    .colab-df-convert:hover {\n",
              "      background-color: #E2EBFA;\n",
              "      box-shadow: 0px 1px 2px rgba(60, 64, 67, 0.3), 0px 1px 3px 1px rgba(60, 64, 67, 0.15);\n",
              "      fill: #174EA6;\n",
              "    }\n",
              "\n",
              "    [theme=dark] .colab-df-convert {\n",
              "      background-color: #3B4455;\n",
              "      fill: #D2E3FC;\n",
              "    }\n",
              "\n",
              "    [theme=dark] .colab-df-convert:hover {\n",
              "      background-color: #434B5C;\n",
              "      box-shadow: 0px 1px 3px 1px rgba(0, 0, 0, 0.15);\n",
              "      filter: drop-shadow(0px 1px 2px rgba(0, 0, 0, 0.3));\n",
              "      fill: #FFFFFF;\n",
              "    }\n",
              "  </style>\n",
              "\n",
              "      <script>\n",
              "        const buttonEl =\n",
              "          document.querySelector('#df-366308fa-1039-42a6-a7d5-c9aba2a03345 button.colab-df-convert');\n",
              "        buttonEl.style.display =\n",
              "          google.colab.kernel.accessAllowed ? 'block' : 'none';\n",
              "\n",
              "        async function convertToInteractive(key) {\n",
              "          const element = document.querySelector('#df-366308fa-1039-42a6-a7d5-c9aba2a03345');\n",
              "          const dataTable =\n",
              "            await google.colab.kernel.invokeFunction('convertToInteractive',\n",
              "                                                     [key], {});\n",
              "          if (!dataTable) return;\n",
              "\n",
              "          const docLinkHtml = 'Like what you see? Visit the ' +\n",
              "            '<a target=\"_blank\" href=https://colab.research.google.com/notebooks/data_table.ipynb>data table notebook</a>'\n",
              "            + ' to learn more about interactive tables.';\n",
              "          element.innerHTML = '';\n",
              "          dataTable['output_type'] = 'display_data';\n",
              "          await google.colab.output.renderOutput(dataTable, element);\n",
              "          const docLink = document.createElement('div');\n",
              "          docLink.innerHTML = docLinkHtml;\n",
              "          element.appendChild(docLink);\n",
              "        }\n",
              "      </script>\n",
              "    </div>\n",
              "  </div>\n",
              "  "
            ]
          },
          "metadata": {},
          "execution_count": 11
        }
      ],
      "source": [
        "# Checking some initial statistics \n",
        "\n",
        "df.describe()"
      ]
    },
    {
      "cell_type": "code",
      "execution_count": null,
      "metadata": {
        "id": "aiP2C9RbpkMr",
        "colab": {
          "base_uri": "https://localhost:8080/"
        },
        "outputId": "d57a64ef-c1d6-44cc-d8f6-d41ac2e3708a"
      },
      "outputs": [
        {
          "output_type": "execute_result",
          "data": {
            "text/plain": [
              "Pclass        int64\n",
              "Name         object\n",
              "Sex          object\n",
              "Age         float64\n",
              "SibSp         int64\n",
              "Parch         int64\n",
              "Ticket       object\n",
              "Fare        float64\n",
              "Cabin        object\n",
              "Embarked     object\n",
              "dtype: object"
            ]
          },
          "metadata": {},
          "execution_count": 12
        }
      ],
      "source": [
        "# Checking the type of the variables available for our analysis \n",
        "\n",
        "# This step is important because all variables that are categorical will have to go \n",
        "# through enconding so the algoritim can read it \n",
        "\n",
        "df.dtypes"
      ]
    },
    {
      "cell_type": "code",
      "execution_count": null,
      "metadata": {
        "id": "APCy0mxtZmST",
        "colab": {
          "base_uri": "https://localhost:8080/"
        },
        "outputId": "76433930-6020-4616-ab90-05c973897e6f"
      },
      "outputs": [
        {
          "output_type": "execute_result",
          "data": {
            "text/plain": [
              "array(['Andersen-Jensen, Miss. Carla Christine Nielsine',\n",
              "       'Carbines, Mr. William', 'Greenberg, Mr. Samuel',\n",
              "       'Elias, Mr. Joseph Jr',\n",
              "       'Robins, Mrs. Alexander A (Grace Charity Laury)',\n",
              "       'Trout, Mrs. William H (Jessie L)', 'Stead, Mr. William Thomas',\n",
              "       'Leitch, Miss. Jessie Wills', 'Harrison, Mr. William',\n",
              "       'Jenkin, Mr. Stephen Curnow',\n",
              "       'Mellinger, Mrs. (Elizabeth Anne Maidment)', 'Lefebre, Miss. Ida',\n",
              "       'Pekoniemi, Mr. Edvard', 'Stankovic, Mr. Ivan',\n",
              "       'Sharp, Mr. Percival James R', 'Lester, Mr. James',\n",
              "       'Odahl, Mr. Nils Martin', 'Farrell, Mr. James',\n",
              "       'Rice, Master. Eric', 'Heikkinen, Miss. Laina',\n",
              "       'Lefebre, Miss. Mathilde', 'Robbins, Mr. Victor',\n",
              "       'Skoog, Mr. Wilhelm', 'Wick, Mrs. George Dennick (Mary Hitchcock)',\n",
              "       'Yrois, Miss. Henriette (\"Mrs Harbeck\")',\n",
              "       'Hagland, Mr. Ingvald Olai Olsen', 'Silven, Miss. Lyyli Karoliina',\n",
              "       'Moubarek, Master. Gerios', 'Dodge, Master. Washington',\n",
              "       'Newell, Mr. Arthur Webster',\n",
              "       'Stephenson, Mrs. Walter Bertram (Martha Eustis)',\n",
              "       'Dick, Mr. Albert Adrian', 'McKane, Mr. Peter David',\n",
              "       'Alexander, Mr. William', 'Natsch, Mr. Charles H',\n",
              "       'Frolicher-Stehli, Mr. Maxmillian', 'Wilhelms, Mr. Charles',\n",
              "       'Isham, Miss. Ann Elizabeth',\n",
              "       'Kelly, Miss. Anna Katherine \"Annie Kate\"',\n",
              "       'Cann, Mr. Ernest Charles', 'Johanson, Mr. Jakob Alfred',\n",
              "       'Hold, Mr. Stephen', 'Byles, Rev. Thomas Roussel Davids',\n",
              "       'Jacobsohn, Mr. Sidney Samuel', 'Boulos, Mr. Hanna',\n",
              "       'Wick, Miss. Mary Natalie', 'Hassan, Mr. Houssein G N',\n",
              "       'Crosby, Miss. Harriet R', 'Bourke, Mrs. John (Catherine)',\n",
              "       'Johnson, Mr. William Cahoone Jr', 'Sjoblom, Miss. Anna Sofia',\n",
              "       'Andersson, Miss. Ebba Iris Alfrida', 'Bourke, Miss. Mary',\n",
              "       'Hays, Mrs. Charles Melville (Clara Jennings Gregg)',\n",
              "       'Goldsmith, Mrs. Frank John (Emily Alice Brown)',\n",
              "       'Mellinger, Miss. Madeleine Violet',\n",
              "       'Blackwell, Mr. Stephen Weart', 'Navratil, Master. Michel M',\n",
              "       'Harknett, Miss. Alice Phoebe',\n",
              "       'Ryerson, Miss. Susan Parker \"Suzette\"', 'Woolner, Mr. Hugh',\n",
              "       'Moussa, Mrs. (Mantoura Boulos)', 'Goldschmidt, Mr. George B',\n",
              "       'Nysten, Miss. Anna Sofia', 'Becker, Miss. Marion Louise',\n",
              "       'Brewe, Dr. Arthur Jackson', 'Padro y Manent, Mr. Julian',\n",
              "       'Graham, Miss. Margaret Edith', 'Hickman, Mr. Stanley George',\n",
              "       'Birkeland, Mr. Hans Martin Monsen', 'Harris, Mr. Henry Birkhardt',\n",
              "       'Mitchell, Mr. Henry Michael', 'van Melkebeke, Mr. Philemon',\n",
              "       'Futrelle, Mrs. Jacques Heath (Lily May Peel)',\n",
              "       'West, Miss. Constance Mirium', 'Nenkoff, Mr. Christo',\n",
              "       'Flynn, Mr. John Irwin (\"Irving\")',\n",
              "       'Petroff, Mr. Pastcho (\"Pentcho\")', 'Collyer, Mr. Harvey',\n",
              "       'Bracken, Mr. James H', 'Hickman, Mr. Leonard Mark',\n",
              "       'Allen, Mr. William Henry',\n",
              "       'Harper, Mrs. Henry Sleeper (Myna Haxtun)',\n",
              "       'Williams, Mr. Charles Eugene', 'Fleming, Miss. Margaret',\n",
              "       'Williams, Mr. Charles Duane', 'Widener, Mr. Harry Elkins',\n",
              "       'Nankoff, Mr. Minko', 'Beckwith, Mr. Richard Leonard',\n",
              "       'Carter, Rev. Ernest Courtenay', 'McGovern, Miss. Mary',\n",
              "       'Alhomaki, Mr. Ilmari Rudolf', 'Chambers, Mr. Norman Campbell',\n",
              "       'Herman, Mrs. Samuel (Jane Laver)', 'Uruchurtu, Don. Manuel E',\n",
              "       'Zimmerman, Mr. Leo', 'Aks, Mrs. Sam (Leah Rosen)',\n",
              "       'Turpin, Mr. William John Robert',\n",
              "       'Andersson, Miss. Sigrid Elisabeth', 'Connors, Mr. Patrick',\n",
              "       'Matthews, Mr. William John',\n",
              "       'Soholt, Mr. Peter Andreas Lauritz Andersen',\n",
              "       'Watson, Mr. Ennis Hastings', 'Fortune, Mr. Charles Alexander',\n",
              "       'Penasco y Castellana, Mrs. Victor de Satode (Maria Josefa Perez de Soto y Vallejo)',\n",
              "       'Allum, Mr. Owen George', 'Ponesell, Mr. Martin',\n",
              "       'Vande Walle, Mr. Nestor Cyriel', 'Laitinen, Miss. Kristina Sofia',\n",
              "       'Taussig, Miss. Ruth', 'Carter, Master. William Thornton II',\n",
              "       'Kelly, Mrs. Florence \"Fannie\"', 'Davidson, Mr. Thornton',\n",
              "       'Hart, Mr. Benjamin', 'Svensson, Mr. Olof', 'Duane, Mr. Frank',\n",
              "       'Lemberopolous, Mr. Peter L', 'Arnold-Franchi, Mr. Josef',\n",
              "       'Doharr, Mr. Tannous', 'Albimona, Mr. Nassef Cassem',\n",
              "       'Gustafsson, Mr. Karl Gideon', 'Turja, Miss. Anna Sofia',\n",
              "       'Swift, Mrs. Frederick Joel (Margaret Welles Barron)',\n",
              "       'Sloper, Mr. William Thompson', 'Navratil, Master. Edmond Roger',\n",
              "       'Brocklebank, Mr. William Alfred', 'Simmons, Mr. John',\n",
              "       'Olsen, Mr. Ole Martin', 'Sirota, Mr. Maurice',\n",
              "       'Baclini, Miss. Eugenie', 'Campbell, Mr. William',\n",
              "       'Slemen, Mr. Richard James',\n",
              "       'Jerwan, Mrs. Amin S (Marie Marthe Thuillard)',\n",
              "       'Jalsevac, Mr. Ivan', 'Quick, Miss. Phyllis May',\n",
              "       'Sawyer, Mr. Frederick Charles', 'Calic, Mr. Petar',\n",
              "       'Taussig, Mr. Emil', 'McDermott, Miss. Brigdet Delia',\n",
              "       'Allison, Mrs. Hudson J C (Bessie Waldo Daniels)',\n",
              "       'Richards, Master. William Rowe', 'Daly, Mr. Peter Denis ',\n",
              "       'Cacic, Mr. Luka', 'Vander Planke, Miss. Augusta Maria',\n",
              "       'Mitkoff, Mr. Mito', 'Vander Planke, Mr. Leo Edmondus',\n",
              "       'Sandstrom, Miss. Marguerite Rut',\n",
              "       'Collyer, Mrs. Harvey (Charlotte Annie Tate)',\n",
              "       'Spedden, Mrs. Frederic Oakley (Margaretta Corning Stone)',\n",
              "       'Glynn, Miss. Mary Agatha', 'Olsen, Mr. Henry Margido',\n",
              "       'Robert, Mrs. Edward Scott (Elisabeth Walton McMillan)',\n",
              "       'Torber, Mr. Ernst William', 'Tikkanen, Mr. Juho',\n",
              "       'Olsson, Mr. Nils Johan Goransson',\n",
              "       'Silvey, Mrs. William Baird (Alice Munger)', 'Skoog, Miss. Mabel',\n",
              "       'Ibrahim Shawah, Mr. Yousseff', 'Slabenoff, Mr. Petco',\n",
              "       'Andrews, Mr. Thomas Jr', 'Betros, Mr. Tannous',\n",
              "       'Thorneycroft, Mrs. Percival (Florence Kate White)',\n",
              "       'Hogeboom, Mrs. John C (Anna Andrews)', 'Celotti, Mr. Francesco',\n",
              "       'Givard, Mr. Hans Kristensen', 'Danoff, Mr. Yoto',\n",
              "       'Stranden, Mr. Juho',\n",
              "       'Weisz, Mrs. Leopold (Mathilde Francoise Pede)',\n",
              "       'Smith, Miss. Marion Elsie',\n",
              "       'Laroche, Miss. Simonne Marie Anne Andree',\n",
              "       'Palsson, Master. Gosta Leonard', 'Douglas, Mr. Walter Donald',\n",
              "       'Penasco y Castellana, Mr. Victor de Satode', 'Karun, Miss. Manca',\n",
              "       'Romaine, Mr. Charles Hallace (\"Mr C Rolmane\")',\n",
              "       'Appleton, Mrs. Edward Dale (Charlotte Lamson)',\n",
              "       'Nasser, Mr. Nicholas',\n",
              "       'Ahlin, Mrs. Johan (Johanna Persdotter Larsson)',\n",
              "       'Williams, Mr. Howard Hugh \"Harry\"',\n",
              "       'Spencer, Mrs. William Augustus (Marie Eugenie)',\n",
              "       'Brown, Mr. Thomas William Solomon',\n",
              "       'Johnson, Miss. Eleanor Ileen', 'Smith, Mr. Richard William',\n",
              "       'Bjornstrom-Steffansson, Mr. Mauritz Hakan',\n",
              "       'Johnston, Mr. Andrew G', 'Zabour, Miss. Thamine',\n",
              "       'Skoog, Miss. Margit Elizabeth', 'Smith, Mr. James Clinch',\n",
              "       'Davies, Mr. Alfred J', 'Gavey, Mr. Lawrence',\n",
              "       'Minahan, Dr. William Edward', 'Rugg, Miss. Emily',\n",
              "       'Artagaveytia, Mr. Ramon', 'Goodwin, Miss. Lillian Amy',\n",
              "       'Coleff, Mr. Peju', 'Nicholls, Mr. Joseph Charles',\n",
              "       'Christmann, Mr. Emil', 'Chibnall, Mrs. (Edith Martha Bowerman)',\n",
              "       'Gustafsson, Mr. Johan Birger',\n",
              "       'Roebling, Mr. Washington Augustus II',\n",
              "       'Van der hoef, Mr. Wyckoff', 'Hays, Miss. Margaret Bechstein',\n",
              "       'del Carlo, Mr. Sebastiano', 'Mockler, Miss. Helen Mary \"Ellie\"',\n",
              "       'Dean, Mr. Bertram Frank', 'Slayter, Miss. Hilda Mary',\n",
              "       'Gheorgheff, Mr. Stanio', 'Minahan, Miss. Daisy E',\n",
              "       'Jardin, Mr. Jose Neto', 'Hocking, Mrs. Elizabeth (Eliza Needs)',\n",
              "       'Colley, Mr. Edward Pomeroy', 'Landergren, Miss. Aurora Adelia',\n",
              "       'Johansson, Mr. Erik', 'Maenpaa, Mr. Matti Alexanteri',\n",
              "       'Bryhl, Mr. Kurt Arnold Gottfrid', 'Slocovski, Mr. Selman Francis',\n",
              "       'Kiernan, Mr. Philip', 'Gill, Mr. John William',\n",
              "       'Fox, Mr. Stanley Hubert', 'Sivola, Mr. Antti Wilhelm',\n",
              "       'Wells, Miss. Joan', 'Humblen, Mr. Adolf Mathias Nicolai Olsen',\n",
              "       'Bishop, Mrs. Dickinson H (Helen Walton)',\n",
              "       'Wiseman, Mr. Phillippe', 'Goodwin, Mr. Charles Edward',\n",
              "       'Baxter, Mr. Quigg Edmond', 'Andersson, Miss. Ellis Anna Maria',\n",
              "       'Calic, Mr. Jovo', 'Chapman, Mr. Charles Henry',\n",
              "       'Plotcharsky, Mr. Vasil', 'Braund, Mr. Owen Harris',\n",
              "       'Sandstrom, Mrs. Hjalmar (Agnes Charlotta Bengtsson)',\n",
              "       'Adams, Mr. John', 'Oreskovic, Miss. Marija', 'Beane, Mr. Edward',\n",
              "       'Andersson, Master. Sigvard Harald Elias',\n",
              "       'Bengtsson, Mr. John Viktor', 'Dennis, Mr. Samuel',\n",
              "       'Attalah, Miss. Malake', 'Smiljanic, Mr. Mile',\n",
              "       'Bateman, Rev. Robert James', 'Lindqvist, Mr. Eino William',\n",
              "       'Coleff, Mr. Satio', 'Radeff, Mr. Alexander',\n",
              "       'Jermyn, Miss. Annie', 'Braund, Mr. Lewis Richard',\n",
              "       'Balkic, Mr. Cerin', 'Culumovic, Mr. Jeso', 'Ward, Miss. Anna',\n",
              "       'Connaghton, Mr. Michael', 'Richard, Mr. Emile',\n",
              "       'Mallet, Mr. Albert', 'Stanley, Miss. Amy Zillah Elsie',\n",
              "       'Morley, Mr. Henry Samuel (\"Mr Henry Marshall\")',\n",
              "       'Canavan, Miss. Mary', 'Madill, Miss. Georgette Alexandra',\n",
              "       'Sedgwick, Mr. Charles Frederick Waddington',\n",
              "       'Van Impe, Mr. Jean Baptiste', 'Jarvis, Mr. John Denzil',\n",
              "       'Haas, Miss. Aloisia', \"O'Brien, Mr. Thomas\",\n",
              "       'Gustafsson, Mr. Alfred Ossian',\n",
              "       'Vestrom, Miss. Hulda Amanda Adolfina', 'Ford, Mr. William Neal',\n",
              "       'Harder, Mr. George Achilles',\n",
              "       'Goldsmith, Master. Frank John William \"Frankie\"',\n",
              "       'Ayoub, Miss. Banoura', 'Denkoff, Mr. Mitto',\n",
              "       'Goodwin, Master. William Frederick', 'Yousif, Mr. Wazli',\n",
              "       'Rosblom, Mr. Viktor Richard', 'Levy, Mr. Rene Jacques',\n",
              "       'Turpin, Mrs. William John Robert (Dorothy Ann Wonnacott)',\n",
              "       'Hippach, Miss. Jean Gertrude',\n",
              "       'Pickard, Mr. Berk (Berk Trembisky)', 'Dowdell, Miss. Elizabeth',\n",
              "       'O\\'Dwyer, Miss. Ellen \"Nellie\"',\n",
              "       'Rosblom, Mrs. Viktor (Helena Wilhelmina)', 'Lam, Mr. Len',\n",
              "       'Toomey, Miss. Ellen',\n",
              "       'Holverson, Mrs. Alexander Oskar (Mary Aline Towner)',\n",
              "       'Hendekovic, Mr. Ignjac', 'Ilett, Miss. Bertha',\n",
              "       'Newsom, Miss. Helen Monypeny', 'Zabour, Miss. Hileni',\n",
              "       'Brown, Mrs. James Joseph (Margaret Tobin)', 'Hale, Mr. Reginald',\n",
              "       'Eustis, Miss. Elizabeth Mussey', 'Ekstrom, Mr. Johan',\n",
              "       'Burns, Miss. Elizabeth Margaret', 'White, Mr. Percival Wayland',\n",
              "       'Abbing, Mr. Anthony', 'Mellors, Mr. William John',\n",
              "       'Graham, Mrs. William Thompson (Edith Junkins)',\n",
              "       'Razi, Mr. Raihed', 'Johansson, Mr. Gustaf Joel',\n",
              "       'Hamalainen, Master. Viljo', 'Caram, Mrs. Joseph (Maria Elias)',\n",
              "       'Lovell, Mr. John Hall (\"Henry\")', 'Long, Mr. Milton Clyde',\n",
              "       'McCoy, Mr. Bernard', 'Andrews, Miss. Kornelia Theodosia',\n",
              "       'McMahon, Mr. Martin', 'Gale, Mr. Shadrach',\n",
              "       'Dean, Master. Bertram Vere', 'Mamee, Mr. Hanna',\n",
              "       'Giglio, Mr. Victor', 'Keane, Miss. Nora A',\n",
              "       'Persson, Mr. Ernst Ulrik',\n",
              "       'Peter, Mrs. Catherine (Catherine Rizk)',\n",
              "       'Nicholson, Mr. Arthur Ernest', 'Perkin, Mr. John Henry',\n",
              "       'Scanlan, Mr. James', 'Madigan, Miss. Margaret \"Maggie\"',\n",
              "       'Farthing, Mr. John', 'Silverthorne, Mr. Spencer Victor',\n",
              "       'Murphy, Miss. Katherine \"Kate\"', 'Collander, Mr. Erik Gustaf',\n",
              "       'Davies, Master. John Morgan Jr',\n",
              "       'Goodwin, Master. Sidney Leonard',\n",
              "       'Nirva, Mr. Iisakki Antino Aijo', 'Backstrom, Mr. Karl Alfred',\n",
              "       'Lewy, Mr. Ervin G', 'Cardeza, Mr. Thomas Drake Martinez',\n",
              "       'Chronopoulos, Mr. Apostolos', 'Gustafsson, Mr. Anders Vilhelm',\n",
              "       'Kirkland, Rev. Charles Leonard', 'Harper, Rev. John',\n",
              "       'Rice, Master. Eugene', 'Kvillner, Mr. Johan Henrik Johannesson',\n",
              "       'Andreasson, Mr. Paul Edvin', 'Fortune, Miss. Mabel Helen',\n",
              "       'West, Mr. Edwy Arthur', 'White, Mr. Richard Frasar',\n",
              "       'Pengelly, Mr. Frederick William', 'Hoyt, Mr. William Fisher',\n",
              "       'Lindahl, Miss. Agda Thorilda Viktoria',\n",
              "       'Larsson, Mr. August Viktor', 'Corn, Mr. Harry',\n",
              "       'Hirvonen, Miss. Hildur E', 'Sinkkonen, Miss. Anna',\n",
              "       'Mannion, Miss. Margareth',\n",
              "       'Vander Planke, Mrs. Julius (Emelia Maria Vandemoortele)',\n",
              "       'Hansen, Mr. Henry Damsgaard', 'Moore, Mr. Leonard Charles',\n",
              "       'Jonkoff, Mr. Lalio', 'Healy, Miss. Hanora \"Nora\"',\n",
              "       'Kallio, Mr. Nikolai Erland', 'Sage, Miss. Stella Anna',\n",
              "       'Ryerson, Miss. Emily Borie', 'Ilmakangas, Miss. Pieta Sofia',\n",
              "       'Lesurer, Mr. Gustave J', 'Beane, Mrs. Edward (Ethel Clarke)',\n",
              "       'Pernot, Mr. Rene', 'Kink-Heilmann, Miss. Luise Gretchen',\n",
              "       'Widegren, Mr. Carl/Charles Peter', 'Karaic, Mr. Milan',\n",
              "       'Perreault, Miss. Anne', 'Bidois, Miss. Rosalie',\n",
              "       'Sdycoff, Mr. Todor', 'Aubart, Mme. Leontine Pauline',\n",
              "       'Troutt, Miss. Edwina Celia \"Winnie\"', 'Williams, Mr. Leslie',\n",
              "       'Weir, Col. John', 'Caldwell, Master. Alden Gates',\n",
              "       'Kelly, Miss. Mary', 'Daniel, Mr. Robert Williams',\n",
              "       'Barbara, Miss. Saiide', 'Vander Cruyssen, Mr. Victor',\n",
              "       'Berriman, Mr. William John', 'Fry, Mr. Richard',\n",
              "       'Drew, Mrs. James Vivian (Lulu Thorne Christian)',\n",
              "       'Dantcheff, Mr. Ristiu', 'Sivic, Mr. Husein',\n",
              "       'Crease, Mr. Ernest James', 'Butt, Major. Archibald Willingham',\n",
              "       'Moutal, Mr. Rahamin Haim', 'Mionoff, Mr. Stoytcho',\n",
              "       'Rice, Mrs. William (Margaret Norton)',\n",
              "       'Fischer, Mr. Eberhard Thelander',\n",
              "       'Panula, Mrs. Juha (Maria Emilia Ojala)',\n",
              "       'de Messemaeker, Mrs. Guillaume Joseph (Emma)',\n",
              "       'Moran, Mr. Daniel J', 'Mallet, Master. Andre',\n",
              "       'Lievens, Mr. Rene Aime', 'Panula, Mr. Jaako Arnold',\n",
              "       'Hagland, Mr. Konrad Mathias Reiersen', 'Petroff, Mr. Nedelio',\n",
              "       'Abbott, Mr. Rossmore Edward', 'Lindell, Mr. Edvard Bengtsson',\n",
              "       'Asim, Mr. Adola', 'Kink, Mr. Vincenz',\n",
              "       'Goldsmith, Mr. Frank John', 'Cribb, Mr. John Hatfield',\n",
              "       'Bonnell, Miss. Elizabeth', 'Andrew, Mr. Edgardo Samuel',\n",
              "       'Ryan, Mr. Patrick',\n",
              "       'Phillips, Miss. Kate Florence (\"Mrs Kate Louise Phillips Marshall\")',\n",
              "       'Thorneycroft, Mr. Percival', 'Lefebre, Master. Henry Forbes',\n",
              "       'Hart, Mrs. Benjamin (Esther Ada Bloomfield)', 'Vovk, Mr. Janko',\n",
              "       'Jensen, Mr. Niels Peder', 'Richards, Master. George Sibley',\n",
              "       'Larsson, Mr. Bengt Edvin', 'Ali, Mr. Ahmed',\n",
              "       'Jensen, Mr. Hans Peder', 'Burke, Mr. Jeremiah',\n",
              "       'Pavlovic, Mr. Stefo', 'Banfield, Mr. Frederick James',\n",
              "       'Saalfeld, Mr. Adolphe', 'Flynn, Mr. James',\n",
              "       'Murphy, Miss. Margaret Jane', 'Skoog, Master. Karl Thorsten',\n",
              "       'Johnson, Mrs. Oscar W (Elisabeth Vilhelmina Berg)',\n",
              "       'Gilnagh, Miss. Katherine \"Katie\"',\n",
              "       'Frolicher, Miss. Hedwig Margaritha',\n",
              "       'Quick, Mrs. Frederick Charles (Jane Richards)',\n",
              "       'Ford, Miss. Doolina Margaret \"Daisy\"',\n",
              "       'Panula, Mr. Ernesti Arvid', 'Morley, Mr. William',\n",
              "       'Garside, Miss. Ethel', 'Dahl, Mr. Karl Edwart',\n",
              "       'Touma, Mrs. Darwis (Hanne Youssef Razi)',\n",
              "       'Taylor, Mr. Elmer Zebley', 'Vande Velde, Mr. Johannes Joseph',\n",
              "       'Hickman, Mr. Lewis', 'Morrow, Mr. Thomas Rowan',\n",
              "       'Carr, Miss. Helen \"Ellen\"', 'Naidenoff, Mr. Penko',\n",
              "       'Cumings, Mrs. John Bradley (Florence Briggs Thayer)',\n",
              "       'Fortune, Miss. Alice Elizabeth', 'Bissette, Miss. Amelia',\n",
              "       'Reeves, Mr. David', 'Harper, Miss. Annie Jessie \"Nina\"',\n",
              "       'Garfirth, Mr. John', 'Shorney, Mr. Charles Joseph',\n",
              "       'Carter, Mrs. Ernest Courtenay (Lilian Hughes)',\n",
              "       'Kraeff, Mr. Theodor', 'Hodges, Mr. Henry Price',\n",
              "       'Markun, Mr. Johann', 'Ford, Mrs. Edward (Margaret Ann Watson)',\n",
              "       'Bostandyeff, Mr. Guentcho', 'Rogers, Mr. William John',\n",
              "       'Watt, Mrs. James (Elizabeth \"Bessie\" Inglis Milne)',\n",
              "       \"O'Connell, Mr. Patrick D\", 'Hosono, Mr. Masabumi',\n",
              "       'Murdlin, Mr. Joseph', 'Keane, Mr. Andrew \"Andy\"',\n",
              "       'Mudd, Mr. Thomas Charles', 'Patchett, Mr. George',\n",
              "       'Nilsson, Miss. Helmina Josefina',\n",
              "       'Harris, Mrs. Henry Birkhardt (Irene Wallach)',\n",
              "       'Thayer, Mr. John Borland', 'Najib, Miss. Adele Kiamie \"Jane\"',\n",
              "       'Klaber, Mr. Herman', 'Staneff, Mr. Ivan',\n",
              "       'Parr, Mr. William Henry Marsh',\n",
              "       'Baclini, Mrs. Solomon (Latifa Qurban)',\n",
              "       'Hamalainen, Mrs. William (Anna)', 'Renouf, Mr. Peter Henry',\n",
              "       'Brown, Mrs. Thomas William Solomon (Elizabeth Catherine Ford)',\n",
              "       'Backstrom, Mrs. Karl Alfred (Maria Mathilda Gustafsson)',\n",
              "       'Baclini, Miss. Helene Barbara', 'Berglund, Mr. Karl Ivar Sven',\n",
              "       'Partner, Mr. Austen', 'Asplund, Miss. Lillian Gertrud',\n",
              "       'Gilinski, Mr. Eliezer', 'Clifford, Mr. George Quincy',\n",
              "       'Guggenheim, Mr. Benjamin',\n",
              "       'Goldenberg, Mrs. Samuel L (Edwiga Grabowska)',\n",
              "       'Duff Gordon, Sir. Cosmo Edmund (\"Mr Morgan\")',\n",
              "       'Charters, Mr. David', 'Dakic, Mr. Branko',\n",
              "       'Asplund, Master. Clarence Gustaf Hugo',\n",
              "       'Lobb, Mrs. William Arthur (Cordelia K Stanlick)',\n",
              "       'Graham, Mr. George Edward', 'Fortune, Mr. Mark',\n",
              "       'Arnold-Franchi, Mrs. Josef (Josefine Franchi)',\n",
              "       'Moran, Mr. James', 'Hocking, Mr. Richard George',\n",
              "       'Leyson, Mr. Robert William Norman',\n",
              "       'Hoyt, Mrs. Frederick Maxfield (Jane Anne Forby)',\n",
              "       'Van Impe, Mrs. Jean Baptiste (Rosalie Paula Govaert)',\n",
              "       'Shellard, Mr. Frederick William', 'Otter, Mr. Richard',\n",
              "       'Salkjelsvik, Miss. Anna Kristine', 'Reynaldo, Ms. Encarnacion',\n",
              "       'Somerton, Mr. Francis William', 'Cor, Mr. Liudevit',\n",
              "       'Saundercock, Mr. William Henry', 'Ivanoff, Mr. Kanio',\n",
              "       'Renouf, Mrs. Peter Henry (Lillian Jefferys)',\n",
              "       'Pinsky, Mrs. (Rosa)', 'de Pelsmaeker, Mr. Alfons',\n",
              "       'Todoroff, Mr. Lalio', 'Ling, Mr. Lee',\n",
              "       'Sage, Miss. Constance Gladys', 'Petranec, Miss. Matilda',\n",
              "       'Olsen, Mr. Karl Siegwart Andreas', 'Yousseff, Mr. Gerious',\n",
              "       'Jensen, Mr. Svend Lauritz', 'Simonius-Blumer, Col. Oberst Alfons',\n",
              "       'Sage, Miss. Dorothy Edith \"Dolly\"', 'Hansen, Mr. Claus Peter',\n",
              "       'Mayne, Mlle. Berthe Antonine (\"Mrs de Villiers\")',\n",
              "       'Ringhini, Mr. Sante', 'Goodwin, Mrs. Frederick (Augusta Tyler)',\n",
              "       'Harmer, Mr. Abraham (David Lishin)', 'Willey, Mr. Edward',\n",
              "       'Anderson, Mr. Harry', 'Cunningham, Mr. Alfred Fleming',\n",
              "       'Coelho, Mr. Domingos Fernandeo', 'Nicola-Yarred, Miss. Jamila',\n",
              "       'Silvey, Mr. William Baird', 'Newell, Miss. Madeleine',\n",
              "       'Wright, Mr. George', 'Stoytcheff, Mr. Ilia',\n",
              "       'Barah, Mr. Hanna Assi', 'Strandberg, Miss. Ida Sofia',\n",
              "       'Millet, Mr. Francis Davis', 'Smith, Mr. Thomas',\n",
              "       'Holverson, Mr. Alexander Oskar', 'Francatelli, Miss. Laura Mabel',\n",
              "       'Lindblom, Miss. Augusta Charlotta', 'Leinonen, Mr. Antti Gustaf',\n",
              "       'Hegarty, Miss. Hanora \"Nora\"', 'Nakid, Mr. Sahid',\n",
              "       'Newell, Miss. Marjorie', 'Augustsson, Mr. Albert',\n",
              "       'Moss, Mr. Albert Johan', 'Marechal, Mr. Pierre',\n",
              "       'Kassem, Mr. Fared', 'Ali, Mr. William',\n",
              "       \"O'Driscoll, Miss. Bridget\", 'Youseff, Mr. Gerious',\n",
              "       'Lulic, Mr. Nikola', 'Lundahl, Mr. Johan Svensson',\n",
              "       'Beesley, Mr. Lawrence', 'Jussila, Miss. Mari Aina',\n",
              "       'Carrau, Mr. Francisco M', 'Drazenoic, Mr. Jozef',\n",
              "       'Meek, Mrs. Thomas (Annie Louise Rowley)',\n",
              "       'Cavendish, Mr. Tyrell William',\n",
              "       'Mullens, Miss. Katherine \"Katie\"', 'de Mulder, Mr. Theodore',\n",
              "       'Webber, Miss. Susan', 'Wheadon, Mr. Edward H',\n",
              "       'Bystrom, Mrs. (Karolina)', 'Lemore, Mrs. (Amelia Milley)',\n",
              "       'Masselmani, Mrs. Fatima', 'Reuchlin, Jonkheer. John George',\n",
              "       'Harris, Mr. Walter', 'Montvila, Rev. Juozas',\n",
              "       'Frost, Mr. Anthony Wood \"Archie\"', 'Bowerman, Miss. Elsie Edith',\n",
              "       'Badt, Mr. Mohamed', 'Hoyt, Mr. Frederick Maxfield',\n",
              "       'Rothes, the Countess. of (Lucy Noel Martha Dyer-Edwards)',\n",
              "       'Chaffee, Mr. Herbert Fuller', 'Pears, Mrs. Thomas (Edith Wearne)',\n",
              "       'Beckwith, Mrs. Richard Leonard (Sallie Monypeny)',\n",
              "       'Moraweck, Dr. Ernest', 'Baclini, Miss. Marie Catherine',\n",
              "       'Thomas, Master. Assad Alexander', 'Crosby, Capt. Edward Gifford',\n",
              "       'Lahoud, Mr. Sarkis', 'Abbott, Mrs. Stanton (Rosa Hunt)',\n",
              "       'Ross, Mr. John Hugo', 'Eklund, Mr. Hans Linus',\n",
              "       'Homer, Mr. Harry (\"Mr E Haven\")', 'Dimic, Mr. Jovan',\n",
              "       'Palsson, Miss. Stina Viola', 'Niskanen, Mr. Juha',\n",
              "       'Hansen, Mr. Henrik Juul', 'Cherry, Miss. Gladys',\n",
              "       'Hood, Mr. Ambrose Jr', 'Lurette, Miss. Elise',\n",
              "       'Turkula, Mrs. (Hedwig)', 'Futrelle, Mr. Jacques Heath',\n",
              "       'Stanley, Mr. Edward Roland', 'Mack, Mrs. (Mary)',\n",
              "       'Thayer, Mr. John Borland Jr', 'Gee, Mr. Arthur H',\n",
              "       'Sage, Mr. Frederick', 'Lahtinen, Mrs. William (Anna Sylfven)',\n",
              "       'Barber, Miss. Ellen \"Nellie\"', 'Turcin, Mr. Stjepan',\n",
              "       'Carter, Mrs. William Ernest (Lucile Polk)',\n",
              "       'Barton, Mr. David John', 'Becker, Master. Richard F',\n",
              "       'Meo, Mr. Alfonzo', 'Panula, Master. Urho Abraham',\n",
              "       'Young, Miss. Marie Grice', 'Gallagher, Mr. Martin',\n",
              "       'Devaney, Miss. Margaret Delia',\n",
              "       'Johannesen-Bratthammer, Mr. Bernt', 'Rice, Master. George Hugh',\n",
              "       'McCarthy, Mr. Timothy J', 'Reed, Mr. James George',\n",
              "       'Moor, Mrs. (Beila)', 'Moen, Mr. Sigurd Hansen',\n",
              "       'McGough, Mr. James Robert', 'Jansson, Mr. Carl Olof',\n",
              "       'Louch, Mrs. Charles Alexander (Alice Adelaide Slow)',\n",
              "       'Andersson, Miss. Erna Alexandra',\n",
              "       'Skoog, Mrs. William (Anna Bernhardina Karlsson)',\n",
              "       'Allen, Miss. Elisabeth Walton', 'Ohman, Miss. Velin',\n",
              "       'Warren, Mrs. Frank Manley (Anna Sophia Atkinson)',\n",
              "       'Brown, Miss. Amelia \"Mildred\"', 'Paulner, Mr. Uscher',\n",
              "       'Hart, Miss. Eva Miriam', 'Pain, Dr. Alfred',\n",
              "       'Rood, Mr. Hugh Roscoe', 'Coutts, Master. William Loch \"William\"',\n",
              "       'Herman, Miss. Alice', 'Cameron, Miss. Clear Annie',\n",
              "       'Jussila, Mr. Eiriik', \"O'Sullivan, Miss. Bridget Mary\",\n",
              "       'LeRoy, Miss. Bertha', 'Mernagh, Mr. Robert',\n",
              "       'Klasen, Mr. Klas Albin', 'Oreskovic, Mr. Luka',\n",
              "       'Giles, Mr. Frederick Edward', 'Salonen, Mr. Johan Werner',\n",
              "       'Lennon, Mr. Denis', 'Longley, Miss. Gretchen Fiske',\n",
              "       'Funk, Miss. Annie Clemmer', 'Dooley, Mr. Patrick',\n",
              "       'Leonard, Mr. Lionel', 'Norman, Mr. Robert Douglas',\n",
              "       'Potter, Mrs. Thomas Jr (Lily Alexenia Wilson)',\n",
              "       'Faunthorpe, Mrs. Lizzie (Elizabeth Anne Wilkinson)',\n",
              "       'Sage, Master. Thomas Henry',\n",
              "       'Doling, Mrs. John T (Ada Julia Bone)',\n",
              "       'Collyer, Miss. Marjorie \"Lottie\"', 'Tomlin, Mr. Ernest Portage',\n",
              "       'Kilgannon, Mr. Thomas J', 'Sirayanian, Mr. Orsen',\n",
              "       'Knight, Mr. Robert J', 'Danbom, Mr. Ernst Gilbert',\n",
              "       'Fahlstrom, Mr. Arne Jonas', 'Hassab, Mr. Hammad',\n",
              "       'Pasic, Mr. Jakob', 'Barkworth, Mr. Algernon Henry Wilson',\n",
              "       'Nicola-Yarred, Master. Elias', 'Kelly, Mr. James',\n",
              "       'Coutts, Master. Eden Leslie \"Neville\"',\n",
              "       'Angle, Mrs. William A (Florence \"Mary\" Agnes Hughes)',\n",
              "       'Cohen, Mr. Gurshon \"Gus\"', 'Milling, Mr. Jacob Christian',\n",
              "       'Frauenthal, Mrs. Henry William (Clara Heinsheimer)',\n",
              "       'West, Mrs. Edwy Arthur (Ada Mary Worth)',\n",
              "       'Kantor, Mrs. Sinai (Miriam Sternin)', \"O'Connor, Mr. Maurice\",\n",
              "       'Kantor, Mr. Sinai', 'Chip, Mr. Chang', 'Saad, Mr. Khalil',\n",
              "       'Carter, Mr. William Ernest', 'Johnson, Mr. Malkolm Joackim',\n",
              "       'Andersson, Mr. Anders Johan', 'Downton, Mr. William James',\n",
              "       'Holm, Mr. John Fredrik Alexander',\n",
              "       'Johnson, Master. Harold Theodor', 'Maisner, Mr. Simon',\n",
              "       'van Billiard, Mr. Austin Blyler', 'Coxon, Mr. Daniel',\n",
              "       'Goodwin, Master. Harold Victor', 'Skoog, Master. Harald',\n",
              "       'Peduzzi, Mr. Joseph', 'Sjostedt, Mr. Ernst Adolf',\n",
              "       'Attalah, Mr. Sleiman', 'Novel, Mr. Mansouer',\n",
              "       'Clarke, Mrs. Charles V (Ada Maria Winfield)',\n",
              "       'Thayer, Mrs. John Borland (Marian Longstreth Morris)',\n",
              "       'Sobey, Mr. Samuel James Hayden', 'Tornquist, Mr. William Henry',\n",
              "       'Bowen, Mr. David John \"Dai\"',\n",
              "       'Andersson, Miss. Ingeborg Constanzia', 'Green, Mr. George Henry',\n",
              "       'Lang, Mr. Fang', 'Dahlberg, Miss. Gerda Ulrika',\n",
              "       'Icard, Miss. Amelie', 'Meyer, Mr. August',\n",
              "       'O\\'Leary, Miss. Hanora \"Norah\"', 'Molson, Mr. Harry Markland',\n",
              "       'Pettersson, Miss. Ellen Natalia', 'Hampe, Mr. Leon',\n",
              "       'Harris, Mr. George', 'Mangan, Miss. Mary', 'Cacic, Miss. Marija',\n",
              "       'Baxter, Mrs. James (Helene DeLaudeniere Chaput)',\n",
              "       'Goldenberg, Mr. Samuel L', 'Johnson, Mr. Alfred',\n",
              "       'Sage, Mr. Douglas Bullen', 'Meyer, Mr. Edgar Joseph',\n",
              "       'Parkes, Mr. Francis \"Frank\"', 'Rekic, Mr. Tido',\n",
              "       'Sagesser, Mlle. Emma', 'Smart, Mr. John Montgomery',\n",
              "       'Honkanen, Miss. Eliina', 'Porter, Mr. Walter Chamberlain',\n",
              "       'Boulos, Mrs. Joseph (Sultana)', 'Foo, Mr. Choong',\n",
              "       'Toufik, Mr. Nakli', 'Osman, Mrs. Mara',\n",
              "       'Stone, Mrs. George Nelson (Martha Evelyn)',\n",
              "       'Adahl, Mr. Mauritz Nils Martin', 'Yasbeck, Mr. Antoni',\n",
              "       'Moran, Miss. Bertha',\n",
              "       'Danbom, Mrs. Ernst Gilbert (Anna Sigrid Maria Brogren)',\n",
              "       'Walker, Mr. William Anderson',\n",
              "       'Johnston, Miss. Catherine Helen \"Carrie\"',\n",
              "       'Peuchen, Major. Arthur Godfrey', 'Lines, Miss. Mary Conover',\n",
              "       'Boulos, Miss. Nourelain', 'Sadlier, Mr. Matthew',\n",
              "       'Parrish, Mrs. (Lutie Davis)', 'Meanwell, Miss. (Marion Ogden)',\n",
              "       'Lobb, Mr. William Arthur', 'Cairns, Mr. Alexander',\n",
              "       'Carlsson, Mr. August Sigfrid', 'Cleaver, Miss. Alice',\n",
              "       'Duran y More, Miss. Asuncion', 'Markoff, Mr. Marin',\n",
              "       'Sutehall, Mr. Henry Jr', 'Webber, Mr. James',\n",
              "       'Dorking, Mr. Edward Arthur', 'Rice, Master. Arthur',\n",
              "       'Meyer, Mrs. Edgar Joseph (Leila Saks)',\n",
              "       'Edvardsson, Mr. Gustaf Hjalmar', 'Cook, Mr. Jacob',\n",
              "       'Samaan, Mr. Youssef', 'Panula, Master. Eino Viljami',\n",
              "       'Leader, Dr. Alice (Farnham)', 'Ridsdale, Miss. Lucy',\n",
              "       'Gronnestad, Mr. Daniel Danielsen', 'Kimball, Mr. Edwin Nelson Jr',\n",
              "       'Rouse, Mr. Richard Henry', 'Doling, Miss. Elsie',\n",
              "       'Christy, Miss. Julie Rachel', 'Hart, Mr. Henry',\n",
              "       'Shutes, Miss. Elizabeth W', 'Rommetvedt, Mr. Knud Paust',\n",
              "       'Emir, Mr. Farred Chehab', 'Daly, Mr. Eugene Patrick',\n",
              "       'Baumann, Mr. John D', 'Beavan, Mr. William Thomas',\n",
              "       'Greenfield, Mr. William Bertram', 'Karlsson, Mr. Nils August',\n",
              "       'Andersson, Mr. August Edvard (\"Wennerstrom\")',\n",
              "       'Hippach, Mrs. Louis Albert (Ida Sophia Fischer)',\n",
              "       'Madsen, Mr. Fridtjof Arne',\n",
              "       'Myhrman, Mr. Pehr Fabian Oliver Malkolm', 'Davis, Miss. Mary',\n",
              "       'Allison, Miss. Helen Loraine', 'Waelens, Mr. Achille',\n",
              "       'Van Impe, Miss. Catharina',\n",
              "       'Palsson, Mrs. Nils (Alma Cornelia Berglund)',\n",
              "       'Bradley, Mr. George (\"George Arthur Brayton\")',\n",
              "       'Heininen, Miss. Wendla Maria', 'Sutton, Mr. Frederick',\n",
              "       'Barbara, Mrs. (Catherine David)', 'Behr, Mr. Karl Howell',\n",
              "       'Duff Gordon, Lady. (Lucille Christiana Sutherland) (\"Mrs Morgan\")',\n",
              "       'Foreman, Mr. Benjamin Laventall', 'Saad, Mr. Amin',\n",
              "       'Horgan, Mr. John', 'Navratil, Mr. Michel (\"Louis M Hoffman\")',\n",
              "       'Lefebre, Miss. Jeannie',\n",
              "       'Strom, Mrs. Wilhelm (Elna Matilda Persson)', 'Mineff, Mr. Ivan',\n",
              "       'Vanden Steen, Mr. Leo Peter', 'Blank, Mr. Henry',\n",
              "       'Lehmann, Miss. Bertha', 'Maioni, Miss. Roberta',\n",
              "       'Keefe, Mr. Arthur', 'Hewlett, Mrs. (Mary D Kingcome) ',\n",
              "       'Gaskell, Mr. Alfred', 'Johansson, Mr. Karl Johan',\n",
              "       'Calderhead, Mr. Edward Pennington',\n",
              "       'Theobald, Mr. Thomas Leonard', 'Connolly, Miss. Kate',\n",
              "       'Andersson, Mrs. Anders Johan (Alfrida Konstantia Brogren)',\n",
              "       'Ford, Miss. Robina Maggie \"Ruby\"',\n",
              "       'Richards, Mrs. Sidney (Emily Hocking)',\n",
              "       'Frauenthal, Dr. Henry William', 'Eitemiller, Mr. George Floyd',\n",
              "       'Jonsson, Mr. Carl', 'Osen, Mr. Olaf Elon',\n",
              "       'Ostby, Mr. Engelhart Cornelius', 'Nysveen, Mr. Johan Hansen',\n",
              "       'Tobin, Mr. Roger', 'Hawksford, Mr. Walter James',\n",
              "       'Asplund, Master. Edvin Rojj Felix', 'McGowan, Miss. Anna \"Annie\"',\n",
              "       'Chambers, Mrs. Norman Campbell (Bertha Griggs)',\n",
              "       'Allison, Master. Hudson Trevor', 'Risien, Mr. Samuel Beard',\n",
              "       'Flynn, Mr. John', 'Abelson, Mrs. Samuel (Hannah Wizosky)',\n",
              "       'Strom, Miss. Telma Matilda', 'McEvoy, Mr. Michael',\n",
              "       'Compton, Miss. Sara Rebecca', 'Svensson, Mr. Johan',\n",
              "       'Elias, Mr. Dibo',\n",
              "       'Hakkarainen, Mrs. Pekka Pietari (Elin Matilda Dolck)',\n",
              "       'Panula, Master. Juha Niilo', 'Serepeca, Miss. Augusta',\n",
              "       'Goncalves, Mr. Manuel Estanslas', 'Petterson, Mr. Johan Emil',\n",
              "       \"O'Brien, Mr. Timothy\", 'Carter, Miss. Lucile Polk',\n",
              "       'Sheerlinck, Mr. Jan Baptist',\n",
              "       'Astor, Mrs. John Jacob (Madeleine Talmadge Force)',\n",
              "       'McNamee, Mr. Neal', 'Peters, Miss. Katie',\n",
              "       'Elsbury, Mr. William James', 'Nye, Mrs. (Elizabeth Ramell)',\n",
              "       'Stahelin-Maeglin, Dr. Max', 'Nasser, Mrs. Nicholas (Adele Achem)',\n",
              "       'Emanuel, Miss. Virginia Ethel', 'Abelson, Mr. Samuel',\n",
              "       'Caldwell, Mrs. Albert Francis (Sylvia Mae Harbaugh)',\n",
              "       'Seward, Mr. Frederic Kimber', 'Wiklund, Mr. Jakob Alfred',\n",
              "       'Lam, Mr. Ali', 'Jussila, Miss. Katriina',\n",
              "       'Pears, Mr. Thomas Clinton', 'Harper, Mr. Henry Sleeper',\n",
              "       'Sundman, Mr. Johan Julian', 'Stewart, Mr. Albert A',\n",
              "       'Rush, Mr. Alfred George John',\n",
              "       'Kenyon, Mrs. Frederick R (Marion)', 'Henry, Miss. Delia',\n",
              "       'Elias, Mr. Tannous',\n",
              "       'Rothschild, Mrs. Martin (Elizabeth L. Barrett)',\n",
              "       'Coleridge, Mr. Reginald Charles', 'Fynney, Mr. Joseph J',\n",
              "       'Rintamaki, Mr. Matti', 'Olsvigen, Mr. Thor Anderson',\n",
              "       'Hakkarainen, Mr. Pekka Pietari', 'Moor, Master. Meier',\n",
              "       'Hanna, Mr. Mansour',\n",
              "       'Shelley, Mrs. William (Imanita Parrish Hall)',\n",
              "       'Moubarek, Master. Halim Gonios (\"William George\")',\n",
              "       'Taussig, Mrs. Emil (Tillie Mandelbaum)',\n",
              "       'Ball, Mrs. (Ada E Hall)', 'Thorne, Mrs. Gertrude Maybelle',\n",
              "       'Nosworthy, Mr. Richard Cater',\n",
              "       'O\\'Brien, Mrs. Thomas (Johanna \"Hannah\" Godfrey)',\n",
              "       'Hedman, Mr. Oskar Arvid', 'Olsson, Miss. Elina',\n",
              "       'Asplund, Mrs. Carl Oscar (Selma Augusta Emilia Johansson)',\n",
              "       'Laroche, Mr. Joseph Philippe Lemercier', 'McCoy, Miss. Agnes',\n",
              "       'Endres, Miss. Caroline Louise', 'Troupiansky, Mr. Moses Aaron',\n",
              "       'Bourke, Mr. John', 'Marvin, Mr. Daniel Warner',\n",
              "       'Kalvik, Mr. Johannes Halvorsen', 'Laleff, Mr. Kristo',\n",
              "       'Sunderland, Mr. Victor Francis', 'Chapman, Mr. John Henry',\n",
              "       'Yasbeck, Mrs. Antoni (Selini Alexander)',\n",
              "       'Palsson, Miss. Torborg Danira',\n",
              "       'Jacobsohn, Mrs. Sidney Samuel (Amy Frances Christy)',\n",
              "       'Taylor, Mrs. Elmer Zebley (Juliet Cummins Wright)',\n",
              "       'Bishop, Mr. Dickinson H', 'Bailey, Mr. Percy Andrew',\n",
              "       'Leeni, Mr. Fahim (\"Philip Zenni\")', 'Sage, Mr. George John Jr',\n",
              "       'McCormack, Mr. Thomas Joseph',\n",
              "       'Dick, Mrs. Albert Adrian (Vera Gillespie)', 'Bing, Mr. Lee',\n",
              "       'Williams-Lambert, Mr. Fletcher Fellows',\n",
              "       'Kent, Mr. Edward Austin', 'Peter, Miss. Anna',\n",
              "       'Laroche, Mrs. Joseph (Juliette Marie Louise Lafargue)',\n",
              "       'Gillespie, Mr. William Henry', 'Davies, Mr. Charles Henry',\n",
              "       'Harrington, Mr. Charles H', 'Nakid, Miss. Maria (\"Mary\")',\n",
              "       'Butler, Mr. Reginald Fenton', 'Buss, Miss. Kate',\n",
              "       'Davison, Mrs. Thomas Henry (Mary E Finck)',\n",
              "       'Bazzani, Miss. Albina', 'Hunt, Mr. George Henry',\n",
              "       'Windelov, Mr. Einar', 'Carlsson, Mr. Frans Olof'], dtype=object)"
            ]
          },
          "metadata": {},
          "execution_count": 13
        }
      ],
      "source": [
        "# First, we dropped the variable Name because we did not see any information that could\n",
        "# be extracted. After the first presentation and the comments made by the professor and \n",
        "# our colleagues, we tried to see if there was any lasting information in Name that we\n",
        "# could use to improve our estimator. \n",
        "\n",
        "# Thus, we want to check if there is any patern that can be explored in Name. \n",
        "# Lets check the observations in this variable.\n",
        "\n",
        "df['Name'].unique()\n",
        "\n",
        "# After a quick look, we can see that profession might be an information that we can \n",
        "# take our of Name only if we can select the information between \",\" and \".\". \n",
        "# This will be addressed in Section 3.3."
      ]
    },
    {
      "cell_type": "code",
      "execution_count": null,
      "metadata": {
        "id": "-AAJ_X2PpkMr",
        "colab": {
          "base_uri": "https://localhost:8080/"
        },
        "outputId": "ddcd3966-dcaf-4c33-a6ad-6153cfd2ad77"
      },
      "outputs": [
        {
          "output_type": "execute_result",
          "data": {
            "text/plain": [
              "array([nan, 'C87', 'B94', 'A34', 'D48', 'D20', 'B20', 'C118', 'B41',\n",
              "       'C49', 'C7', 'B22', 'B69', 'T', 'F2', 'B57 B59 B63 B66', 'C52',\n",
              "       'A5', 'F4', 'B42', 'C83', 'C123', 'E25', 'D33', 'C82', 'D35', 'E8',\n",
              "       'F G73', 'C23 C25 C27', 'C65', 'E68', 'B96 B98', 'B71', 'D17',\n",
              "       'A6', 'D', 'E67', 'C22 C26', 'E17', 'G6', 'E34', 'B3', 'E44',\n",
              "       'A36', 'D11', 'C86', 'C101', 'B78', 'A19', 'A7', 'C78', 'E33',\n",
              "       'A24', 'B19', 'C54', 'E58', 'F G63', 'B49', 'B58 B60', 'B5', 'E50',\n",
              "       'B18', 'E10', 'D47', 'B4', 'E40', 'D26', 'C125', 'D6', 'D7', 'B86',\n",
              "       'E101', 'C95', 'E24', 'B51 B53 B55', 'B101', 'B73', 'B35', 'B102',\n",
              "       'B38', 'C103', 'C106', 'B39', 'C126', 'C85', 'C99', 'C68', 'C124',\n",
              "       'A14', 'B82 B84', 'C92', 'A20', 'C91', 'C93', 'A26', 'C90', 'E12',\n",
              "       'D36', 'E38', 'E36', 'C47', 'D56', 'C46', 'F33', 'B77', 'E31',\n",
              "       'C2', 'A10', 'B80', 'E77', 'C70', 'E63', 'C32', 'E46', 'E121',\n",
              "       'D37', 'A32', 'D9', 'C50', 'D49', 'A23', 'B28', 'C30', 'C110',\n",
              "       'D46', 'C104', 'D28', 'D19', 'D10 D12', 'D50', 'C148', 'A16',\n",
              "       'C111', 'A31', 'B79', 'B30', 'F38', 'D45', 'E49', 'C62 C64', 'B50',\n",
              "       'D21', 'C45', 'D30', 'C128', 'B37', 'F E69', 'D15'], dtype=object)"
            ]
          },
          "metadata": {},
          "execution_count": 14
        }
      ],
      "source": [
        "# Following the rationale used to study Name, we do the same thing for Cabin.\n",
        "\n",
        "df['Cabin'].unique()"
      ]
    },
    {
      "cell_type": "code",
      "execution_count": null,
      "metadata": {
        "id": "yRXLyduKrQIr",
        "colab": {
          "base_uri": "https://localhost:8080/"
        },
        "outputId": "aafbe683-d64c-420c-faae-aa65b95d273d"
      },
      "outputs": [
        {
          "output_type": "execute_result",
          "data": {
            "text/plain": [
              "array(['350046', '28424', '250647', '2690', 'A/5. 3337', '240929',\n",
              "       '113514', '248727', '112059', 'C.A. 33111', '250644', '4133',\n",
              "       'STON/O 2. 3101294', '349239', '244358', 'A/4 48871', '7267',\n",
              "       '367232', '382652', 'STON/O2. 3101282', 'PC 17757', '347088',\n",
              "       '36928', '248747', '65303', '250652', '2661', '33638', '35273',\n",
              "       '36947', '17474', '28403', '3474', 'PC 17596', '13567', '244270',\n",
              "       'PC 17595', '9234', 'A./5. 2152', '3101264', '26707', '244310',\n",
              "       '243847', '2664', '2699', 'WE/P 5735', '364849', 'LINE', '3101265',\n",
              "       '347082', '364848', '12749', '363291', '113784', '230080',\n",
              "       'W./C. 6609', 'PC 17608', '19947', '2626', 'PC 17754', '347081',\n",
              "       '230136', '112379', 'SC/PARIS 2146', '112053', 'S.O.C. 14879',\n",
              "       '312992', '36973', 'C.A. 24580', '345777', '113803', 'C.A. 34651',\n",
              "       '349234', 'PC 17474', '349215', 'C.A. 31921', '220367', '373450',\n",
              "       'PC 17572', '244373', '17421', 'PC 17597', '113503', '349218',\n",
              "       '11751', '244252', '330931', 'SOTON/O2 3101287', '113806',\n",
              "       '220845', 'PC 17601', '315082', '392091', '11668', '370369',\n",
              "       '28228', '348124', '239856', '19950', 'PC 17758', '2223', '345770',\n",
              "       '4135', '110413', '113760', '223596', 'F.C. 12750', 'F.C.C. 13529',\n",
              "       '350035', '336439', '2683', '349237', '2686', '347069', '4138',\n",
              "       '17466', '113788', '364512', 'SOTON/OQ 392082', 'Fa 265302',\n",
              "       '392092', '2666', '239853', '28206', 'SC/AH Basle 541', '349240',\n",
              "       '26360', '342826', '315086', '330932', '113781', '29106', '113055',\n",
              "       '315089', '345764', '349221', 'PP 9549', '16966', '335677',\n",
              "       'C 4001', '24160', '364511', 'STON/O 2. 3101293', '347464',\n",
              "       '13507', '2685', '349214', '112050', '2648', '376564', '13502',\n",
              "       '343275', '250646', '349219', 'STON/O 2. 3101288', '228414',\n",
              "       '31418', 'SC/Paris 2123', '349909', 'PC 17761', '349256', '111428',\n",
              "       '11769', '237736', '7546', 'A/5 2466', 'PC 17569', '29750',\n",
              "       '347742', '113056', '110564', 'W./C. 6607', '2665', '17764',\n",
              "       '31028', '19928', 'C.A. 31026', 'PC 17609', 'CA 2144', '349210',\n",
              "       'C.A. 33112', '343276', '113505', '3101277', 'PC 17590', '111240',\n",
              "       '11767', 'SC/PARIS 2167', '330980', 'C.A. 2315', '234818',\n",
              "       '349254', 'SOTON/O.Q. 3101305', '29105', '5727', 'C 7077',\n",
              "       '350052', 'STON/O 2. 3101275', '236853', 'SOTON/OQ 392086',\n",
              "       '367229', '233866', '229236', 'STON/O 2. 3101280', '29103',\n",
              "       '348121', '11967', 'A/4. 34244', 'PC 17558', '315093', '248731',\n",
              "       '349227', 'A/5 21171', '341826', '315096', '2908', '347068',\n",
              "       'A/5 21172', '2627', '315037', 'S.O.P. 1166', 'STON/O 2. 3101285',\n",
              "       '349209', '349223', '14313', '3460', '349248', '315090',\n",
              "       'PC 17755', '335097', 'SC/PARIS 2133', 'S.C./PARIS 2079',\n",
              "       'CA. 2314', '250655', '364846', '244361', '345773', '237565',\n",
              "       '349236', '370365', '7534', '350406', 'W./C. 6608', '11765',\n",
              "       '2687', '349225', '2647', '370129', 'SC/Paris 2163', '111361',\n",
              "       'SOTON/O.Q. 392078', '364516', '330959', '1601', 'F.C.C. 13531',\n",
              "       '113789', '349243', 'SO/C 14885', '11752', 'PC 17610', '250653',\n",
              "       '347061', '35281', 'C.A. 5547', 'SW/PP 751', 'PC 17582', '2629',\n",
              "       '7540', '250649', '2689', 'A/5 21173', '113501', '367226',\n",
              "       '370372', '28664', '2677', 'PC 17593', '226593', '347083', '2668',\n",
              "       '693', 'A/5 21174', '36209', '370370', 'PC 17483', 'PC 17475',\n",
              "       '367230', '248740', 'SOTON/O2 3101272', '3101278', 'PC 17612',\n",
              "       '2680', '3101276', '219533', 'C.A. 18723', '347466', '28665',\n",
              "       'PC 17600', '347071', '7545', 'SOTON/OQ 392090', '3101298',\n",
              "       '250648', '36866', '345763', '350029', 'A4. 54510', '349204',\n",
              "       '370375', 'STON/O 2. 3101274', 'CA. 2343', 'STON/O2. 3101271',\n",
              "       'SC/PARIS 2131', '315153', '347064', '349246', '349222',\n",
              "       'PC 17477', '34218', '54636', '113800', '248738', '14312',\n",
              "       '113804', '2691', '345765', '28425', '112058', '28220', '349203',\n",
              "       '349251', 'S.P. 3464', '113050', '374746', '349207', '350036',\n",
              "       '3101295', '345572', '371110', '345781', '65304', '349212',\n",
              "       'C.A. 2673', '349910', 'SOTON/O.Q. 3101310', '315151', '371362',\n",
              "       '113783', '231945', '349252', '350047', '347067',\n",
              "       'SOTON/O.Q. 3101311', '350050', '365222', '349242',\n",
              "       'C.A./SOTON 34068', '19988', '364851', '35851', '13568', '364506',\n",
              "       '243880', '7598', '2650', '19996', '345780', '372622', '367231',\n",
              "       '349206', 'PC 17599', 'PC 17760', 'C.A. 17248', '358585', '374910',\n",
              "       '349253', '250643', '349257', '349224', 'S.C./A.4. 23567',\n",
              "       'C.A. 33595', '334912', '237798', 'A./5. 3235', '12460',\n",
              "       'S.O./P.P. 3', '347470', '2667', '113028', '349208', '112052',\n",
              "       '31027', 'PP 4348', '113043', '347077', '14973', '110465', '17453',\n",
              "       'PC 17485', 'A/5. 13032', '349228', 'A/5. 3336', '330877', '29104',\n",
              "       'C.A. 29566', '19943', 'C.A. 6212', '28213', '343120', '230434',\n",
              "       'A.5. 18509', '349231', 'A/5. 2151', '349201', '234604', '345778',\n",
              "       '349216', '349245', '4579', '350048', '13213', '350026',\n",
              "       'PC 17482', '374887', 'S.O./P.P. 751', '19952',\n",
              "       'SOTON/O.Q. 3101307', '2651', '113807', '349205', '2663', '7553',\n",
              "       '13509', '384461', '347073', 'STON/O 2. 3101292', '365226', '2653',\n",
              "       '347468', '312991', '11774', '2700', 'SOTON/O.Q. 3101312', '14311',\n",
              "       '2628', '315098', '347743', '248698', '4137', '113059', '349241',\n",
              "       '343095', '19877', '35852', '345774', '27267', 'C.A. 24579',\n",
              "       '236852', 'C.A. 34260', '2649', '19972', 'W/C 14208', '211536',\n",
              "       '239854', '2623', '110152', 'W.E.P. 5734', '113776', '29011',\n",
              "       '2625', '2624', '13049', '347074', '111426', '315088',\n",
              "       'STON/O 2. 3101289', '350025', '4134', 'A/4 45380', '111320',\n",
              "       '250651', '349247', '324669', 'A.5. 11206', '36864', '330958',\n",
              "       '65306', '17463', '362316', '392096', '348123', 'PC 17473',\n",
              "       '350034', 'SC/AH 3085', '3101281', '347085', '110813', '248733',\n",
              "       '3411', '244278', '113767', 'C.A. 37671', 'F.C.C. 13528',\n",
              "       'STON/O 2. 3101286', '330909', '368703', '350404', '315094',\n",
              "       '28134', '3101296', '370371', '237671', '370376', '218629', '2926',\n",
              "       '231919', '364499', '36865', '2669', '239855', '347080', '236171',\n",
              "       '315097', '27042', '363592', '226875', 'A/5 3540', '234360',\n",
              "       'PC 17611', '244367', '371060', '2672', '347062', 'C 7075',\n",
              "       'A/S 2816', 'A/5. 851', '364500', 'A/5 2817', '237442', '2694',\n",
              "       '2697', '2003', 'C.A. 29178', '21440', '7552', '113572', '248723',\n",
              "       '330919', '113787', '347087', '345769', 'S.W./PP 752', '364850',\n",
              "       '315084', 'PC 17604', '349249', '113792', 'STON/O2. 3101283',\n",
              "       '2678', '2641', '349244', 'C 7076', '2659', '36967', '113786',\n",
              "       'PC 17592', '367655', '230433', 'SOTON/O.Q. 392087', '113798',\n",
              "       '350042', 'SC/PARIS 2149', '349213', 'SOTON/OQ 392076',\n",
              "       'SOTON/OQ 3101316', 'A/5. 10482', '349912', 'A/5 3536', '2662',\n",
              "       '17465', 'W./C. 14258', '8471', '11753', 'A/5 3594', '237789',\n",
              "       '394140', '312993', '2631', '382651', 'PC 17318', '323951',\n",
              "       'PC 17759', '350060', '350043', 'C 17369', '347078', '237668',\n",
              "       '345767', '111427', 'STON/O2. 3101290', '36963', '111369', '11755',\n",
              "       '113051', '2671', '370377', '347054', '349233', '345783', '112277',\n",
              "       'SC 1748', '323592', '248706', '239865', '347063', 'PC 17476',\n",
              "       '363294', '370373', '29751', '350417', '113509', '345364',\n",
              "       '383121', '16988', '330923', '364498', '368323', 'P/PP 3381',\n",
              "       '36568', 'PC 17756', '347060', '2674', 'STON/O2. 3101279',\n",
              "       'SOTON/O.Q. 3101306', '347076', '330979', '345779', '376566',\n",
              "       '330935', 'A/5 3902', 'C.A. 29395', '13214', '113794', '3101267',\n",
              "       '4136', 'STON/O 2. 3101269', 'PC 17605', 'A/4. 20589', '17464',\n",
              "       '382649', '2695', 'PC 17603', 'W./C. 14263', 'STON/O 2. 3101273',\n",
              "       '6563', '2693', '28551', 'PC 17585', 'A/4. 39886', '347089',\n",
              "       '350407', '233639', '113773', '8475', '349217', 'SOTON/OQ 392089',\n",
              "       'SC/AH 29037', '29108', '2620', '367228', '113510', '11771',\n",
              "       '12233', '113796', '234686', '27849', '386525', '11813',\n",
              "       'SCO/W 1585', 'SOTON/OQ 3101317', '695'], dtype=object)"
            ]
          },
          "metadata": {},
          "execution_count": 15
        }
      ],
      "source": [
        "# Following the rationale used to study Name, we do the same thing for Ticket.\n",
        "\n",
        "df['Ticket'].unique()"
      ]
    },
    {
      "cell_type": "markdown",
      "metadata": {
        "id": "DquRrcDwTjH6"
      },
      "source": [
        "# ***"
      ]
    },
    {
      "cell_type": "markdown",
      "metadata": {
        "id": "MkePLF7oUax9"
      },
      "source": [
        "# Section 3 - Data Preparation and Feature Engeneering "
      ]
    },
    {
      "cell_type": "markdown",
      "source": [
        "### Summary of the Data Prep and Featuring Engineering section: \n",
        "\n",
        "The Data Prep and Featuring Engineering section is organized in 5 main sectors. First, we run the traditional missing values analysis to see how many observations are missing and which variables have more NaN. This may be correlated with the final outcome. Thus, it is necessary to see which columns are less filled and what can we do with them. \n",
        "\n",
        "The missing values analysis shows three columns with missing values: (i) *Cabin*, (ii) *Age*, (iii) *Embarked*. The first variable has more than 70% of information missing, which led us to initially drop out this information. However, with a close look analysis we chose not to drop it, but to encode it in a way that it could give us extra information - this will be further explored in the **Variable Cabin section**. A similar decision was made with *Age*, which had its NaNs observations with the mean values. We chose, nevertheless, to encode this variable and create a new one that would encompass age bands (e.g. 0-1 years old are toddlers). Lastly, we had initially dropped the few missing values in Embarked, but then we encoded the variable as well.\n",
        "\n",
        "The general information section gave us some guidelines into what we could do as data prep and featuring engineering for this problem. The variables at hand are *Name* and *Cabin*. Based in the initial information gathered from the *unique()* function, we managed to extract some extra information from these variables which allowed us to do the encoding. \n",
        "\n",
        "** \n",
        "\n",
        "\n",
        "> *VARIABLE CABIN*\n",
        "\n",
        "\n",
        "\n",
        "We start filling the NaN values with No Cabin, because it is an object column. Then, we created a dummy variable that indicated if that information was NaN or not at the original column. We also did an encoding to get only the first letter of the observation, which indicates how high up in the Titanic ship. This can be correlated with survival rate in what comes to the time that an individual would take to reach the deck. For instance, individuals with a low Cabin_Digit position (lower cabins) would take longer to reach the rescue boat. We use hot encoding in this case because there is an order of importance (Cabins high up in the ship are more exclusive and closer to the rescue boats. \n",
        "\n",
        "**\n",
        "\n",
        "> *VARIABLE AGE*\n",
        "\n",
        "\n",
        "\n",
        "For Age, we start filling in the missing values with -1 and creating a dummy variable similar to the Cabin one. This is because we saw that there are more missing values in no survived than survived and we wanted to capture this information in our model. We followed to the encoding process where we created a new variable called *age_group*.  \n",
        "\n",
        "**\n",
        "\n",
        "> *VARIABLE EMBARKED* \n",
        "\n",
        "\n",
        "We did the hot encoding for the variable *Embarked* considering the route of the trip. Being (i) Southampton, England, (ii) Cherbourg, France, and (iii) Queenstown, Ireland. \n",
        "\n",
        "\n",
        "**\n",
        "\n",
        "> *VARIABLE SEX* \n",
        "\n",
        "\n",
        "We did the hot encoding for sex because women had preference to get the rescue boats. \n",
        "\n",
        "\n",
        "**\n",
        "\n",
        "> *VARIABLE NAME* \n",
        "\n",
        "\n",
        "For Name, our strategy was to select the title that the passengers had (e.g. Miss). This information encompasses not only class, age, and gender, but can bring information that has been overlooked. Thus, we created a *Name_title* variable. We aimed to make it more complex adding, for instance, a dummy variable that would indicate if the individual had *rare* titles as Jonkheer or Countess, but this remains for further codes because ours did not run.\n",
        "\n",
        "**\n",
        "\n",
        "> *VARIABLE FAMLILY SIZE* \n",
        "\n",
        "\n",
        "The encoding for family size indicates the size of the families on board and might bring additional information for the analysis. \n",
        "\n",
        "\n",
        "\n",
        "\n",
        "\n",
        "\n",
        "\n",
        "\n"
      ],
      "metadata": {
        "id": "ut2kObtmONwg"
      }
    },
    {
      "cell_type": "markdown",
      "metadata": {
        "id": "V3ciEA8gu7RA"
      },
      "source": [
        "### Missing Values"
      ]
    },
    {
      "cell_type": "code",
      "execution_count": null,
      "metadata": {
        "id": "s9xwAYIRcZ0n",
        "colab": {
          "base_uri": "https://localhost:8080/",
          "height": 363
        },
        "outputId": "7fc47bdc-470d-4276-d191-3bb1ca120683"
      },
      "outputs": [
        {
          "output_type": "execute_result",
          "data": {
            "text/plain": [
              "          Total    Percent\n",
              "Cabin       687  77.104377\n",
              "Age         177  19.865320\n",
              "Embarked      2   0.224467\n",
              "Pclass        0   0.000000\n",
              "Name          0   0.000000\n",
              "Sex           0   0.000000\n",
              "SibSp         0   0.000000\n",
              "Parch         0   0.000000\n",
              "Ticket        0   0.000000\n",
              "Fare          0   0.000000"
            ],
            "text/html": [
              "\n",
              "  <div id=\"df-bf042681-dfa6-4dcc-a979-b463ba79c2bd\">\n",
              "    <div class=\"colab-df-container\">\n",
              "      <div>\n",
              "<style scoped>\n",
              "    .dataframe tbody tr th:only-of-type {\n",
              "        vertical-align: middle;\n",
              "    }\n",
              "\n",
              "    .dataframe tbody tr th {\n",
              "        vertical-align: top;\n",
              "    }\n",
              "\n",
              "    .dataframe thead th {\n",
              "        text-align: right;\n",
              "    }\n",
              "</style>\n",
              "<table border=\"1\" class=\"dataframe\">\n",
              "  <thead>\n",
              "    <tr style=\"text-align: right;\">\n",
              "      <th></th>\n",
              "      <th>Total</th>\n",
              "      <th>Percent</th>\n",
              "    </tr>\n",
              "  </thead>\n",
              "  <tbody>\n",
              "    <tr>\n",
              "      <th>Cabin</th>\n",
              "      <td>687</td>\n",
              "      <td>77.104377</td>\n",
              "    </tr>\n",
              "    <tr>\n",
              "      <th>Age</th>\n",
              "      <td>177</td>\n",
              "      <td>19.865320</td>\n",
              "    </tr>\n",
              "    <tr>\n",
              "      <th>Embarked</th>\n",
              "      <td>2</td>\n",
              "      <td>0.224467</td>\n",
              "    </tr>\n",
              "    <tr>\n",
              "      <th>Pclass</th>\n",
              "      <td>0</td>\n",
              "      <td>0.000000</td>\n",
              "    </tr>\n",
              "    <tr>\n",
              "      <th>Name</th>\n",
              "      <td>0</td>\n",
              "      <td>0.000000</td>\n",
              "    </tr>\n",
              "    <tr>\n",
              "      <th>Sex</th>\n",
              "      <td>0</td>\n",
              "      <td>0.000000</td>\n",
              "    </tr>\n",
              "    <tr>\n",
              "      <th>SibSp</th>\n",
              "      <td>0</td>\n",
              "      <td>0.000000</td>\n",
              "    </tr>\n",
              "    <tr>\n",
              "      <th>Parch</th>\n",
              "      <td>0</td>\n",
              "      <td>0.000000</td>\n",
              "    </tr>\n",
              "    <tr>\n",
              "      <th>Ticket</th>\n",
              "      <td>0</td>\n",
              "      <td>0.000000</td>\n",
              "    </tr>\n",
              "    <tr>\n",
              "      <th>Fare</th>\n",
              "      <td>0</td>\n",
              "      <td>0.000000</td>\n",
              "    </tr>\n",
              "  </tbody>\n",
              "</table>\n",
              "</div>\n",
              "      <button class=\"colab-df-convert\" onclick=\"convertToInteractive('df-bf042681-dfa6-4dcc-a979-b463ba79c2bd')\"\n",
              "              title=\"Convert this dataframe to an interactive table.\"\n",
              "              style=\"display:none;\">\n",
              "        \n",
              "  <svg xmlns=\"http://www.w3.org/2000/svg\" height=\"24px\"viewBox=\"0 0 24 24\"\n",
              "       width=\"24px\">\n",
              "    <path d=\"M0 0h24v24H0V0z\" fill=\"none\"/>\n",
              "    <path d=\"M18.56 5.44l.94 2.06.94-2.06 2.06-.94-2.06-.94-.94-2.06-.94 2.06-2.06.94zm-11 1L8.5 8.5l.94-2.06 2.06-.94-2.06-.94L8.5 2.5l-.94 2.06-2.06.94zm10 10l.94 2.06.94-2.06 2.06-.94-2.06-.94-.94-2.06-.94 2.06-2.06.94z\"/><path d=\"M17.41 7.96l-1.37-1.37c-.4-.4-.92-.59-1.43-.59-.52 0-1.04.2-1.43.59L10.3 9.45l-7.72 7.72c-.78.78-.78 2.05 0 2.83L4 21.41c.39.39.9.59 1.41.59.51 0 1.02-.2 1.41-.59l7.78-7.78 2.81-2.81c.8-.78.8-2.07 0-2.86zM5.41 20L4 18.59l7.72-7.72 1.47 1.35L5.41 20z\"/>\n",
              "  </svg>\n",
              "      </button>\n",
              "      \n",
              "  <style>\n",
              "    .colab-df-container {\n",
              "      display:flex;\n",
              "      flex-wrap:wrap;\n",
              "      gap: 12px;\n",
              "    }\n",
              "\n",
              "    .colab-df-convert {\n",
              "      background-color: #E8F0FE;\n",
              "      border: none;\n",
              "      border-radius: 50%;\n",
              "      cursor: pointer;\n",
              "      display: none;\n",
              "      fill: #1967D2;\n",
              "      height: 32px;\n",
              "      padding: 0 0 0 0;\n",
              "      width: 32px;\n",
              "    }\n",
              "\n",
              "    .colab-df-convert:hover {\n",
              "      background-color: #E2EBFA;\n",
              "      box-shadow: 0px 1px 2px rgba(60, 64, 67, 0.3), 0px 1px 3px 1px rgba(60, 64, 67, 0.15);\n",
              "      fill: #174EA6;\n",
              "    }\n",
              "\n",
              "    [theme=dark] .colab-df-convert {\n",
              "      background-color: #3B4455;\n",
              "      fill: #D2E3FC;\n",
              "    }\n",
              "\n",
              "    [theme=dark] .colab-df-convert:hover {\n",
              "      background-color: #434B5C;\n",
              "      box-shadow: 0px 1px 3px 1px rgba(0, 0, 0, 0.15);\n",
              "      filter: drop-shadow(0px 1px 2px rgba(0, 0, 0, 0.3));\n",
              "      fill: #FFFFFF;\n",
              "    }\n",
              "  </style>\n",
              "\n",
              "      <script>\n",
              "        const buttonEl =\n",
              "          document.querySelector('#df-bf042681-dfa6-4dcc-a979-b463ba79c2bd button.colab-df-convert');\n",
              "        buttonEl.style.display =\n",
              "          google.colab.kernel.accessAllowed ? 'block' : 'none';\n",
              "\n",
              "        async function convertToInteractive(key) {\n",
              "          const element = document.querySelector('#df-bf042681-dfa6-4dcc-a979-b463ba79c2bd');\n",
              "          const dataTable =\n",
              "            await google.colab.kernel.invokeFunction('convertToInteractive',\n",
              "                                                     [key], {});\n",
              "          if (!dataTable) return;\n",
              "\n",
              "          const docLinkHtml = 'Like what you see? Visit the ' +\n",
              "            '<a target=\"_blank\" href=https://colab.research.google.com/notebooks/data_table.ipynb>data table notebook</a>'\n",
              "            + ' to learn more about interactive tables.';\n",
              "          element.innerHTML = '';\n",
              "          dataTable['output_type'] = 'display_data';\n",
              "          await google.colab.output.renderOutput(dataTable, element);\n",
              "          const docLink = document.createElement('div');\n",
              "          docLink.innerHTML = docLinkHtml;\n",
              "          element.appendChild(docLink);\n",
              "        }\n",
              "      </script>\n",
              "    </div>\n",
              "  </div>\n",
              "  "
            ]
          },
          "metadata": {},
          "execution_count": 16
        }
      ],
      "source": [
        "# Lest first check for missing values in our dataset, visualizing the percentage \n",
        "# of NaN in each variable. \n",
        "\n",
        "total = df.isnull().sum().sort_values(ascending=False)\n",
        "percent = (df.isnull().sum()/df.isnull().count()*100).sort_values(ascending=False)\n",
        "missing_data = pd.concat([total, percent], axis=1, keys=['Total', 'Percent'])\n",
        "missing_data.head(20)"
      ]
    },
    {
      "cell_type": "code",
      "execution_count": null,
      "metadata": {
        "id": "bM8GdbkJZOws",
        "colab": {
          "base_uri": "https://localhost:8080/",
          "height": 424
        },
        "outputId": "aa74c138-79a2-426c-fb93-1ae0e3764d5c"
      },
      "outputs": [
        {
          "output_type": "execute_result",
          "data": {
            "text/plain": [
              "     Pclass   Name    Sex    Age  SibSp  Parch  Ticket   Fare  Cabin  Embarked\n",
              "192   False  False  False  False  False  False   False  False   True     False\n",
              "191   False  False  False  False  False  False   False  False   True     False\n",
              "714   False  False  False  False  False  False   False  False   True     False\n",
              "532   False  False  False  False  False  False   False  False   True     False\n",
              "132   False  False  False  False  False  False   False  False   True     False\n",
              "..      ...    ...    ...    ...    ...    ...     ...    ...    ...       ...\n",
              "347   False  False  False   True  False  False   False  False   True     False\n",
              "218   False  False  False  False  False  False   False  False  False     False\n",
              "239   False  False  False  False  False  False   False  False   True     False\n",
              "491   False  False  False  False  False  False   False  False   True     False\n",
              "872   False  False  False  False  False  False   False  False  False     False\n",
              "\n",
              "[891 rows x 10 columns]"
            ],
            "text/html": [
              "\n",
              "  <div id=\"df-1070dd4e-b5c9-4f4c-9393-5617ec41fdba\">\n",
              "    <div class=\"colab-df-container\">\n",
              "      <div>\n",
              "<style scoped>\n",
              "    .dataframe tbody tr th:only-of-type {\n",
              "        vertical-align: middle;\n",
              "    }\n",
              "\n",
              "    .dataframe tbody tr th {\n",
              "        vertical-align: top;\n",
              "    }\n",
              "\n",
              "    .dataframe thead th {\n",
              "        text-align: right;\n",
              "    }\n",
              "</style>\n",
              "<table border=\"1\" class=\"dataframe\">\n",
              "  <thead>\n",
              "    <tr style=\"text-align: right;\">\n",
              "      <th></th>\n",
              "      <th>Pclass</th>\n",
              "      <th>Name</th>\n",
              "      <th>Sex</th>\n",
              "      <th>Age</th>\n",
              "      <th>SibSp</th>\n",
              "      <th>Parch</th>\n",
              "      <th>Ticket</th>\n",
              "      <th>Fare</th>\n",
              "      <th>Cabin</th>\n",
              "      <th>Embarked</th>\n",
              "    </tr>\n",
              "  </thead>\n",
              "  <tbody>\n",
              "    <tr>\n",
              "      <th>192</th>\n",
              "      <td>False</td>\n",
              "      <td>False</td>\n",
              "      <td>False</td>\n",
              "      <td>False</td>\n",
              "      <td>False</td>\n",
              "      <td>False</td>\n",
              "      <td>False</td>\n",
              "      <td>False</td>\n",
              "      <td>True</td>\n",
              "      <td>False</td>\n",
              "    </tr>\n",
              "    <tr>\n",
              "      <th>191</th>\n",
              "      <td>False</td>\n",
              "      <td>False</td>\n",
              "      <td>False</td>\n",
              "      <td>False</td>\n",
              "      <td>False</td>\n",
              "      <td>False</td>\n",
              "      <td>False</td>\n",
              "      <td>False</td>\n",
              "      <td>True</td>\n",
              "      <td>False</td>\n",
              "    </tr>\n",
              "    <tr>\n",
              "      <th>714</th>\n",
              "      <td>False</td>\n",
              "      <td>False</td>\n",
              "      <td>False</td>\n",
              "      <td>False</td>\n",
              "      <td>False</td>\n",
              "      <td>False</td>\n",
              "      <td>False</td>\n",
              "      <td>False</td>\n",
              "      <td>True</td>\n",
              "      <td>False</td>\n",
              "    </tr>\n",
              "    <tr>\n",
              "      <th>532</th>\n",
              "      <td>False</td>\n",
              "      <td>False</td>\n",
              "      <td>False</td>\n",
              "      <td>False</td>\n",
              "      <td>False</td>\n",
              "      <td>False</td>\n",
              "      <td>False</td>\n",
              "      <td>False</td>\n",
              "      <td>True</td>\n",
              "      <td>False</td>\n",
              "    </tr>\n",
              "    <tr>\n",
              "      <th>132</th>\n",
              "      <td>False</td>\n",
              "      <td>False</td>\n",
              "      <td>False</td>\n",
              "      <td>False</td>\n",
              "      <td>False</td>\n",
              "      <td>False</td>\n",
              "      <td>False</td>\n",
              "      <td>False</td>\n",
              "      <td>True</td>\n",
              "      <td>False</td>\n",
              "    </tr>\n",
              "    <tr>\n",
              "      <th>...</th>\n",
              "      <td>...</td>\n",
              "      <td>...</td>\n",
              "      <td>...</td>\n",
              "      <td>...</td>\n",
              "      <td>...</td>\n",
              "      <td>...</td>\n",
              "      <td>...</td>\n",
              "      <td>...</td>\n",
              "      <td>...</td>\n",
              "      <td>...</td>\n",
              "    </tr>\n",
              "    <tr>\n",
              "      <th>347</th>\n",
              "      <td>False</td>\n",
              "      <td>False</td>\n",
              "      <td>False</td>\n",
              "      <td>True</td>\n",
              "      <td>False</td>\n",
              "      <td>False</td>\n",
              "      <td>False</td>\n",
              "      <td>False</td>\n",
              "      <td>True</td>\n",
              "      <td>False</td>\n",
              "    </tr>\n",
              "    <tr>\n",
              "      <th>218</th>\n",
              "      <td>False</td>\n",
              "      <td>False</td>\n",
              "      <td>False</td>\n",
              "      <td>False</td>\n",
              "      <td>False</td>\n",
              "      <td>False</td>\n",
              "      <td>False</td>\n",
              "      <td>False</td>\n",
              "      <td>False</td>\n",
              "      <td>False</td>\n",
              "    </tr>\n",
              "    <tr>\n",
              "      <th>239</th>\n",
              "      <td>False</td>\n",
              "      <td>False</td>\n",
              "      <td>False</td>\n",
              "      <td>False</td>\n",
              "      <td>False</td>\n",
              "      <td>False</td>\n",
              "      <td>False</td>\n",
              "      <td>False</td>\n",
              "      <td>True</td>\n",
              "      <td>False</td>\n",
              "    </tr>\n",
              "    <tr>\n",
              "      <th>491</th>\n",
              "      <td>False</td>\n",
              "      <td>False</td>\n",
              "      <td>False</td>\n",
              "      <td>False</td>\n",
              "      <td>False</td>\n",
              "      <td>False</td>\n",
              "      <td>False</td>\n",
              "      <td>False</td>\n",
              "      <td>True</td>\n",
              "      <td>False</td>\n",
              "    </tr>\n",
              "    <tr>\n",
              "      <th>872</th>\n",
              "      <td>False</td>\n",
              "      <td>False</td>\n",
              "      <td>False</td>\n",
              "      <td>False</td>\n",
              "      <td>False</td>\n",
              "      <td>False</td>\n",
              "      <td>False</td>\n",
              "      <td>False</td>\n",
              "      <td>False</td>\n",
              "      <td>False</td>\n",
              "    </tr>\n",
              "  </tbody>\n",
              "</table>\n",
              "<p>891 rows × 10 columns</p>\n",
              "</div>\n",
              "      <button class=\"colab-df-convert\" onclick=\"convertToInteractive('df-1070dd4e-b5c9-4f4c-9393-5617ec41fdba')\"\n",
              "              title=\"Convert this dataframe to an interactive table.\"\n",
              "              style=\"display:none;\">\n",
              "        \n",
              "  <svg xmlns=\"http://www.w3.org/2000/svg\" height=\"24px\"viewBox=\"0 0 24 24\"\n",
              "       width=\"24px\">\n",
              "    <path d=\"M0 0h24v24H0V0z\" fill=\"none\"/>\n",
              "    <path d=\"M18.56 5.44l.94 2.06.94-2.06 2.06-.94-2.06-.94-.94-2.06-.94 2.06-2.06.94zm-11 1L8.5 8.5l.94-2.06 2.06-.94-2.06-.94L8.5 2.5l-.94 2.06-2.06.94zm10 10l.94 2.06.94-2.06 2.06-.94-2.06-.94-.94-2.06-.94 2.06-2.06.94z\"/><path d=\"M17.41 7.96l-1.37-1.37c-.4-.4-.92-.59-1.43-.59-.52 0-1.04.2-1.43.59L10.3 9.45l-7.72 7.72c-.78.78-.78 2.05 0 2.83L4 21.41c.39.39.9.59 1.41.59.51 0 1.02-.2 1.41-.59l7.78-7.78 2.81-2.81c.8-.78.8-2.07 0-2.86zM5.41 20L4 18.59l7.72-7.72 1.47 1.35L5.41 20z\"/>\n",
              "  </svg>\n",
              "      </button>\n",
              "      \n",
              "  <style>\n",
              "    .colab-df-container {\n",
              "      display:flex;\n",
              "      flex-wrap:wrap;\n",
              "      gap: 12px;\n",
              "    }\n",
              "\n",
              "    .colab-df-convert {\n",
              "      background-color: #E8F0FE;\n",
              "      border: none;\n",
              "      border-radius: 50%;\n",
              "      cursor: pointer;\n",
              "      display: none;\n",
              "      fill: #1967D2;\n",
              "      height: 32px;\n",
              "      padding: 0 0 0 0;\n",
              "      width: 32px;\n",
              "    }\n",
              "\n",
              "    .colab-df-convert:hover {\n",
              "      background-color: #E2EBFA;\n",
              "      box-shadow: 0px 1px 2px rgba(60, 64, 67, 0.3), 0px 1px 3px 1px rgba(60, 64, 67, 0.15);\n",
              "      fill: #174EA6;\n",
              "    }\n",
              "\n",
              "    [theme=dark] .colab-df-convert {\n",
              "      background-color: #3B4455;\n",
              "      fill: #D2E3FC;\n",
              "    }\n",
              "\n",
              "    [theme=dark] .colab-df-convert:hover {\n",
              "      background-color: #434B5C;\n",
              "      box-shadow: 0px 1px 3px 1px rgba(0, 0, 0, 0.15);\n",
              "      filter: drop-shadow(0px 1px 2px rgba(0, 0, 0, 0.3));\n",
              "      fill: #FFFFFF;\n",
              "    }\n",
              "  </style>\n",
              "\n",
              "      <script>\n",
              "        const buttonEl =\n",
              "          document.querySelector('#df-1070dd4e-b5c9-4f4c-9393-5617ec41fdba button.colab-df-convert');\n",
              "        buttonEl.style.display =\n",
              "          google.colab.kernel.accessAllowed ? 'block' : 'none';\n",
              "\n",
              "        async function convertToInteractive(key) {\n",
              "          const element = document.querySelector('#df-1070dd4e-b5c9-4f4c-9393-5617ec41fdba');\n",
              "          const dataTable =\n",
              "            await google.colab.kernel.invokeFunction('convertToInteractive',\n",
              "                                                     [key], {});\n",
              "          if (!dataTable) return;\n",
              "\n",
              "          const docLinkHtml = 'Like what you see? Visit the ' +\n",
              "            '<a target=\"_blank\" href=https://colab.research.google.com/notebooks/data_table.ipynb>data table notebook</a>'\n",
              "            + ' to learn more about interactive tables.';\n",
              "          element.innerHTML = '';\n",
              "          dataTable['output_type'] = 'display_data';\n",
              "          await google.colab.output.renderOutput(dataTable, element);\n",
              "          const docLink = document.createElement('div');\n",
              "          docLink.innerHTML = docLinkHtml;\n",
              "          element.appendChild(docLink);\n",
              "        }\n",
              "      </script>\n",
              "    </div>\n",
              "  </div>\n",
              "  "
            ]
          },
          "metadata": {},
          "execution_count": 17
        }
      ],
      "source": [
        "df.isnull()"
      ]
    },
    {
      "cell_type": "markdown",
      "metadata": {
        "id": "ecPJZeQL-Vc_"
      },
      "source": [
        "Checking missing values by survival"
      ]
    },
    {
      "cell_type": "code",
      "execution_count": null,
      "metadata": {
        "id": "Xf_WoQGr-Otz"
      },
      "outputs": [],
      "source": [
        "# This code is from our previous version where we would check for missing \n",
        "# values in Survived. However, when concating the data the dependent variable\n",
        "# must be excluded and thus this code does not run anymore. \n",
        "\n",
        "# train_df.set_index('Survived').isna().groupby(level=0).sum()\n",
        "\n",
        "# fazer essa visu depois!"
      ]
    },
    {
      "cell_type": "markdown",
      "metadata": {
        "id": "I0oUT8VKRQ58"
      },
      "source": [
        "## Variable Cabin \n",
        "\n",
        "Here we will do all the necessary transformations in the variable Cabin."
      ]
    },
    {
      "cell_type": "code",
      "execution_count": null,
      "metadata": {
        "id": "RpHQz1iAGwB9",
        "colab": {
          "base_uri": "https://localhost:8080/"
        },
        "outputId": "ef151b9e-1e98-4d37-aafc-a629b074224d"
      },
      "outputs": [
        {
          "output_type": "execute_result",
          "data": {
            "text/plain": [
              "array(['No Cabin', 'C87', 'B94', 'A34', 'D48', 'D20', 'B20', 'C118',\n",
              "       'B41', 'C49', 'C7', 'B22', 'B69', 'T', 'F2', 'B57 B59 B63 B66',\n",
              "       'C52', 'A5', 'F4', 'B42', 'C83', 'C123', 'E25', 'D33', 'C82',\n",
              "       'D35', 'E8', 'F G73', 'C23 C25 C27', 'C65', 'E68', 'B96 B98',\n",
              "       'B71', 'D17', 'A6', 'D', 'E67', 'C22 C26', 'E17', 'G6', 'E34',\n",
              "       'B3', 'E44', 'A36', 'D11', 'C86', 'C101', 'B78', 'A19', 'A7',\n",
              "       'C78', 'E33', 'A24', 'B19', 'C54', 'E58', 'F G63', 'B49',\n",
              "       'B58 B60', 'B5', 'E50', 'B18', 'E10', 'D47', 'B4', 'E40', 'D26',\n",
              "       'C125', 'D6', 'D7', 'B86', 'E101', 'C95', 'E24', 'B51 B53 B55',\n",
              "       'B101', 'B73', 'B35', 'B102', 'B38', 'C103', 'C106', 'B39', 'C126',\n",
              "       'C85', 'C99', 'C68', 'C124', 'A14', 'B82 B84', 'C92', 'A20', 'C91',\n",
              "       'C93', 'A26', 'C90', 'E12', 'D36', 'E38', 'E36', 'C47', 'D56',\n",
              "       'C46', 'F33', 'B77', 'E31', 'C2', 'A10', 'B80', 'E77', 'C70',\n",
              "       'E63', 'C32', 'E46', 'E121', 'D37', 'A32', 'D9', 'C50', 'D49',\n",
              "       'A23', 'B28', 'C30', 'C110', 'D46', 'C104', 'D28', 'D19',\n",
              "       'D10 D12', 'D50', 'C148', 'A16', 'C111', 'A31', 'B79', 'B30',\n",
              "       'F38', 'D45', 'E49', 'C62 C64', 'B50', 'D21', 'C45', 'D30', 'C128',\n",
              "       'B37', 'F E69', 'D15'], dtype=object)"
            ]
          },
          "metadata": {},
          "execution_count": 19
        }
      ],
      "source": [
        "df['Cabin'].fillna('No Cabin', inplace = True)\n",
        "df['Cabin'].unique()"
      ]
    },
    {
      "cell_type": "code",
      "execution_count": null,
      "metadata": {
        "id": "122IvpWSdbrf"
      },
      "outputs": [],
      "source": [
        "# Para investigar as diferenças entre NaN em Age e Cabin \n",
        "\n",
        "# Começamos criando uma coluna que indica se o valor é missing value ou não\n",
        "\n",
        "# Vamos começar criando uma para Cabin:\n",
        "\n",
        "#df2['Cabin'] =  np.where(\n",
        "    #df2['Cabin'] > upper_limit,\n",
        "        #upper_limit,\n",
        "        #np.where(\n",
        "            #df2['SibSp'] < lower_limit, # Condition\n",
        "            #lower_limit,                   # Assign If TRUE\n",
        "            #df2['SibSp']                # Assign If FALSE\n",
        "#   )\n",
        "#      )\n",
        "\n",
        "#sos = pd.cut(df2.Cabin, bins=[], labels=[\"Missing\", \"Toddler\",\"Child\",\"Adult\",\"Elderly\"])\n",
        "#df2.insert(5,'age_group', category)\n",
        "\n",
        "dummy_cabin =  np.where(df['Cabin']!= \"No Cabin\" , 1, 0)\n",
        "df.insert(5,'Dummy_Cabin', dummy_cabin)\n"
      ]
    },
    {
      "cell_type": "code",
      "execution_count": null,
      "metadata": {
        "id": "AFX6hoTpf5Wi",
        "colab": {
          "base_uri": "https://localhost:8080/",
          "height": 424
        },
        "outputId": "dd7eb00c-32e0-4fea-ec01-e7821b1843b6"
      },
      "outputs": [
        {
          "output_type": "execute_result",
          "data": {
            "text/plain": [
              "     Pclass                                             Name     Sex   Age  \\\n",
              "192       3  Andersen-Jensen, Miss. Carla Christine Nielsine  female  19.0   \n",
              "191       2                            Carbines, Mr. William    male  19.0   \n",
              "714       2                            Greenberg, Mr. Samuel    male  52.0   \n",
              "532       3                             Elias, Mr. Joseph Jr    male  17.0   \n",
              "132       3   Robins, Mrs. Alexander A (Grace Charity Laury)  female  47.0   \n",
              "..      ...                                              ...     ...   ...   \n",
              "347       3        Davison, Mrs. Thomas Henry (Mary E Finck)  female   NaN   \n",
              "218       1                            Bazzani, Miss. Albina  female  32.0   \n",
              "239       2                           Hunt, Mr. George Henry    male  33.0   \n",
              "491       3                              Windelov, Mr. Einar    male  21.0   \n",
              "872       1                         Carlsson, Mr. Frans Olof    male  33.0   \n",
              "\n",
              "     SibSp  Dummy_Cabin  Parch            Ticket     Fare        Cabin  \\\n",
              "192      1            0      0            350046   7.8542     No Cabin   \n",
              "191      0            0      0             28424  13.0000     No Cabin   \n",
              "714      0            0      0            250647  13.0000     No Cabin   \n",
              "532      1            0      1              2690   7.2292     No Cabin   \n",
              "132      1            0      0         A/5. 3337  14.5000     No Cabin   \n",
              "..     ...          ...    ...               ...      ...          ...   \n",
              "347      1            0      0            386525  16.1000     No Cabin   \n",
              "218      0            1      0             11813  76.2917          D15   \n",
              "239      0            0      0        SCO/W 1585  12.2750     No Cabin   \n",
              "491      0            0      0  SOTON/OQ 3101317   7.2500     No Cabin   \n",
              "872      0            1      0               695   5.0000  B51 B53 B55   \n",
              "\n",
              "    Embarked  \n",
              "192        S  \n",
              "191        S  \n",
              "714        S  \n",
              "532        C  \n",
              "132        S  \n",
              "..       ...  \n",
              "347        S  \n",
              "218        C  \n",
              "239        S  \n",
              "491        S  \n",
              "872        S  \n",
              "\n",
              "[891 rows x 11 columns]"
            ],
            "text/html": [
              "\n",
              "  <div id=\"df-2430d752-a853-4776-a4c7-3d3a28d81bed\">\n",
              "    <div class=\"colab-df-container\">\n",
              "      <div>\n",
              "<style scoped>\n",
              "    .dataframe tbody tr th:only-of-type {\n",
              "        vertical-align: middle;\n",
              "    }\n",
              "\n",
              "    .dataframe tbody tr th {\n",
              "        vertical-align: top;\n",
              "    }\n",
              "\n",
              "    .dataframe thead th {\n",
              "        text-align: right;\n",
              "    }\n",
              "</style>\n",
              "<table border=\"1\" class=\"dataframe\">\n",
              "  <thead>\n",
              "    <tr style=\"text-align: right;\">\n",
              "      <th></th>\n",
              "      <th>Pclass</th>\n",
              "      <th>Name</th>\n",
              "      <th>Sex</th>\n",
              "      <th>Age</th>\n",
              "      <th>SibSp</th>\n",
              "      <th>Dummy_Cabin</th>\n",
              "      <th>Parch</th>\n",
              "      <th>Ticket</th>\n",
              "      <th>Fare</th>\n",
              "      <th>Cabin</th>\n",
              "      <th>Embarked</th>\n",
              "    </tr>\n",
              "  </thead>\n",
              "  <tbody>\n",
              "    <tr>\n",
              "      <th>192</th>\n",
              "      <td>3</td>\n",
              "      <td>Andersen-Jensen, Miss. Carla Christine Nielsine</td>\n",
              "      <td>female</td>\n",
              "      <td>19.0</td>\n",
              "      <td>1</td>\n",
              "      <td>0</td>\n",
              "      <td>0</td>\n",
              "      <td>350046</td>\n",
              "      <td>7.8542</td>\n",
              "      <td>No Cabin</td>\n",
              "      <td>S</td>\n",
              "    </tr>\n",
              "    <tr>\n",
              "      <th>191</th>\n",
              "      <td>2</td>\n",
              "      <td>Carbines, Mr. William</td>\n",
              "      <td>male</td>\n",
              "      <td>19.0</td>\n",
              "      <td>0</td>\n",
              "      <td>0</td>\n",
              "      <td>0</td>\n",
              "      <td>28424</td>\n",
              "      <td>13.0000</td>\n",
              "      <td>No Cabin</td>\n",
              "      <td>S</td>\n",
              "    </tr>\n",
              "    <tr>\n",
              "      <th>714</th>\n",
              "      <td>2</td>\n",
              "      <td>Greenberg, Mr. Samuel</td>\n",
              "      <td>male</td>\n",
              "      <td>52.0</td>\n",
              "      <td>0</td>\n",
              "      <td>0</td>\n",
              "      <td>0</td>\n",
              "      <td>250647</td>\n",
              "      <td>13.0000</td>\n",
              "      <td>No Cabin</td>\n",
              "      <td>S</td>\n",
              "    </tr>\n",
              "    <tr>\n",
              "      <th>532</th>\n",
              "      <td>3</td>\n",
              "      <td>Elias, Mr. Joseph Jr</td>\n",
              "      <td>male</td>\n",
              "      <td>17.0</td>\n",
              "      <td>1</td>\n",
              "      <td>0</td>\n",
              "      <td>1</td>\n",
              "      <td>2690</td>\n",
              "      <td>7.2292</td>\n",
              "      <td>No Cabin</td>\n",
              "      <td>C</td>\n",
              "    </tr>\n",
              "    <tr>\n",
              "      <th>132</th>\n",
              "      <td>3</td>\n",
              "      <td>Robins, Mrs. Alexander A (Grace Charity Laury)</td>\n",
              "      <td>female</td>\n",
              "      <td>47.0</td>\n",
              "      <td>1</td>\n",
              "      <td>0</td>\n",
              "      <td>0</td>\n",
              "      <td>A/5. 3337</td>\n",
              "      <td>14.5000</td>\n",
              "      <td>No Cabin</td>\n",
              "      <td>S</td>\n",
              "    </tr>\n",
              "    <tr>\n",
              "      <th>...</th>\n",
              "      <td>...</td>\n",
              "      <td>...</td>\n",
              "      <td>...</td>\n",
              "      <td>...</td>\n",
              "      <td>...</td>\n",
              "      <td>...</td>\n",
              "      <td>...</td>\n",
              "      <td>...</td>\n",
              "      <td>...</td>\n",
              "      <td>...</td>\n",
              "      <td>...</td>\n",
              "    </tr>\n",
              "    <tr>\n",
              "      <th>347</th>\n",
              "      <td>3</td>\n",
              "      <td>Davison, Mrs. Thomas Henry (Mary E Finck)</td>\n",
              "      <td>female</td>\n",
              "      <td>NaN</td>\n",
              "      <td>1</td>\n",
              "      <td>0</td>\n",
              "      <td>0</td>\n",
              "      <td>386525</td>\n",
              "      <td>16.1000</td>\n",
              "      <td>No Cabin</td>\n",
              "      <td>S</td>\n",
              "    </tr>\n",
              "    <tr>\n",
              "      <th>218</th>\n",
              "      <td>1</td>\n",
              "      <td>Bazzani, Miss. Albina</td>\n",
              "      <td>female</td>\n",
              "      <td>32.0</td>\n",
              "      <td>0</td>\n",
              "      <td>1</td>\n",
              "      <td>0</td>\n",
              "      <td>11813</td>\n",
              "      <td>76.2917</td>\n",
              "      <td>D15</td>\n",
              "      <td>C</td>\n",
              "    </tr>\n",
              "    <tr>\n",
              "      <th>239</th>\n",
              "      <td>2</td>\n",
              "      <td>Hunt, Mr. George Henry</td>\n",
              "      <td>male</td>\n",
              "      <td>33.0</td>\n",
              "      <td>0</td>\n",
              "      <td>0</td>\n",
              "      <td>0</td>\n",
              "      <td>SCO/W 1585</td>\n",
              "      <td>12.2750</td>\n",
              "      <td>No Cabin</td>\n",
              "      <td>S</td>\n",
              "    </tr>\n",
              "    <tr>\n",
              "      <th>491</th>\n",
              "      <td>3</td>\n",
              "      <td>Windelov, Mr. Einar</td>\n",
              "      <td>male</td>\n",
              "      <td>21.0</td>\n",
              "      <td>0</td>\n",
              "      <td>0</td>\n",
              "      <td>0</td>\n",
              "      <td>SOTON/OQ 3101317</td>\n",
              "      <td>7.2500</td>\n",
              "      <td>No Cabin</td>\n",
              "      <td>S</td>\n",
              "    </tr>\n",
              "    <tr>\n",
              "      <th>872</th>\n",
              "      <td>1</td>\n",
              "      <td>Carlsson, Mr. Frans Olof</td>\n",
              "      <td>male</td>\n",
              "      <td>33.0</td>\n",
              "      <td>0</td>\n",
              "      <td>1</td>\n",
              "      <td>0</td>\n",
              "      <td>695</td>\n",
              "      <td>5.0000</td>\n",
              "      <td>B51 B53 B55</td>\n",
              "      <td>S</td>\n",
              "    </tr>\n",
              "  </tbody>\n",
              "</table>\n",
              "<p>891 rows × 11 columns</p>\n",
              "</div>\n",
              "      <button class=\"colab-df-convert\" onclick=\"convertToInteractive('df-2430d752-a853-4776-a4c7-3d3a28d81bed')\"\n",
              "              title=\"Convert this dataframe to an interactive table.\"\n",
              "              style=\"display:none;\">\n",
              "        \n",
              "  <svg xmlns=\"http://www.w3.org/2000/svg\" height=\"24px\"viewBox=\"0 0 24 24\"\n",
              "       width=\"24px\">\n",
              "    <path d=\"M0 0h24v24H0V0z\" fill=\"none\"/>\n",
              "    <path d=\"M18.56 5.44l.94 2.06.94-2.06 2.06-.94-2.06-.94-.94-2.06-.94 2.06-2.06.94zm-11 1L8.5 8.5l.94-2.06 2.06-.94-2.06-.94L8.5 2.5l-.94 2.06-2.06.94zm10 10l.94 2.06.94-2.06 2.06-.94-2.06-.94-.94-2.06-.94 2.06-2.06.94z\"/><path d=\"M17.41 7.96l-1.37-1.37c-.4-.4-.92-.59-1.43-.59-.52 0-1.04.2-1.43.59L10.3 9.45l-7.72 7.72c-.78.78-.78 2.05 0 2.83L4 21.41c.39.39.9.59 1.41.59.51 0 1.02-.2 1.41-.59l7.78-7.78 2.81-2.81c.8-.78.8-2.07 0-2.86zM5.41 20L4 18.59l7.72-7.72 1.47 1.35L5.41 20z\"/>\n",
              "  </svg>\n",
              "      </button>\n",
              "      \n",
              "  <style>\n",
              "    .colab-df-container {\n",
              "      display:flex;\n",
              "      flex-wrap:wrap;\n",
              "      gap: 12px;\n",
              "    }\n",
              "\n",
              "    .colab-df-convert {\n",
              "      background-color: #E8F0FE;\n",
              "      border: none;\n",
              "      border-radius: 50%;\n",
              "      cursor: pointer;\n",
              "      display: none;\n",
              "      fill: #1967D2;\n",
              "      height: 32px;\n",
              "      padding: 0 0 0 0;\n",
              "      width: 32px;\n",
              "    }\n",
              "\n",
              "    .colab-df-convert:hover {\n",
              "      background-color: #E2EBFA;\n",
              "      box-shadow: 0px 1px 2px rgba(60, 64, 67, 0.3), 0px 1px 3px 1px rgba(60, 64, 67, 0.15);\n",
              "      fill: #174EA6;\n",
              "    }\n",
              "\n",
              "    [theme=dark] .colab-df-convert {\n",
              "      background-color: #3B4455;\n",
              "      fill: #D2E3FC;\n",
              "    }\n",
              "\n",
              "    [theme=dark] .colab-df-convert:hover {\n",
              "      background-color: #434B5C;\n",
              "      box-shadow: 0px 1px 3px 1px rgba(0, 0, 0, 0.15);\n",
              "      filter: drop-shadow(0px 1px 2px rgba(0, 0, 0, 0.3));\n",
              "      fill: #FFFFFF;\n",
              "    }\n",
              "  </style>\n",
              "\n",
              "      <script>\n",
              "        const buttonEl =\n",
              "          document.querySelector('#df-2430d752-a853-4776-a4c7-3d3a28d81bed button.colab-df-convert');\n",
              "        buttonEl.style.display =\n",
              "          google.colab.kernel.accessAllowed ? 'block' : 'none';\n",
              "\n",
              "        async function convertToInteractive(key) {\n",
              "          const element = document.querySelector('#df-2430d752-a853-4776-a4c7-3d3a28d81bed');\n",
              "          const dataTable =\n",
              "            await google.colab.kernel.invokeFunction('convertToInteractive',\n",
              "                                                     [key], {});\n",
              "          if (!dataTable) return;\n",
              "\n",
              "          const docLinkHtml = 'Like what you see? Visit the ' +\n",
              "            '<a target=\"_blank\" href=https://colab.research.google.com/notebooks/data_table.ipynb>data table notebook</a>'\n",
              "            + ' to learn more about interactive tables.';\n",
              "          element.innerHTML = '';\n",
              "          dataTable['output_type'] = 'display_data';\n",
              "          await google.colab.output.renderOutput(dataTable, element);\n",
              "          const docLink = document.createElement('div');\n",
              "          docLink.innerHTML = docLinkHtml;\n",
              "          element.appendChild(docLink);\n",
              "        }\n",
              "      </script>\n",
              "    </div>\n",
              "  </div>\n",
              "  "
            ]
          },
          "metadata": {},
          "execution_count": 21
        }
      ],
      "source": [
        "df"
      ]
    },
    {
      "cell_type": "code",
      "execution_count": null,
      "metadata": {
        "id": "xY-PWoGqYWOj"
      },
      "outputs": [],
      "source": [
        "# https://stackoverflow.com/questions/51502263/pandas-dataframe-object-has-no-attribute-str\n",
        "\n",
        "Cabin_Digit = df['Cabin'].str[0]\n",
        "df.insert(5,'Cabin_Digit', Cabin_Digit)"
      ]
    },
    {
      "cell_type": "code",
      "execution_count": null,
      "metadata": {
        "id": "fNzsU1dJHKJR",
        "colab": {
          "base_uri": "https://localhost:8080/",
          "height": 206
        },
        "outputId": "a27ef8f7-31c6-45ec-8186-f3cba325285c"
      },
      "outputs": [
        {
          "output_type": "execute_result",
          "data": {
            "text/plain": [
              "     Pclass                                             Name     Sex   Age  \\\n",
              "192       3  Andersen-Jensen, Miss. Carla Christine Nielsine  female  19.0   \n",
              "191       2                            Carbines, Mr. William    male  19.0   \n",
              "714       2                            Greenberg, Mr. Samuel    male  52.0   \n",
              "532       3                             Elias, Mr. Joseph Jr    male  17.0   \n",
              "132       3   Robins, Mrs. Alexander A (Grace Charity Laury)  female  47.0   \n",
              "\n",
              "     SibSp Cabin_Digit  Dummy_Cabin  Parch     Ticket     Fare     Cabin  \\\n",
              "192      1           N            0      0     350046   7.8542  No Cabin   \n",
              "191      0           N            0      0      28424  13.0000  No Cabin   \n",
              "714      0           N            0      0     250647  13.0000  No Cabin   \n",
              "532      1           N            0      1       2690   7.2292  No Cabin   \n",
              "132      1           N            0      0  A/5. 3337  14.5000  No Cabin   \n",
              "\n",
              "    Embarked  \n",
              "192        S  \n",
              "191        S  \n",
              "714        S  \n",
              "532        C  \n",
              "132        S  "
            ],
            "text/html": [
              "\n",
              "  <div id=\"df-44e53450-6278-43d8-a7a3-c5ae917d52db\">\n",
              "    <div class=\"colab-df-container\">\n",
              "      <div>\n",
              "<style scoped>\n",
              "    .dataframe tbody tr th:only-of-type {\n",
              "        vertical-align: middle;\n",
              "    }\n",
              "\n",
              "    .dataframe tbody tr th {\n",
              "        vertical-align: top;\n",
              "    }\n",
              "\n",
              "    .dataframe thead th {\n",
              "        text-align: right;\n",
              "    }\n",
              "</style>\n",
              "<table border=\"1\" class=\"dataframe\">\n",
              "  <thead>\n",
              "    <tr style=\"text-align: right;\">\n",
              "      <th></th>\n",
              "      <th>Pclass</th>\n",
              "      <th>Name</th>\n",
              "      <th>Sex</th>\n",
              "      <th>Age</th>\n",
              "      <th>SibSp</th>\n",
              "      <th>Cabin_Digit</th>\n",
              "      <th>Dummy_Cabin</th>\n",
              "      <th>Parch</th>\n",
              "      <th>Ticket</th>\n",
              "      <th>Fare</th>\n",
              "      <th>Cabin</th>\n",
              "      <th>Embarked</th>\n",
              "    </tr>\n",
              "  </thead>\n",
              "  <tbody>\n",
              "    <tr>\n",
              "      <th>192</th>\n",
              "      <td>3</td>\n",
              "      <td>Andersen-Jensen, Miss. Carla Christine Nielsine</td>\n",
              "      <td>female</td>\n",
              "      <td>19.0</td>\n",
              "      <td>1</td>\n",
              "      <td>N</td>\n",
              "      <td>0</td>\n",
              "      <td>0</td>\n",
              "      <td>350046</td>\n",
              "      <td>7.8542</td>\n",
              "      <td>No Cabin</td>\n",
              "      <td>S</td>\n",
              "    </tr>\n",
              "    <tr>\n",
              "      <th>191</th>\n",
              "      <td>2</td>\n",
              "      <td>Carbines, Mr. William</td>\n",
              "      <td>male</td>\n",
              "      <td>19.0</td>\n",
              "      <td>0</td>\n",
              "      <td>N</td>\n",
              "      <td>0</td>\n",
              "      <td>0</td>\n",
              "      <td>28424</td>\n",
              "      <td>13.0000</td>\n",
              "      <td>No Cabin</td>\n",
              "      <td>S</td>\n",
              "    </tr>\n",
              "    <tr>\n",
              "      <th>714</th>\n",
              "      <td>2</td>\n",
              "      <td>Greenberg, Mr. Samuel</td>\n",
              "      <td>male</td>\n",
              "      <td>52.0</td>\n",
              "      <td>0</td>\n",
              "      <td>N</td>\n",
              "      <td>0</td>\n",
              "      <td>0</td>\n",
              "      <td>250647</td>\n",
              "      <td>13.0000</td>\n",
              "      <td>No Cabin</td>\n",
              "      <td>S</td>\n",
              "    </tr>\n",
              "    <tr>\n",
              "      <th>532</th>\n",
              "      <td>3</td>\n",
              "      <td>Elias, Mr. Joseph Jr</td>\n",
              "      <td>male</td>\n",
              "      <td>17.0</td>\n",
              "      <td>1</td>\n",
              "      <td>N</td>\n",
              "      <td>0</td>\n",
              "      <td>1</td>\n",
              "      <td>2690</td>\n",
              "      <td>7.2292</td>\n",
              "      <td>No Cabin</td>\n",
              "      <td>C</td>\n",
              "    </tr>\n",
              "    <tr>\n",
              "      <th>132</th>\n",
              "      <td>3</td>\n",
              "      <td>Robins, Mrs. Alexander A (Grace Charity Laury)</td>\n",
              "      <td>female</td>\n",
              "      <td>47.0</td>\n",
              "      <td>1</td>\n",
              "      <td>N</td>\n",
              "      <td>0</td>\n",
              "      <td>0</td>\n",
              "      <td>A/5. 3337</td>\n",
              "      <td>14.5000</td>\n",
              "      <td>No Cabin</td>\n",
              "      <td>S</td>\n",
              "    </tr>\n",
              "  </tbody>\n",
              "</table>\n",
              "</div>\n",
              "      <button class=\"colab-df-convert\" onclick=\"convertToInteractive('df-44e53450-6278-43d8-a7a3-c5ae917d52db')\"\n",
              "              title=\"Convert this dataframe to an interactive table.\"\n",
              "              style=\"display:none;\">\n",
              "        \n",
              "  <svg xmlns=\"http://www.w3.org/2000/svg\" height=\"24px\"viewBox=\"0 0 24 24\"\n",
              "       width=\"24px\">\n",
              "    <path d=\"M0 0h24v24H0V0z\" fill=\"none\"/>\n",
              "    <path d=\"M18.56 5.44l.94 2.06.94-2.06 2.06-.94-2.06-.94-.94-2.06-.94 2.06-2.06.94zm-11 1L8.5 8.5l.94-2.06 2.06-.94-2.06-.94L8.5 2.5l-.94 2.06-2.06.94zm10 10l.94 2.06.94-2.06 2.06-.94-2.06-.94-.94-2.06-.94 2.06-2.06.94z\"/><path d=\"M17.41 7.96l-1.37-1.37c-.4-.4-.92-.59-1.43-.59-.52 0-1.04.2-1.43.59L10.3 9.45l-7.72 7.72c-.78.78-.78 2.05 0 2.83L4 21.41c.39.39.9.59 1.41.59.51 0 1.02-.2 1.41-.59l7.78-7.78 2.81-2.81c.8-.78.8-2.07 0-2.86zM5.41 20L4 18.59l7.72-7.72 1.47 1.35L5.41 20z\"/>\n",
              "  </svg>\n",
              "      </button>\n",
              "      \n",
              "  <style>\n",
              "    .colab-df-container {\n",
              "      display:flex;\n",
              "      flex-wrap:wrap;\n",
              "      gap: 12px;\n",
              "    }\n",
              "\n",
              "    .colab-df-convert {\n",
              "      background-color: #E8F0FE;\n",
              "      border: none;\n",
              "      border-radius: 50%;\n",
              "      cursor: pointer;\n",
              "      display: none;\n",
              "      fill: #1967D2;\n",
              "      height: 32px;\n",
              "      padding: 0 0 0 0;\n",
              "      width: 32px;\n",
              "    }\n",
              "\n",
              "    .colab-df-convert:hover {\n",
              "      background-color: #E2EBFA;\n",
              "      box-shadow: 0px 1px 2px rgba(60, 64, 67, 0.3), 0px 1px 3px 1px rgba(60, 64, 67, 0.15);\n",
              "      fill: #174EA6;\n",
              "    }\n",
              "\n",
              "    [theme=dark] .colab-df-convert {\n",
              "      background-color: #3B4455;\n",
              "      fill: #D2E3FC;\n",
              "    }\n",
              "\n",
              "    [theme=dark] .colab-df-convert:hover {\n",
              "      background-color: #434B5C;\n",
              "      box-shadow: 0px 1px 3px 1px rgba(0, 0, 0, 0.15);\n",
              "      filter: drop-shadow(0px 1px 2px rgba(0, 0, 0, 0.3));\n",
              "      fill: #FFFFFF;\n",
              "    }\n",
              "  </style>\n",
              "\n",
              "      <script>\n",
              "        const buttonEl =\n",
              "          document.querySelector('#df-44e53450-6278-43d8-a7a3-c5ae917d52db button.colab-df-convert');\n",
              "        buttonEl.style.display =\n",
              "          google.colab.kernel.accessAllowed ? 'block' : 'none';\n",
              "\n",
              "        async function convertToInteractive(key) {\n",
              "          const element = document.querySelector('#df-44e53450-6278-43d8-a7a3-c5ae917d52db');\n",
              "          const dataTable =\n",
              "            await google.colab.kernel.invokeFunction('convertToInteractive',\n",
              "                                                     [key], {});\n",
              "          if (!dataTable) return;\n",
              "\n",
              "          const docLinkHtml = 'Like what you see? Visit the ' +\n",
              "            '<a target=\"_blank\" href=https://colab.research.google.com/notebooks/data_table.ipynb>data table notebook</a>'\n",
              "            + ' to learn more about interactive tables.';\n",
              "          element.innerHTML = '';\n",
              "          dataTable['output_type'] = 'display_data';\n",
              "          await google.colab.output.renderOutput(dataTable, element);\n",
              "          const docLink = document.createElement('div');\n",
              "          docLink.innerHTML = docLinkHtml;\n",
              "          element.appendChild(docLink);\n",
              "        }\n",
              "      </script>\n",
              "    </div>\n",
              "  </div>\n",
              "  "
            ]
          },
          "metadata": {},
          "execution_count": 23
        }
      ],
      "source": [
        "df.head()"
      ]
    },
    {
      "cell_type": "code",
      "execution_count": null,
      "metadata": {
        "id": "vYG-3R3nZdMr",
        "colab": {
          "base_uri": "https://localhost:8080/"
        },
        "outputId": "224b1a9a-77b8-4269-b0f4-1281d7ee0066"
      },
      "outputs": [
        {
          "output_type": "execute_result",
          "data": {
            "text/plain": [
              "array(['N', 'C', 'B', 'A', 'D', 'T', 'F', 'E', 'G'], dtype=object)"
            ]
          },
          "metadata": {},
          "execution_count": 24
        }
      ],
      "source": [
        "df['Cabin_Digit'].unique()"
      ]
    },
    {
      "cell_type": "code",
      "execution_count": null,
      "metadata": {
        "id": "DWURAy5UZimk",
        "colab": {
          "base_uri": "https://localhost:8080/",
          "height": 424
        },
        "outputId": "782457a0-b145-4442-99a8-dae97cf929c5"
      },
      "outputs": [
        {
          "output_type": "execute_result",
          "data": {
            "text/plain": [
              "     Pclass                                             Name     Sex   Age  \\\n",
              "192       3  Andersen-Jensen, Miss. Carla Christine Nielsine  female  19.0   \n",
              "191       2                            Carbines, Mr. William    male  19.0   \n",
              "714       2                            Greenberg, Mr. Samuel    male  52.0   \n",
              "532       3                             Elias, Mr. Joseph Jr    male  17.0   \n",
              "132       3   Robins, Mrs. Alexander A (Grace Charity Laury)  female  47.0   \n",
              "..      ...                                              ...     ...   ...   \n",
              "347       3        Davison, Mrs. Thomas Henry (Mary E Finck)  female   NaN   \n",
              "218       1                            Bazzani, Miss. Albina  female  32.0   \n",
              "239       2                           Hunt, Mr. George Henry    male  33.0   \n",
              "491       3                              Windelov, Mr. Einar    male  21.0   \n",
              "872       1                         Carlsson, Mr. Frans Olof    male  33.0   \n",
              "\n",
              "     SibSp  Cabin_Digit  Dummy_Cabin  Parch            Ticket     Fare  \\\n",
              "192      1           -1            0      0            350046   7.8542   \n",
              "191      0           -1            0      0             28424  13.0000   \n",
              "714      0           -1            0      0            250647  13.0000   \n",
              "532      1           -1            0      1              2690   7.2292   \n",
              "132      1           -1            0      0         A/5. 3337  14.5000   \n",
              "..     ...          ...          ...    ...               ...      ...   \n",
              "347      1           -1            0      0            386525  16.1000   \n",
              "218      0            4            1      0             11813  76.2917   \n",
              "239      0           -1            0      0        SCO/W 1585  12.2750   \n",
              "491      0           -1            0      0  SOTON/OQ 3101317   7.2500   \n",
              "872      0            6            1      0               695   5.0000   \n",
              "\n",
              "           Cabin Embarked  \n",
              "192     No Cabin        S  \n",
              "191     No Cabin        S  \n",
              "714     No Cabin        S  \n",
              "532     No Cabin        C  \n",
              "132     No Cabin        S  \n",
              "..           ...      ...  \n",
              "347     No Cabin        S  \n",
              "218          D15        C  \n",
              "239     No Cabin        S  \n",
              "491     No Cabin        S  \n",
              "872  B51 B53 B55        S  \n",
              "\n",
              "[891 rows x 12 columns]"
            ],
            "text/html": [
              "\n",
              "  <div id=\"df-c4f8f164-91ca-4e25-a56e-7fb74072899d\">\n",
              "    <div class=\"colab-df-container\">\n",
              "      <div>\n",
              "<style scoped>\n",
              "    .dataframe tbody tr th:only-of-type {\n",
              "        vertical-align: middle;\n",
              "    }\n",
              "\n",
              "    .dataframe tbody tr th {\n",
              "        vertical-align: top;\n",
              "    }\n",
              "\n",
              "    .dataframe thead th {\n",
              "        text-align: right;\n",
              "    }\n",
              "</style>\n",
              "<table border=\"1\" class=\"dataframe\">\n",
              "  <thead>\n",
              "    <tr style=\"text-align: right;\">\n",
              "      <th></th>\n",
              "      <th>Pclass</th>\n",
              "      <th>Name</th>\n",
              "      <th>Sex</th>\n",
              "      <th>Age</th>\n",
              "      <th>SibSp</th>\n",
              "      <th>Cabin_Digit</th>\n",
              "      <th>Dummy_Cabin</th>\n",
              "      <th>Parch</th>\n",
              "      <th>Ticket</th>\n",
              "      <th>Fare</th>\n",
              "      <th>Cabin</th>\n",
              "      <th>Embarked</th>\n",
              "    </tr>\n",
              "  </thead>\n",
              "  <tbody>\n",
              "    <tr>\n",
              "      <th>192</th>\n",
              "      <td>3</td>\n",
              "      <td>Andersen-Jensen, Miss. Carla Christine Nielsine</td>\n",
              "      <td>female</td>\n",
              "      <td>19.0</td>\n",
              "      <td>1</td>\n",
              "      <td>-1</td>\n",
              "      <td>0</td>\n",
              "      <td>0</td>\n",
              "      <td>350046</td>\n",
              "      <td>7.8542</td>\n",
              "      <td>No Cabin</td>\n",
              "      <td>S</td>\n",
              "    </tr>\n",
              "    <tr>\n",
              "      <th>191</th>\n",
              "      <td>2</td>\n",
              "      <td>Carbines, Mr. William</td>\n",
              "      <td>male</td>\n",
              "      <td>19.0</td>\n",
              "      <td>0</td>\n",
              "      <td>-1</td>\n",
              "      <td>0</td>\n",
              "      <td>0</td>\n",
              "      <td>28424</td>\n",
              "      <td>13.0000</td>\n",
              "      <td>No Cabin</td>\n",
              "      <td>S</td>\n",
              "    </tr>\n",
              "    <tr>\n",
              "      <th>714</th>\n",
              "      <td>2</td>\n",
              "      <td>Greenberg, Mr. Samuel</td>\n",
              "      <td>male</td>\n",
              "      <td>52.0</td>\n",
              "      <td>0</td>\n",
              "      <td>-1</td>\n",
              "      <td>0</td>\n",
              "      <td>0</td>\n",
              "      <td>250647</td>\n",
              "      <td>13.0000</td>\n",
              "      <td>No Cabin</td>\n",
              "      <td>S</td>\n",
              "    </tr>\n",
              "    <tr>\n",
              "      <th>532</th>\n",
              "      <td>3</td>\n",
              "      <td>Elias, Mr. Joseph Jr</td>\n",
              "      <td>male</td>\n",
              "      <td>17.0</td>\n",
              "      <td>1</td>\n",
              "      <td>-1</td>\n",
              "      <td>0</td>\n",
              "      <td>1</td>\n",
              "      <td>2690</td>\n",
              "      <td>7.2292</td>\n",
              "      <td>No Cabin</td>\n",
              "      <td>C</td>\n",
              "    </tr>\n",
              "    <tr>\n",
              "      <th>132</th>\n",
              "      <td>3</td>\n",
              "      <td>Robins, Mrs. Alexander A (Grace Charity Laury)</td>\n",
              "      <td>female</td>\n",
              "      <td>47.0</td>\n",
              "      <td>1</td>\n",
              "      <td>-1</td>\n",
              "      <td>0</td>\n",
              "      <td>0</td>\n",
              "      <td>A/5. 3337</td>\n",
              "      <td>14.5000</td>\n",
              "      <td>No Cabin</td>\n",
              "      <td>S</td>\n",
              "    </tr>\n",
              "    <tr>\n",
              "      <th>...</th>\n",
              "      <td>...</td>\n",
              "      <td>...</td>\n",
              "      <td>...</td>\n",
              "      <td>...</td>\n",
              "      <td>...</td>\n",
              "      <td>...</td>\n",
              "      <td>...</td>\n",
              "      <td>...</td>\n",
              "      <td>...</td>\n",
              "      <td>...</td>\n",
              "      <td>...</td>\n",
              "      <td>...</td>\n",
              "    </tr>\n",
              "    <tr>\n",
              "      <th>347</th>\n",
              "      <td>3</td>\n",
              "      <td>Davison, Mrs. Thomas Henry (Mary E Finck)</td>\n",
              "      <td>female</td>\n",
              "      <td>NaN</td>\n",
              "      <td>1</td>\n",
              "      <td>-1</td>\n",
              "      <td>0</td>\n",
              "      <td>0</td>\n",
              "      <td>386525</td>\n",
              "      <td>16.1000</td>\n",
              "      <td>No Cabin</td>\n",
              "      <td>S</td>\n",
              "    </tr>\n",
              "    <tr>\n",
              "      <th>218</th>\n",
              "      <td>1</td>\n",
              "      <td>Bazzani, Miss. Albina</td>\n",
              "      <td>female</td>\n",
              "      <td>32.0</td>\n",
              "      <td>0</td>\n",
              "      <td>4</td>\n",
              "      <td>1</td>\n",
              "      <td>0</td>\n",
              "      <td>11813</td>\n",
              "      <td>76.2917</td>\n",
              "      <td>D15</td>\n",
              "      <td>C</td>\n",
              "    </tr>\n",
              "    <tr>\n",
              "      <th>239</th>\n",
              "      <td>2</td>\n",
              "      <td>Hunt, Mr. George Henry</td>\n",
              "      <td>male</td>\n",
              "      <td>33.0</td>\n",
              "      <td>0</td>\n",
              "      <td>-1</td>\n",
              "      <td>0</td>\n",
              "      <td>0</td>\n",
              "      <td>SCO/W 1585</td>\n",
              "      <td>12.2750</td>\n",
              "      <td>No Cabin</td>\n",
              "      <td>S</td>\n",
              "    </tr>\n",
              "    <tr>\n",
              "      <th>491</th>\n",
              "      <td>3</td>\n",
              "      <td>Windelov, Mr. Einar</td>\n",
              "      <td>male</td>\n",
              "      <td>21.0</td>\n",
              "      <td>0</td>\n",
              "      <td>-1</td>\n",
              "      <td>0</td>\n",
              "      <td>0</td>\n",
              "      <td>SOTON/OQ 3101317</td>\n",
              "      <td>7.2500</td>\n",
              "      <td>No Cabin</td>\n",
              "      <td>S</td>\n",
              "    </tr>\n",
              "    <tr>\n",
              "      <th>872</th>\n",
              "      <td>1</td>\n",
              "      <td>Carlsson, Mr. Frans Olof</td>\n",
              "      <td>male</td>\n",
              "      <td>33.0</td>\n",
              "      <td>0</td>\n",
              "      <td>6</td>\n",
              "      <td>1</td>\n",
              "      <td>0</td>\n",
              "      <td>695</td>\n",
              "      <td>5.0000</td>\n",
              "      <td>B51 B53 B55</td>\n",
              "      <td>S</td>\n",
              "    </tr>\n",
              "  </tbody>\n",
              "</table>\n",
              "<p>891 rows × 12 columns</p>\n",
              "</div>\n",
              "      <button class=\"colab-df-convert\" onclick=\"convertToInteractive('df-c4f8f164-91ca-4e25-a56e-7fb74072899d')\"\n",
              "              title=\"Convert this dataframe to an interactive table.\"\n",
              "              style=\"display:none;\">\n",
              "        \n",
              "  <svg xmlns=\"http://www.w3.org/2000/svg\" height=\"24px\"viewBox=\"0 0 24 24\"\n",
              "       width=\"24px\">\n",
              "    <path d=\"M0 0h24v24H0V0z\" fill=\"none\"/>\n",
              "    <path d=\"M18.56 5.44l.94 2.06.94-2.06 2.06-.94-2.06-.94-.94-2.06-.94 2.06-2.06.94zm-11 1L8.5 8.5l.94-2.06 2.06-.94-2.06-.94L8.5 2.5l-.94 2.06-2.06.94zm10 10l.94 2.06.94-2.06 2.06-.94-2.06-.94-.94-2.06-.94 2.06-2.06.94z\"/><path d=\"M17.41 7.96l-1.37-1.37c-.4-.4-.92-.59-1.43-.59-.52 0-1.04.2-1.43.59L10.3 9.45l-7.72 7.72c-.78.78-.78 2.05 0 2.83L4 21.41c.39.39.9.59 1.41.59.51 0 1.02-.2 1.41-.59l7.78-7.78 2.81-2.81c.8-.78.8-2.07 0-2.86zM5.41 20L4 18.59l7.72-7.72 1.47 1.35L5.41 20z\"/>\n",
              "  </svg>\n",
              "      </button>\n",
              "      \n",
              "  <style>\n",
              "    .colab-df-container {\n",
              "      display:flex;\n",
              "      flex-wrap:wrap;\n",
              "      gap: 12px;\n",
              "    }\n",
              "\n",
              "    .colab-df-convert {\n",
              "      background-color: #E8F0FE;\n",
              "      border: none;\n",
              "      border-radius: 50%;\n",
              "      cursor: pointer;\n",
              "      display: none;\n",
              "      fill: #1967D2;\n",
              "      height: 32px;\n",
              "      padding: 0 0 0 0;\n",
              "      width: 32px;\n",
              "    }\n",
              "\n",
              "    .colab-df-convert:hover {\n",
              "      background-color: #E2EBFA;\n",
              "      box-shadow: 0px 1px 2px rgba(60, 64, 67, 0.3), 0px 1px 3px 1px rgba(60, 64, 67, 0.15);\n",
              "      fill: #174EA6;\n",
              "    }\n",
              "\n",
              "    [theme=dark] .colab-df-convert {\n",
              "      background-color: #3B4455;\n",
              "      fill: #D2E3FC;\n",
              "    }\n",
              "\n",
              "    [theme=dark] .colab-df-convert:hover {\n",
              "      background-color: #434B5C;\n",
              "      box-shadow: 0px 1px 3px 1px rgba(0, 0, 0, 0.15);\n",
              "      filter: drop-shadow(0px 1px 2px rgba(0, 0, 0, 0.3));\n",
              "      fill: #FFFFFF;\n",
              "    }\n",
              "  </style>\n",
              "\n",
              "      <script>\n",
              "        const buttonEl =\n",
              "          document.querySelector('#df-c4f8f164-91ca-4e25-a56e-7fb74072899d button.colab-df-convert');\n",
              "        buttonEl.style.display =\n",
              "          google.colab.kernel.accessAllowed ? 'block' : 'none';\n",
              "\n",
              "        async function convertToInteractive(key) {\n",
              "          const element = document.querySelector('#df-c4f8f164-91ca-4e25-a56e-7fb74072899d');\n",
              "          const dataTable =\n",
              "            await google.colab.kernel.invokeFunction('convertToInteractive',\n",
              "                                                     [key], {});\n",
              "          if (!dataTable) return;\n",
              "\n",
              "          const docLinkHtml = 'Like what you see? Visit the ' +\n",
              "            '<a target=\"_blank\" href=https://colab.research.google.com/notebooks/data_table.ipynb>data table notebook</a>'\n",
              "            + ' to learn more about interactive tables.';\n",
              "          element.innerHTML = '';\n",
              "          dataTable['output_type'] = 'display_data';\n",
              "          await google.colab.output.renderOutput(dataTable, element);\n",
              "          const docLink = document.createElement('div');\n",
              "          docLink.innerHTML = docLinkHtml;\n",
              "          element.appendChild(docLink);\n",
              "        }\n",
              "      </script>\n",
              "    </div>\n",
              "  </div>\n",
              "  "
            ]
          },
          "metadata": {},
          "execution_count": 25
        }
      ],
      "source": [
        "df.Cabin_Digit = df.replace(\n",
        "    {\"Cabin_Digit\": {\"N\": -1, \n",
        "             \"T\": 0,\n",
        "             \"G\": 1,\n",
        "             \"F\": 2,\n",
        "             \"E\": 3,\n",
        "             \"D\": 4, \n",
        "             \"C\": 5,\n",
        "             \"B\": 6,\n",
        "             \"A\": 7}}                \n",
        "                  ).Cabin_Digit \n",
        "df  "
      ]
    },
    {
      "cell_type": "markdown",
      "metadata": {
        "id": "GTcEUJNbpkMu"
      },
      "source": [
        "### Variable Age\n",
        "Here we will do all the necessary transformations in the variable Age."
      ]
    },
    {
      "cell_type": "code",
      "execution_count": null,
      "metadata": {
        "id": "gXlQrQ65PSU2"
      },
      "outputs": [],
      "source": [
        "#df2['Age'].fillna(int(df['Age'].mean()), inplace=True)"
      ]
    },
    {
      "cell_type": "code",
      "execution_count": null,
      "metadata": {
        "id": "yQapwk3qYxOd",
        "colab": {
          "base_uri": "https://localhost:8080/"
        },
        "outputId": "3d8f4968-1e6c-4411-91ff-1639e8fca0a5"
      },
      "outputs": [
        {
          "output_type": "execute_result",
          "data": {
            "text/plain": [
              "array([19.  , 52.  , 17.  , 47.  , 28.  , 62.  , -1.  , 40.  , 32.  ,\n",
              "       41.  , 21.  , 33.  , 27.  , 39.  , 23.  , 40.5 ,  7.  , 26.  ,\n",
              "       45.  , 24.  , 18.  ,  4.  , 58.  , 31.  , 46.  , 37.  , 60.  ,\n",
              "       50.  , 34.  , 44.  , 42.  , 11.  , 36.  ,  6.  , 13.  ,  3.  ,\n",
              "       71.  , 22.  , 70.  , 35.  ,  5.  , 49.  , 51.  , 54.  , 20.  ,\n",
              "       48.  , 29.  , 70.5 , 30.  , 43.  , 65.  , 34.5 , 25.  ,  2.  ,\n",
              "        0.75, 24.5 , 38.  , 16.  ,  9.  , 53.  , 32.5 ,  1.  , 56.  ,\n",
              "       61.  , 14.  , 15.  , 14.5 ,  0.67, 20.5 , 63.  , 64.  ,  8.  ,\n",
              "       57.  , 28.5 ,  0.83, 10.  , 45.5 , 66.  ,  0.42, 55.5 , 30.5 ,\n",
              "       80.  , 12.  , 59.  , 55.  , 36.5 ,  0.92, 74.  , 23.5 ])"
            ]
          },
          "metadata": {},
          "execution_count": 27
        }
      ],
      "source": [
        "df['Age'].fillna(-1, inplace = True)\n",
        "df['Age'].unique()"
      ]
    },
    {
      "cell_type": "code",
      "execution_count": null,
      "metadata": {
        "id": "0xUFFJcne-Xd"
      },
      "outputs": [],
      "source": [
        "dummy_age =  np.where(df['Age']!= -1 , 1, 0)\n",
        "df.insert(5,'Dummy_Age', dummy_age)"
      ]
    },
    {
      "cell_type": "code",
      "execution_count": null,
      "metadata": {
        "id": "WxYefnWNfeYz",
        "colab": {
          "base_uri": "https://localhost:8080/",
          "height": 206
        },
        "outputId": "51492804-af76-4e06-e910-156314abf974"
      },
      "outputs": [
        {
          "output_type": "execute_result",
          "data": {
            "text/plain": [
              "     Pclass                                             Name     Sex   Age  \\\n",
              "192       3  Andersen-Jensen, Miss. Carla Christine Nielsine  female  19.0   \n",
              "191       2                            Carbines, Mr. William    male  19.0   \n",
              "714       2                            Greenberg, Mr. Samuel    male  52.0   \n",
              "532       3                             Elias, Mr. Joseph Jr    male  17.0   \n",
              "132       3   Robins, Mrs. Alexander A (Grace Charity Laury)  female  47.0   \n",
              "\n",
              "     SibSp  Dummy_Age  Cabin_Digit  Dummy_Cabin  Parch     Ticket     Fare  \\\n",
              "192      1          1           -1            0      0     350046   7.8542   \n",
              "191      0          1           -1            0      0      28424  13.0000   \n",
              "714      0          1           -1            0      0     250647  13.0000   \n",
              "532      1          1           -1            0      1       2690   7.2292   \n",
              "132      1          1           -1            0      0  A/5. 3337  14.5000   \n",
              "\n",
              "        Cabin Embarked  \n",
              "192  No Cabin        S  \n",
              "191  No Cabin        S  \n",
              "714  No Cabin        S  \n",
              "532  No Cabin        C  \n",
              "132  No Cabin        S  "
            ],
            "text/html": [
              "\n",
              "  <div id=\"df-5b3d1eeb-05a6-4680-be48-245122e51955\">\n",
              "    <div class=\"colab-df-container\">\n",
              "      <div>\n",
              "<style scoped>\n",
              "    .dataframe tbody tr th:only-of-type {\n",
              "        vertical-align: middle;\n",
              "    }\n",
              "\n",
              "    .dataframe tbody tr th {\n",
              "        vertical-align: top;\n",
              "    }\n",
              "\n",
              "    .dataframe thead th {\n",
              "        text-align: right;\n",
              "    }\n",
              "</style>\n",
              "<table border=\"1\" class=\"dataframe\">\n",
              "  <thead>\n",
              "    <tr style=\"text-align: right;\">\n",
              "      <th></th>\n",
              "      <th>Pclass</th>\n",
              "      <th>Name</th>\n",
              "      <th>Sex</th>\n",
              "      <th>Age</th>\n",
              "      <th>SibSp</th>\n",
              "      <th>Dummy_Age</th>\n",
              "      <th>Cabin_Digit</th>\n",
              "      <th>Dummy_Cabin</th>\n",
              "      <th>Parch</th>\n",
              "      <th>Ticket</th>\n",
              "      <th>Fare</th>\n",
              "      <th>Cabin</th>\n",
              "      <th>Embarked</th>\n",
              "    </tr>\n",
              "  </thead>\n",
              "  <tbody>\n",
              "    <tr>\n",
              "      <th>192</th>\n",
              "      <td>3</td>\n",
              "      <td>Andersen-Jensen, Miss. Carla Christine Nielsine</td>\n",
              "      <td>female</td>\n",
              "      <td>19.0</td>\n",
              "      <td>1</td>\n",
              "      <td>1</td>\n",
              "      <td>-1</td>\n",
              "      <td>0</td>\n",
              "      <td>0</td>\n",
              "      <td>350046</td>\n",
              "      <td>7.8542</td>\n",
              "      <td>No Cabin</td>\n",
              "      <td>S</td>\n",
              "    </tr>\n",
              "    <tr>\n",
              "      <th>191</th>\n",
              "      <td>2</td>\n",
              "      <td>Carbines, Mr. William</td>\n",
              "      <td>male</td>\n",
              "      <td>19.0</td>\n",
              "      <td>0</td>\n",
              "      <td>1</td>\n",
              "      <td>-1</td>\n",
              "      <td>0</td>\n",
              "      <td>0</td>\n",
              "      <td>28424</td>\n",
              "      <td>13.0000</td>\n",
              "      <td>No Cabin</td>\n",
              "      <td>S</td>\n",
              "    </tr>\n",
              "    <tr>\n",
              "      <th>714</th>\n",
              "      <td>2</td>\n",
              "      <td>Greenberg, Mr. Samuel</td>\n",
              "      <td>male</td>\n",
              "      <td>52.0</td>\n",
              "      <td>0</td>\n",
              "      <td>1</td>\n",
              "      <td>-1</td>\n",
              "      <td>0</td>\n",
              "      <td>0</td>\n",
              "      <td>250647</td>\n",
              "      <td>13.0000</td>\n",
              "      <td>No Cabin</td>\n",
              "      <td>S</td>\n",
              "    </tr>\n",
              "    <tr>\n",
              "      <th>532</th>\n",
              "      <td>3</td>\n",
              "      <td>Elias, Mr. Joseph Jr</td>\n",
              "      <td>male</td>\n",
              "      <td>17.0</td>\n",
              "      <td>1</td>\n",
              "      <td>1</td>\n",
              "      <td>-1</td>\n",
              "      <td>0</td>\n",
              "      <td>1</td>\n",
              "      <td>2690</td>\n",
              "      <td>7.2292</td>\n",
              "      <td>No Cabin</td>\n",
              "      <td>C</td>\n",
              "    </tr>\n",
              "    <tr>\n",
              "      <th>132</th>\n",
              "      <td>3</td>\n",
              "      <td>Robins, Mrs. Alexander A (Grace Charity Laury)</td>\n",
              "      <td>female</td>\n",
              "      <td>47.0</td>\n",
              "      <td>1</td>\n",
              "      <td>1</td>\n",
              "      <td>-1</td>\n",
              "      <td>0</td>\n",
              "      <td>0</td>\n",
              "      <td>A/5. 3337</td>\n",
              "      <td>14.5000</td>\n",
              "      <td>No Cabin</td>\n",
              "      <td>S</td>\n",
              "    </tr>\n",
              "  </tbody>\n",
              "</table>\n",
              "</div>\n",
              "      <button class=\"colab-df-convert\" onclick=\"convertToInteractive('df-5b3d1eeb-05a6-4680-be48-245122e51955')\"\n",
              "              title=\"Convert this dataframe to an interactive table.\"\n",
              "              style=\"display:none;\">\n",
              "        \n",
              "  <svg xmlns=\"http://www.w3.org/2000/svg\" height=\"24px\"viewBox=\"0 0 24 24\"\n",
              "       width=\"24px\">\n",
              "    <path d=\"M0 0h24v24H0V0z\" fill=\"none\"/>\n",
              "    <path d=\"M18.56 5.44l.94 2.06.94-2.06 2.06-.94-2.06-.94-.94-2.06-.94 2.06-2.06.94zm-11 1L8.5 8.5l.94-2.06 2.06-.94-2.06-.94L8.5 2.5l-.94 2.06-2.06.94zm10 10l.94 2.06.94-2.06 2.06-.94-2.06-.94-.94-2.06-.94 2.06-2.06.94z\"/><path d=\"M17.41 7.96l-1.37-1.37c-.4-.4-.92-.59-1.43-.59-.52 0-1.04.2-1.43.59L10.3 9.45l-7.72 7.72c-.78.78-.78 2.05 0 2.83L4 21.41c.39.39.9.59 1.41.59.51 0 1.02-.2 1.41-.59l7.78-7.78 2.81-2.81c.8-.78.8-2.07 0-2.86zM5.41 20L4 18.59l7.72-7.72 1.47 1.35L5.41 20z\"/>\n",
              "  </svg>\n",
              "      </button>\n",
              "      \n",
              "  <style>\n",
              "    .colab-df-container {\n",
              "      display:flex;\n",
              "      flex-wrap:wrap;\n",
              "      gap: 12px;\n",
              "    }\n",
              "\n",
              "    .colab-df-convert {\n",
              "      background-color: #E8F0FE;\n",
              "      border: none;\n",
              "      border-radius: 50%;\n",
              "      cursor: pointer;\n",
              "      display: none;\n",
              "      fill: #1967D2;\n",
              "      height: 32px;\n",
              "      padding: 0 0 0 0;\n",
              "      width: 32px;\n",
              "    }\n",
              "\n",
              "    .colab-df-convert:hover {\n",
              "      background-color: #E2EBFA;\n",
              "      box-shadow: 0px 1px 2px rgba(60, 64, 67, 0.3), 0px 1px 3px 1px rgba(60, 64, 67, 0.15);\n",
              "      fill: #174EA6;\n",
              "    }\n",
              "\n",
              "    [theme=dark] .colab-df-convert {\n",
              "      background-color: #3B4455;\n",
              "      fill: #D2E3FC;\n",
              "    }\n",
              "\n",
              "    [theme=dark] .colab-df-convert:hover {\n",
              "      background-color: #434B5C;\n",
              "      box-shadow: 0px 1px 3px 1px rgba(0, 0, 0, 0.15);\n",
              "      filter: drop-shadow(0px 1px 2px rgba(0, 0, 0, 0.3));\n",
              "      fill: #FFFFFF;\n",
              "    }\n",
              "  </style>\n",
              "\n",
              "      <script>\n",
              "        const buttonEl =\n",
              "          document.querySelector('#df-5b3d1eeb-05a6-4680-be48-245122e51955 button.colab-df-convert');\n",
              "        buttonEl.style.display =\n",
              "          google.colab.kernel.accessAllowed ? 'block' : 'none';\n",
              "\n",
              "        async function convertToInteractive(key) {\n",
              "          const element = document.querySelector('#df-5b3d1eeb-05a6-4680-be48-245122e51955');\n",
              "          const dataTable =\n",
              "            await google.colab.kernel.invokeFunction('convertToInteractive',\n",
              "                                                     [key], {});\n",
              "          if (!dataTable) return;\n",
              "\n",
              "          const docLinkHtml = 'Like what you see? Visit the ' +\n",
              "            '<a target=\"_blank\" href=https://colab.research.google.com/notebooks/data_table.ipynb>data table notebook</a>'\n",
              "            + ' to learn more about interactive tables.';\n",
              "          element.innerHTML = '';\n",
              "          dataTable['output_type'] = 'display_data';\n",
              "          await google.colab.output.renderOutput(dataTable, element);\n",
              "          const docLink = document.createElement('div');\n",
              "          docLink.innerHTML = docLinkHtml;\n",
              "          element.appendChild(docLink);\n",
              "        }\n",
              "      </script>\n",
              "    </div>\n",
              "  </div>\n",
              "  "
            ]
          },
          "metadata": {},
          "execution_count": 29
        }
      ],
      "source": [
        "df.head()"
      ]
    },
    {
      "cell_type": "code",
      "execution_count": null,
      "metadata": {
        "id": "8uGYJjNeaxpD"
      },
      "outputs": [],
      "source": [
        "category = pd.cut(df.Age, bins=[-1,0,2,17,65,99], labels=[\"Missing\", \"Toddler\",\"Child\",\"Adult\",\"Elderly\"])\n",
        "df.insert(5,'age_group', category)"
      ]
    },
    {
      "cell_type": "code",
      "execution_count": null,
      "metadata": {
        "id": "VCOzj6GiromT"
      },
      "outputs": [],
      "source": [
        "df['age_group'].fillna(\"Missing\", inplace = True)"
      ]
    },
    {
      "cell_type": "code",
      "execution_count": null,
      "metadata": {
        "id": "nEkFen9lsXZo"
      },
      "outputs": [],
      "source": [
        "# category = pd.cut(df2.Age, bins=[0,2,17,65,99], labels=[\"Toddler\",\"Child\",\"Adult\",\"Elderly\"])\n",
        "# df2.insert(5,'age_group', category)"
      ]
    },
    {
      "cell_type": "code",
      "execution_count": null,
      "metadata": {
        "id": "xIcDtxGFAVFa",
        "colab": {
          "base_uri": "https://localhost:8080/",
          "height": 554
        },
        "outputId": "4741a3cf-bb89-44a8-f8ae-ae932507cc9f"
      },
      "outputs": [
        {
          "output_type": "execute_result",
          "data": {
            "text/plain": [
              "     Pclass                                             Name     Sex   Age  \\\n",
              "192       3  Andersen-Jensen, Miss. Carla Christine Nielsine  female  19.0   \n",
              "191       2                            Carbines, Mr. William    male  19.0   \n",
              "714       2                            Greenberg, Mr. Samuel    male  52.0   \n",
              "532       3                             Elias, Mr. Joseph Jr    male  17.0   \n",
              "132       3   Robins, Mrs. Alexander A (Grace Charity Laury)  female  47.0   \n",
              "..      ...                                              ...     ...   ...   \n",
              "347       3        Davison, Mrs. Thomas Henry (Mary E Finck)  female  -1.0   \n",
              "218       1                            Bazzani, Miss. Albina  female  32.0   \n",
              "239       2                           Hunt, Mr. George Henry    male  33.0   \n",
              "491       3                              Windelov, Mr. Einar    male  21.0   \n",
              "872       1                         Carlsson, Mr. Frans Olof    male  33.0   \n",
              "\n",
              "     SibSp age_group  Dummy_Age  Cabin_Digit  Dummy_Cabin  Parch  \\\n",
              "192      1     Adult          1           -1            0      0   \n",
              "191      0     Adult          1           -1            0      0   \n",
              "714      0     Adult          1           -1            0      0   \n",
              "532      1     Child          1           -1            0      1   \n",
              "132      1     Adult          1           -1            0      0   \n",
              "..     ...       ...        ...          ...          ...    ...   \n",
              "347      1   Missing          0           -1            0      0   \n",
              "218      0     Adult          1            4            1      0   \n",
              "239      0     Adult          1           -1            0      0   \n",
              "491      0     Adult          1           -1            0      0   \n",
              "872      0     Adult          1            6            1      0   \n",
              "\n",
              "               Ticket     Fare        Cabin Embarked  \n",
              "192            350046   7.8542     No Cabin        S  \n",
              "191             28424  13.0000     No Cabin        S  \n",
              "714            250647  13.0000     No Cabin        S  \n",
              "532              2690   7.2292     No Cabin        C  \n",
              "132         A/5. 3337  14.5000     No Cabin        S  \n",
              "..                ...      ...          ...      ...  \n",
              "347            386525  16.1000     No Cabin        S  \n",
              "218             11813  76.2917          D15        C  \n",
              "239        SCO/W 1585  12.2750     No Cabin        S  \n",
              "491  SOTON/OQ 3101317   7.2500     No Cabin        S  \n",
              "872               695   5.0000  B51 B53 B55        S  \n",
              "\n",
              "[891 rows x 14 columns]"
            ],
            "text/html": [
              "\n",
              "  <div id=\"df-d95760cc-4a22-48f8-9e59-8bb7ee408079\">\n",
              "    <div class=\"colab-df-container\">\n",
              "      <div>\n",
              "<style scoped>\n",
              "    .dataframe tbody tr th:only-of-type {\n",
              "        vertical-align: middle;\n",
              "    }\n",
              "\n",
              "    .dataframe tbody tr th {\n",
              "        vertical-align: top;\n",
              "    }\n",
              "\n",
              "    .dataframe thead th {\n",
              "        text-align: right;\n",
              "    }\n",
              "</style>\n",
              "<table border=\"1\" class=\"dataframe\">\n",
              "  <thead>\n",
              "    <tr style=\"text-align: right;\">\n",
              "      <th></th>\n",
              "      <th>Pclass</th>\n",
              "      <th>Name</th>\n",
              "      <th>Sex</th>\n",
              "      <th>Age</th>\n",
              "      <th>SibSp</th>\n",
              "      <th>age_group</th>\n",
              "      <th>Dummy_Age</th>\n",
              "      <th>Cabin_Digit</th>\n",
              "      <th>Dummy_Cabin</th>\n",
              "      <th>Parch</th>\n",
              "      <th>Ticket</th>\n",
              "      <th>Fare</th>\n",
              "      <th>Cabin</th>\n",
              "      <th>Embarked</th>\n",
              "    </tr>\n",
              "  </thead>\n",
              "  <tbody>\n",
              "    <tr>\n",
              "      <th>192</th>\n",
              "      <td>3</td>\n",
              "      <td>Andersen-Jensen, Miss. Carla Christine Nielsine</td>\n",
              "      <td>female</td>\n",
              "      <td>19.0</td>\n",
              "      <td>1</td>\n",
              "      <td>Adult</td>\n",
              "      <td>1</td>\n",
              "      <td>-1</td>\n",
              "      <td>0</td>\n",
              "      <td>0</td>\n",
              "      <td>350046</td>\n",
              "      <td>7.8542</td>\n",
              "      <td>No Cabin</td>\n",
              "      <td>S</td>\n",
              "    </tr>\n",
              "    <tr>\n",
              "      <th>191</th>\n",
              "      <td>2</td>\n",
              "      <td>Carbines, Mr. William</td>\n",
              "      <td>male</td>\n",
              "      <td>19.0</td>\n",
              "      <td>0</td>\n",
              "      <td>Adult</td>\n",
              "      <td>1</td>\n",
              "      <td>-1</td>\n",
              "      <td>0</td>\n",
              "      <td>0</td>\n",
              "      <td>28424</td>\n",
              "      <td>13.0000</td>\n",
              "      <td>No Cabin</td>\n",
              "      <td>S</td>\n",
              "    </tr>\n",
              "    <tr>\n",
              "      <th>714</th>\n",
              "      <td>2</td>\n",
              "      <td>Greenberg, Mr. Samuel</td>\n",
              "      <td>male</td>\n",
              "      <td>52.0</td>\n",
              "      <td>0</td>\n",
              "      <td>Adult</td>\n",
              "      <td>1</td>\n",
              "      <td>-1</td>\n",
              "      <td>0</td>\n",
              "      <td>0</td>\n",
              "      <td>250647</td>\n",
              "      <td>13.0000</td>\n",
              "      <td>No Cabin</td>\n",
              "      <td>S</td>\n",
              "    </tr>\n",
              "    <tr>\n",
              "      <th>532</th>\n",
              "      <td>3</td>\n",
              "      <td>Elias, Mr. Joseph Jr</td>\n",
              "      <td>male</td>\n",
              "      <td>17.0</td>\n",
              "      <td>1</td>\n",
              "      <td>Child</td>\n",
              "      <td>1</td>\n",
              "      <td>-1</td>\n",
              "      <td>0</td>\n",
              "      <td>1</td>\n",
              "      <td>2690</td>\n",
              "      <td>7.2292</td>\n",
              "      <td>No Cabin</td>\n",
              "      <td>C</td>\n",
              "    </tr>\n",
              "    <tr>\n",
              "      <th>132</th>\n",
              "      <td>3</td>\n",
              "      <td>Robins, Mrs. Alexander A (Grace Charity Laury)</td>\n",
              "      <td>female</td>\n",
              "      <td>47.0</td>\n",
              "      <td>1</td>\n",
              "      <td>Adult</td>\n",
              "      <td>1</td>\n",
              "      <td>-1</td>\n",
              "      <td>0</td>\n",
              "      <td>0</td>\n",
              "      <td>A/5. 3337</td>\n",
              "      <td>14.5000</td>\n",
              "      <td>No Cabin</td>\n",
              "      <td>S</td>\n",
              "    </tr>\n",
              "    <tr>\n",
              "      <th>...</th>\n",
              "      <td>...</td>\n",
              "      <td>...</td>\n",
              "      <td>...</td>\n",
              "      <td>...</td>\n",
              "      <td>...</td>\n",
              "      <td>...</td>\n",
              "      <td>...</td>\n",
              "      <td>...</td>\n",
              "      <td>...</td>\n",
              "      <td>...</td>\n",
              "      <td>...</td>\n",
              "      <td>...</td>\n",
              "      <td>...</td>\n",
              "      <td>...</td>\n",
              "    </tr>\n",
              "    <tr>\n",
              "      <th>347</th>\n",
              "      <td>3</td>\n",
              "      <td>Davison, Mrs. Thomas Henry (Mary E Finck)</td>\n",
              "      <td>female</td>\n",
              "      <td>-1.0</td>\n",
              "      <td>1</td>\n",
              "      <td>Missing</td>\n",
              "      <td>0</td>\n",
              "      <td>-1</td>\n",
              "      <td>0</td>\n",
              "      <td>0</td>\n",
              "      <td>386525</td>\n",
              "      <td>16.1000</td>\n",
              "      <td>No Cabin</td>\n",
              "      <td>S</td>\n",
              "    </tr>\n",
              "    <tr>\n",
              "      <th>218</th>\n",
              "      <td>1</td>\n",
              "      <td>Bazzani, Miss. Albina</td>\n",
              "      <td>female</td>\n",
              "      <td>32.0</td>\n",
              "      <td>0</td>\n",
              "      <td>Adult</td>\n",
              "      <td>1</td>\n",
              "      <td>4</td>\n",
              "      <td>1</td>\n",
              "      <td>0</td>\n",
              "      <td>11813</td>\n",
              "      <td>76.2917</td>\n",
              "      <td>D15</td>\n",
              "      <td>C</td>\n",
              "    </tr>\n",
              "    <tr>\n",
              "      <th>239</th>\n",
              "      <td>2</td>\n",
              "      <td>Hunt, Mr. George Henry</td>\n",
              "      <td>male</td>\n",
              "      <td>33.0</td>\n",
              "      <td>0</td>\n",
              "      <td>Adult</td>\n",
              "      <td>1</td>\n",
              "      <td>-1</td>\n",
              "      <td>0</td>\n",
              "      <td>0</td>\n",
              "      <td>SCO/W 1585</td>\n",
              "      <td>12.2750</td>\n",
              "      <td>No Cabin</td>\n",
              "      <td>S</td>\n",
              "    </tr>\n",
              "    <tr>\n",
              "      <th>491</th>\n",
              "      <td>3</td>\n",
              "      <td>Windelov, Mr. Einar</td>\n",
              "      <td>male</td>\n",
              "      <td>21.0</td>\n",
              "      <td>0</td>\n",
              "      <td>Adult</td>\n",
              "      <td>1</td>\n",
              "      <td>-1</td>\n",
              "      <td>0</td>\n",
              "      <td>0</td>\n",
              "      <td>SOTON/OQ 3101317</td>\n",
              "      <td>7.2500</td>\n",
              "      <td>No Cabin</td>\n",
              "      <td>S</td>\n",
              "    </tr>\n",
              "    <tr>\n",
              "      <th>872</th>\n",
              "      <td>1</td>\n",
              "      <td>Carlsson, Mr. Frans Olof</td>\n",
              "      <td>male</td>\n",
              "      <td>33.0</td>\n",
              "      <td>0</td>\n",
              "      <td>Adult</td>\n",
              "      <td>1</td>\n",
              "      <td>6</td>\n",
              "      <td>1</td>\n",
              "      <td>0</td>\n",
              "      <td>695</td>\n",
              "      <td>5.0000</td>\n",
              "      <td>B51 B53 B55</td>\n",
              "      <td>S</td>\n",
              "    </tr>\n",
              "  </tbody>\n",
              "</table>\n",
              "<p>891 rows × 14 columns</p>\n",
              "</div>\n",
              "      <button class=\"colab-df-convert\" onclick=\"convertToInteractive('df-d95760cc-4a22-48f8-9e59-8bb7ee408079')\"\n",
              "              title=\"Convert this dataframe to an interactive table.\"\n",
              "              style=\"display:none;\">\n",
              "        \n",
              "  <svg xmlns=\"http://www.w3.org/2000/svg\" height=\"24px\"viewBox=\"0 0 24 24\"\n",
              "       width=\"24px\">\n",
              "    <path d=\"M0 0h24v24H0V0z\" fill=\"none\"/>\n",
              "    <path d=\"M18.56 5.44l.94 2.06.94-2.06 2.06-.94-2.06-.94-.94-2.06-.94 2.06-2.06.94zm-11 1L8.5 8.5l.94-2.06 2.06-.94-2.06-.94L8.5 2.5l-.94 2.06-2.06.94zm10 10l.94 2.06.94-2.06 2.06-.94-2.06-.94-.94-2.06-.94 2.06-2.06.94z\"/><path d=\"M17.41 7.96l-1.37-1.37c-.4-.4-.92-.59-1.43-.59-.52 0-1.04.2-1.43.59L10.3 9.45l-7.72 7.72c-.78.78-.78 2.05 0 2.83L4 21.41c.39.39.9.59 1.41.59.51 0 1.02-.2 1.41-.59l7.78-7.78 2.81-2.81c.8-.78.8-2.07 0-2.86zM5.41 20L4 18.59l7.72-7.72 1.47 1.35L5.41 20z\"/>\n",
              "  </svg>\n",
              "      </button>\n",
              "      \n",
              "  <style>\n",
              "    .colab-df-container {\n",
              "      display:flex;\n",
              "      flex-wrap:wrap;\n",
              "      gap: 12px;\n",
              "    }\n",
              "\n",
              "    .colab-df-convert {\n",
              "      background-color: #E8F0FE;\n",
              "      border: none;\n",
              "      border-radius: 50%;\n",
              "      cursor: pointer;\n",
              "      display: none;\n",
              "      fill: #1967D2;\n",
              "      height: 32px;\n",
              "      padding: 0 0 0 0;\n",
              "      width: 32px;\n",
              "    }\n",
              "\n",
              "    .colab-df-convert:hover {\n",
              "      background-color: #E2EBFA;\n",
              "      box-shadow: 0px 1px 2px rgba(60, 64, 67, 0.3), 0px 1px 3px 1px rgba(60, 64, 67, 0.15);\n",
              "      fill: #174EA6;\n",
              "    }\n",
              "\n",
              "    [theme=dark] .colab-df-convert {\n",
              "      background-color: #3B4455;\n",
              "      fill: #D2E3FC;\n",
              "    }\n",
              "\n",
              "    [theme=dark] .colab-df-convert:hover {\n",
              "      background-color: #434B5C;\n",
              "      box-shadow: 0px 1px 3px 1px rgba(0, 0, 0, 0.15);\n",
              "      filter: drop-shadow(0px 1px 2px rgba(0, 0, 0, 0.3));\n",
              "      fill: #FFFFFF;\n",
              "    }\n",
              "  </style>\n",
              "\n",
              "      <script>\n",
              "        const buttonEl =\n",
              "          document.querySelector('#df-d95760cc-4a22-48f8-9e59-8bb7ee408079 button.colab-df-convert');\n",
              "        buttonEl.style.display =\n",
              "          google.colab.kernel.accessAllowed ? 'block' : 'none';\n",
              "\n",
              "        async function convertToInteractive(key) {\n",
              "          const element = document.querySelector('#df-d95760cc-4a22-48f8-9e59-8bb7ee408079');\n",
              "          const dataTable =\n",
              "            await google.colab.kernel.invokeFunction('convertToInteractive',\n",
              "                                                     [key], {});\n",
              "          if (!dataTable) return;\n",
              "\n",
              "          const docLinkHtml = 'Like what you see? Visit the ' +\n",
              "            '<a target=\"_blank\" href=https://colab.research.google.com/notebooks/data_table.ipynb>data table notebook</a>'\n",
              "            + ' to learn more about interactive tables.';\n",
              "          element.innerHTML = '';\n",
              "          dataTable['output_type'] = 'display_data';\n",
              "          await google.colab.output.renderOutput(dataTable, element);\n",
              "          const docLink = document.createElement('div');\n",
              "          docLink.innerHTML = docLinkHtml;\n",
              "          element.appendChild(docLink);\n",
              "        }\n",
              "      </script>\n",
              "    </div>\n",
              "  </div>\n",
              "  "
            ]
          },
          "metadata": {},
          "execution_count": 33
        }
      ],
      "source": [
        "df"
      ]
    },
    {
      "cell_type": "code",
      "execution_count": null,
      "metadata": {
        "id": "5ZLbWkfQsFcW"
      },
      "outputs": [],
      "source": [
        "df.age_group = df.replace(\n",
        "    {\"age_group\": {\"Missing\": -1, \n",
        "             \"Toddler\": 0,\n",
        "             \"Child\": 1,\n",
        "             \"Adult\": 2,\n",
        "             \"Elderly\": 3,\n",
        "             }}                \n",
        "                  ).age_group "
      ]
    },
    {
      "cell_type": "code",
      "execution_count": null,
      "metadata": {
        "id": "-23_pnYLsgqJ",
        "colab": {
          "base_uri": "https://localhost:8080/",
          "height": 554
        },
        "outputId": "ff1e8a05-2b7d-4892-835b-6571e2b45f7b"
      },
      "outputs": [
        {
          "output_type": "execute_result",
          "data": {
            "text/plain": [
              "     Pclass                                             Name     Sex   Age  \\\n",
              "192       3  Andersen-Jensen, Miss. Carla Christine Nielsine  female  19.0   \n",
              "191       2                            Carbines, Mr. William    male  19.0   \n",
              "714       2                            Greenberg, Mr. Samuel    male  52.0   \n",
              "532       3                             Elias, Mr. Joseph Jr    male  17.0   \n",
              "132       3   Robins, Mrs. Alexander A (Grace Charity Laury)  female  47.0   \n",
              "..      ...                                              ...     ...   ...   \n",
              "347       3        Davison, Mrs. Thomas Henry (Mary E Finck)  female  -1.0   \n",
              "218       1                            Bazzani, Miss. Albina  female  32.0   \n",
              "239       2                           Hunt, Mr. George Henry    male  33.0   \n",
              "491       3                              Windelov, Mr. Einar    male  21.0   \n",
              "872       1                         Carlsson, Mr. Frans Olof    male  33.0   \n",
              "\n",
              "     SibSp  age_group  Dummy_Age  Cabin_Digit  Dummy_Cabin  Parch  \\\n",
              "192      1          2          1           -1            0      0   \n",
              "191      0          2          1           -1            0      0   \n",
              "714      0          2          1           -1            0      0   \n",
              "532      1          1          1           -1            0      1   \n",
              "132      1          2          1           -1            0      0   \n",
              "..     ...        ...        ...          ...          ...    ...   \n",
              "347      1         -1          0           -1            0      0   \n",
              "218      0          2          1            4            1      0   \n",
              "239      0          2          1           -1            0      0   \n",
              "491      0          2          1           -1            0      0   \n",
              "872      0          2          1            6            1      0   \n",
              "\n",
              "               Ticket     Fare        Cabin Embarked  \n",
              "192            350046   7.8542     No Cabin        S  \n",
              "191             28424  13.0000     No Cabin        S  \n",
              "714            250647  13.0000     No Cabin        S  \n",
              "532              2690   7.2292     No Cabin        C  \n",
              "132         A/5. 3337  14.5000     No Cabin        S  \n",
              "..                ...      ...          ...      ...  \n",
              "347            386525  16.1000     No Cabin        S  \n",
              "218             11813  76.2917          D15        C  \n",
              "239        SCO/W 1585  12.2750     No Cabin        S  \n",
              "491  SOTON/OQ 3101317   7.2500     No Cabin        S  \n",
              "872               695   5.0000  B51 B53 B55        S  \n",
              "\n",
              "[891 rows x 14 columns]"
            ],
            "text/html": [
              "\n",
              "  <div id=\"df-fa7142e6-ff0c-457b-9d47-05928d1a418f\">\n",
              "    <div class=\"colab-df-container\">\n",
              "      <div>\n",
              "<style scoped>\n",
              "    .dataframe tbody tr th:only-of-type {\n",
              "        vertical-align: middle;\n",
              "    }\n",
              "\n",
              "    .dataframe tbody tr th {\n",
              "        vertical-align: top;\n",
              "    }\n",
              "\n",
              "    .dataframe thead th {\n",
              "        text-align: right;\n",
              "    }\n",
              "</style>\n",
              "<table border=\"1\" class=\"dataframe\">\n",
              "  <thead>\n",
              "    <tr style=\"text-align: right;\">\n",
              "      <th></th>\n",
              "      <th>Pclass</th>\n",
              "      <th>Name</th>\n",
              "      <th>Sex</th>\n",
              "      <th>Age</th>\n",
              "      <th>SibSp</th>\n",
              "      <th>age_group</th>\n",
              "      <th>Dummy_Age</th>\n",
              "      <th>Cabin_Digit</th>\n",
              "      <th>Dummy_Cabin</th>\n",
              "      <th>Parch</th>\n",
              "      <th>Ticket</th>\n",
              "      <th>Fare</th>\n",
              "      <th>Cabin</th>\n",
              "      <th>Embarked</th>\n",
              "    </tr>\n",
              "  </thead>\n",
              "  <tbody>\n",
              "    <tr>\n",
              "      <th>192</th>\n",
              "      <td>3</td>\n",
              "      <td>Andersen-Jensen, Miss. Carla Christine Nielsine</td>\n",
              "      <td>female</td>\n",
              "      <td>19.0</td>\n",
              "      <td>1</td>\n",
              "      <td>2</td>\n",
              "      <td>1</td>\n",
              "      <td>-1</td>\n",
              "      <td>0</td>\n",
              "      <td>0</td>\n",
              "      <td>350046</td>\n",
              "      <td>7.8542</td>\n",
              "      <td>No Cabin</td>\n",
              "      <td>S</td>\n",
              "    </tr>\n",
              "    <tr>\n",
              "      <th>191</th>\n",
              "      <td>2</td>\n",
              "      <td>Carbines, Mr. William</td>\n",
              "      <td>male</td>\n",
              "      <td>19.0</td>\n",
              "      <td>0</td>\n",
              "      <td>2</td>\n",
              "      <td>1</td>\n",
              "      <td>-1</td>\n",
              "      <td>0</td>\n",
              "      <td>0</td>\n",
              "      <td>28424</td>\n",
              "      <td>13.0000</td>\n",
              "      <td>No Cabin</td>\n",
              "      <td>S</td>\n",
              "    </tr>\n",
              "    <tr>\n",
              "      <th>714</th>\n",
              "      <td>2</td>\n",
              "      <td>Greenberg, Mr. Samuel</td>\n",
              "      <td>male</td>\n",
              "      <td>52.0</td>\n",
              "      <td>0</td>\n",
              "      <td>2</td>\n",
              "      <td>1</td>\n",
              "      <td>-1</td>\n",
              "      <td>0</td>\n",
              "      <td>0</td>\n",
              "      <td>250647</td>\n",
              "      <td>13.0000</td>\n",
              "      <td>No Cabin</td>\n",
              "      <td>S</td>\n",
              "    </tr>\n",
              "    <tr>\n",
              "      <th>532</th>\n",
              "      <td>3</td>\n",
              "      <td>Elias, Mr. Joseph Jr</td>\n",
              "      <td>male</td>\n",
              "      <td>17.0</td>\n",
              "      <td>1</td>\n",
              "      <td>1</td>\n",
              "      <td>1</td>\n",
              "      <td>-1</td>\n",
              "      <td>0</td>\n",
              "      <td>1</td>\n",
              "      <td>2690</td>\n",
              "      <td>7.2292</td>\n",
              "      <td>No Cabin</td>\n",
              "      <td>C</td>\n",
              "    </tr>\n",
              "    <tr>\n",
              "      <th>132</th>\n",
              "      <td>3</td>\n",
              "      <td>Robins, Mrs. Alexander A (Grace Charity Laury)</td>\n",
              "      <td>female</td>\n",
              "      <td>47.0</td>\n",
              "      <td>1</td>\n",
              "      <td>2</td>\n",
              "      <td>1</td>\n",
              "      <td>-1</td>\n",
              "      <td>0</td>\n",
              "      <td>0</td>\n",
              "      <td>A/5. 3337</td>\n",
              "      <td>14.5000</td>\n",
              "      <td>No Cabin</td>\n",
              "      <td>S</td>\n",
              "    </tr>\n",
              "    <tr>\n",
              "      <th>...</th>\n",
              "      <td>...</td>\n",
              "      <td>...</td>\n",
              "      <td>...</td>\n",
              "      <td>...</td>\n",
              "      <td>...</td>\n",
              "      <td>...</td>\n",
              "      <td>...</td>\n",
              "      <td>...</td>\n",
              "      <td>...</td>\n",
              "      <td>...</td>\n",
              "      <td>...</td>\n",
              "      <td>...</td>\n",
              "      <td>...</td>\n",
              "      <td>...</td>\n",
              "    </tr>\n",
              "    <tr>\n",
              "      <th>347</th>\n",
              "      <td>3</td>\n",
              "      <td>Davison, Mrs. Thomas Henry (Mary E Finck)</td>\n",
              "      <td>female</td>\n",
              "      <td>-1.0</td>\n",
              "      <td>1</td>\n",
              "      <td>-1</td>\n",
              "      <td>0</td>\n",
              "      <td>-1</td>\n",
              "      <td>0</td>\n",
              "      <td>0</td>\n",
              "      <td>386525</td>\n",
              "      <td>16.1000</td>\n",
              "      <td>No Cabin</td>\n",
              "      <td>S</td>\n",
              "    </tr>\n",
              "    <tr>\n",
              "      <th>218</th>\n",
              "      <td>1</td>\n",
              "      <td>Bazzani, Miss. Albina</td>\n",
              "      <td>female</td>\n",
              "      <td>32.0</td>\n",
              "      <td>0</td>\n",
              "      <td>2</td>\n",
              "      <td>1</td>\n",
              "      <td>4</td>\n",
              "      <td>1</td>\n",
              "      <td>0</td>\n",
              "      <td>11813</td>\n",
              "      <td>76.2917</td>\n",
              "      <td>D15</td>\n",
              "      <td>C</td>\n",
              "    </tr>\n",
              "    <tr>\n",
              "      <th>239</th>\n",
              "      <td>2</td>\n",
              "      <td>Hunt, Mr. George Henry</td>\n",
              "      <td>male</td>\n",
              "      <td>33.0</td>\n",
              "      <td>0</td>\n",
              "      <td>2</td>\n",
              "      <td>1</td>\n",
              "      <td>-1</td>\n",
              "      <td>0</td>\n",
              "      <td>0</td>\n",
              "      <td>SCO/W 1585</td>\n",
              "      <td>12.2750</td>\n",
              "      <td>No Cabin</td>\n",
              "      <td>S</td>\n",
              "    </tr>\n",
              "    <tr>\n",
              "      <th>491</th>\n",
              "      <td>3</td>\n",
              "      <td>Windelov, Mr. Einar</td>\n",
              "      <td>male</td>\n",
              "      <td>21.0</td>\n",
              "      <td>0</td>\n",
              "      <td>2</td>\n",
              "      <td>1</td>\n",
              "      <td>-1</td>\n",
              "      <td>0</td>\n",
              "      <td>0</td>\n",
              "      <td>SOTON/OQ 3101317</td>\n",
              "      <td>7.2500</td>\n",
              "      <td>No Cabin</td>\n",
              "      <td>S</td>\n",
              "    </tr>\n",
              "    <tr>\n",
              "      <th>872</th>\n",
              "      <td>1</td>\n",
              "      <td>Carlsson, Mr. Frans Olof</td>\n",
              "      <td>male</td>\n",
              "      <td>33.0</td>\n",
              "      <td>0</td>\n",
              "      <td>2</td>\n",
              "      <td>1</td>\n",
              "      <td>6</td>\n",
              "      <td>1</td>\n",
              "      <td>0</td>\n",
              "      <td>695</td>\n",
              "      <td>5.0000</td>\n",
              "      <td>B51 B53 B55</td>\n",
              "      <td>S</td>\n",
              "    </tr>\n",
              "  </tbody>\n",
              "</table>\n",
              "<p>891 rows × 14 columns</p>\n",
              "</div>\n",
              "      <button class=\"colab-df-convert\" onclick=\"convertToInteractive('df-fa7142e6-ff0c-457b-9d47-05928d1a418f')\"\n",
              "              title=\"Convert this dataframe to an interactive table.\"\n",
              "              style=\"display:none;\">\n",
              "        \n",
              "  <svg xmlns=\"http://www.w3.org/2000/svg\" height=\"24px\"viewBox=\"0 0 24 24\"\n",
              "       width=\"24px\">\n",
              "    <path d=\"M0 0h24v24H0V0z\" fill=\"none\"/>\n",
              "    <path d=\"M18.56 5.44l.94 2.06.94-2.06 2.06-.94-2.06-.94-.94-2.06-.94 2.06-2.06.94zm-11 1L8.5 8.5l.94-2.06 2.06-.94-2.06-.94L8.5 2.5l-.94 2.06-2.06.94zm10 10l.94 2.06.94-2.06 2.06-.94-2.06-.94-.94-2.06-.94 2.06-2.06.94z\"/><path d=\"M17.41 7.96l-1.37-1.37c-.4-.4-.92-.59-1.43-.59-.52 0-1.04.2-1.43.59L10.3 9.45l-7.72 7.72c-.78.78-.78 2.05 0 2.83L4 21.41c.39.39.9.59 1.41.59.51 0 1.02-.2 1.41-.59l7.78-7.78 2.81-2.81c.8-.78.8-2.07 0-2.86zM5.41 20L4 18.59l7.72-7.72 1.47 1.35L5.41 20z\"/>\n",
              "  </svg>\n",
              "      </button>\n",
              "      \n",
              "  <style>\n",
              "    .colab-df-container {\n",
              "      display:flex;\n",
              "      flex-wrap:wrap;\n",
              "      gap: 12px;\n",
              "    }\n",
              "\n",
              "    .colab-df-convert {\n",
              "      background-color: #E8F0FE;\n",
              "      border: none;\n",
              "      border-radius: 50%;\n",
              "      cursor: pointer;\n",
              "      display: none;\n",
              "      fill: #1967D2;\n",
              "      height: 32px;\n",
              "      padding: 0 0 0 0;\n",
              "      width: 32px;\n",
              "    }\n",
              "\n",
              "    .colab-df-convert:hover {\n",
              "      background-color: #E2EBFA;\n",
              "      box-shadow: 0px 1px 2px rgba(60, 64, 67, 0.3), 0px 1px 3px 1px rgba(60, 64, 67, 0.15);\n",
              "      fill: #174EA6;\n",
              "    }\n",
              "\n",
              "    [theme=dark] .colab-df-convert {\n",
              "      background-color: #3B4455;\n",
              "      fill: #D2E3FC;\n",
              "    }\n",
              "\n",
              "    [theme=dark] .colab-df-convert:hover {\n",
              "      background-color: #434B5C;\n",
              "      box-shadow: 0px 1px 3px 1px rgba(0, 0, 0, 0.15);\n",
              "      filter: drop-shadow(0px 1px 2px rgba(0, 0, 0, 0.3));\n",
              "      fill: #FFFFFF;\n",
              "    }\n",
              "  </style>\n",
              "\n",
              "      <script>\n",
              "        const buttonEl =\n",
              "          document.querySelector('#df-fa7142e6-ff0c-457b-9d47-05928d1a418f button.colab-df-convert');\n",
              "        buttonEl.style.display =\n",
              "          google.colab.kernel.accessAllowed ? 'block' : 'none';\n",
              "\n",
              "        async function convertToInteractive(key) {\n",
              "          const element = document.querySelector('#df-fa7142e6-ff0c-457b-9d47-05928d1a418f');\n",
              "          const dataTable =\n",
              "            await google.colab.kernel.invokeFunction('convertToInteractive',\n",
              "                                                     [key], {});\n",
              "          if (!dataTable) return;\n",
              "\n",
              "          const docLinkHtml = 'Like what you see? Visit the ' +\n",
              "            '<a target=\"_blank\" href=https://colab.research.google.com/notebooks/data_table.ipynb>data table notebook</a>'\n",
              "            + ' to learn more about interactive tables.';\n",
              "          element.innerHTML = '';\n",
              "          dataTable['output_type'] = 'display_data';\n",
              "          await google.colab.output.renderOutput(dataTable, element);\n",
              "          const docLink = document.createElement('div');\n",
              "          docLink.innerHTML = docLinkHtml;\n",
              "          element.appendChild(docLink);\n",
              "        }\n",
              "      </script>\n",
              "    </div>\n",
              "  </div>\n",
              "  "
            ]
          },
          "metadata": {},
          "execution_count": 35
        }
      ],
      "source": [
        "df"
      ]
    },
    {
      "cell_type": "markdown",
      "metadata": {
        "id": "pqwCYbtcpkMt"
      },
      "source": [
        "### Variable Embarked\n",
        "Here we will do all the necessary transformations in the variable Embarked."
      ]
    },
    {
      "cell_type": "code",
      "execution_count": null,
      "metadata": {
        "id": "ocTKI1De4D78",
        "colab": {
          "base_uri": "https://localhost:8080/"
        },
        "outputId": "a4928850-8e34-443e-c1c4-c8a8c56fad79"
      },
      "outputs": [
        {
          "output_type": "execute_result",
          "data": {
            "text/plain": [
              "array(['S', 'C', 'Q', 'Missing'], dtype=object)"
            ]
          },
          "metadata": {},
          "execution_count": 36
        }
      ],
      "source": [
        "df['Embarked'].fillna(\"Missing\", inplace = True)\n",
        "df['Embarked'].unique()"
      ]
    },
    {
      "cell_type": "code",
      "execution_count": null,
      "metadata": {
        "id": "EXdWZoAxpkMt",
        "colab": {
          "base_uri": "https://localhost:8080/",
          "height": 554
        },
        "outputId": "9c0a8b67-9c7c-46db-f939-2fed4572b9c6"
      },
      "outputs": [
        {
          "output_type": "execute_result",
          "data": {
            "text/plain": [
              "     Pclass                                             Name     Sex   Age  \\\n",
              "192       3  Andersen-Jensen, Miss. Carla Christine Nielsine  female  19.0   \n",
              "191       2                            Carbines, Mr. William    male  19.0   \n",
              "714       2                            Greenberg, Mr. Samuel    male  52.0   \n",
              "532       3                             Elias, Mr. Joseph Jr    male  17.0   \n",
              "132       3   Robins, Mrs. Alexander A (Grace Charity Laury)  female  47.0   \n",
              "..      ...                                              ...     ...   ...   \n",
              "347       3        Davison, Mrs. Thomas Henry (Mary E Finck)  female  -1.0   \n",
              "218       1                            Bazzani, Miss. Albina  female  32.0   \n",
              "239       2                           Hunt, Mr. George Henry    male  33.0   \n",
              "491       3                              Windelov, Mr. Einar    male  21.0   \n",
              "872       1                         Carlsson, Mr. Frans Olof    male  33.0   \n",
              "\n",
              "     SibSp  age_group  Dummy_Age  Cabin_Digit  Dummy_Cabin  Parch  \\\n",
              "192      1          2          1           -1            0      0   \n",
              "191      0          2          1           -1            0      0   \n",
              "714      0          2          1           -1            0      0   \n",
              "532      1          1          1           -1            0      1   \n",
              "132      1          2          1           -1            0      0   \n",
              "..     ...        ...        ...          ...          ...    ...   \n",
              "347      1         -1          0           -1            0      0   \n",
              "218      0          2          1            4            1      0   \n",
              "239      0          2          1           -1            0      0   \n",
              "491      0          2          1           -1            0      0   \n",
              "872      0          2          1            6            1      0   \n",
              "\n",
              "               Ticket     Fare        Cabin  Embarked  \n",
              "192            350046   7.8542     No Cabin         0  \n",
              "191             28424  13.0000     No Cabin         0  \n",
              "714            250647  13.0000     No Cabin         0  \n",
              "532              2690   7.2292     No Cabin         1  \n",
              "132         A/5. 3337  14.5000     No Cabin         0  \n",
              "..                ...      ...          ...       ...  \n",
              "347            386525  16.1000     No Cabin         0  \n",
              "218             11813  76.2917          D15         1  \n",
              "239        SCO/W 1585  12.2750     No Cabin         0  \n",
              "491  SOTON/OQ 3101317   7.2500     No Cabin         0  \n",
              "872               695   5.0000  B51 B53 B55         0  \n",
              "\n",
              "[891 rows x 14 columns]"
            ],
            "text/html": [
              "\n",
              "  <div id=\"df-1b5218bd-a015-4f6f-85f1-9fd24d425dad\">\n",
              "    <div class=\"colab-df-container\">\n",
              "      <div>\n",
              "<style scoped>\n",
              "    .dataframe tbody tr th:only-of-type {\n",
              "        vertical-align: middle;\n",
              "    }\n",
              "\n",
              "    .dataframe tbody tr th {\n",
              "        vertical-align: top;\n",
              "    }\n",
              "\n",
              "    .dataframe thead th {\n",
              "        text-align: right;\n",
              "    }\n",
              "</style>\n",
              "<table border=\"1\" class=\"dataframe\">\n",
              "  <thead>\n",
              "    <tr style=\"text-align: right;\">\n",
              "      <th></th>\n",
              "      <th>Pclass</th>\n",
              "      <th>Name</th>\n",
              "      <th>Sex</th>\n",
              "      <th>Age</th>\n",
              "      <th>SibSp</th>\n",
              "      <th>age_group</th>\n",
              "      <th>Dummy_Age</th>\n",
              "      <th>Cabin_Digit</th>\n",
              "      <th>Dummy_Cabin</th>\n",
              "      <th>Parch</th>\n",
              "      <th>Ticket</th>\n",
              "      <th>Fare</th>\n",
              "      <th>Cabin</th>\n",
              "      <th>Embarked</th>\n",
              "    </tr>\n",
              "  </thead>\n",
              "  <tbody>\n",
              "    <tr>\n",
              "      <th>192</th>\n",
              "      <td>3</td>\n",
              "      <td>Andersen-Jensen, Miss. Carla Christine Nielsine</td>\n",
              "      <td>female</td>\n",
              "      <td>19.0</td>\n",
              "      <td>1</td>\n",
              "      <td>2</td>\n",
              "      <td>1</td>\n",
              "      <td>-1</td>\n",
              "      <td>0</td>\n",
              "      <td>0</td>\n",
              "      <td>350046</td>\n",
              "      <td>7.8542</td>\n",
              "      <td>No Cabin</td>\n",
              "      <td>0</td>\n",
              "    </tr>\n",
              "    <tr>\n",
              "      <th>191</th>\n",
              "      <td>2</td>\n",
              "      <td>Carbines, Mr. William</td>\n",
              "      <td>male</td>\n",
              "      <td>19.0</td>\n",
              "      <td>0</td>\n",
              "      <td>2</td>\n",
              "      <td>1</td>\n",
              "      <td>-1</td>\n",
              "      <td>0</td>\n",
              "      <td>0</td>\n",
              "      <td>28424</td>\n",
              "      <td>13.0000</td>\n",
              "      <td>No Cabin</td>\n",
              "      <td>0</td>\n",
              "    </tr>\n",
              "    <tr>\n",
              "      <th>714</th>\n",
              "      <td>2</td>\n",
              "      <td>Greenberg, Mr. Samuel</td>\n",
              "      <td>male</td>\n",
              "      <td>52.0</td>\n",
              "      <td>0</td>\n",
              "      <td>2</td>\n",
              "      <td>1</td>\n",
              "      <td>-1</td>\n",
              "      <td>0</td>\n",
              "      <td>0</td>\n",
              "      <td>250647</td>\n",
              "      <td>13.0000</td>\n",
              "      <td>No Cabin</td>\n",
              "      <td>0</td>\n",
              "    </tr>\n",
              "    <tr>\n",
              "      <th>532</th>\n",
              "      <td>3</td>\n",
              "      <td>Elias, Mr. Joseph Jr</td>\n",
              "      <td>male</td>\n",
              "      <td>17.0</td>\n",
              "      <td>1</td>\n",
              "      <td>1</td>\n",
              "      <td>1</td>\n",
              "      <td>-1</td>\n",
              "      <td>0</td>\n",
              "      <td>1</td>\n",
              "      <td>2690</td>\n",
              "      <td>7.2292</td>\n",
              "      <td>No Cabin</td>\n",
              "      <td>1</td>\n",
              "    </tr>\n",
              "    <tr>\n",
              "      <th>132</th>\n",
              "      <td>3</td>\n",
              "      <td>Robins, Mrs. Alexander A (Grace Charity Laury)</td>\n",
              "      <td>female</td>\n",
              "      <td>47.0</td>\n",
              "      <td>1</td>\n",
              "      <td>2</td>\n",
              "      <td>1</td>\n",
              "      <td>-1</td>\n",
              "      <td>0</td>\n",
              "      <td>0</td>\n",
              "      <td>A/5. 3337</td>\n",
              "      <td>14.5000</td>\n",
              "      <td>No Cabin</td>\n",
              "      <td>0</td>\n",
              "    </tr>\n",
              "    <tr>\n",
              "      <th>...</th>\n",
              "      <td>...</td>\n",
              "      <td>...</td>\n",
              "      <td>...</td>\n",
              "      <td>...</td>\n",
              "      <td>...</td>\n",
              "      <td>...</td>\n",
              "      <td>...</td>\n",
              "      <td>...</td>\n",
              "      <td>...</td>\n",
              "      <td>...</td>\n",
              "      <td>...</td>\n",
              "      <td>...</td>\n",
              "      <td>...</td>\n",
              "      <td>...</td>\n",
              "    </tr>\n",
              "    <tr>\n",
              "      <th>347</th>\n",
              "      <td>3</td>\n",
              "      <td>Davison, Mrs. Thomas Henry (Mary E Finck)</td>\n",
              "      <td>female</td>\n",
              "      <td>-1.0</td>\n",
              "      <td>1</td>\n",
              "      <td>-1</td>\n",
              "      <td>0</td>\n",
              "      <td>-1</td>\n",
              "      <td>0</td>\n",
              "      <td>0</td>\n",
              "      <td>386525</td>\n",
              "      <td>16.1000</td>\n",
              "      <td>No Cabin</td>\n",
              "      <td>0</td>\n",
              "    </tr>\n",
              "    <tr>\n",
              "      <th>218</th>\n",
              "      <td>1</td>\n",
              "      <td>Bazzani, Miss. Albina</td>\n",
              "      <td>female</td>\n",
              "      <td>32.0</td>\n",
              "      <td>0</td>\n",
              "      <td>2</td>\n",
              "      <td>1</td>\n",
              "      <td>4</td>\n",
              "      <td>1</td>\n",
              "      <td>0</td>\n",
              "      <td>11813</td>\n",
              "      <td>76.2917</td>\n",
              "      <td>D15</td>\n",
              "      <td>1</td>\n",
              "    </tr>\n",
              "    <tr>\n",
              "      <th>239</th>\n",
              "      <td>2</td>\n",
              "      <td>Hunt, Mr. George Henry</td>\n",
              "      <td>male</td>\n",
              "      <td>33.0</td>\n",
              "      <td>0</td>\n",
              "      <td>2</td>\n",
              "      <td>1</td>\n",
              "      <td>-1</td>\n",
              "      <td>0</td>\n",
              "      <td>0</td>\n",
              "      <td>SCO/W 1585</td>\n",
              "      <td>12.2750</td>\n",
              "      <td>No Cabin</td>\n",
              "      <td>0</td>\n",
              "    </tr>\n",
              "    <tr>\n",
              "      <th>491</th>\n",
              "      <td>3</td>\n",
              "      <td>Windelov, Mr. Einar</td>\n",
              "      <td>male</td>\n",
              "      <td>21.0</td>\n",
              "      <td>0</td>\n",
              "      <td>2</td>\n",
              "      <td>1</td>\n",
              "      <td>-1</td>\n",
              "      <td>0</td>\n",
              "      <td>0</td>\n",
              "      <td>SOTON/OQ 3101317</td>\n",
              "      <td>7.2500</td>\n",
              "      <td>No Cabin</td>\n",
              "      <td>0</td>\n",
              "    </tr>\n",
              "    <tr>\n",
              "      <th>872</th>\n",
              "      <td>1</td>\n",
              "      <td>Carlsson, Mr. Frans Olof</td>\n",
              "      <td>male</td>\n",
              "      <td>33.0</td>\n",
              "      <td>0</td>\n",
              "      <td>2</td>\n",
              "      <td>1</td>\n",
              "      <td>6</td>\n",
              "      <td>1</td>\n",
              "      <td>0</td>\n",
              "      <td>695</td>\n",
              "      <td>5.0000</td>\n",
              "      <td>B51 B53 B55</td>\n",
              "      <td>0</td>\n",
              "    </tr>\n",
              "  </tbody>\n",
              "</table>\n",
              "<p>891 rows × 14 columns</p>\n",
              "</div>\n",
              "      <button class=\"colab-df-convert\" onclick=\"convertToInteractive('df-1b5218bd-a015-4f6f-85f1-9fd24d425dad')\"\n",
              "              title=\"Convert this dataframe to an interactive table.\"\n",
              "              style=\"display:none;\">\n",
              "        \n",
              "  <svg xmlns=\"http://www.w3.org/2000/svg\" height=\"24px\"viewBox=\"0 0 24 24\"\n",
              "       width=\"24px\">\n",
              "    <path d=\"M0 0h24v24H0V0z\" fill=\"none\"/>\n",
              "    <path d=\"M18.56 5.44l.94 2.06.94-2.06 2.06-.94-2.06-.94-.94-2.06-.94 2.06-2.06.94zm-11 1L8.5 8.5l.94-2.06 2.06-.94-2.06-.94L8.5 2.5l-.94 2.06-2.06.94zm10 10l.94 2.06.94-2.06 2.06-.94-2.06-.94-.94-2.06-.94 2.06-2.06.94z\"/><path d=\"M17.41 7.96l-1.37-1.37c-.4-.4-.92-.59-1.43-.59-.52 0-1.04.2-1.43.59L10.3 9.45l-7.72 7.72c-.78.78-.78 2.05 0 2.83L4 21.41c.39.39.9.59 1.41.59.51 0 1.02-.2 1.41-.59l7.78-7.78 2.81-2.81c.8-.78.8-2.07 0-2.86zM5.41 20L4 18.59l7.72-7.72 1.47 1.35L5.41 20z\"/>\n",
              "  </svg>\n",
              "      </button>\n",
              "      \n",
              "  <style>\n",
              "    .colab-df-container {\n",
              "      display:flex;\n",
              "      flex-wrap:wrap;\n",
              "      gap: 12px;\n",
              "    }\n",
              "\n",
              "    .colab-df-convert {\n",
              "      background-color: #E8F0FE;\n",
              "      border: none;\n",
              "      border-radius: 50%;\n",
              "      cursor: pointer;\n",
              "      display: none;\n",
              "      fill: #1967D2;\n",
              "      height: 32px;\n",
              "      padding: 0 0 0 0;\n",
              "      width: 32px;\n",
              "    }\n",
              "\n",
              "    .colab-df-convert:hover {\n",
              "      background-color: #E2EBFA;\n",
              "      box-shadow: 0px 1px 2px rgba(60, 64, 67, 0.3), 0px 1px 3px 1px rgba(60, 64, 67, 0.15);\n",
              "      fill: #174EA6;\n",
              "    }\n",
              "\n",
              "    [theme=dark] .colab-df-convert {\n",
              "      background-color: #3B4455;\n",
              "      fill: #D2E3FC;\n",
              "    }\n",
              "\n",
              "    [theme=dark] .colab-df-convert:hover {\n",
              "      background-color: #434B5C;\n",
              "      box-shadow: 0px 1px 3px 1px rgba(0, 0, 0, 0.15);\n",
              "      filter: drop-shadow(0px 1px 2px rgba(0, 0, 0, 0.3));\n",
              "      fill: #FFFFFF;\n",
              "    }\n",
              "  </style>\n",
              "\n",
              "      <script>\n",
              "        const buttonEl =\n",
              "          document.querySelector('#df-1b5218bd-a015-4f6f-85f1-9fd24d425dad button.colab-df-convert');\n",
              "        buttonEl.style.display =\n",
              "          google.colab.kernel.accessAllowed ? 'block' : 'none';\n",
              "\n",
              "        async function convertToInteractive(key) {\n",
              "          const element = document.querySelector('#df-1b5218bd-a015-4f6f-85f1-9fd24d425dad');\n",
              "          const dataTable =\n",
              "            await google.colab.kernel.invokeFunction('convertToInteractive',\n",
              "                                                     [key], {});\n",
              "          if (!dataTable) return;\n",
              "\n",
              "          const docLinkHtml = 'Like what you see? Visit the ' +\n",
              "            '<a target=\"_blank\" href=https://colab.research.google.com/notebooks/data_table.ipynb>data table notebook</a>'\n",
              "            + ' to learn more about interactive tables.';\n",
              "          element.innerHTML = '';\n",
              "          dataTable['output_type'] = 'display_data';\n",
              "          await google.colab.output.renderOutput(dataTable, element);\n",
              "          const docLink = document.createElement('div');\n",
              "          docLink.innerHTML = docLinkHtml;\n",
              "          element.appendChild(docLink);\n",
              "        }\n",
              "      </script>\n",
              "    </div>\n",
              "  </div>\n",
              "  "
            ]
          },
          "metadata": {},
          "execution_count": 37
        }
      ],
      "source": [
        "df.Embarked = df.replace(\n",
        "    {\"Embarked\": {\"Missing\": -1, \n",
        "             \"S\": 0,\n",
        "             \"C\": 1,\n",
        "             \"Q\": 2,\n",
        "             }}                \n",
        "                  ).Embarked \n",
        "df  "
      ]
    },
    {
      "cell_type": "code",
      "execution_count": null,
      "metadata": {
        "id": "RrqCW7-n7GGj"
      },
      "outputs": [],
      "source": [
        "# pd.get_dummies(df[\"Embarked\"])"
      ]
    },
    {
      "cell_type": "markdown",
      "metadata": {
        "id": "-SAO8i0PrqYX"
      },
      "source": [
        "### Variable Sex\n",
        "Here we will do all the necessary transformations in the variable Sex."
      ]
    },
    {
      "cell_type": "code",
      "execution_count": null,
      "metadata": {
        "id": "iG-kTIJ6r2_J"
      },
      "outputs": [],
      "source": [
        "df.Sex = df.replace(\n",
        "    {\"Sex\": {\"female\": 0, \n",
        "             \"male\": 1 }}                \n",
        "                  ).Sex  "
      ]
    },
    {
      "cell_type": "markdown",
      "metadata": {
        "id": "1jWT6wijxrrx"
      },
      "source": [
        "### Variable Name\n",
        "Here we will do all the necessary transformations in the variable Name."
      ]
    },
    {
      "cell_type": "code",
      "execution_count": null,
      "metadata": {
        "id": "VOYWN_vVOoxH"
      },
      "outputs": [],
      "source": [
        "# df[df.Name_title == Don]"
      ]
    },
    {
      "cell_type": "code",
      "execution_count": null,
      "metadata": {
        "id": "mA5xXOkmPtAu"
      },
      "outputs": [],
      "source": [
        "# filter(lambda df: df.Name_title == c(\"Dr\", 'Col', 'Capt', 'Rev'), df)"
      ]
    },
    {
      "cell_type": "code",
      "execution_count": null,
      "metadata": {
        "id": "d9IEutxcQmM6"
      },
      "outputs": [],
      "source": [
        "#name_profession = df[df.Name_title == \"Dr\"]\n",
        "#name_profession"
      ]
    },
    {
      "cell_type": "code",
      "execution_count": null,
      "metadata": {
        "id": "AiyD5GjdRV9B"
      },
      "outputs": [],
      "source": [
        "#df.Name_title = pd.get_dummies(df['Name_title'])\n",
        "\n",
        "#pd.concat([df, pd.get_dummies(df[\"Name_title\"]), axis=1)\n",
        "\n",
        "#df.Name_title.value_counts()"
      ]
    },
    {
      "cell_type": "code",
      "execution_count": null,
      "metadata": {
        "id": "WVNJGB7TU1fb"
      },
      "outputs": [],
      "source": [
        "#title_dummies = pd.concat([df, pd.get_dummies(df[\"Name_title\"])], axis=1)\n",
        "#df = pd.concat([df, title_dummies], axis=1)"
      ]
    },
    {
      "cell_type": "code",
      "execution_count": null,
      "metadata": {
        "id": "sqMR_GEmbhqM",
        "colab": {
          "base_uri": "https://localhost:8080/"
        },
        "outputId": "8fe5f54d-7e88-4ae9-d716-8666590be4b7"
      },
      "outputs": [
        {
          "output_type": "execute_result",
          "data": {
            "text/plain": [
              "array([' Miss', ' Mr', ' Mrs', ' Master', ' Rev', ' Dr', ' Don', ' Mme',\n",
              "       ' Col', ' Major', ' Sir', ' Ms', ' Mlle', ' Jonkheer',\n",
              "       ' the Countess', ' Capt', ' Lady'], dtype=object)"
            ]
          },
          "metadata": {},
          "execution_count": 45
        }
      ],
      "source": [
        "# https://www.geeksforgeeks.org/extract-substrings-between-any-pair-of-delimiters/\n",
        "\n",
        "# import re\n",
        "\n",
        "df['Name_title'] = df['Name'].apply(lambda st: st[st.find(\",\")+1:st.find(\".\")])\n",
        "\n",
        "\n",
        "# Function to print Strings present\n",
        "# between any pair of delimiters\n",
        "# def printSubsInDelimiters(sos):\n",
        " \n",
        "    # Regex to extract the string\n",
        "    # between two delimiters\n",
        "#    regex = \"\\\\[(,*.)\\\\]\"\n",
        " \n",
        "    # Find match between given string\n",
        "    # and regular expression\n",
        "    # using re.findall()\n",
        "#    matches = re.findall(regex, sos)\n",
        " \n",
        "    # Print the matches\n",
        "#    for match in matches:\n",
        "#       print(match)\n",
        "\n",
        "df.head()\n",
        "df['Name_title'].unique()\n",
        "\n",
        "#Dummy_Profession = df['Name_title']\n",
        "#df.insert(5,'Dummy_Profession', Dummy_Profession)\n",
        "\n",
        "# dummy_profession =  ifelse(df['Name_tittle'] = c(\"Dr\", 'Col', 'Capt', 'Rev'), 1, 0)\n",
        "#df.Name_title  = df.replace(\n",
        "#    {\"Name_title\": {\"Dr\": 1, \n",
        "#             \"Col\": 1,\n",
        "#             \"Major\": 1,\n",
        "#             \"Capt\": 1,\n",
        "#             \"Rev\": 1,\n",
        "#             \"Miss\": 0,\n",
        "#             \"Mr\": 0, \n",
        "#             \"Mrs\": 0,\n",
        "#            \"Master\": 0,\n",
        "#             \"Mlle\": 0,\n",
        "#             \"Mme\": 0,\n",
        "#             \"Ms\": 0,\n",
        "#             \"Don\": 2,\n",
        "#             \"Sir\": 2,\n",
        "#             \"the Countess\": 2,\n",
        "#             \"Jonkheer\": 2,\n",
        "#             \"Lady\": 2}}                \n",
        "#                  ).Name_title \n",
        "#df  \n",
        "#df.insert(5,'Dummy_Profession', Dummy_Profession)\n",
        "\n",
        "\n",
        "# sos.to_csv(\"/Users/gabrielabrogim/Downloads/names.csv\")"
      ]
    },
    {
      "cell_type": "markdown",
      "source": [
        "Now we will create a dummy indicating if that passenger has a tittle attributed to his/her name. "
      ],
      "metadata": {
        "id": "TM0f-rvu3GZy"
      }
    },
    {
      "cell_type": "code",
      "source": [
        "#relevant_titles = [\"Rev\",\"Dr\",\"Don\",\"Col\",\"Major\",\"Sir\",\"Cap\",\"Jonkheer\",\"the Countess\",\"Lady\"]"
      ],
      "metadata": {
        "id": "k4NwYN5x3Sek"
      },
      "execution_count": null,
      "outputs": []
    },
    {
      "cell_type": "code",
      "source": [
        "# for Name_title in [\"Rev\",\"Dr\",\"Don\",\"Col\",\"Major\",\"Sir\",\"Cap\",\"Jonkheer\",\"the Countess\",\"Lady\"]: \n",
        "#df[\"Has_title\"] =  np.where(df['Name_title'] [\"Rev\",\"Dr\",\"Don\",\"Col\",\"Major\",\"Sir\",\"Cap\",\"Jonkheer\",\"the Countess\",\"Lady\"] , 1, 0)  \n"
      ],
      "metadata": {
        "id": "fU8_7Jup6S3P"
      },
      "execution_count": null,
      "outputs": []
    },
    {
      "cell_type": "code",
      "source": [
        "#df[\"Has_title\"].unique()"
      ],
      "metadata": {
        "id": "RSasSLrA7R-R"
      },
      "execution_count": null,
      "outputs": []
    },
    {
      "cell_type": "code",
      "execution_count": null,
      "metadata": {
        "id": "vBJeosl2UZ5o"
      },
      "outputs": [],
      "source": [
        "#agrvai = pd.get_dummies(df.Name_title)\n",
        "#df = pd.concat([df, agrvai], axis=1)\n",
        "#df.head()"
      ]
    },
    {
      "cell_type": "code",
      "source": [
        "#for dataset in df:\n",
        "\n",
        "#    dataset['Name_title'] = dataset['Name_title'].replace(['Lady', 'Countess','Capt', 'Col','Don', 'Dr', 'Major', 'Rev', 'Sir', 'Jonkheer', 'Dona'], 'Rare')\n",
        "\n",
        "#    dataset['Name_title'] = dataset['Name_title'].replace('Mlle', 'Miss')\n",
        "#    dataset['Name_title'] = dataset['Name_title'].replace('Ms', 'Miss')\n",
        "#    dataset['Name_title'] = dataset['Name_title'].replace('Mme', 'Mrs')\n",
        "    \n",
        "# train_df[['Name_title', 'Survived']].groupby(['Name_title'], as_index=False).mean()"
      ],
      "metadata": {
        "id": "KwfuZPACZqZA"
      },
      "execution_count": null,
      "outputs": []
    },
    {
      "cell_type": "code",
      "source": [
        "#title_mapping = {\"Mr\": 1, \"Miss\": 2, \"Mrs\": 3, \"Master\": 4, \"Rare\": 5}\n",
        "\n",
        "#for df in combine:\n",
        "#    dataset['Title'] = dataset['Title'].map(title_mapping)\n",
        "#    dataset['Title'] = dataset['Title'].fillna(0)\n",
        "\n",
        "#train_df.head()"
      ],
      "metadata": {
        "id": "GkIzFBbzZVne"
      },
      "execution_count": null,
      "outputs": []
    },
    {
      "cell_type": "markdown",
      "source": [
        "### Variable Family Size"
      ],
      "metadata": {
        "id": "LTE_XIXw97AZ"
      }
    },
    {
      "cell_type": "code",
      "source": [
        "df[\"Family_size\"]=df[\"SibSp\"]+df[\"Parch\"]"
      ],
      "metadata": {
        "id": "pIZvKXJt-Ato"
      },
      "execution_count": null,
      "outputs": []
    },
    {
      "cell_type": "code",
      "source": [
        "df"
      ],
      "metadata": {
        "colab": {
          "base_uri": "https://localhost:8080/",
          "height": 745
        },
        "id": "b4gtWm7k-hN6",
        "outputId": "1a7224fb-ba1a-488e-bd3b-bd10e2b30211"
      },
      "execution_count": null,
      "outputs": [
        {
          "output_type": "execute_result",
          "data": {
            "text/plain": [
              "     Pclass                                             Name  Sex   Age  \\\n",
              "192       3  Andersen-Jensen, Miss. Carla Christine Nielsine    0  19.0   \n",
              "191       2                            Carbines, Mr. William    1  19.0   \n",
              "714       2                            Greenberg, Mr. Samuel    1  52.0   \n",
              "532       3                             Elias, Mr. Joseph Jr    1  17.0   \n",
              "132       3   Robins, Mrs. Alexander A (Grace Charity Laury)    0  47.0   \n",
              "..      ...                                              ...  ...   ...   \n",
              "347       3        Davison, Mrs. Thomas Henry (Mary E Finck)    0  -1.0   \n",
              "218       1                            Bazzani, Miss. Albina    0  32.0   \n",
              "239       2                           Hunt, Mr. George Henry    1  33.0   \n",
              "491       3                              Windelov, Mr. Einar    1  21.0   \n",
              "872       1                         Carlsson, Mr. Frans Olof    1  33.0   \n",
              "\n",
              "     SibSp  age_group  Dummy_Age  Cabin_Digit  Dummy_Cabin  Parch  \\\n",
              "192      1          2          1           -1            0      0   \n",
              "191      0          2          1           -1            0      0   \n",
              "714      0          2          1           -1            0      0   \n",
              "532      1          1          1           -1            0      1   \n",
              "132      1          2          1           -1            0      0   \n",
              "..     ...        ...        ...          ...          ...    ...   \n",
              "347      1         -1          0           -1            0      0   \n",
              "218      0          2          1            4            1      0   \n",
              "239      0          2          1           -1            0      0   \n",
              "491      0          2          1           -1            0      0   \n",
              "872      0          2          1            6            1      0   \n",
              "\n",
              "               Ticket     Fare        Cabin  Embarked Name_title  Family_size  \n",
              "192            350046   7.8542     No Cabin         0       Miss            1  \n",
              "191             28424  13.0000     No Cabin         0         Mr            0  \n",
              "714            250647  13.0000     No Cabin         0         Mr            0  \n",
              "532              2690   7.2292     No Cabin         1         Mr            2  \n",
              "132         A/5. 3337  14.5000     No Cabin         0        Mrs            1  \n",
              "..                ...      ...          ...       ...        ...          ...  \n",
              "347            386525  16.1000     No Cabin         0        Mrs            1  \n",
              "218             11813  76.2917          D15         1       Miss            0  \n",
              "239        SCO/W 1585  12.2750     No Cabin         0         Mr            0  \n",
              "491  SOTON/OQ 3101317   7.2500     No Cabin         0         Mr            0  \n",
              "872               695   5.0000  B51 B53 B55         0         Mr            0  \n",
              "\n",
              "[891 rows x 16 columns]"
            ],
            "text/html": [
              "\n",
              "  <div id=\"df-07e355a9-6007-402d-b87d-b804d1924a24\">\n",
              "    <div class=\"colab-df-container\">\n",
              "      <div>\n",
              "<style scoped>\n",
              "    .dataframe tbody tr th:only-of-type {\n",
              "        vertical-align: middle;\n",
              "    }\n",
              "\n",
              "    .dataframe tbody tr th {\n",
              "        vertical-align: top;\n",
              "    }\n",
              "\n",
              "    .dataframe thead th {\n",
              "        text-align: right;\n",
              "    }\n",
              "</style>\n",
              "<table border=\"1\" class=\"dataframe\">\n",
              "  <thead>\n",
              "    <tr style=\"text-align: right;\">\n",
              "      <th></th>\n",
              "      <th>Pclass</th>\n",
              "      <th>Name</th>\n",
              "      <th>Sex</th>\n",
              "      <th>Age</th>\n",
              "      <th>SibSp</th>\n",
              "      <th>age_group</th>\n",
              "      <th>Dummy_Age</th>\n",
              "      <th>Cabin_Digit</th>\n",
              "      <th>Dummy_Cabin</th>\n",
              "      <th>Parch</th>\n",
              "      <th>Ticket</th>\n",
              "      <th>Fare</th>\n",
              "      <th>Cabin</th>\n",
              "      <th>Embarked</th>\n",
              "      <th>Name_title</th>\n",
              "      <th>Family_size</th>\n",
              "    </tr>\n",
              "  </thead>\n",
              "  <tbody>\n",
              "    <tr>\n",
              "      <th>192</th>\n",
              "      <td>3</td>\n",
              "      <td>Andersen-Jensen, Miss. Carla Christine Nielsine</td>\n",
              "      <td>0</td>\n",
              "      <td>19.0</td>\n",
              "      <td>1</td>\n",
              "      <td>2</td>\n",
              "      <td>1</td>\n",
              "      <td>-1</td>\n",
              "      <td>0</td>\n",
              "      <td>0</td>\n",
              "      <td>350046</td>\n",
              "      <td>7.8542</td>\n",
              "      <td>No Cabin</td>\n",
              "      <td>0</td>\n",
              "      <td>Miss</td>\n",
              "      <td>1</td>\n",
              "    </tr>\n",
              "    <tr>\n",
              "      <th>191</th>\n",
              "      <td>2</td>\n",
              "      <td>Carbines, Mr. William</td>\n",
              "      <td>1</td>\n",
              "      <td>19.0</td>\n",
              "      <td>0</td>\n",
              "      <td>2</td>\n",
              "      <td>1</td>\n",
              "      <td>-1</td>\n",
              "      <td>0</td>\n",
              "      <td>0</td>\n",
              "      <td>28424</td>\n",
              "      <td>13.0000</td>\n",
              "      <td>No Cabin</td>\n",
              "      <td>0</td>\n",
              "      <td>Mr</td>\n",
              "      <td>0</td>\n",
              "    </tr>\n",
              "    <tr>\n",
              "      <th>714</th>\n",
              "      <td>2</td>\n",
              "      <td>Greenberg, Mr. Samuel</td>\n",
              "      <td>1</td>\n",
              "      <td>52.0</td>\n",
              "      <td>0</td>\n",
              "      <td>2</td>\n",
              "      <td>1</td>\n",
              "      <td>-1</td>\n",
              "      <td>0</td>\n",
              "      <td>0</td>\n",
              "      <td>250647</td>\n",
              "      <td>13.0000</td>\n",
              "      <td>No Cabin</td>\n",
              "      <td>0</td>\n",
              "      <td>Mr</td>\n",
              "      <td>0</td>\n",
              "    </tr>\n",
              "    <tr>\n",
              "      <th>532</th>\n",
              "      <td>3</td>\n",
              "      <td>Elias, Mr. Joseph Jr</td>\n",
              "      <td>1</td>\n",
              "      <td>17.0</td>\n",
              "      <td>1</td>\n",
              "      <td>1</td>\n",
              "      <td>1</td>\n",
              "      <td>-1</td>\n",
              "      <td>0</td>\n",
              "      <td>1</td>\n",
              "      <td>2690</td>\n",
              "      <td>7.2292</td>\n",
              "      <td>No Cabin</td>\n",
              "      <td>1</td>\n",
              "      <td>Mr</td>\n",
              "      <td>2</td>\n",
              "    </tr>\n",
              "    <tr>\n",
              "      <th>132</th>\n",
              "      <td>3</td>\n",
              "      <td>Robins, Mrs. Alexander A (Grace Charity Laury)</td>\n",
              "      <td>0</td>\n",
              "      <td>47.0</td>\n",
              "      <td>1</td>\n",
              "      <td>2</td>\n",
              "      <td>1</td>\n",
              "      <td>-1</td>\n",
              "      <td>0</td>\n",
              "      <td>0</td>\n",
              "      <td>A/5. 3337</td>\n",
              "      <td>14.5000</td>\n",
              "      <td>No Cabin</td>\n",
              "      <td>0</td>\n",
              "      <td>Mrs</td>\n",
              "      <td>1</td>\n",
              "    </tr>\n",
              "    <tr>\n",
              "      <th>...</th>\n",
              "      <td>...</td>\n",
              "      <td>...</td>\n",
              "      <td>...</td>\n",
              "      <td>...</td>\n",
              "      <td>...</td>\n",
              "      <td>...</td>\n",
              "      <td>...</td>\n",
              "      <td>...</td>\n",
              "      <td>...</td>\n",
              "      <td>...</td>\n",
              "      <td>...</td>\n",
              "      <td>...</td>\n",
              "      <td>...</td>\n",
              "      <td>...</td>\n",
              "      <td>...</td>\n",
              "      <td>...</td>\n",
              "    </tr>\n",
              "    <tr>\n",
              "      <th>347</th>\n",
              "      <td>3</td>\n",
              "      <td>Davison, Mrs. Thomas Henry (Mary E Finck)</td>\n",
              "      <td>0</td>\n",
              "      <td>-1.0</td>\n",
              "      <td>1</td>\n",
              "      <td>-1</td>\n",
              "      <td>0</td>\n",
              "      <td>-1</td>\n",
              "      <td>0</td>\n",
              "      <td>0</td>\n",
              "      <td>386525</td>\n",
              "      <td>16.1000</td>\n",
              "      <td>No Cabin</td>\n",
              "      <td>0</td>\n",
              "      <td>Mrs</td>\n",
              "      <td>1</td>\n",
              "    </tr>\n",
              "    <tr>\n",
              "      <th>218</th>\n",
              "      <td>1</td>\n",
              "      <td>Bazzani, Miss. Albina</td>\n",
              "      <td>0</td>\n",
              "      <td>32.0</td>\n",
              "      <td>0</td>\n",
              "      <td>2</td>\n",
              "      <td>1</td>\n",
              "      <td>4</td>\n",
              "      <td>1</td>\n",
              "      <td>0</td>\n",
              "      <td>11813</td>\n",
              "      <td>76.2917</td>\n",
              "      <td>D15</td>\n",
              "      <td>1</td>\n",
              "      <td>Miss</td>\n",
              "      <td>0</td>\n",
              "    </tr>\n",
              "    <tr>\n",
              "      <th>239</th>\n",
              "      <td>2</td>\n",
              "      <td>Hunt, Mr. George Henry</td>\n",
              "      <td>1</td>\n",
              "      <td>33.0</td>\n",
              "      <td>0</td>\n",
              "      <td>2</td>\n",
              "      <td>1</td>\n",
              "      <td>-1</td>\n",
              "      <td>0</td>\n",
              "      <td>0</td>\n",
              "      <td>SCO/W 1585</td>\n",
              "      <td>12.2750</td>\n",
              "      <td>No Cabin</td>\n",
              "      <td>0</td>\n",
              "      <td>Mr</td>\n",
              "      <td>0</td>\n",
              "    </tr>\n",
              "    <tr>\n",
              "      <th>491</th>\n",
              "      <td>3</td>\n",
              "      <td>Windelov, Mr. Einar</td>\n",
              "      <td>1</td>\n",
              "      <td>21.0</td>\n",
              "      <td>0</td>\n",
              "      <td>2</td>\n",
              "      <td>1</td>\n",
              "      <td>-1</td>\n",
              "      <td>0</td>\n",
              "      <td>0</td>\n",
              "      <td>SOTON/OQ 3101317</td>\n",
              "      <td>7.2500</td>\n",
              "      <td>No Cabin</td>\n",
              "      <td>0</td>\n",
              "      <td>Mr</td>\n",
              "      <td>0</td>\n",
              "    </tr>\n",
              "    <tr>\n",
              "      <th>872</th>\n",
              "      <td>1</td>\n",
              "      <td>Carlsson, Mr. Frans Olof</td>\n",
              "      <td>1</td>\n",
              "      <td>33.0</td>\n",
              "      <td>0</td>\n",
              "      <td>2</td>\n",
              "      <td>1</td>\n",
              "      <td>6</td>\n",
              "      <td>1</td>\n",
              "      <td>0</td>\n",
              "      <td>695</td>\n",
              "      <td>5.0000</td>\n",
              "      <td>B51 B53 B55</td>\n",
              "      <td>0</td>\n",
              "      <td>Mr</td>\n",
              "      <td>0</td>\n",
              "    </tr>\n",
              "  </tbody>\n",
              "</table>\n",
              "<p>891 rows × 16 columns</p>\n",
              "</div>\n",
              "      <button class=\"colab-df-convert\" onclick=\"convertToInteractive('df-07e355a9-6007-402d-b87d-b804d1924a24')\"\n",
              "              title=\"Convert this dataframe to an interactive table.\"\n",
              "              style=\"display:none;\">\n",
              "        \n",
              "  <svg xmlns=\"http://www.w3.org/2000/svg\" height=\"24px\"viewBox=\"0 0 24 24\"\n",
              "       width=\"24px\">\n",
              "    <path d=\"M0 0h24v24H0V0z\" fill=\"none\"/>\n",
              "    <path d=\"M18.56 5.44l.94 2.06.94-2.06 2.06-.94-2.06-.94-.94-2.06-.94 2.06-2.06.94zm-11 1L8.5 8.5l.94-2.06 2.06-.94-2.06-.94L8.5 2.5l-.94 2.06-2.06.94zm10 10l.94 2.06.94-2.06 2.06-.94-2.06-.94-.94-2.06-.94 2.06-2.06.94z\"/><path d=\"M17.41 7.96l-1.37-1.37c-.4-.4-.92-.59-1.43-.59-.52 0-1.04.2-1.43.59L10.3 9.45l-7.72 7.72c-.78.78-.78 2.05 0 2.83L4 21.41c.39.39.9.59 1.41.59.51 0 1.02-.2 1.41-.59l7.78-7.78 2.81-2.81c.8-.78.8-2.07 0-2.86zM5.41 20L4 18.59l7.72-7.72 1.47 1.35L5.41 20z\"/>\n",
              "  </svg>\n",
              "      </button>\n",
              "      \n",
              "  <style>\n",
              "    .colab-df-container {\n",
              "      display:flex;\n",
              "      flex-wrap:wrap;\n",
              "      gap: 12px;\n",
              "    }\n",
              "\n",
              "    .colab-df-convert {\n",
              "      background-color: #E8F0FE;\n",
              "      border: none;\n",
              "      border-radius: 50%;\n",
              "      cursor: pointer;\n",
              "      display: none;\n",
              "      fill: #1967D2;\n",
              "      height: 32px;\n",
              "      padding: 0 0 0 0;\n",
              "      width: 32px;\n",
              "    }\n",
              "\n",
              "    .colab-df-convert:hover {\n",
              "      background-color: #E2EBFA;\n",
              "      box-shadow: 0px 1px 2px rgba(60, 64, 67, 0.3), 0px 1px 3px 1px rgba(60, 64, 67, 0.15);\n",
              "      fill: #174EA6;\n",
              "    }\n",
              "\n",
              "    [theme=dark] .colab-df-convert {\n",
              "      background-color: #3B4455;\n",
              "      fill: #D2E3FC;\n",
              "    }\n",
              "\n",
              "    [theme=dark] .colab-df-convert:hover {\n",
              "      background-color: #434B5C;\n",
              "      box-shadow: 0px 1px 3px 1px rgba(0, 0, 0, 0.15);\n",
              "      filter: drop-shadow(0px 1px 2px rgba(0, 0, 0, 0.3));\n",
              "      fill: #FFFFFF;\n",
              "    }\n",
              "  </style>\n",
              "\n",
              "      <script>\n",
              "        const buttonEl =\n",
              "          document.querySelector('#df-07e355a9-6007-402d-b87d-b804d1924a24 button.colab-df-convert');\n",
              "        buttonEl.style.display =\n",
              "          google.colab.kernel.accessAllowed ? 'block' : 'none';\n",
              "\n",
              "        async function convertToInteractive(key) {\n",
              "          const element = document.querySelector('#df-07e355a9-6007-402d-b87d-b804d1924a24');\n",
              "          const dataTable =\n",
              "            await google.colab.kernel.invokeFunction('convertToInteractive',\n",
              "                                                     [key], {});\n",
              "          if (!dataTable) return;\n",
              "\n",
              "          const docLinkHtml = 'Like what you see? Visit the ' +\n",
              "            '<a target=\"_blank\" href=https://colab.research.google.com/notebooks/data_table.ipynb>data table notebook</a>'\n",
              "            + ' to learn more about interactive tables.';\n",
              "          element.innerHTML = '';\n",
              "          dataTable['output_type'] = 'display_data';\n",
              "          await google.colab.output.renderOutput(dataTable, element);\n",
              "          const docLink = document.createElement('div');\n",
              "          docLink.innerHTML = docLinkHtml;\n",
              "          element.appendChild(docLink);\n",
              "        }\n",
              "      </script>\n",
              "    </div>\n",
              "  </div>\n",
              "  "
            ]
          },
          "metadata": {},
          "execution_count": 53
        }
      ]
    },
    {
      "cell_type": "markdown",
      "source": [
        "Droping SibSp and Parch "
      ],
      "metadata": {
        "id": "bg5-DLBp-nBm"
      }
    },
    {
      "cell_type": "code",
      "source": [
        "# df = df.drop(['SibSp', 'Parch'], axis = 1)\n",
        "\n",
        "# We have decided not to drop both variables aiming to increase the accuracy measures of our models "
      ],
      "metadata": {
        "id": "sr3DbD2O-qSd"
      },
      "execution_count": null,
      "outputs": []
    },
    {
      "cell_type": "code",
      "source": [
        "df"
      ],
      "metadata": {
        "colab": {
          "base_uri": "https://localhost:8080/",
          "height": 745
        },
        "id": "I6aTrX6F_DcZ",
        "outputId": "a57912e7-0289-4056-8701-e0f248e8ec40"
      },
      "execution_count": null,
      "outputs": [
        {
          "output_type": "execute_result",
          "data": {
            "text/plain": [
              "     Pclass                                             Name  Sex   Age  \\\n",
              "192       3  Andersen-Jensen, Miss. Carla Christine Nielsine    0  19.0   \n",
              "191       2                            Carbines, Mr. William    1  19.0   \n",
              "714       2                            Greenberg, Mr. Samuel    1  52.0   \n",
              "532       3                             Elias, Mr. Joseph Jr    1  17.0   \n",
              "132       3   Robins, Mrs. Alexander A (Grace Charity Laury)    0  47.0   \n",
              "..      ...                                              ...  ...   ...   \n",
              "347       3        Davison, Mrs. Thomas Henry (Mary E Finck)    0  -1.0   \n",
              "218       1                            Bazzani, Miss. Albina    0  32.0   \n",
              "239       2                           Hunt, Mr. George Henry    1  33.0   \n",
              "491       3                              Windelov, Mr. Einar    1  21.0   \n",
              "872       1                         Carlsson, Mr. Frans Olof    1  33.0   \n",
              "\n",
              "     SibSp  age_group  Dummy_Age  Cabin_Digit  Dummy_Cabin  Parch  \\\n",
              "192      1          2          1           -1            0      0   \n",
              "191      0          2          1           -1            0      0   \n",
              "714      0          2          1           -1            0      0   \n",
              "532      1          1          1           -1            0      1   \n",
              "132      1          2          1           -1            0      0   \n",
              "..     ...        ...        ...          ...          ...    ...   \n",
              "347      1         -1          0           -1            0      0   \n",
              "218      0          2          1            4            1      0   \n",
              "239      0          2          1           -1            0      0   \n",
              "491      0          2          1           -1            0      0   \n",
              "872      0          2          1            6            1      0   \n",
              "\n",
              "               Ticket     Fare        Cabin  Embarked Name_title  Family_size  \n",
              "192            350046   7.8542     No Cabin         0       Miss            1  \n",
              "191             28424  13.0000     No Cabin         0         Mr            0  \n",
              "714            250647  13.0000     No Cabin         0         Mr            0  \n",
              "532              2690   7.2292     No Cabin         1         Mr            2  \n",
              "132         A/5. 3337  14.5000     No Cabin         0        Mrs            1  \n",
              "..                ...      ...          ...       ...        ...          ...  \n",
              "347            386525  16.1000     No Cabin         0        Mrs            1  \n",
              "218             11813  76.2917          D15         1       Miss            0  \n",
              "239        SCO/W 1585  12.2750     No Cabin         0         Mr            0  \n",
              "491  SOTON/OQ 3101317   7.2500     No Cabin         0         Mr            0  \n",
              "872               695   5.0000  B51 B53 B55         0         Mr            0  \n",
              "\n",
              "[891 rows x 16 columns]"
            ],
            "text/html": [
              "\n",
              "  <div id=\"df-16bdade6-e060-4a76-964f-eaa2b2066eb2\">\n",
              "    <div class=\"colab-df-container\">\n",
              "      <div>\n",
              "<style scoped>\n",
              "    .dataframe tbody tr th:only-of-type {\n",
              "        vertical-align: middle;\n",
              "    }\n",
              "\n",
              "    .dataframe tbody tr th {\n",
              "        vertical-align: top;\n",
              "    }\n",
              "\n",
              "    .dataframe thead th {\n",
              "        text-align: right;\n",
              "    }\n",
              "</style>\n",
              "<table border=\"1\" class=\"dataframe\">\n",
              "  <thead>\n",
              "    <tr style=\"text-align: right;\">\n",
              "      <th></th>\n",
              "      <th>Pclass</th>\n",
              "      <th>Name</th>\n",
              "      <th>Sex</th>\n",
              "      <th>Age</th>\n",
              "      <th>SibSp</th>\n",
              "      <th>age_group</th>\n",
              "      <th>Dummy_Age</th>\n",
              "      <th>Cabin_Digit</th>\n",
              "      <th>Dummy_Cabin</th>\n",
              "      <th>Parch</th>\n",
              "      <th>Ticket</th>\n",
              "      <th>Fare</th>\n",
              "      <th>Cabin</th>\n",
              "      <th>Embarked</th>\n",
              "      <th>Name_title</th>\n",
              "      <th>Family_size</th>\n",
              "    </tr>\n",
              "  </thead>\n",
              "  <tbody>\n",
              "    <tr>\n",
              "      <th>192</th>\n",
              "      <td>3</td>\n",
              "      <td>Andersen-Jensen, Miss. Carla Christine Nielsine</td>\n",
              "      <td>0</td>\n",
              "      <td>19.0</td>\n",
              "      <td>1</td>\n",
              "      <td>2</td>\n",
              "      <td>1</td>\n",
              "      <td>-1</td>\n",
              "      <td>0</td>\n",
              "      <td>0</td>\n",
              "      <td>350046</td>\n",
              "      <td>7.8542</td>\n",
              "      <td>No Cabin</td>\n",
              "      <td>0</td>\n",
              "      <td>Miss</td>\n",
              "      <td>1</td>\n",
              "    </tr>\n",
              "    <tr>\n",
              "      <th>191</th>\n",
              "      <td>2</td>\n",
              "      <td>Carbines, Mr. William</td>\n",
              "      <td>1</td>\n",
              "      <td>19.0</td>\n",
              "      <td>0</td>\n",
              "      <td>2</td>\n",
              "      <td>1</td>\n",
              "      <td>-1</td>\n",
              "      <td>0</td>\n",
              "      <td>0</td>\n",
              "      <td>28424</td>\n",
              "      <td>13.0000</td>\n",
              "      <td>No Cabin</td>\n",
              "      <td>0</td>\n",
              "      <td>Mr</td>\n",
              "      <td>0</td>\n",
              "    </tr>\n",
              "    <tr>\n",
              "      <th>714</th>\n",
              "      <td>2</td>\n",
              "      <td>Greenberg, Mr. Samuel</td>\n",
              "      <td>1</td>\n",
              "      <td>52.0</td>\n",
              "      <td>0</td>\n",
              "      <td>2</td>\n",
              "      <td>1</td>\n",
              "      <td>-1</td>\n",
              "      <td>0</td>\n",
              "      <td>0</td>\n",
              "      <td>250647</td>\n",
              "      <td>13.0000</td>\n",
              "      <td>No Cabin</td>\n",
              "      <td>0</td>\n",
              "      <td>Mr</td>\n",
              "      <td>0</td>\n",
              "    </tr>\n",
              "    <tr>\n",
              "      <th>532</th>\n",
              "      <td>3</td>\n",
              "      <td>Elias, Mr. Joseph Jr</td>\n",
              "      <td>1</td>\n",
              "      <td>17.0</td>\n",
              "      <td>1</td>\n",
              "      <td>1</td>\n",
              "      <td>1</td>\n",
              "      <td>-1</td>\n",
              "      <td>0</td>\n",
              "      <td>1</td>\n",
              "      <td>2690</td>\n",
              "      <td>7.2292</td>\n",
              "      <td>No Cabin</td>\n",
              "      <td>1</td>\n",
              "      <td>Mr</td>\n",
              "      <td>2</td>\n",
              "    </tr>\n",
              "    <tr>\n",
              "      <th>132</th>\n",
              "      <td>3</td>\n",
              "      <td>Robins, Mrs. Alexander A (Grace Charity Laury)</td>\n",
              "      <td>0</td>\n",
              "      <td>47.0</td>\n",
              "      <td>1</td>\n",
              "      <td>2</td>\n",
              "      <td>1</td>\n",
              "      <td>-1</td>\n",
              "      <td>0</td>\n",
              "      <td>0</td>\n",
              "      <td>A/5. 3337</td>\n",
              "      <td>14.5000</td>\n",
              "      <td>No Cabin</td>\n",
              "      <td>0</td>\n",
              "      <td>Mrs</td>\n",
              "      <td>1</td>\n",
              "    </tr>\n",
              "    <tr>\n",
              "      <th>...</th>\n",
              "      <td>...</td>\n",
              "      <td>...</td>\n",
              "      <td>...</td>\n",
              "      <td>...</td>\n",
              "      <td>...</td>\n",
              "      <td>...</td>\n",
              "      <td>...</td>\n",
              "      <td>...</td>\n",
              "      <td>...</td>\n",
              "      <td>...</td>\n",
              "      <td>...</td>\n",
              "      <td>...</td>\n",
              "      <td>...</td>\n",
              "      <td>...</td>\n",
              "      <td>...</td>\n",
              "      <td>...</td>\n",
              "    </tr>\n",
              "    <tr>\n",
              "      <th>347</th>\n",
              "      <td>3</td>\n",
              "      <td>Davison, Mrs. Thomas Henry (Mary E Finck)</td>\n",
              "      <td>0</td>\n",
              "      <td>-1.0</td>\n",
              "      <td>1</td>\n",
              "      <td>-1</td>\n",
              "      <td>0</td>\n",
              "      <td>-1</td>\n",
              "      <td>0</td>\n",
              "      <td>0</td>\n",
              "      <td>386525</td>\n",
              "      <td>16.1000</td>\n",
              "      <td>No Cabin</td>\n",
              "      <td>0</td>\n",
              "      <td>Mrs</td>\n",
              "      <td>1</td>\n",
              "    </tr>\n",
              "    <tr>\n",
              "      <th>218</th>\n",
              "      <td>1</td>\n",
              "      <td>Bazzani, Miss. Albina</td>\n",
              "      <td>0</td>\n",
              "      <td>32.0</td>\n",
              "      <td>0</td>\n",
              "      <td>2</td>\n",
              "      <td>1</td>\n",
              "      <td>4</td>\n",
              "      <td>1</td>\n",
              "      <td>0</td>\n",
              "      <td>11813</td>\n",
              "      <td>76.2917</td>\n",
              "      <td>D15</td>\n",
              "      <td>1</td>\n",
              "      <td>Miss</td>\n",
              "      <td>0</td>\n",
              "    </tr>\n",
              "    <tr>\n",
              "      <th>239</th>\n",
              "      <td>2</td>\n",
              "      <td>Hunt, Mr. George Henry</td>\n",
              "      <td>1</td>\n",
              "      <td>33.0</td>\n",
              "      <td>0</td>\n",
              "      <td>2</td>\n",
              "      <td>1</td>\n",
              "      <td>-1</td>\n",
              "      <td>0</td>\n",
              "      <td>0</td>\n",
              "      <td>SCO/W 1585</td>\n",
              "      <td>12.2750</td>\n",
              "      <td>No Cabin</td>\n",
              "      <td>0</td>\n",
              "      <td>Mr</td>\n",
              "      <td>0</td>\n",
              "    </tr>\n",
              "    <tr>\n",
              "      <th>491</th>\n",
              "      <td>3</td>\n",
              "      <td>Windelov, Mr. Einar</td>\n",
              "      <td>1</td>\n",
              "      <td>21.0</td>\n",
              "      <td>0</td>\n",
              "      <td>2</td>\n",
              "      <td>1</td>\n",
              "      <td>-1</td>\n",
              "      <td>0</td>\n",
              "      <td>0</td>\n",
              "      <td>SOTON/OQ 3101317</td>\n",
              "      <td>7.2500</td>\n",
              "      <td>No Cabin</td>\n",
              "      <td>0</td>\n",
              "      <td>Mr</td>\n",
              "      <td>0</td>\n",
              "    </tr>\n",
              "    <tr>\n",
              "      <th>872</th>\n",
              "      <td>1</td>\n",
              "      <td>Carlsson, Mr. Frans Olof</td>\n",
              "      <td>1</td>\n",
              "      <td>33.0</td>\n",
              "      <td>0</td>\n",
              "      <td>2</td>\n",
              "      <td>1</td>\n",
              "      <td>6</td>\n",
              "      <td>1</td>\n",
              "      <td>0</td>\n",
              "      <td>695</td>\n",
              "      <td>5.0000</td>\n",
              "      <td>B51 B53 B55</td>\n",
              "      <td>0</td>\n",
              "      <td>Mr</td>\n",
              "      <td>0</td>\n",
              "    </tr>\n",
              "  </tbody>\n",
              "</table>\n",
              "<p>891 rows × 16 columns</p>\n",
              "</div>\n",
              "      <button class=\"colab-df-convert\" onclick=\"convertToInteractive('df-16bdade6-e060-4a76-964f-eaa2b2066eb2')\"\n",
              "              title=\"Convert this dataframe to an interactive table.\"\n",
              "              style=\"display:none;\">\n",
              "        \n",
              "  <svg xmlns=\"http://www.w3.org/2000/svg\" height=\"24px\"viewBox=\"0 0 24 24\"\n",
              "       width=\"24px\">\n",
              "    <path d=\"M0 0h24v24H0V0z\" fill=\"none\"/>\n",
              "    <path d=\"M18.56 5.44l.94 2.06.94-2.06 2.06-.94-2.06-.94-.94-2.06-.94 2.06-2.06.94zm-11 1L8.5 8.5l.94-2.06 2.06-.94-2.06-.94L8.5 2.5l-.94 2.06-2.06.94zm10 10l.94 2.06.94-2.06 2.06-.94-2.06-.94-.94-2.06-.94 2.06-2.06.94z\"/><path d=\"M17.41 7.96l-1.37-1.37c-.4-.4-.92-.59-1.43-.59-.52 0-1.04.2-1.43.59L10.3 9.45l-7.72 7.72c-.78.78-.78 2.05 0 2.83L4 21.41c.39.39.9.59 1.41.59.51 0 1.02-.2 1.41-.59l7.78-7.78 2.81-2.81c.8-.78.8-2.07 0-2.86zM5.41 20L4 18.59l7.72-7.72 1.47 1.35L5.41 20z\"/>\n",
              "  </svg>\n",
              "      </button>\n",
              "      \n",
              "  <style>\n",
              "    .colab-df-container {\n",
              "      display:flex;\n",
              "      flex-wrap:wrap;\n",
              "      gap: 12px;\n",
              "    }\n",
              "\n",
              "    .colab-df-convert {\n",
              "      background-color: #E8F0FE;\n",
              "      border: none;\n",
              "      border-radius: 50%;\n",
              "      cursor: pointer;\n",
              "      display: none;\n",
              "      fill: #1967D2;\n",
              "      height: 32px;\n",
              "      padding: 0 0 0 0;\n",
              "      width: 32px;\n",
              "    }\n",
              "\n",
              "    .colab-df-convert:hover {\n",
              "      background-color: #E2EBFA;\n",
              "      box-shadow: 0px 1px 2px rgba(60, 64, 67, 0.3), 0px 1px 3px 1px rgba(60, 64, 67, 0.15);\n",
              "      fill: #174EA6;\n",
              "    }\n",
              "\n",
              "    [theme=dark] .colab-df-convert {\n",
              "      background-color: #3B4455;\n",
              "      fill: #D2E3FC;\n",
              "    }\n",
              "\n",
              "    [theme=dark] .colab-df-convert:hover {\n",
              "      background-color: #434B5C;\n",
              "      box-shadow: 0px 1px 3px 1px rgba(0, 0, 0, 0.15);\n",
              "      filter: drop-shadow(0px 1px 2px rgba(0, 0, 0, 0.3));\n",
              "      fill: #FFFFFF;\n",
              "    }\n",
              "  </style>\n",
              "\n",
              "      <script>\n",
              "        const buttonEl =\n",
              "          document.querySelector('#df-16bdade6-e060-4a76-964f-eaa2b2066eb2 button.colab-df-convert');\n",
              "        buttonEl.style.display =\n",
              "          google.colab.kernel.accessAllowed ? 'block' : 'none';\n",
              "\n",
              "        async function convertToInteractive(key) {\n",
              "          const element = document.querySelector('#df-16bdade6-e060-4a76-964f-eaa2b2066eb2');\n",
              "          const dataTable =\n",
              "            await google.colab.kernel.invokeFunction('convertToInteractive',\n",
              "                                                     [key], {});\n",
              "          if (!dataTable) return;\n",
              "\n",
              "          const docLinkHtml = 'Like what you see? Visit the ' +\n",
              "            '<a target=\"_blank\" href=https://colab.research.google.com/notebooks/data_table.ipynb>data table notebook</a>'\n",
              "            + ' to learn more about interactive tables.';\n",
              "          element.innerHTML = '';\n",
              "          dataTable['output_type'] = 'display_data';\n",
              "          await google.colab.output.renderOutput(dataTable, element);\n",
              "          const docLink = document.createElement('div');\n",
              "          docLink.innerHTML = docLinkHtml;\n",
              "          element.appendChild(docLink);\n",
              "        }\n",
              "      </script>\n",
              "    </div>\n",
              "  </div>\n",
              "  "
            ]
          },
          "metadata": {},
          "execution_count": 55
        }
      ]
    },
    {
      "cell_type": "markdown",
      "metadata": {
        "id": "XjANO2mjt-Bp"
      },
      "source": [
        "\\\\\n",
        "\n",
        "# Section 4 - Outliers"
      ]
    },
    {
      "cell_type": "markdown",
      "metadata": {
        "id": "kxenA3etwq38"
      },
      "source": [
        "## Check variable distribution before outlier detection"
      ]
    },
    {
      "cell_type": "markdown",
      "metadata": {
        "id": "vb_HuPUEw5Vc"
      },
      "source": [
        "### 1) SibSp \n",
        "If the passenger has siblings or spouse on board"
      ]
    },
    {
      "cell_type": "code",
      "execution_count": null,
      "metadata": {
        "id": "S-XzwxkGwA4q"
      },
      "outputs": [],
      "source": [
        "#plt.figure(figsize=(15, 7.5))\n",
        "#sns.distplot(df2['SibSp']);"
      ]
    },
    {
      "cell_type": "markdown",
      "metadata": {
        "id": "LHOxHdNB2nXK"
      },
      "source": [
        "Trimming"
      ]
    },
    {
      "cell_type": "code",
      "execution_count": null,
      "metadata": {
        "id": "K3jznDx42pIr"
      },
      "outputs": [],
      "source": [
        "#n = 1\n",
        "\n",
        "#upper_limit = df2['SibSp'].mean() + n*df2['SibSp'].std()\n",
        "#lower_limit = df2['SibSp'].mean() - n*df2['SibSp'].std()\n",
        "\n",
        "#print(\"Highest allowed\", upper_limit)\n",
        "#print(\"Lowest allowed\", lower_limit)"
      ]
    },
    {
      "cell_type": "code",
      "execution_count": null,
      "metadata": {
        "id": "lb5EVj-L3N-k"
      },
      "outputs": [],
      "source": [
        "#df2_trimmed = df2[\n",
        "#    ( df2['SibSp'] < upper_limit ) & \n",
        "#\n",
        "#    ( df2['SibSp'] > lower_limit )\n",
        "#    ]"
      ]
    },
    {
      "cell_type": "code",
      "execution_count": null,
      "metadata": {
        "id": "fv_ucwkO3VbK"
      },
      "outputs": [],
      "source": [
        "#df2_trimmed.shape"
      ]
    },
    {
      "cell_type": "markdown",
      "metadata": {
        "id": "2tZZxe-L3c8l"
      },
      "source": [
        "Censoring"
      ]
    },
    {
      "cell_type": "code",
      "execution_count": null,
      "metadata": {
        "id": "_8fUHwUA3fNN"
      },
      "outputs": [],
      "source": [
        "#df2_censored = pd.DataFrame()\n",
        "\n",
        "#df2_censored['SibSp'] =  np.where(\n",
        "    #df2['SibSp'] > upper_limit,\n",
        "        #upper_limit,\n",
        "        #np.where(\n",
        "            #df2['SibSp'] < lower_limit, # Condition\n",
        "            #lower_limit,                   # Assign If TRUE\n",
        "            #df2['SibSp']                # Assign If FALSE\n",
        "#            )\n",
        "#        )"
      ]
    },
    {
      "cell_type": "code",
      "execution_count": null,
      "metadata": {
        "id": "pMPVz_H_3qpj"
      },
      "outputs": [],
      "source": [
        "#plt.figure(figsize=(15, 7.5))\n",
        "#plt.hist(df2_trimmed['SibSp'], alpha=0.5, label='Trimmed')\n",
        "#plt.hist(df2_censored['SibSp'], alpha=0.25, label='Censored')\n",
        "\n",
        "#plt.legend(loc='upper right')\n",
        "#plt.show()"
      ]
    },
    {
      "cell_type": "markdown",
      "metadata": {
        "id": "8wYP1-isxUb9"
      },
      "source": [
        "### 2) Parch\n",
        "  If the passenger has parents or children on board"
      ]
    },
    {
      "cell_type": "code",
      "execution_count": null,
      "metadata": {
        "id": "YdZ0_Eb4wPlW"
      },
      "outputs": [],
      "source": [
        "#plt.figure(figsize=(15, 7.5))\n",
        "#sns.distplot(df['Parch']);"
      ]
    },
    {
      "cell_type": "markdown",
      "metadata": {
        "id": "5-u1PecQ0jqF"
      },
      "source": [
        "Trimming"
      ]
    },
    {
      "cell_type": "code",
      "execution_count": null,
      "metadata": {
        "id": "M6cURmfF0mvH"
      },
      "outputs": [],
      "source": [
        "# n = 0.3\n",
        "\n",
        "# upper_limit = df2['Parch'].mean() + n*df2['Parch'].std()\n",
        "# lower_limit = df2['Parch'].mean() - n*df2['Parch'].std()\n",
        "\n",
        "# print(\"Highest allowed\", upper_limit)\n",
        "# print(\"Lowest allowed\", lower_limit)"
      ]
    },
    {
      "cell_type": "code",
      "execution_count": null,
      "metadata": {
        "id": "DMuRFrt-1NHl"
      },
      "outputs": [],
      "source": [
        "# df2_trimmed = df2[\n",
        "#    ( df2['Parch'] < upper_limit ) & \n",
        "\n",
        "#    ( df2['Parch'] > lower_limit )\n",
        "#    ]"
      ]
    },
    {
      "cell_type": "code",
      "execution_count": null,
      "metadata": {
        "id": "nWYKoTWN1V0N"
      },
      "outputs": [],
      "source": [
        "# df2_trimmed.shape"
      ]
    },
    {
      "cell_type": "markdown",
      "metadata": {
        "id": "ya3JfA4UyAXX"
      },
      "source": [
        "### 3) Age"
      ]
    },
    {
      "cell_type": "code",
      "execution_count": null,
      "metadata": {
        "id": "9BbmIlZMpkMu"
      },
      "outputs": [],
      "source": [
        "#plt.figure(figsize=(15, 7.5))\n",
        "#sns.distplot(df['Age']);"
      ]
    },
    {
      "cell_type": "markdown",
      "metadata": {
        "id": "Jy7Rk4RtzewN"
      },
      "source": [
        "Trimming"
      ]
    },
    {
      "cell_type": "code",
      "execution_count": null,
      "metadata": {
        "id": "smmX1krhyPnv"
      },
      "outputs": [],
      "source": [
        "#n = 2\n",
        "\n",
        "#upper_limit = df2['Age'].mean() + n*df2['Age'].std()\n",
        "#lower_limit = df2['Age'].mean() - n*df2['Age'].std()\n",
        "\n",
        "#print(\"Highest allowed\", upper_limit)\n",
        "#print(\"Lowest allowed\", lower_limit)"
      ]
    },
    {
      "cell_type": "code",
      "execution_count": null,
      "metadata": {
        "id": "K_4vuSYduV90"
      },
      "outputs": [],
      "source": [
        "#df2_trimmed = df2[\n",
        "    #( df2['Age'] < upper_limit ) & \n",
        "\n",
        "    #( df2['Age'] > lower_limit )\n",
        "    #]"
      ]
    },
    {
      "cell_type": "code",
      "execution_count": null,
      "metadata": {
        "id": "96juAqgry4Rr"
      },
      "outputs": [],
      "source": [
        "#df2_trimmed.shape"
      ]
    },
    {
      "cell_type": "markdown",
      "metadata": {
        "id": "awQIpM4ozjF4"
      },
      "source": [
        "Censoring "
      ]
    },
    {
      "cell_type": "code",
      "execution_count": null,
      "metadata": {
        "id": "YE_YLHiyzxpf"
      },
      "outputs": [],
      "source": [
        "#df2_censored = pd.DataFrame()\n",
        "\n",
        "#df2_censored['Age'] =  np.where(\n",
        "    #df2['Age'] > upper_limit,\n",
        "        #upper_limit,\n",
        "        #np.where(\n",
        "            #df2['Age'] < lower_limit, # Condition\n",
        "            #lower_limit,                   # Assign If TRUE\n",
        "            #df2['Age']                # Assign If FALSE\n",
        "            #)\n",
        "        #)"
      ]
    },
    {
      "cell_type": "code",
      "execution_count": null,
      "metadata": {
        "id": "L0DESI6dzNxs"
      },
      "outputs": [],
      "source": [
        "#plt.figure(figsize=(15, 7.5))\n",
        "#plt.hist(df2_trimmed['Age'], alpha=0.5, label='Trimmed')\n",
        "#plt.hist(df2_censored['Age'], alpha=0.25, label='Censored')\n",
        "\n",
        "#plt.legend(loc='upper right')\n",
        "#plt.show()"
      ]
    },
    {
      "cell_type": "markdown",
      "metadata": {
        "id": "wxLjIqCVVrqn"
      },
      "source": [
        "# Section 5 - Correlation Matrix"
      ]
    },
    {
      "cell_type": "code",
      "execution_count": null,
      "metadata": {
        "id": "nfldlBsIpkMu",
        "colab": {
          "base_uri": "https://localhost:8080/",
          "height": 426
        },
        "outputId": "e26af524-f9ff-4cd8-bfb9-0977734080e7"
      },
      "outputs": [
        {
          "output_type": "execute_result",
          "data": {
            "text/plain": [
              "               Pclass       Sex       Age     SibSp  age_group  Dummy_Age  \\\n",
              "Pclass       1.000000  0.131900 -0.359728  0.083081  -0.217404  -0.172933   \n",
              "Cabin_Digit -0.746616 -0.123076  0.273285 -0.041540   0.159387   0.134119   \n",
              "Dummy_Cabin -0.725541 -0.140391  0.268488 -0.040460   0.161860   0.144111   \n",
              "Fare        -0.549500 -0.182333  0.135707  0.159651   0.099940   0.100707   \n",
              "Age         -0.359728  0.023365  1.000000 -0.182282   0.813960   0.685905   \n",
              "age_group   -0.217404 -0.016731  0.813960 -0.134884   1.000000   0.932296   \n",
              "Dummy_Age   -0.172933 -0.055215  0.685905 -0.018958   0.932296   1.000000   \n",
              "Sex          0.131900  1.000000  0.023365 -0.114631  -0.016731  -0.055215   \n",
              "SibSp        0.083081 -0.114631 -0.182282  1.000000  -0.134884  -0.018958   \n",
              "Family_size  0.065997 -0.200988 -0.147201  0.890712  -0.089390   0.049043   \n",
              "Embarked     0.050992 -0.111249 -0.217518 -0.058008  -0.308869  -0.319176   \n",
              "Parch        0.018443 -0.245489 -0.045272  0.414838   0.005602   0.124104   \n",
              "\n",
              "             Cabin_Digit  Dummy_Cabin     Parch      Fare  Embarked  \\\n",
              "Pclass         -0.746616    -0.725541  0.018443 -0.549500  0.050992   \n",
              "Cabin_Digit     1.000000     0.958054  0.032548  0.523013  0.026548   \n",
              "Dummy_Cabin     0.958054     1.000000  0.036987  0.482075  0.007256   \n",
              "Fare            0.523013     0.482075  0.216225  1.000000  0.058462   \n",
              "Age             0.273285     0.268488 -0.045272  0.135707 -0.217518   \n",
              "age_group       0.159387     0.161860  0.005602  0.099940 -0.308869   \n",
              "Dummy_Age       0.134119     0.144111  0.124104  0.100707 -0.319176   \n",
              "Sex            -0.123076    -0.140391 -0.245489 -0.182333 -0.111249   \n",
              "SibSp          -0.041540    -0.040460  0.414838  0.159651 -0.058008   \n",
              "Family_size    -0.012131    -0.009175  0.783111  0.217138 -0.077927   \n",
              "Embarked        0.026548     0.007256 -0.076625  0.058462  1.000000   \n",
              "Parch           0.032548     0.036987  1.000000  0.216225 -0.076625   \n",
              "\n",
              "             Family_size  \n",
              "Pclass          0.065997  \n",
              "Cabin_Digit    -0.012131  \n",
              "Dummy_Cabin    -0.009175  \n",
              "Fare            0.217138  \n",
              "Age            -0.147201  \n",
              "age_group      -0.089390  \n",
              "Dummy_Age       0.049043  \n",
              "Sex            -0.200988  \n",
              "SibSp           0.890712  \n",
              "Family_size     1.000000  \n",
              "Embarked       -0.077927  \n",
              "Parch           0.783111  "
            ],
            "text/html": [
              "\n",
              "  <div id=\"df-47bb20c5-0530-4fdc-a6a3-0572013db4d7\">\n",
              "    <div class=\"colab-df-container\">\n",
              "      <div>\n",
              "<style scoped>\n",
              "    .dataframe tbody tr th:only-of-type {\n",
              "        vertical-align: middle;\n",
              "    }\n",
              "\n",
              "    .dataframe tbody tr th {\n",
              "        vertical-align: top;\n",
              "    }\n",
              "\n",
              "    .dataframe thead th {\n",
              "        text-align: right;\n",
              "    }\n",
              "</style>\n",
              "<table border=\"1\" class=\"dataframe\">\n",
              "  <thead>\n",
              "    <tr style=\"text-align: right;\">\n",
              "      <th></th>\n",
              "      <th>Pclass</th>\n",
              "      <th>Sex</th>\n",
              "      <th>Age</th>\n",
              "      <th>SibSp</th>\n",
              "      <th>age_group</th>\n",
              "      <th>Dummy_Age</th>\n",
              "      <th>Cabin_Digit</th>\n",
              "      <th>Dummy_Cabin</th>\n",
              "      <th>Parch</th>\n",
              "      <th>Fare</th>\n",
              "      <th>Embarked</th>\n",
              "      <th>Family_size</th>\n",
              "    </tr>\n",
              "  </thead>\n",
              "  <tbody>\n",
              "    <tr>\n",
              "      <th>Pclass</th>\n",
              "      <td>1.000000</td>\n",
              "      <td>0.131900</td>\n",
              "      <td>-0.359728</td>\n",
              "      <td>0.083081</td>\n",
              "      <td>-0.217404</td>\n",
              "      <td>-0.172933</td>\n",
              "      <td>-0.746616</td>\n",
              "      <td>-0.725541</td>\n",
              "      <td>0.018443</td>\n",
              "      <td>-0.549500</td>\n",
              "      <td>0.050992</td>\n",
              "      <td>0.065997</td>\n",
              "    </tr>\n",
              "    <tr>\n",
              "      <th>Cabin_Digit</th>\n",
              "      <td>-0.746616</td>\n",
              "      <td>-0.123076</td>\n",
              "      <td>0.273285</td>\n",
              "      <td>-0.041540</td>\n",
              "      <td>0.159387</td>\n",
              "      <td>0.134119</td>\n",
              "      <td>1.000000</td>\n",
              "      <td>0.958054</td>\n",
              "      <td>0.032548</td>\n",
              "      <td>0.523013</td>\n",
              "      <td>0.026548</td>\n",
              "      <td>-0.012131</td>\n",
              "    </tr>\n",
              "    <tr>\n",
              "      <th>Dummy_Cabin</th>\n",
              "      <td>-0.725541</td>\n",
              "      <td>-0.140391</td>\n",
              "      <td>0.268488</td>\n",
              "      <td>-0.040460</td>\n",
              "      <td>0.161860</td>\n",
              "      <td>0.144111</td>\n",
              "      <td>0.958054</td>\n",
              "      <td>1.000000</td>\n",
              "      <td>0.036987</td>\n",
              "      <td>0.482075</td>\n",
              "      <td>0.007256</td>\n",
              "      <td>-0.009175</td>\n",
              "    </tr>\n",
              "    <tr>\n",
              "      <th>Fare</th>\n",
              "      <td>-0.549500</td>\n",
              "      <td>-0.182333</td>\n",
              "      <td>0.135707</td>\n",
              "      <td>0.159651</td>\n",
              "      <td>0.099940</td>\n",
              "      <td>0.100707</td>\n",
              "      <td>0.523013</td>\n",
              "      <td>0.482075</td>\n",
              "      <td>0.216225</td>\n",
              "      <td>1.000000</td>\n",
              "      <td>0.058462</td>\n",
              "      <td>0.217138</td>\n",
              "    </tr>\n",
              "    <tr>\n",
              "      <th>Age</th>\n",
              "      <td>-0.359728</td>\n",
              "      <td>0.023365</td>\n",
              "      <td>1.000000</td>\n",
              "      <td>-0.182282</td>\n",
              "      <td>0.813960</td>\n",
              "      <td>0.685905</td>\n",
              "      <td>0.273285</td>\n",
              "      <td>0.268488</td>\n",
              "      <td>-0.045272</td>\n",
              "      <td>0.135707</td>\n",
              "      <td>-0.217518</td>\n",
              "      <td>-0.147201</td>\n",
              "    </tr>\n",
              "    <tr>\n",
              "      <th>age_group</th>\n",
              "      <td>-0.217404</td>\n",
              "      <td>-0.016731</td>\n",
              "      <td>0.813960</td>\n",
              "      <td>-0.134884</td>\n",
              "      <td>1.000000</td>\n",
              "      <td>0.932296</td>\n",
              "      <td>0.159387</td>\n",
              "      <td>0.161860</td>\n",
              "      <td>0.005602</td>\n",
              "      <td>0.099940</td>\n",
              "      <td>-0.308869</td>\n",
              "      <td>-0.089390</td>\n",
              "    </tr>\n",
              "    <tr>\n",
              "      <th>Dummy_Age</th>\n",
              "      <td>-0.172933</td>\n",
              "      <td>-0.055215</td>\n",
              "      <td>0.685905</td>\n",
              "      <td>-0.018958</td>\n",
              "      <td>0.932296</td>\n",
              "      <td>1.000000</td>\n",
              "      <td>0.134119</td>\n",
              "      <td>0.144111</td>\n",
              "      <td>0.124104</td>\n",
              "      <td>0.100707</td>\n",
              "      <td>-0.319176</td>\n",
              "      <td>0.049043</td>\n",
              "    </tr>\n",
              "    <tr>\n",
              "      <th>Sex</th>\n",
              "      <td>0.131900</td>\n",
              "      <td>1.000000</td>\n",
              "      <td>0.023365</td>\n",
              "      <td>-0.114631</td>\n",
              "      <td>-0.016731</td>\n",
              "      <td>-0.055215</td>\n",
              "      <td>-0.123076</td>\n",
              "      <td>-0.140391</td>\n",
              "      <td>-0.245489</td>\n",
              "      <td>-0.182333</td>\n",
              "      <td>-0.111249</td>\n",
              "      <td>-0.200988</td>\n",
              "    </tr>\n",
              "    <tr>\n",
              "      <th>SibSp</th>\n",
              "      <td>0.083081</td>\n",
              "      <td>-0.114631</td>\n",
              "      <td>-0.182282</td>\n",
              "      <td>1.000000</td>\n",
              "      <td>-0.134884</td>\n",
              "      <td>-0.018958</td>\n",
              "      <td>-0.041540</td>\n",
              "      <td>-0.040460</td>\n",
              "      <td>0.414838</td>\n",
              "      <td>0.159651</td>\n",
              "      <td>-0.058008</td>\n",
              "      <td>0.890712</td>\n",
              "    </tr>\n",
              "    <tr>\n",
              "      <th>Family_size</th>\n",
              "      <td>0.065997</td>\n",
              "      <td>-0.200988</td>\n",
              "      <td>-0.147201</td>\n",
              "      <td>0.890712</td>\n",
              "      <td>-0.089390</td>\n",
              "      <td>0.049043</td>\n",
              "      <td>-0.012131</td>\n",
              "      <td>-0.009175</td>\n",
              "      <td>0.783111</td>\n",
              "      <td>0.217138</td>\n",
              "      <td>-0.077927</td>\n",
              "      <td>1.000000</td>\n",
              "    </tr>\n",
              "    <tr>\n",
              "      <th>Embarked</th>\n",
              "      <td>0.050992</td>\n",
              "      <td>-0.111249</td>\n",
              "      <td>-0.217518</td>\n",
              "      <td>-0.058008</td>\n",
              "      <td>-0.308869</td>\n",
              "      <td>-0.319176</td>\n",
              "      <td>0.026548</td>\n",
              "      <td>0.007256</td>\n",
              "      <td>-0.076625</td>\n",
              "      <td>0.058462</td>\n",
              "      <td>1.000000</td>\n",
              "      <td>-0.077927</td>\n",
              "    </tr>\n",
              "    <tr>\n",
              "      <th>Parch</th>\n",
              "      <td>0.018443</td>\n",
              "      <td>-0.245489</td>\n",
              "      <td>-0.045272</td>\n",
              "      <td>0.414838</td>\n",
              "      <td>0.005602</td>\n",
              "      <td>0.124104</td>\n",
              "      <td>0.032548</td>\n",
              "      <td>0.036987</td>\n",
              "      <td>1.000000</td>\n",
              "      <td>0.216225</td>\n",
              "      <td>-0.076625</td>\n",
              "      <td>0.783111</td>\n",
              "    </tr>\n",
              "  </tbody>\n",
              "</table>\n",
              "</div>\n",
              "      <button class=\"colab-df-convert\" onclick=\"convertToInteractive('df-47bb20c5-0530-4fdc-a6a3-0572013db4d7')\"\n",
              "              title=\"Convert this dataframe to an interactive table.\"\n",
              "              style=\"display:none;\">\n",
              "        \n",
              "  <svg xmlns=\"http://www.w3.org/2000/svg\" height=\"24px\"viewBox=\"0 0 24 24\"\n",
              "       width=\"24px\">\n",
              "    <path d=\"M0 0h24v24H0V0z\" fill=\"none\"/>\n",
              "    <path d=\"M18.56 5.44l.94 2.06.94-2.06 2.06-.94-2.06-.94-.94-2.06-.94 2.06-2.06.94zm-11 1L8.5 8.5l.94-2.06 2.06-.94-2.06-.94L8.5 2.5l-.94 2.06-2.06.94zm10 10l.94 2.06.94-2.06 2.06-.94-2.06-.94-.94-2.06-.94 2.06-2.06.94z\"/><path d=\"M17.41 7.96l-1.37-1.37c-.4-.4-.92-.59-1.43-.59-.52 0-1.04.2-1.43.59L10.3 9.45l-7.72 7.72c-.78.78-.78 2.05 0 2.83L4 21.41c.39.39.9.59 1.41.59.51 0 1.02-.2 1.41-.59l7.78-7.78 2.81-2.81c.8-.78.8-2.07 0-2.86zM5.41 20L4 18.59l7.72-7.72 1.47 1.35L5.41 20z\"/>\n",
              "  </svg>\n",
              "      </button>\n",
              "      \n",
              "  <style>\n",
              "    .colab-df-container {\n",
              "      display:flex;\n",
              "      flex-wrap:wrap;\n",
              "      gap: 12px;\n",
              "    }\n",
              "\n",
              "    .colab-df-convert {\n",
              "      background-color: #E8F0FE;\n",
              "      border: none;\n",
              "      border-radius: 50%;\n",
              "      cursor: pointer;\n",
              "      display: none;\n",
              "      fill: #1967D2;\n",
              "      height: 32px;\n",
              "      padding: 0 0 0 0;\n",
              "      width: 32px;\n",
              "    }\n",
              "\n",
              "    .colab-df-convert:hover {\n",
              "      background-color: #E2EBFA;\n",
              "      box-shadow: 0px 1px 2px rgba(60, 64, 67, 0.3), 0px 1px 3px 1px rgba(60, 64, 67, 0.15);\n",
              "      fill: #174EA6;\n",
              "    }\n",
              "\n",
              "    [theme=dark] .colab-df-convert {\n",
              "      background-color: #3B4455;\n",
              "      fill: #D2E3FC;\n",
              "    }\n",
              "\n",
              "    [theme=dark] .colab-df-convert:hover {\n",
              "      background-color: #434B5C;\n",
              "      box-shadow: 0px 1px 3px 1px rgba(0, 0, 0, 0.15);\n",
              "      filter: drop-shadow(0px 1px 2px rgba(0, 0, 0, 0.3));\n",
              "      fill: #FFFFFF;\n",
              "    }\n",
              "  </style>\n",
              "\n",
              "      <script>\n",
              "        const buttonEl =\n",
              "          document.querySelector('#df-47bb20c5-0530-4fdc-a6a3-0572013db4d7 button.colab-df-convert');\n",
              "        buttonEl.style.display =\n",
              "          google.colab.kernel.accessAllowed ? 'block' : 'none';\n",
              "\n",
              "        async function convertToInteractive(key) {\n",
              "          const element = document.querySelector('#df-47bb20c5-0530-4fdc-a6a3-0572013db4d7');\n",
              "          const dataTable =\n",
              "            await google.colab.kernel.invokeFunction('convertToInteractive',\n",
              "                                                     [key], {});\n",
              "          if (!dataTable) return;\n",
              "\n",
              "          const docLinkHtml = 'Like what you see? Visit the ' +\n",
              "            '<a target=\"_blank\" href=https://colab.research.google.com/notebooks/data_table.ipynb>data table notebook</a>'\n",
              "            + ' to learn more about interactive tables.';\n",
              "          element.innerHTML = '';\n",
              "          dataTable['output_type'] = 'display_data';\n",
              "          await google.colab.output.renderOutput(dataTable, element);\n",
              "          const docLink = document.createElement('div');\n",
              "          docLink.innerHTML = docLinkHtml;\n",
              "          element.appendChild(docLink);\n",
              "        }\n",
              "      </script>\n",
              "    </div>\n",
              "  </div>\n",
              "  "
            ]
          },
          "metadata": {},
          "execution_count": 72
        }
      ],
      "source": [
        "corr_matrix = df.corr().sort_values(by = \"Pclass\",  ascending=False, key = abs)\n",
        "corr_matrix\n",
        "\n",
        "## We have noticed that the varaibles with the highest correlation to Survived (our dependent variable) are Pclass and Fare. \n",
        "## Then, we have Parch, SibSp and Age."
      ]
    },
    {
      "cell_type": "code",
      "execution_count": null,
      "metadata": {
        "id": "a-17W_H0pkMu",
        "colab": {
          "base_uri": "https://localhost:8080/",
          "height": 882
        },
        "outputId": "767b5d3d-7a8d-4f02-bf2b-463fe32bf9cc"
      },
      "outputs": [
        {
          "output_type": "execute_result",
          "data": {
            "text/plain": [
              "<matplotlib.axes._subplots.AxesSubplot at 0x7fc45385dc10>"
            ]
          },
          "metadata": {},
          "execution_count": 73
        },
        {
          "output_type": "display_data",
          "data": {
            "text/plain": [
              "<Figure size 1800x1080 with 2 Axes>"
            ],
            "image/png": "[encoded data removed]"
          },
          "metadata": {
            "needs_background": "light"
          }
        }
      ],
      "source": [
        "# Set up the matplotlib figure\n",
        "f, ax = plt.subplots(figsize=(25, 15))\n",
        "#sns.heatmap(corrmat, vmax=.8, square=True);\n",
        "\n",
        "# Generate a mask for the upper triangle\n",
        "mask = np.triu(np.ones_like(corr_matrix, dtype=bool))\n",
        "\n",
        "# Generate a custom diverging colormap\n",
        "cmap = sns.diverging_palette(230, 20, as_cmap=True)\n",
        "\n",
        "# Draw the heatmap with the mask and correct aspect ratio\n",
        "sns.heatmap(corr_matrix, mask=mask, cmap=cmap, vmax = 0.8, center=0,\n",
        "            square=True, linewidths=.5, cbar_kws={\"shrink\": .5})"
      ]
    },
    {
      "cell_type": "code",
      "execution_count": null,
      "metadata": {
        "colab": {
          "base_uri": "https://localhost:8080/",
          "height": 744
        },
        "id": "B8NfB535pkMv",
        "outputId": "35ae04fd-913c-42a4-fe49-6430d30facb1"
      },
      "outputs": [
        {
          "output_type": "execute_result",
          "data": {
            "text/plain": [
              "<seaborn.axisgrid.PairGrid at 0x7fc450e3b610>"
            ]
          },
          "metadata": {},
          "execution_count": 74
        },
        {
          "output_type": "display_data",
          "data": {
            "text/plain": [
              "<Figure size 720x720 with 20 Axes>"
            ],
            "image/png": "[encoded data removed]"
          },
          "metadata": {
            "needs_background": "light"
          }
        }
      ],
      "source": [
        "y_features = ['Pclass', 'Age','Fare','Family_size']\n",
        "features = y_features[1:]\n",
        "\n",
        "sns.pairplot(df[y_features])"
      ]
    },
    {
      "cell_type": "markdown",
      "metadata": {
        "id": "bFCL1hGypkMv"
      },
      "source": [
        "#### Let's take a close look into our dependent variable\n",
        " Here we will use Seaborn : https://seaborn.pydata.org/"
      ]
    },
    {
      "cell_type": "code",
      "execution_count": null,
      "metadata": {
        "colab": {
          "base_uri": "https://localhost:8080/",
          "height": 368
        },
        "id": "MuDdUPx69Hxx",
        "outputId": "63485c8e-c1a7-4f71-f575-f3f50311c767"
      },
      "outputs": [
        {
          "output_type": "execute_result",
          "data": {
            "text/plain": [
              "Text(0.5, 1.0, 'Distribuition of Survieved')"
            ]
          },
          "metadata": {},
          "execution_count": 75
        },
        {
          "output_type": "display_data",
          "data": {
            "text/plain": [
              "<Figure size 576x360 with 1 Axes>"
            ],
            "image/png": "[encoded data removed]"
          },
          "metadata": {
            "needs_background": "light"
          }
        }
      ],
      "source": [
        "plt.figure(figsize=(8,5))\n",
        "sns.countplot(x='Survived',data=titanic_df, palette='rainbow')\n",
        "plt.title(\"Distribuition of Survieved\")"
      ]
    },
    {
      "cell_type": "markdown",
      "metadata": {
        "id": "9kzaPcQvYNQ0"
      },
      "source": [
        "When analysizing the graph above we can infer that our dependent variable is well balanced. About 300 passangers survived, while a little over 500 did not. "
      ]
    },
    {
      "cell_type": "markdown",
      "metadata": {
        "id": "ZPU3PUX_Lx2-"
      },
      "source": [
        "# Section 6 - Data Visualization\n",
        "\n",
        "Distribution of age by passenger class"
      ]
    },
    {
      "cell_type": "code",
      "execution_count": null,
      "metadata": {
        "colab": {
          "base_uri": "https://localhost:8080/",
          "height": 368
        },
        "id": "kuGObhAeVjtr",
        "outputId": "0de1df5d-35a4-4997-9366-aef883bdd99e"
      },
      "outputs": [
        {
          "output_type": "execute_result",
          "data": {
            "text/plain": [
              "Text(0.5, 1.0, 'Age by Passenger Class')"
            ]
          },
          "metadata": {},
          "execution_count": 76
        },
        {
          "output_type": "display_data",
          "data": {
            "text/plain": [
              "<Figure size 576x360 with 1 Axes>"
            ],
            "image/png": "[encoded data removed]"
          },
          "metadata": {
            "needs_background": "light"
          }
        }
      ],
      "source": [
        "plt.figure(figsize=(8,5))\n",
        "sns.boxplot(x='Pclass',y='Age',data=titanic_df, palette='Set2')\n",
        "plt.title(\"Age by Passenger Class\")"
      ]
    },
    {
      "cell_type": "markdown",
      "metadata": {
        "id": "XI91xGWkbbbq"
      },
      "source": [
        "The graph \"Age by Passenger Class\" iulustrates the idea that people from the first class is relatively older than the other two classes. Also, people who embarked in the thrisd class is, on average, younger than the first and second class."
      ]
    },
    {
      "cell_type": "markdown",
      "metadata": {
        "id": "KFQbO5RIaAqw"
      },
      "source": [
        "Age by Passenger Class, Separated by Survival"
      ]
    },
    {
      "cell_type": "code",
      "execution_count": null,
      "metadata": {
        "colab": {
          "base_uri": "https://localhost:8080/",
          "height": 368
        },
        "id": "OinqDmchWZfo",
        "outputId": "66814516-bcac-460e-910f-0d4a78785513"
      },
      "outputs": [
        {
          "output_type": "execute_result",
          "data": {
            "text/plain": [
              "Text(0.5, 1.0, 'Age by Passenger Class and Survival, Titanic')"
            ]
          },
          "metadata": {},
          "execution_count": 77
        },
        {
          "output_type": "display_data",
          "data": {
            "text/plain": [
              "<Figure size 576x360 with 1 Axes>"
            ],
            "image/png": "[encoded data removed]"
          },
          "metadata": {
            "needs_background": "light"
          }
        }
      ],
      "source": [
        "plt.figure(figsize=(8,5))\n",
        "sns.boxplot(x='Pclass',y='Age',data=titanic_df, palette='Set2', hue=\"Survived\")\n",
        "plt.title(\"Age by Passenger Class and Survival, Titanic\")"
      ]
    },
    {
      "cell_type": "code",
      "execution_count": null,
      "metadata": {
        "colab": {
          "base_uri": "https://localhost:8080/",
          "height": 368
        },
        "id": "GRqtnxM8XCP6",
        "outputId": "0f3efbd2-8772-4da3-897d-bb0db0a35cb4"
      },
      "outputs": [
        {
          "output_type": "execute_result",
          "data": {
            "text/plain": [
              "Text(0.5, 1.0, 'Age by Passenger Class and Survival, Titanic')"
            ]
          },
          "metadata": {},
          "execution_count": 78
        },
        {
          "output_type": "display_data",
          "data": {
            "text/plain": [
              "<Figure size 576x360 with 1 Axes>"
            ],
            "image/png": "[encoded data removed]"
          },
          "metadata": {
            "needs_background": "light"
          }
        }
      ],
      "source": [
        "plt.figure(figsize=(8,5))\n",
        "sns.stripplot(x='Pclass', y='Age', data=titanic_df, jitter=True, hue='Survived', dodge=True, palette='Set2')\n",
        "plt.title(\"Age by Passenger Class and Survival, Titanic\")"
      ]
    },
    {
      "cell_type": "markdown",
      "metadata": {
        "id": "cnwFB-yXYgje"
      },
      "source": [
        "The two graphs above shows the relation between age, passanger class and survival status. We can see that people who were in the first class were older than second and third class. Also, in all classes people who survived were younger than those who did not. "
      ]
    },
    {
      "cell_type": "code",
      "execution_count": null,
      "metadata": {
        "colab": {
          "base_uri": "https://localhost:8080/",
          "height": 369
        },
        "id": "Q8ww8nvdZxvB",
        "outputId": "1c9308a5-e31d-4d84-e600-f2d24ac48da6"
      },
      "outputs": [
        {
          "output_type": "display_data",
          "data": {
            "text/plain": [
              "<Figure size 432x360 with 2 Axes>"
            ],
            "image/png": "[encoded data removed]"
          },
          "metadata": {
            "needs_background": "light"
          }
        }
      ],
      "source": [
        "g = sns.catplot(x='Pclass',y='Survived', col = 'Sex', data=titanic_df,\n",
        "                kind='bar', aspect=.6, palette='Set2')\n",
        "\n",
        "\n",
        "(g.set_axis_labels(\"Class\", \"Survival Rate\")\n",
        "  .set_titles(\"{col_name}\")\n",
        "  .set(ylim=(0,1)))\n",
        "\n",
        "\n",
        "plt.tight_layout()\n",
        "plt.savefig('seaborn_catplot.png', dpi=1000)"
      ]
    },
    {
      "cell_type": "markdown",
      "metadata": {
        "id": "-2jD4xO2aFz1"
      },
      "source": [
        "Count of Passengers that Embarked in Each City"
      ]
    },
    {
      "cell_type": "code",
      "execution_count": null,
      "metadata": {
        "id": "-u10bLy2aW6H"
      },
      "outputs": [],
      "source": [
        "titanic_df.Embarked = titanic_df.replace(\n",
        "    {\"Embarked\": {\"S\": \"Southampton\", \n",
        "             \"C\": \"Cherbourg\",\n",
        "             \"Q\": \"Queenstown\",}}                \n",
        "                  ).Embarked   "
      ]
    },
    {
      "cell_type": "code",
      "execution_count": null,
      "metadata": {
        "colab": {
          "base_uri": "https://localhost:8080/",
          "height": 368
        },
        "id": "vRXGUov2Z4Df",
        "outputId": "1401b9b3-9067-4447-95b3-240e9edfeddc"
      },
      "outputs": [
        {
          "output_type": "execute_result",
          "data": {
            "text/plain": [
              "Text(0.5, 1.0, 'Count of Passengers that Embarked in Each City')"
            ]
          },
          "metadata": {},
          "execution_count": 81
        },
        {
          "output_type": "display_data",
          "data": {
            "text/plain": [
              "<Figure size 576x360 with 1 Axes>"
            ],
            "image/png": "[encoded data removed]"
          },
          "metadata": {
            "needs_background": "light"
          }
        }
      ],
      "source": [
        "plt.figure(figsize=(8,5))\n",
        "sns.countplot(x='Embarked',data=titanic_df, palette='rainbow')\n",
        "plt.title(\"Count of Passengers that Embarked in Each City\")"
      ]
    },
    {
      "cell_type": "markdown",
      "metadata": {
        "id": "y3KPTXEjbthJ"
      },
      "source": [
        "Southampton was the location that most people have embarked, with a total surpassing the 600 passengers mark."
      ]
    },
    {
      "cell_type": "markdown",
      "metadata": {
        "id": "3bbPK_XLayuW"
      },
      "source": [
        "\\\\\n",
        "\n",
        "Count of Passengers that Survived by Embarked City"
      ]
    },
    {
      "cell_type": "code",
      "execution_count": null,
      "metadata": {
        "colab": {
          "base_uri": "https://localhost:8080/",
          "height": 368
        },
        "id": "DopYcKCKaizl",
        "outputId": "98bdf018-b31b-424e-80fc-bc713365ef3e"
      },
      "outputs": [
        {
          "output_type": "execute_result",
          "data": {
            "text/plain": [
              "Text(0.5, 1.0, 'Count of Passengers that Survived by Embarked City')"
            ]
          },
          "metadata": {},
          "execution_count": 82
        },
        {
          "output_type": "display_data",
          "data": {
            "text/plain": [
              "<Figure size 576x360 with 1 Axes>"
            ],
            "image/png": "[encoded data removed]"
          },
          "metadata": {
            "needs_background": "light"
          }
        }
      ],
      "source": [
        "plt.figure(figsize=(8,5))\n",
        "sns.countplot(x='Embarked',data=titanic_df, palette='rainbow', hue=\"Survived\")\n",
        "plt.title(\"Count of Passengers that Survived by Embarked City\")"
      ]
    },
    {
      "cell_type": "markdown",
      "metadata": {
        "id": "U-Dap35db6R0"
      },
      "source": [
        "Most part of those who embarked in Southampton did not survive, gathering this information with what have been exposed in the graph bellow, this can be explanied because the biggest part of those passengers werw allocated in the third class. Also, Chebourg as the only location that passengrs surviver more that died, this can be explained because most part of them were refered to be in the dirst class. "
      ]
    },
    {
      "cell_type": "markdown",
      "metadata": {
        "id": "mHV_TMGLa0ip"
      },
      "source": [
        "\\\\\n",
        "\n",
        "Count of Passengers that Embarked in Each City by Class"
      ]
    },
    {
      "cell_type": "code",
      "execution_count": null,
      "metadata": {
        "colab": {
          "base_uri": "https://localhost:8080/",
          "height": 368
        },
        "id": "T3WwvVTna3GN",
        "outputId": "0b2be55e-fdfb-4bb8-b84b-a2158b3a3b31"
      },
      "outputs": [
        {
          "output_type": "execute_result",
          "data": {
            "text/plain": [
              "Text(0.5, 1.0, 'Count of Passengers that Embarked in Each City by Class')"
            ]
          },
          "metadata": {},
          "execution_count": 83
        },
        {
          "output_type": "display_data",
          "data": {
            "text/plain": [
              "<Figure size 576x360 with 1 Axes>"
            ],
            "image/png": "[encoded data removed]"
          },
          "metadata": {
            "needs_background": "light"
          }
        }
      ],
      "source": [
        "plt.figure(figsize=(8,5))\n",
        "sns.countplot(x='Embarked',data=titanic_df, palette='rainbow', hue=\"Pclass\")\n",
        "plt.title(\"Count of Passengers that Embarked in Each City by Class\")"
      ]
    },
    {
      "cell_type": "markdown",
      "metadata": {
        "id": "hJmcHGKvcq3K"
      },
      "source": [
        "Cherbourg was the only location in which most passengers who embarked were in the first class"
      ]
    },
    {
      "cell_type": "markdown",
      "metadata": {
        "id": "cajXdX1na_fV"
      },
      "source": [
        "\\\\\n",
        "\n",
        "Fare of Passenger by Embarked Town "
      ]
    },
    {
      "cell_type": "code",
      "execution_count": null,
      "metadata": {
        "colab": {
          "base_uri": "https://localhost:8080/",
          "height": 476
        },
        "id": "NFN6dcm6a_At",
        "outputId": "d7e1d814-c4ee-4db9-8dff-db415771bf78"
      },
      "outputs": [
        {
          "output_type": "execute_result",
          "data": {
            "text/plain": [
              "Text(0.5, 1.0, 'Fare of Passenger by Embarked Town, Divided by Class')"
            ]
          },
          "metadata": {},
          "execution_count": 84
        },
        {
          "output_type": "display_data",
          "data": {
            "text/plain": [
              "<Figure size 864x504 with 1 Axes>"
            ],
            "image/png": "[encoded data removed]"
          },
          "metadata": {
            "needs_background": "light"
          }
        }
      ],
      "source": [
        "plt.figure(figsize=(12,7))\n",
        "sns.barplot(x='Embarked',y='Fare',data=titanic_df, palette='rainbow', hue='Pclass')\n",
        "sns.stripplot(x='Embarked',y=\"Fare\",data=df, hue='Pclass', dodge='True', color='grey', alpha=.8, s=2)\n",
        "plt.title(\"Fare of Passenger by Embarked Town, Divided by Class\")"
      ]
    },
    {
      "cell_type": "markdown",
      "metadata": {
        "id": "jjsKN9-bch-U"
      },
      "source": [
        "\\\\\n",
        "\n",
        "Count of Passengers that Survived by Cabin Digit"
      ]
    },
    {
      "cell_type": "code",
      "execution_count": null,
      "metadata": {
        "id": "QLENhTtWbmsJ"
      },
      "outputs": [],
      "source": [
        "titanic_og = titanic_df\n",
        "\n",
        "Cabin_Digit = titanic_og['Cabin'].str[0]\n",
        "titanic_og.insert(5,'Cabin_Digit', Cabin_Digit)\n",
        "\n",
        "titanic_og.Cabin_Digit = titanic_og.replace(\n",
        "    {\"Cabin_Digit\": {\"N\": -1, \n",
        "             \"T\": 0,\n",
        "             \"G\": 1,\n",
        "             \"F\": 2,\n",
        "             \"E\": 3,\n",
        "             \"D\": 4, \n",
        "             \"C\": 5,\n",
        "             \"B\": 6,\n",
        "             \"A\": 7}}                \n",
        "                  ).Cabin_Digit "
      ]
    },
    {
      "cell_type": "code",
      "execution_count": null,
      "metadata": {
        "colab": {
          "base_uri": "https://localhost:8080/",
          "height": 369
        },
        "id": "_fXu7OKDb9PX",
        "outputId": "161ad549-27bb-4029-c04b-5300ed6370ae"
      },
      "outputs": [
        {
          "output_type": "execute_result",
          "data": {
            "text/plain": [
              "Text(0.5, 1.0, 'Count of Passengers that Survived by Cabin Digit')"
            ]
          },
          "metadata": {},
          "execution_count": 86
        },
        {
          "output_type": "display_data",
          "data": {
            "text/plain": [
              "<Figure size 576x360 with 1 Axes>"
            ],
            "image/png": "[encoded data removed]"
          },
          "metadata": {
            "needs_background": "light"
          }
        }
      ],
      "source": [
        "plt.figure(figsize=(8,5))\n",
        "sns.countplot(x='Cabin_Digit',data=titanic_og, palette='rainbow', hue=\"Survived\")\n",
        "plt.title(\"Count of Passengers that Survived by Cabin Digit\") "
      ]
    },
    {
      "cell_type": "markdown",
      "metadata": {
        "id": "GN4j5ZFTY1gz"
      },
      "source": [
        "Creating a categorical variable for Age and plotting survival rate by age group"
      ]
    },
    {
      "cell_type": "code",
      "execution_count": null,
      "metadata": {
        "id": "FzOy12ZWY1vI"
      },
      "outputs": [],
      "source": [
        "category = pd.cut(titanic_og.Age, bins=[-1,0,2,17,65,99], labels=[\"Missing\", \"Toddler\",\"Child\",\"Adult\",\"Elderly\"])\n",
        "titanic_og.insert(6,'age_group', category)"
      ]
    },
    {
      "cell_type": "code",
      "execution_count": null,
      "metadata": {
        "colab": {
          "base_uri": "https://localhost:8080/",
          "height": 368
        },
        "id": "-Pyo67RiZEDc",
        "outputId": "d92f0238-7ea7-4055-ebd1-b4cad7b7c535"
      },
      "outputs": [
        {
          "output_type": "execute_result",
          "data": {
            "text/plain": [
              "Text(0.5, 1.0, 'Count of Passengers that Survived by Age Group')"
            ]
          },
          "metadata": {},
          "execution_count": 88
        },
        {
          "output_type": "display_data",
          "data": {
            "text/plain": [
              "<Figure size 576x360 with 1 Axes>"
            ],
            "image/png": "[encoded data removed]"
          },
          "metadata": {
            "needs_background": "light"
          }
        }
      ],
      "source": [
        "plt.figure(figsize=(8,5))\n",
        "sns.countplot(x='age_group',data=titanic_og, palette='rainbow', hue=\"Survived\")\n",
        "plt.title(\"Count of Passengers that Survived by Age Group\")"
      ]
    },
    {
      "cell_type": "markdown",
      "metadata": {
        "id": "8X1aZN6pVydA"
      },
      "source": [
        "# Section 7 - Preparing to use the ML models \n",
        "\n",
        "** Loading the test dataset and applying the same data prep and FE\n",
        "\n"
      ]
    },
    {
      "cell_type": "markdown",
      "source": [
        "From now on, we will start the preparation to run the models. We will create the matrix for the sklearn and do the feature importance using perturbation to discover the most important features. Next, we'll run our decision tree and random forest, AdaBoost, XGboost, and Loggist regression models to see the accuracies."
      ],
      "metadata": {
        "id": "RVb-37nidMgF"
      }
    },
    {
      "cell_type": "markdown",
      "metadata": {
        "id": "yRfivUO_Dp1Q"
      },
      "source": [
        "Dividing dataframes in matrices\n"
      ]
    },
    {
      "cell_type": "code",
      "execution_count": null,
      "metadata": {
        "id": "RmV_D1kcWd9P"
      },
      "outputs": [],
      "source": [
        "df = df.drop(['Name', 'Ticket', 'Cabin','Name_title'], axis=1) "
      ]
    },
    {
      "cell_type": "code",
      "execution_count": null,
      "metadata": {
        "id": "3P1pnOKGfJSb"
      },
      "outputs": [],
      "source": [
        "X_train = df[:train_df.shape[0]]\n",
        "#X_val = df[:val_df.shape[0]]\n",
        "X_test = df[:test_df.shape[0]]\n",
        "y_train = train_df.Survived\n",
        "#y_val = val_df.Survived\n",
        "y_test = test_df.Survived"
      ]
    },
    {
      "cell_type": "code",
      "source": [
        "df.info()\n",
        "type(df)"
      ],
      "metadata": {
        "colab": {
          "base_uri": "https://localhost:8080/"
        },
        "id": "Y0uYxh0jhFkT",
        "outputId": "ca79914f-a1f5-42d1-8566-bf7b6a2b0054"
      },
      "execution_count": null,
      "outputs": [
        {
          "output_type": "stream",
          "name": "stdout",
          "text": [
            "<class 'pandas.core.frame.DataFrame'>\n",
            "Int64Index: 891 entries, 192 to 872\n",
            "Data columns (total 12 columns):\n",
            " #   Column       Non-Null Count  Dtype  \n",
            "---  ------       --------------  -----  \n",
            " 0   Pclass       891 non-null    int64  \n",
            " 1   Sex          891 non-null    int64  \n",
            " 2   Age          891 non-null    float64\n",
            " 3   SibSp        891 non-null    int64  \n",
            " 4   age_group    891 non-null    int64  \n",
            " 5   Dummy_Age    891 non-null    int64  \n",
            " 6   Cabin_Digit  891 non-null    int64  \n",
            " 7   Dummy_Cabin  891 non-null    int64  \n",
            " 8   Parch        891 non-null    int64  \n",
            " 9   Fare         891 non-null    float64\n",
            " 10  Embarked     891 non-null    int64  \n",
            " 11  Family_size  891 non-null    int64  \n",
            "dtypes: float64(2), int64(10)\n",
            "memory usage: 122.8 KB\n"
          ]
        },
        {
          "output_type": "execute_result",
          "data": {
            "text/plain": [
              "pandas.core.frame.DataFrame"
            ]
          },
          "metadata": {},
          "execution_count": 91
        }
      ]
    },
    {
      "cell_type": "code",
      "execution_count": null,
      "metadata": {
        "colab": {
          "base_uri": "https://localhost:8080/",
          "height": 424
        },
        "id": "k-xboEIkue5o",
        "outputId": "0f1013ee-243a-4dc8-d039-7ae05d8dae2f"
      },
      "outputs": [
        {
          "output_type": "execute_result",
          "data": {
            "text/plain": [
              "     Pclass  Sex   Age  SibSp  age_group  Dummy_Age  Cabin_Digit  Dummy_Cabin  \\\n",
              "192       3    0  19.0      1          2          1           -1            0   \n",
              "191       2    1  19.0      0          2          1           -1            0   \n",
              "714       2    1  52.0      0          2          1           -1            0   \n",
              "532       3    1  17.0      1          1          1           -1            0   \n",
              "132       3    0  47.0      1          2          1           -1            0   \n",
              "..      ...  ...   ...    ...        ...        ...          ...          ...   \n",
              "347       3    0  -1.0      1         -1          0           -1            0   \n",
              "218       1    0  32.0      0          2          1            4            1   \n",
              "239       2    1  33.0      0          2          1           -1            0   \n",
              "491       3    1  21.0      0          2          1           -1            0   \n",
              "872       1    1  33.0      0          2          1            6            1   \n",
              "\n",
              "     Parch     Fare  Embarked  Family_size  \n",
              "192      0   7.8542         0            1  \n",
              "191      0  13.0000         0            0  \n",
              "714      0  13.0000         0            0  \n",
              "532      1   7.2292         1            2  \n",
              "132      0  14.5000         0            1  \n",
              "..     ...      ...       ...          ...  \n",
              "347      0  16.1000         0            1  \n",
              "218      0  76.2917         1            0  \n",
              "239      0  12.2750         0            0  \n",
              "491      0   7.2500         0            0  \n",
              "872      0   5.0000         0            0  \n",
              "\n",
              "[891 rows x 12 columns]"
            ],
            "text/html": [
              "\n",
              "  <div id=\"df-7342137c-d2da-4fd8-9cb0-092644d40e42\">\n",
              "    <div class=\"colab-df-container\">\n",
              "      <div>\n",
              "<style scoped>\n",
              "    .dataframe tbody tr th:only-of-type {\n",
              "        vertical-align: middle;\n",
              "    }\n",
              "\n",
              "    .dataframe tbody tr th {\n",
              "        vertical-align: top;\n",
              "    }\n",
              "\n",
              "    .dataframe thead th {\n",
              "        text-align: right;\n",
              "    }\n",
              "</style>\n",
              "<table border=\"1\" class=\"dataframe\">\n",
              "  <thead>\n",
              "    <tr style=\"text-align: right;\">\n",
              "      <th></th>\n",
              "      <th>Pclass</th>\n",
              "      <th>Sex</th>\n",
              "      <th>Age</th>\n",
              "      <th>SibSp</th>\n",
              "      <th>age_group</th>\n",
              "      <th>Dummy_Age</th>\n",
              "      <th>Cabin_Digit</th>\n",
              "      <th>Dummy_Cabin</th>\n",
              "      <th>Parch</th>\n",
              "      <th>Fare</th>\n",
              "      <th>Embarked</th>\n",
              "      <th>Family_size</th>\n",
              "    </tr>\n",
              "  </thead>\n",
              "  <tbody>\n",
              "    <tr>\n",
              "      <th>192</th>\n",
              "      <td>3</td>\n",
              "      <td>0</td>\n",
              "      <td>19.0</td>\n",
              "      <td>1</td>\n",
              "      <td>2</td>\n",
              "      <td>1</td>\n",
              "      <td>-1</td>\n",
              "      <td>0</td>\n",
              "      <td>0</td>\n",
              "      <td>7.8542</td>\n",
              "      <td>0</td>\n",
              "      <td>1</td>\n",
              "    </tr>\n",
              "    <tr>\n",
              "      <th>191</th>\n",
              "      <td>2</td>\n",
              "      <td>1</td>\n",
              "      <td>19.0</td>\n",
              "      <td>0</td>\n",
              "      <td>2</td>\n",
              "      <td>1</td>\n",
              "      <td>-1</td>\n",
              "      <td>0</td>\n",
              "      <td>0</td>\n",
              "      <td>13.0000</td>\n",
              "      <td>0</td>\n",
              "      <td>0</td>\n",
              "    </tr>\n",
              "    <tr>\n",
              "      <th>714</th>\n",
              "      <td>2</td>\n",
              "      <td>1</td>\n",
              "      <td>52.0</td>\n",
              "      <td>0</td>\n",
              "      <td>2</td>\n",
              "      <td>1</td>\n",
              "      <td>-1</td>\n",
              "      <td>0</td>\n",
              "      <td>0</td>\n",
              "      <td>13.0000</td>\n",
              "      <td>0</td>\n",
              "      <td>0</td>\n",
              "    </tr>\n",
              "    <tr>\n",
              "      <th>532</th>\n",
              "      <td>3</td>\n",
              "      <td>1</td>\n",
              "      <td>17.0</td>\n",
              "      <td>1</td>\n",
              "      <td>1</td>\n",
              "      <td>1</td>\n",
              "      <td>-1</td>\n",
              "      <td>0</td>\n",
              "      <td>1</td>\n",
              "      <td>7.2292</td>\n",
              "      <td>1</td>\n",
              "      <td>2</td>\n",
              "    </tr>\n",
              "    <tr>\n",
              "      <th>132</th>\n",
              "      <td>3</td>\n",
              "      <td>0</td>\n",
              "      <td>47.0</td>\n",
              "      <td>1</td>\n",
              "      <td>2</td>\n",
              "      <td>1</td>\n",
              "      <td>-1</td>\n",
              "      <td>0</td>\n",
              "      <td>0</td>\n",
              "      <td>14.5000</td>\n",
              "      <td>0</td>\n",
              "      <td>1</td>\n",
              "    </tr>\n",
              "    <tr>\n",
              "      <th>...</th>\n",
              "      <td>...</td>\n",
              "      <td>...</td>\n",
              "      <td>...</td>\n",
              "      <td>...</td>\n",
              "      <td>...</td>\n",
              "      <td>...</td>\n",
              "      <td>...</td>\n",
              "      <td>...</td>\n",
              "      <td>...</td>\n",
              "      <td>...</td>\n",
              "      <td>...</td>\n",
              "      <td>...</td>\n",
              "    </tr>\n",
              "    <tr>\n",
              "      <th>347</th>\n",
              "      <td>3</td>\n",
              "      <td>0</td>\n",
              "      <td>-1.0</td>\n",
              "      <td>1</td>\n",
              "      <td>-1</td>\n",
              "      <td>0</td>\n",
              "      <td>-1</td>\n",
              "      <td>0</td>\n",
              "      <td>0</td>\n",
              "      <td>16.1000</td>\n",
              "      <td>0</td>\n",
              "      <td>1</td>\n",
              "    </tr>\n",
              "    <tr>\n",
              "      <th>218</th>\n",
              "      <td>1</td>\n",
              "      <td>0</td>\n",
              "      <td>32.0</td>\n",
              "      <td>0</td>\n",
              "      <td>2</td>\n",
              "      <td>1</td>\n",
              "      <td>4</td>\n",
              "      <td>1</td>\n",
              "      <td>0</td>\n",
              "      <td>76.2917</td>\n",
              "      <td>1</td>\n",
              "      <td>0</td>\n",
              "    </tr>\n",
              "    <tr>\n",
              "      <th>239</th>\n",
              "      <td>2</td>\n",
              "      <td>1</td>\n",
              "      <td>33.0</td>\n",
              "      <td>0</td>\n",
              "      <td>2</td>\n",
              "      <td>1</td>\n",
              "      <td>-1</td>\n",
              "      <td>0</td>\n",
              "      <td>0</td>\n",
              "      <td>12.2750</td>\n",
              "      <td>0</td>\n",
              "      <td>0</td>\n",
              "    </tr>\n",
              "    <tr>\n",
              "      <th>491</th>\n",
              "      <td>3</td>\n",
              "      <td>1</td>\n",
              "      <td>21.0</td>\n",
              "      <td>0</td>\n",
              "      <td>2</td>\n",
              "      <td>1</td>\n",
              "      <td>-1</td>\n",
              "      <td>0</td>\n",
              "      <td>0</td>\n",
              "      <td>7.2500</td>\n",
              "      <td>0</td>\n",
              "      <td>0</td>\n",
              "    </tr>\n",
              "    <tr>\n",
              "      <th>872</th>\n",
              "      <td>1</td>\n",
              "      <td>1</td>\n",
              "      <td>33.0</td>\n",
              "      <td>0</td>\n",
              "      <td>2</td>\n",
              "      <td>1</td>\n",
              "      <td>6</td>\n",
              "      <td>1</td>\n",
              "      <td>0</td>\n",
              "      <td>5.0000</td>\n",
              "      <td>0</td>\n",
              "      <td>0</td>\n",
              "    </tr>\n",
              "  </tbody>\n",
              "</table>\n",
              "<p>891 rows × 12 columns</p>\n",
              "</div>\n",
              "      <button class=\"colab-df-convert\" onclick=\"convertToInteractive('df-7342137c-d2da-4fd8-9cb0-092644d40e42')\"\n",
              "              title=\"Convert this dataframe to an interactive table.\"\n",
              "              style=\"display:none;\">\n",
              "        \n",
              "  <svg xmlns=\"http://www.w3.org/2000/svg\" height=\"24px\"viewBox=\"0 0 24 24\"\n",
              "       width=\"24px\">\n",
              "    <path d=\"M0 0h24v24H0V0z\" fill=\"none\"/>\n",
              "    <path d=\"M18.56 5.44l.94 2.06.94-2.06 2.06-.94-2.06-.94-.94-2.06-.94 2.06-2.06.94zm-11 1L8.5 8.5l.94-2.06 2.06-.94-2.06-.94L8.5 2.5l-.94 2.06-2.06.94zm10 10l.94 2.06.94-2.06 2.06-.94-2.06-.94-.94-2.06-.94 2.06-2.06.94z\"/><path d=\"M17.41 7.96l-1.37-1.37c-.4-.4-.92-.59-1.43-.59-.52 0-1.04.2-1.43.59L10.3 9.45l-7.72 7.72c-.78.78-.78 2.05 0 2.83L4 21.41c.39.39.9.59 1.41.59.51 0 1.02-.2 1.41-.59l7.78-7.78 2.81-2.81c.8-.78.8-2.07 0-2.86zM5.41 20L4 18.59l7.72-7.72 1.47 1.35L5.41 20z\"/>\n",
              "  </svg>\n",
              "      </button>\n",
              "      \n",
              "  <style>\n",
              "    .colab-df-container {\n",
              "      display:flex;\n",
              "      flex-wrap:wrap;\n",
              "      gap: 12px;\n",
              "    }\n",
              "\n",
              "    .colab-df-convert {\n",
              "      background-color: #E8F0FE;\n",
              "      border: none;\n",
              "      border-radius: 50%;\n",
              "      cursor: pointer;\n",
              "      display: none;\n",
              "      fill: #1967D2;\n",
              "      height: 32px;\n",
              "      padding: 0 0 0 0;\n",
              "      width: 32px;\n",
              "    }\n",
              "\n",
              "    .colab-df-convert:hover {\n",
              "      background-color: #E2EBFA;\n",
              "      box-shadow: 0px 1px 2px rgba(60, 64, 67, 0.3), 0px 1px 3px 1px rgba(60, 64, 67, 0.15);\n",
              "      fill: #174EA6;\n",
              "    }\n",
              "\n",
              "    [theme=dark] .colab-df-convert {\n",
              "      background-color: #3B4455;\n",
              "      fill: #D2E3FC;\n",
              "    }\n",
              "\n",
              "    [theme=dark] .colab-df-convert:hover {\n",
              "      background-color: #434B5C;\n",
              "      box-shadow: 0px 1px 3px 1px rgba(0, 0, 0, 0.15);\n",
              "      filter: drop-shadow(0px 1px 2px rgba(0, 0, 0, 0.3));\n",
              "      fill: #FFFFFF;\n",
              "    }\n",
              "  </style>\n",
              "\n",
              "      <script>\n",
              "        const buttonEl =\n",
              "          document.querySelector('#df-7342137c-d2da-4fd8-9cb0-092644d40e42 button.colab-df-convert');\n",
              "        buttonEl.style.display =\n",
              "          google.colab.kernel.accessAllowed ? 'block' : 'none';\n",
              "\n",
              "        async function convertToInteractive(key) {\n",
              "          const element = document.querySelector('#df-7342137c-d2da-4fd8-9cb0-092644d40e42');\n",
              "          const dataTable =\n",
              "            await google.colab.kernel.invokeFunction('convertToInteractive',\n",
              "                                                     [key], {});\n",
              "          if (!dataTable) return;\n",
              "\n",
              "          const docLinkHtml = 'Like what you see? Visit the ' +\n",
              "            '<a target=\"_blank\" href=https://colab.research.google.com/notebooks/data_table.ipynb>data table notebook</a>'\n",
              "            + ' to learn more about interactive tables.';\n",
              "          element.innerHTML = '';\n",
              "          dataTable['output_type'] = 'display_data';\n",
              "          await google.colab.output.renderOutput(dataTable, element);\n",
              "          const docLink = document.createElement('div');\n",
              "          docLink.innerHTML = docLinkHtml;\n",
              "          element.appendChild(docLink);\n",
              "        }\n",
              "      </script>\n",
              "    </div>\n",
              "  </div>\n",
              "  "
            ]
          },
          "metadata": {},
          "execution_count": 92
        }
      ],
      "source": [
        "df"
      ]
    },
    {
      "cell_type": "code",
      "execution_count": null,
      "metadata": {
        "id": "O66ztGnanmJ7"
      },
      "outputs": [],
      "source": [
        "#from sklearn.inspection import permutation_importance\n",
        "\n",
        "#start_time = time.time()\n",
        "#result = permutation_importance(\n",
        "#    forest, X_test, y_test, n_repeats=10, random_state=42, n_jobs=2\n",
        "#)\n",
        "#elapsed_time = time.time() - start_time\n",
        "#print(f\"Elapsed time to compute the importances: {elapsed_time:.3f} seconds\")\n",
        "\n",
        "#forest_importances = pd.Series(result.importances_mean, index=feature_names)"
      ]
    },
    {
      "cell_type": "code",
      "execution_count": null,
      "metadata": {
        "id": "ewSOapl5noJf"
      },
      "outputs": [],
      "source": [
        "#fig, ax = plt.subplots()\n",
        "#forest_importances.plot.bar(yerr=result.importances_std, ax=ax)\n",
        "#ax.set_title(\"Feature importances using permutation on full model\")\n",
        "#ax.set_ylabel(\"Mean accuracy decrease\")\n",
        "#fig.tight_layout()\n",
        "#plt.show()"
      ]
    },
    {
      "cell_type": "code",
      "execution_count": null,
      "metadata": {
        "colab": {
          "base_uri": "https://localhost:8080/",
          "height": 206
        },
        "id": "0PvmMC5yoyGX",
        "outputId": "b27a6922-cb1e-4d97-c918-8ef430c02c37"
      },
      "outputs": [
        {
          "output_type": "execute_result",
          "data": {
            "text/plain": [
              "     Pclass  Sex   Age  SibSp  age_group  Dummy_Age  Cabin_Digit  Dummy_Cabin  \\\n",
              "192       3    0  19.0      1          2          1           -1            0   \n",
              "191       2    1  19.0      0          2          1           -1            0   \n",
              "714       2    1  52.0      0          2          1           -1            0   \n",
              "532       3    1  17.0      1          1          1           -1            0   \n",
              "132       3    0  47.0      1          2          1           -1            0   \n",
              "\n",
              "     Parch     Fare  Embarked  Family_size  \n",
              "192      0   7.8542         0            1  \n",
              "191      0  13.0000         0            0  \n",
              "714      0  13.0000         0            0  \n",
              "532      1   7.2292         1            2  \n",
              "132      0  14.5000         0            1  "
            ],
            "text/html": [
              "\n",
              "  <div id=\"df-5e3a1c5c-3b57-4d10-a275-91227936067d\">\n",
              "    <div class=\"colab-df-container\">\n",
              "      <div>\n",
              "<style scoped>\n",
              "    .dataframe tbody tr th:only-of-type {\n",
              "        vertical-align: middle;\n",
              "    }\n",
              "\n",
              "    .dataframe tbody tr th {\n",
              "        vertical-align: top;\n",
              "    }\n",
              "\n",
              "    .dataframe thead th {\n",
              "        text-align: right;\n",
              "    }\n",
              "</style>\n",
              "<table border=\"1\" class=\"dataframe\">\n",
              "  <thead>\n",
              "    <tr style=\"text-align: right;\">\n",
              "      <th></th>\n",
              "      <th>Pclass</th>\n",
              "      <th>Sex</th>\n",
              "      <th>Age</th>\n",
              "      <th>SibSp</th>\n",
              "      <th>age_group</th>\n",
              "      <th>Dummy_Age</th>\n",
              "      <th>Cabin_Digit</th>\n",
              "      <th>Dummy_Cabin</th>\n",
              "      <th>Parch</th>\n",
              "      <th>Fare</th>\n",
              "      <th>Embarked</th>\n",
              "      <th>Family_size</th>\n",
              "    </tr>\n",
              "  </thead>\n",
              "  <tbody>\n",
              "    <tr>\n",
              "      <th>192</th>\n",
              "      <td>3</td>\n",
              "      <td>0</td>\n",
              "      <td>19.0</td>\n",
              "      <td>1</td>\n",
              "      <td>2</td>\n",
              "      <td>1</td>\n",
              "      <td>-1</td>\n",
              "      <td>0</td>\n",
              "      <td>0</td>\n",
              "      <td>7.8542</td>\n",
              "      <td>0</td>\n",
              "      <td>1</td>\n",
              "    </tr>\n",
              "    <tr>\n",
              "      <th>191</th>\n",
              "      <td>2</td>\n",
              "      <td>1</td>\n",
              "      <td>19.0</td>\n",
              "      <td>0</td>\n",
              "      <td>2</td>\n",
              "      <td>1</td>\n",
              "      <td>-1</td>\n",
              "      <td>0</td>\n",
              "      <td>0</td>\n",
              "      <td>13.0000</td>\n",
              "      <td>0</td>\n",
              "      <td>0</td>\n",
              "    </tr>\n",
              "    <tr>\n",
              "      <th>714</th>\n",
              "      <td>2</td>\n",
              "      <td>1</td>\n",
              "      <td>52.0</td>\n",
              "      <td>0</td>\n",
              "      <td>2</td>\n",
              "      <td>1</td>\n",
              "      <td>-1</td>\n",
              "      <td>0</td>\n",
              "      <td>0</td>\n",
              "      <td>13.0000</td>\n",
              "      <td>0</td>\n",
              "      <td>0</td>\n",
              "    </tr>\n",
              "    <tr>\n",
              "      <th>532</th>\n",
              "      <td>3</td>\n",
              "      <td>1</td>\n",
              "      <td>17.0</td>\n",
              "      <td>1</td>\n",
              "      <td>1</td>\n",
              "      <td>1</td>\n",
              "      <td>-1</td>\n",
              "      <td>0</td>\n",
              "      <td>1</td>\n",
              "      <td>7.2292</td>\n",
              "      <td>1</td>\n",
              "      <td>2</td>\n",
              "    </tr>\n",
              "    <tr>\n",
              "      <th>132</th>\n",
              "      <td>3</td>\n",
              "      <td>0</td>\n",
              "      <td>47.0</td>\n",
              "      <td>1</td>\n",
              "      <td>2</td>\n",
              "      <td>1</td>\n",
              "      <td>-1</td>\n",
              "      <td>0</td>\n",
              "      <td>0</td>\n",
              "      <td>14.5000</td>\n",
              "      <td>0</td>\n",
              "      <td>1</td>\n",
              "    </tr>\n",
              "  </tbody>\n",
              "</table>\n",
              "</div>\n",
              "      <button class=\"colab-df-convert\" onclick=\"convertToInteractive('df-5e3a1c5c-3b57-4d10-a275-91227936067d')\"\n",
              "              title=\"Convert this dataframe to an interactive table.\"\n",
              "              style=\"display:none;\">\n",
              "        \n",
              "  <svg xmlns=\"http://www.w3.org/2000/svg\" height=\"24px\"viewBox=\"0 0 24 24\"\n",
              "       width=\"24px\">\n",
              "    <path d=\"M0 0h24v24H0V0z\" fill=\"none\"/>\n",
              "    <path d=\"M18.56 5.44l.94 2.06.94-2.06 2.06-.94-2.06-.94-.94-2.06-.94 2.06-2.06.94zm-11 1L8.5 8.5l.94-2.06 2.06-.94-2.06-.94L8.5 2.5l-.94 2.06-2.06.94zm10 10l.94 2.06.94-2.06 2.06-.94-2.06-.94-.94-2.06-.94 2.06-2.06.94z\"/><path d=\"M17.41 7.96l-1.37-1.37c-.4-.4-.92-.59-1.43-.59-.52 0-1.04.2-1.43.59L10.3 9.45l-7.72 7.72c-.78.78-.78 2.05 0 2.83L4 21.41c.39.39.9.59 1.41.59.51 0 1.02-.2 1.41-.59l7.78-7.78 2.81-2.81c.8-.78.8-2.07 0-2.86zM5.41 20L4 18.59l7.72-7.72 1.47 1.35L5.41 20z\"/>\n",
              "  </svg>\n",
              "      </button>\n",
              "      \n",
              "  <style>\n",
              "    .colab-df-container {\n",
              "      display:flex;\n",
              "      flex-wrap:wrap;\n",
              "      gap: 12px;\n",
              "    }\n",
              "\n",
              "    .colab-df-convert {\n",
              "      background-color: #E8F0FE;\n",
              "      border: none;\n",
              "      border-radius: 50%;\n",
              "      cursor: pointer;\n",
              "      display: none;\n",
              "      fill: #1967D2;\n",
              "      height: 32px;\n",
              "      padding: 0 0 0 0;\n",
              "      width: 32px;\n",
              "    }\n",
              "\n",
              "    .colab-df-convert:hover {\n",
              "      background-color: #E2EBFA;\n",
              "      box-shadow: 0px 1px 2px rgba(60, 64, 67, 0.3), 0px 1px 3px 1px rgba(60, 64, 67, 0.15);\n",
              "      fill: #174EA6;\n",
              "    }\n",
              "\n",
              "    [theme=dark] .colab-df-convert {\n",
              "      background-color: #3B4455;\n",
              "      fill: #D2E3FC;\n",
              "    }\n",
              "\n",
              "    [theme=dark] .colab-df-convert:hover {\n",
              "      background-color: #434B5C;\n",
              "      box-shadow: 0px 1px 3px 1px rgba(0, 0, 0, 0.15);\n",
              "      filter: drop-shadow(0px 1px 2px rgba(0, 0, 0, 0.3));\n",
              "      fill: #FFFFFF;\n",
              "    }\n",
              "  </style>\n",
              "\n",
              "      <script>\n",
              "        const buttonEl =\n",
              "          document.querySelector('#df-5e3a1c5c-3b57-4d10-a275-91227936067d button.colab-df-convert');\n",
              "        buttonEl.style.display =\n",
              "          google.colab.kernel.accessAllowed ? 'block' : 'none';\n",
              "\n",
              "        async function convertToInteractive(key) {\n",
              "          const element = document.querySelector('#df-5e3a1c5c-3b57-4d10-a275-91227936067d');\n",
              "          const dataTable =\n",
              "            await google.colab.kernel.invokeFunction('convertToInteractive',\n",
              "                                                     [key], {});\n",
              "          if (!dataTable) return;\n",
              "\n",
              "          const docLinkHtml = 'Like what you see? Visit the ' +\n",
              "            '<a target=\"_blank\" href=https://colab.research.google.com/notebooks/data_table.ipynb>data table notebook</a>'\n",
              "            + ' to learn more about interactive tables.';\n",
              "          element.innerHTML = '';\n",
              "          dataTable['output_type'] = 'display_data';\n",
              "          await google.colab.output.renderOutput(dataTable, element);\n",
              "          const docLink = document.createElement('div');\n",
              "          docLink.innerHTML = docLinkHtml;\n",
              "          element.appendChild(docLink);\n",
              "        }\n",
              "      </script>\n",
              "    </div>\n",
              "  </div>\n",
              "  "
            ]
          },
          "metadata": {},
          "execution_count": 95
        }
      ],
      "source": [
        "df.head()"
      ]
    },
    {
      "cell_type": "markdown",
      "metadata": {
        "id": "TOinDEpjweVm"
      },
      "source": [
        "Filtering important features"
      ]
    },
    {
      "cell_type": "code",
      "execution_count": null,
      "metadata": {
        "colab": {
          "base_uri": "https://localhost:8080/"
        },
        "id": "j4Pf-lVyd5Wg",
        "outputId": "52b30246-88a5-46aa-93d4-277c34e2c918"
      },
      "outputs": [
        {
          "output_type": "execute_result",
          "data": {
            "text/plain": [
              "(623, 12)"
            ]
          },
          "metadata": {},
          "execution_count": 96
        }
      ],
      "source": [
        "X_train.shape"
      ]
    },
    {
      "cell_type": "code",
      "execution_count": null,
      "metadata": {
        "colab": {
          "base_uri": "https://localhost:8080/"
        },
        "id": "DbG8MqfneGlX",
        "outputId": "4310ac9d-0331-4abc-b8ff-e8a07e95a415"
      },
      "outputs": [
        {
          "output_type": "execute_result",
          "data": {
            "text/plain": [
              "(268, 12)"
            ]
          },
          "metadata": {},
          "execution_count": 97
        }
      ],
      "source": [
        "X_test.shape"
      ]
    },
    {
      "cell_type": "code",
      "execution_count": null,
      "metadata": {
        "colab": {
          "base_uri": "https://localhost:8080/"
        },
        "id": "WRk3G6I5dc5-",
        "outputId": "e17e3af9-f6e1-4e2c-9f58-b8e8f003bba3"
      },
      "outputs": [
        {
          "output_type": "execute_result",
          "data": {
            "text/plain": [
              "(623,)"
            ]
          },
          "metadata": {},
          "execution_count": 98
        }
      ],
      "source": [
        "y_train.shape"
      ]
    },
    {
      "cell_type": "code",
      "execution_count": null,
      "metadata": {
        "colab": {
          "base_uri": "https://localhost:8080/"
        },
        "id": "CbNVLdFKeLCI",
        "outputId": "b1b963e5-5c1d-4e1a-da02-bf2f4b10212c"
      },
      "outputs": [
        {
          "output_type": "execute_result",
          "data": {
            "text/plain": [
              "(268,)"
            ]
          },
          "metadata": {},
          "execution_count": 99
        }
      ],
      "source": [
        "y_test.shape"
      ]
    },
    {
      "cell_type": "code",
      "execution_count": null,
      "metadata": {
        "id": "djPMd_3fvSrc"
      },
      "outputs": [],
      "source": [
        "#features = [\"Pclass\", \"Sex\",  \"age_group\", \"Cabin_Digit\",\"Family_size,\"Fare\",\"Embarked\"]\n",
        "#X_train = X_train[features]"
      ]
    },
    {
      "cell_type": "code",
      "execution_count": null,
      "metadata": {
        "colab": {
          "base_uri": "https://localhost:8080/",
          "height": 424
        },
        "id": "ODlRds1ezTWa",
        "outputId": "01d3634f-6e16-4bce-c7a0-acbf53e27e1b"
      },
      "outputs": [
        {
          "output_type": "execute_result",
          "data": {
            "text/plain": [
              "     Pclass  Sex   Age  SibSp  age_group  Dummy_Age  Cabin_Digit  Dummy_Cabin  \\\n",
              "192       3    0  19.0      1          2          1           -1            0   \n",
              "191       2    1  19.0      0          2          1           -1            0   \n",
              "714       2    1  52.0      0          2          1           -1            0   \n",
              "532       3    1  17.0      1          1          1           -1            0   \n",
              "132       3    0  47.0      1          2          1           -1            0   \n",
              "..      ...  ...   ...    ...        ...        ...          ...          ...   \n",
              "579       3    1  32.0      0          2          1           -1            0   \n",
              "502       3    0  -1.0      0         -1          0           -1            0   \n",
              "537       1    0  30.0      0          2          1           -1            0   \n",
              "196       3    1  -1.0      0         -1          0           -1            0   \n",
              "175       3    1  18.0      1          2          1           -1            0   \n",
              "\n",
              "     Parch      Fare  Embarked  Family_size  \n",
              "192      0    7.8542         0            1  \n",
              "191      0   13.0000         0            0  \n",
              "714      0   13.0000         0            0  \n",
              "532      1    7.2292         1            2  \n",
              "132      0   14.5000         0            1  \n",
              "..     ...       ...       ...          ...  \n",
              "579      0    7.9250         0            0  \n",
              "502      0    7.6292         2            0  \n",
              "537      0  106.4250         1            0  \n",
              "196      0    7.7500         2            0  \n",
              "175      1    7.8542         0            2  \n",
              "\n",
              "[623 rows x 12 columns]"
            ],
            "text/html": [
              "\n",
              "  <div id=\"df-0634d8be-5ba2-44bc-8a34-df33011fffed\">\n",
              "    <div class=\"colab-df-container\">\n",
              "      <div>\n",
              "<style scoped>\n",
              "    .dataframe tbody tr th:only-of-type {\n",
              "        vertical-align: middle;\n",
              "    }\n",
              "\n",
              "    .dataframe tbody tr th {\n",
              "        vertical-align: top;\n",
              "    }\n",
              "\n",
              "    .dataframe thead th {\n",
              "        text-align: right;\n",
              "    }\n",
              "</style>\n",
              "<table border=\"1\" class=\"dataframe\">\n",
              "  <thead>\n",
              "    <tr style=\"text-align: right;\">\n",
              "      <th></th>\n",
              "      <th>Pclass</th>\n",
              "      <th>Sex</th>\n",
              "      <th>Age</th>\n",
              "      <th>SibSp</th>\n",
              "      <th>age_group</th>\n",
              "      <th>Dummy_Age</th>\n",
              "      <th>Cabin_Digit</th>\n",
              "      <th>Dummy_Cabin</th>\n",
              "      <th>Parch</th>\n",
              "      <th>Fare</th>\n",
              "      <th>Embarked</th>\n",
              "      <th>Family_size</th>\n",
              "    </tr>\n",
              "  </thead>\n",
              "  <tbody>\n",
              "    <tr>\n",
              "      <th>192</th>\n",
              "      <td>3</td>\n",
              "      <td>0</td>\n",
              "      <td>19.0</td>\n",
              "      <td>1</td>\n",
              "      <td>2</td>\n",
              "      <td>1</td>\n",
              "      <td>-1</td>\n",
              "      <td>0</td>\n",
              "      <td>0</td>\n",
              "      <td>7.8542</td>\n",
              "      <td>0</td>\n",
              "      <td>1</td>\n",
              "    </tr>\n",
              "    <tr>\n",
              "      <th>191</th>\n",
              "      <td>2</td>\n",
              "      <td>1</td>\n",
              "      <td>19.0</td>\n",
              "      <td>0</td>\n",
              "      <td>2</td>\n",
              "      <td>1</td>\n",
              "      <td>-1</td>\n",
              "      <td>0</td>\n",
              "      <td>0</td>\n",
              "      <td>13.0000</td>\n",
              "      <td>0</td>\n",
              "      <td>0</td>\n",
              "    </tr>\n",
              "    <tr>\n",
              "      <th>714</th>\n",
              "      <td>2</td>\n",
              "      <td>1</td>\n",
              "      <td>52.0</td>\n",
              "      <td>0</td>\n",
              "      <td>2</td>\n",
              "      <td>1</td>\n",
              "      <td>-1</td>\n",
              "      <td>0</td>\n",
              "      <td>0</td>\n",
              "      <td>13.0000</td>\n",
              "      <td>0</td>\n",
              "      <td>0</td>\n",
              "    </tr>\n",
              "    <tr>\n",
              "      <th>532</th>\n",
              "      <td>3</td>\n",
              "      <td>1</td>\n",
              "      <td>17.0</td>\n",
              "      <td>1</td>\n",
              "      <td>1</td>\n",
              "      <td>1</td>\n",
              "      <td>-1</td>\n",
              "      <td>0</td>\n",
              "      <td>1</td>\n",
              "      <td>7.2292</td>\n",
              "      <td>1</td>\n",
              "      <td>2</td>\n",
              "    </tr>\n",
              "    <tr>\n",
              "      <th>132</th>\n",
              "      <td>3</td>\n",
              "      <td>0</td>\n",
              "      <td>47.0</td>\n",
              "      <td>1</td>\n",
              "      <td>2</td>\n",
              "      <td>1</td>\n",
              "      <td>-1</td>\n",
              "      <td>0</td>\n",
              "      <td>0</td>\n",
              "      <td>14.5000</td>\n",
              "      <td>0</td>\n",
              "      <td>1</td>\n",
              "    </tr>\n",
              "    <tr>\n",
              "      <th>...</th>\n",
              "      <td>...</td>\n",
              "      <td>...</td>\n",
              "      <td>...</td>\n",
              "      <td>...</td>\n",
              "      <td>...</td>\n",
              "      <td>...</td>\n",
              "      <td>...</td>\n",
              "      <td>...</td>\n",
              "      <td>...</td>\n",
              "      <td>...</td>\n",
              "      <td>...</td>\n",
              "      <td>...</td>\n",
              "    </tr>\n",
              "    <tr>\n",
              "      <th>579</th>\n",
              "      <td>3</td>\n",
              "      <td>1</td>\n",
              "      <td>32.0</td>\n",
              "      <td>0</td>\n",
              "      <td>2</td>\n",
              "      <td>1</td>\n",
              "      <td>-1</td>\n",
              "      <td>0</td>\n",
              "      <td>0</td>\n",
              "      <td>7.9250</td>\n",
              "      <td>0</td>\n",
              "      <td>0</td>\n",
              "    </tr>\n",
              "    <tr>\n",
              "      <th>502</th>\n",
              "      <td>3</td>\n",
              "      <td>0</td>\n",
              "      <td>-1.0</td>\n",
              "      <td>0</td>\n",
              "      <td>-1</td>\n",
              "      <td>0</td>\n",
              "      <td>-1</td>\n",
              "      <td>0</td>\n",
              "      <td>0</td>\n",
              "      <td>7.6292</td>\n",
              "      <td>2</td>\n",
              "      <td>0</td>\n",
              "    </tr>\n",
              "    <tr>\n",
              "      <th>537</th>\n",
              "      <td>1</td>\n",
              "      <td>0</td>\n",
              "      <td>30.0</td>\n",
              "      <td>0</td>\n",
              "      <td>2</td>\n",
              "      <td>1</td>\n",
              "      <td>-1</td>\n",
              "      <td>0</td>\n",
              "      <td>0</td>\n",
              "      <td>106.4250</td>\n",
              "      <td>1</td>\n",
              "      <td>0</td>\n",
              "    </tr>\n",
              "    <tr>\n",
              "      <th>196</th>\n",
              "      <td>3</td>\n",
              "      <td>1</td>\n",
              "      <td>-1.0</td>\n",
              "      <td>0</td>\n",
              "      <td>-1</td>\n",
              "      <td>0</td>\n",
              "      <td>-1</td>\n",
              "      <td>0</td>\n",
              "      <td>0</td>\n",
              "      <td>7.7500</td>\n",
              "      <td>2</td>\n",
              "      <td>0</td>\n",
              "    </tr>\n",
              "    <tr>\n",
              "      <th>175</th>\n",
              "      <td>3</td>\n",
              "      <td>1</td>\n",
              "      <td>18.0</td>\n",
              "      <td>1</td>\n",
              "      <td>2</td>\n",
              "      <td>1</td>\n",
              "      <td>-1</td>\n",
              "      <td>0</td>\n",
              "      <td>1</td>\n",
              "      <td>7.8542</td>\n",
              "      <td>0</td>\n",
              "      <td>2</td>\n",
              "    </tr>\n",
              "  </tbody>\n",
              "</table>\n",
              "<p>623 rows × 12 columns</p>\n",
              "</div>\n",
              "      <button class=\"colab-df-convert\" onclick=\"convertToInteractive('df-0634d8be-5ba2-44bc-8a34-df33011fffed')\"\n",
              "              title=\"Convert this dataframe to an interactive table.\"\n",
              "              style=\"display:none;\">\n",
              "        \n",
              "  <svg xmlns=\"http://www.w3.org/2000/svg\" height=\"24px\"viewBox=\"0 0 24 24\"\n",
              "       width=\"24px\">\n",
              "    <path d=\"M0 0h24v24H0V0z\" fill=\"none\"/>\n",
              "    <path d=\"M18.56 5.44l.94 2.06.94-2.06 2.06-.94-2.06-.94-.94-2.06-.94 2.06-2.06.94zm-11 1L8.5 8.5l.94-2.06 2.06-.94-2.06-.94L8.5 2.5l-.94 2.06-2.06.94zm10 10l.94 2.06.94-2.06 2.06-.94-2.06-.94-.94-2.06-.94 2.06-2.06.94z\"/><path d=\"M17.41 7.96l-1.37-1.37c-.4-.4-.92-.59-1.43-.59-.52 0-1.04.2-1.43.59L10.3 9.45l-7.72 7.72c-.78.78-.78 2.05 0 2.83L4 21.41c.39.39.9.59 1.41.59.51 0 1.02-.2 1.41-.59l7.78-7.78 2.81-2.81c.8-.78.8-2.07 0-2.86zM5.41 20L4 18.59l7.72-7.72 1.47 1.35L5.41 20z\"/>\n",
              "  </svg>\n",
              "      </button>\n",
              "      \n",
              "  <style>\n",
              "    .colab-df-container {\n",
              "      display:flex;\n",
              "      flex-wrap:wrap;\n",
              "      gap: 12px;\n",
              "    }\n",
              "\n",
              "    .colab-df-convert {\n",
              "      background-color: #E8F0FE;\n",
              "      border: none;\n",
              "      border-radius: 50%;\n",
              "      cursor: pointer;\n",
              "      display: none;\n",
              "      fill: #1967D2;\n",
              "      height: 32px;\n",
              "      padding: 0 0 0 0;\n",
              "      width: 32px;\n",
              "    }\n",
              "\n",
              "    .colab-df-convert:hover {\n",
              "      background-color: #E2EBFA;\n",
              "      box-shadow: 0px 1px 2px rgba(60, 64, 67, 0.3), 0px 1px 3px 1px rgba(60, 64, 67, 0.15);\n",
              "      fill: #174EA6;\n",
              "    }\n",
              "\n",
              "    [theme=dark] .colab-df-convert {\n",
              "      background-color: #3B4455;\n",
              "      fill: #D2E3FC;\n",
              "    }\n",
              "\n",
              "    [theme=dark] .colab-df-convert:hover {\n",
              "      background-color: #434B5C;\n",
              "      box-shadow: 0px 1px 3px 1px rgba(0, 0, 0, 0.15);\n",
              "      filter: drop-shadow(0px 1px 2px rgba(0, 0, 0, 0.3));\n",
              "      fill: #FFFFFF;\n",
              "    }\n",
              "  </style>\n",
              "\n",
              "      <script>\n",
              "        const buttonEl =\n",
              "          document.querySelector('#df-0634d8be-5ba2-44bc-8a34-df33011fffed button.colab-df-convert');\n",
              "        buttonEl.style.display =\n",
              "          google.colab.kernel.accessAllowed ? 'block' : 'none';\n",
              "\n",
              "        async function convertToInteractive(key) {\n",
              "          const element = document.querySelector('#df-0634d8be-5ba2-44bc-8a34-df33011fffed');\n",
              "          const dataTable =\n",
              "            await google.colab.kernel.invokeFunction('convertToInteractive',\n",
              "                                                     [key], {});\n",
              "          if (!dataTable) return;\n",
              "\n",
              "          const docLinkHtml = 'Like what you see? Visit the ' +\n",
              "            '<a target=\"_blank\" href=https://colab.research.google.com/notebooks/data_table.ipynb>data table notebook</a>'\n",
              "            + ' to learn more about interactive tables.';\n",
              "          element.innerHTML = '';\n",
              "          dataTable['output_type'] = 'display_data';\n",
              "          await google.colab.output.renderOutput(dataTable, element);\n",
              "          const docLink = document.createElement('div');\n",
              "          docLink.innerHTML = docLinkHtml;\n",
              "          element.appendChild(docLink);\n",
              "        }\n",
              "      </script>\n",
              "    </div>\n",
              "  </div>\n",
              "  "
            ]
          },
          "metadata": {},
          "execution_count": 101
        }
      ],
      "source": [
        "X_train"
      ]
    },
    {
      "cell_type": "code",
      "execution_count": null,
      "metadata": {
        "colab": {
          "base_uri": "https://localhost:8080/",
          "height": 424
        },
        "id": "cGsJWsiFy6F8",
        "outputId": "b842f05f-e8da-4718-95a4-603ddf032048"
      },
      "outputs": [
        {
          "output_type": "execute_result",
          "data": {
            "text/plain": [
              "     Pclass  Sex   Age  SibSp  age_group  Dummy_Age  Cabin_Digit  Dummy_Cabin  \\\n",
              "192       3    0  19.0      1          2          1           -1            0   \n",
              "191       2    1  19.0      0          2          1           -1            0   \n",
              "714       2    1  52.0      0          2          1           -1            0   \n",
              "532       3    1  17.0      1          1          1           -1            0   \n",
              "132       3    0  47.0      1          2          1           -1            0   \n",
              "..      ...  ...   ...    ...        ...        ...          ...          ...   \n",
              "579       3    1  32.0      0          2          1           -1            0   \n",
              "502       3    0  -1.0      0         -1          0           -1            0   \n",
              "537       1    0  30.0      0          2          1           -1            0   \n",
              "196       3    1  -1.0      0         -1          0           -1            0   \n",
              "175       3    1  18.0      1          2          1           -1            0   \n",
              "\n",
              "     Parch      Fare  Embarked  Family_size  \n",
              "192      0    7.8542         0            1  \n",
              "191      0   13.0000         0            0  \n",
              "714      0   13.0000         0            0  \n",
              "532      1    7.2292         1            2  \n",
              "132      0   14.5000         0            1  \n",
              "..     ...       ...       ...          ...  \n",
              "579      0    7.9250         0            0  \n",
              "502      0    7.6292         2            0  \n",
              "537      0  106.4250         1            0  \n",
              "196      0    7.7500         2            0  \n",
              "175      1    7.8542         0            2  \n",
              "\n",
              "[623 rows x 12 columns]"
            ],
            "text/html": [
              "\n",
              "  <div id=\"df-54a94731-7e32-4af5-83c4-45ead1b79bd5\">\n",
              "    <div class=\"colab-df-container\">\n",
              "      <div>\n",
              "<style scoped>\n",
              "    .dataframe tbody tr th:only-of-type {\n",
              "        vertical-align: middle;\n",
              "    }\n",
              "\n",
              "    .dataframe tbody tr th {\n",
              "        vertical-align: top;\n",
              "    }\n",
              "\n",
              "    .dataframe thead th {\n",
              "        text-align: right;\n",
              "    }\n",
              "</style>\n",
              "<table border=\"1\" class=\"dataframe\">\n",
              "  <thead>\n",
              "    <tr style=\"text-align: right;\">\n",
              "      <th></th>\n",
              "      <th>Pclass</th>\n",
              "      <th>Sex</th>\n",
              "      <th>Age</th>\n",
              "      <th>SibSp</th>\n",
              "      <th>age_group</th>\n",
              "      <th>Dummy_Age</th>\n",
              "      <th>Cabin_Digit</th>\n",
              "      <th>Dummy_Cabin</th>\n",
              "      <th>Parch</th>\n",
              "      <th>Fare</th>\n",
              "      <th>Embarked</th>\n",
              "      <th>Family_size</th>\n",
              "    </tr>\n",
              "  </thead>\n",
              "  <tbody>\n",
              "    <tr>\n",
              "      <th>192</th>\n",
              "      <td>3</td>\n",
              "      <td>0</td>\n",
              "      <td>19.0</td>\n",
              "      <td>1</td>\n",
              "      <td>2</td>\n",
              "      <td>1</td>\n",
              "      <td>-1</td>\n",
              "      <td>0</td>\n",
              "      <td>0</td>\n",
              "      <td>7.8542</td>\n",
              "      <td>0</td>\n",
              "      <td>1</td>\n",
              "    </tr>\n",
              "    <tr>\n",
              "      <th>191</th>\n",
              "      <td>2</td>\n",
              "      <td>1</td>\n",
              "      <td>19.0</td>\n",
              "      <td>0</td>\n",
              "      <td>2</td>\n",
              "      <td>1</td>\n",
              "      <td>-1</td>\n",
              "      <td>0</td>\n",
              "      <td>0</td>\n",
              "      <td>13.0000</td>\n",
              "      <td>0</td>\n",
              "      <td>0</td>\n",
              "    </tr>\n",
              "    <tr>\n",
              "      <th>714</th>\n",
              "      <td>2</td>\n",
              "      <td>1</td>\n",
              "      <td>52.0</td>\n",
              "      <td>0</td>\n",
              "      <td>2</td>\n",
              "      <td>1</td>\n",
              "      <td>-1</td>\n",
              "      <td>0</td>\n",
              "      <td>0</td>\n",
              "      <td>13.0000</td>\n",
              "      <td>0</td>\n",
              "      <td>0</td>\n",
              "    </tr>\n",
              "    <tr>\n",
              "      <th>532</th>\n",
              "      <td>3</td>\n",
              "      <td>1</td>\n",
              "      <td>17.0</td>\n",
              "      <td>1</td>\n",
              "      <td>1</td>\n",
              "      <td>1</td>\n",
              "      <td>-1</td>\n",
              "      <td>0</td>\n",
              "      <td>1</td>\n",
              "      <td>7.2292</td>\n",
              "      <td>1</td>\n",
              "      <td>2</td>\n",
              "    </tr>\n",
              "    <tr>\n",
              "      <th>132</th>\n",
              "      <td>3</td>\n",
              "      <td>0</td>\n",
              "      <td>47.0</td>\n",
              "      <td>1</td>\n",
              "      <td>2</td>\n",
              "      <td>1</td>\n",
              "      <td>-1</td>\n",
              "      <td>0</td>\n",
              "      <td>0</td>\n",
              "      <td>14.5000</td>\n",
              "      <td>0</td>\n",
              "      <td>1</td>\n",
              "    </tr>\n",
              "    <tr>\n",
              "      <th>...</th>\n",
              "      <td>...</td>\n",
              "      <td>...</td>\n",
              "      <td>...</td>\n",
              "      <td>...</td>\n",
              "      <td>...</td>\n",
              "      <td>...</td>\n",
              "      <td>...</td>\n",
              "      <td>...</td>\n",
              "      <td>...</td>\n",
              "      <td>...</td>\n",
              "      <td>...</td>\n",
              "      <td>...</td>\n",
              "    </tr>\n",
              "    <tr>\n",
              "      <th>579</th>\n",
              "      <td>3</td>\n",
              "      <td>1</td>\n",
              "      <td>32.0</td>\n",
              "      <td>0</td>\n",
              "      <td>2</td>\n",
              "      <td>1</td>\n",
              "      <td>-1</td>\n",
              "      <td>0</td>\n",
              "      <td>0</td>\n",
              "      <td>7.9250</td>\n",
              "      <td>0</td>\n",
              "      <td>0</td>\n",
              "    </tr>\n",
              "    <tr>\n",
              "      <th>502</th>\n",
              "      <td>3</td>\n",
              "      <td>0</td>\n",
              "      <td>-1.0</td>\n",
              "      <td>0</td>\n",
              "      <td>-1</td>\n",
              "      <td>0</td>\n",
              "      <td>-1</td>\n",
              "      <td>0</td>\n",
              "      <td>0</td>\n",
              "      <td>7.6292</td>\n",
              "      <td>2</td>\n",
              "      <td>0</td>\n",
              "    </tr>\n",
              "    <tr>\n",
              "      <th>537</th>\n",
              "      <td>1</td>\n",
              "      <td>0</td>\n",
              "      <td>30.0</td>\n",
              "      <td>0</td>\n",
              "      <td>2</td>\n",
              "      <td>1</td>\n",
              "      <td>-1</td>\n",
              "      <td>0</td>\n",
              "      <td>0</td>\n",
              "      <td>106.4250</td>\n",
              "      <td>1</td>\n",
              "      <td>0</td>\n",
              "    </tr>\n",
              "    <tr>\n",
              "      <th>196</th>\n",
              "      <td>3</td>\n",
              "      <td>1</td>\n",
              "      <td>-1.0</td>\n",
              "      <td>0</td>\n",
              "      <td>-1</td>\n",
              "      <td>0</td>\n",
              "      <td>-1</td>\n",
              "      <td>0</td>\n",
              "      <td>0</td>\n",
              "      <td>7.7500</td>\n",
              "      <td>2</td>\n",
              "      <td>0</td>\n",
              "    </tr>\n",
              "    <tr>\n",
              "      <th>175</th>\n",
              "      <td>3</td>\n",
              "      <td>1</td>\n",
              "      <td>18.0</td>\n",
              "      <td>1</td>\n",
              "      <td>2</td>\n",
              "      <td>1</td>\n",
              "      <td>-1</td>\n",
              "      <td>0</td>\n",
              "      <td>1</td>\n",
              "      <td>7.8542</td>\n",
              "      <td>0</td>\n",
              "      <td>2</td>\n",
              "    </tr>\n",
              "  </tbody>\n",
              "</table>\n",
              "<p>623 rows × 12 columns</p>\n",
              "</div>\n",
              "      <button class=\"colab-df-convert\" onclick=\"convertToInteractive('df-54a94731-7e32-4af5-83c4-45ead1b79bd5')\"\n",
              "              title=\"Convert this dataframe to an interactive table.\"\n",
              "              style=\"display:none;\">\n",
              "        \n",
              "  <svg xmlns=\"http://www.w3.org/2000/svg\" height=\"24px\"viewBox=\"0 0 24 24\"\n",
              "       width=\"24px\">\n",
              "    <path d=\"M0 0h24v24H0V0z\" fill=\"none\"/>\n",
              "    <path d=\"M18.56 5.44l.94 2.06.94-2.06 2.06-.94-2.06-.94-.94-2.06-.94 2.06-2.06.94zm-11 1L8.5 8.5l.94-2.06 2.06-.94-2.06-.94L8.5 2.5l-.94 2.06-2.06.94zm10 10l.94 2.06.94-2.06 2.06-.94-2.06-.94-.94-2.06-.94 2.06-2.06.94z\"/><path d=\"M17.41 7.96l-1.37-1.37c-.4-.4-.92-.59-1.43-.59-.52 0-1.04.2-1.43.59L10.3 9.45l-7.72 7.72c-.78.78-.78 2.05 0 2.83L4 21.41c.39.39.9.59 1.41.59.51 0 1.02-.2 1.41-.59l7.78-7.78 2.81-2.81c.8-.78.8-2.07 0-2.86zM5.41 20L4 18.59l7.72-7.72 1.47 1.35L5.41 20z\"/>\n",
              "  </svg>\n",
              "      </button>\n",
              "      \n",
              "  <style>\n",
              "    .colab-df-container {\n",
              "      display:flex;\n",
              "      flex-wrap:wrap;\n",
              "      gap: 12px;\n",
              "    }\n",
              "\n",
              "    .colab-df-convert {\n",
              "      background-color: #E8F0FE;\n",
              "      border: none;\n",
              "      border-radius: 50%;\n",
              "      cursor: pointer;\n",
              "      display: none;\n",
              "      fill: #1967D2;\n",
              "      height: 32px;\n",
              "      padding: 0 0 0 0;\n",
              "      width: 32px;\n",
              "    }\n",
              "\n",
              "    .colab-df-convert:hover {\n",
              "      background-color: #E2EBFA;\n",
              "      box-shadow: 0px 1px 2px rgba(60, 64, 67, 0.3), 0px 1px 3px 1px rgba(60, 64, 67, 0.15);\n",
              "      fill: #174EA6;\n",
              "    }\n",
              "\n",
              "    [theme=dark] .colab-df-convert {\n",
              "      background-color: #3B4455;\n",
              "      fill: #D2E3FC;\n",
              "    }\n",
              "\n",
              "    [theme=dark] .colab-df-convert:hover {\n",
              "      background-color: #434B5C;\n",
              "      box-shadow: 0px 1px 3px 1px rgba(0, 0, 0, 0.15);\n",
              "      filter: drop-shadow(0px 1px 2px rgba(0, 0, 0, 0.3));\n",
              "      fill: #FFFFFF;\n",
              "    }\n",
              "  </style>\n",
              "\n",
              "      <script>\n",
              "        const buttonEl =\n",
              "          document.querySelector('#df-54a94731-7e32-4af5-83c4-45ead1b79bd5 button.colab-df-convert');\n",
              "        buttonEl.style.display =\n",
              "          google.colab.kernel.accessAllowed ? 'block' : 'none';\n",
              "\n",
              "        async function convertToInteractive(key) {\n",
              "          const element = document.querySelector('#df-54a94731-7e32-4af5-83c4-45ead1b79bd5');\n",
              "          const dataTable =\n",
              "            await google.colab.kernel.invokeFunction('convertToInteractive',\n",
              "                                                     [key], {});\n",
              "          if (!dataTable) return;\n",
              "\n",
              "          const docLinkHtml = 'Like what you see? Visit the ' +\n",
              "            '<a target=\"_blank\" href=https://colab.research.google.com/notebooks/data_table.ipynb>data table notebook</a>'\n",
              "            + ' to learn more about interactive tables.';\n",
              "          element.innerHTML = '';\n",
              "          dataTable['output_type'] = 'display_data';\n",
              "          await google.colab.output.renderOutput(dataTable, element);\n",
              "          const docLink = document.createElement('div');\n",
              "          docLink.innerHTML = docLinkHtml;\n",
              "          element.appendChild(docLink);\n",
              "        }\n",
              "      </script>\n",
              "    </div>\n",
              "  </div>\n",
              "  "
            ]
          },
          "metadata": {},
          "execution_count": 102
        }
      ],
      "source": [
        "X_train"
      ]
    },
    {
      "cell_type": "code",
      "execution_count": null,
      "metadata": {
        "id": "VguFuzJrzuLA"
      },
      "outputs": [],
      "source": [
        "# X_test = X_test[features]"
      ]
    },
    {
      "cell_type": "code",
      "execution_count": null,
      "metadata": {
        "colab": {
          "base_uri": "https://localhost:8080/",
          "height": 424
        },
        "id": "GW_dpsCoz3Il",
        "outputId": "26d1fd23-66ae-4c46-e1b4-1d5c2c4aca45"
      },
      "outputs": [
        {
          "output_type": "execute_result",
          "data": {
            "text/plain": [
              "     Pclass  Sex   Age  SibSp  age_group  Dummy_Age  Cabin_Digit  Dummy_Cabin  \\\n",
              "192       3    0  19.0      1          2          1           -1            0   \n",
              "191       2    1  19.0      0          2          1           -1            0   \n",
              "714       2    1  52.0      0          2          1           -1            0   \n",
              "532       3    1  17.0      1          1          1           -1            0   \n",
              "132       3    0  47.0      1          2          1           -1            0   \n",
              "..      ...  ...   ...    ...        ...        ...          ...          ...   \n",
              "86        3    1  16.0      1          1          1           -1            0   \n",
              "370       1    1  25.0      1          2          1            3            1   \n",
              "165       3    1   9.0      0          1          1           -1            0   \n",
              "780       3    0  13.0      0          1          1           -1            0   \n",
              "335       3    1  -1.0      0         -1          0           -1            0   \n",
              "\n",
              "     Parch     Fare  Embarked  Family_size  \n",
              "192      0   7.8542         0            1  \n",
              "191      0  13.0000         0            0  \n",
              "714      0  13.0000         0            0  \n",
              "532      1   7.2292         1            2  \n",
              "132      0  14.5000         0            1  \n",
              "..     ...      ...       ...          ...  \n",
              "86       3  34.3750         0            4  \n",
              "370      0  55.4417         1            1  \n",
              "165      2  20.5250         0            2  \n",
              "780      0   7.2292         1            0  \n",
              "335      0   7.8958         0            0  \n",
              "\n",
              "[268 rows x 12 columns]"
            ],
            "text/html": [
              "\n",
              "  <div id=\"df-fdf616a3-53cf-4337-91ed-e539c969b408\">\n",
              "    <div class=\"colab-df-container\">\n",
              "      <div>\n",
              "<style scoped>\n",
              "    .dataframe tbody tr th:only-of-type {\n",
              "        vertical-align: middle;\n",
              "    }\n",
              "\n",
              "    .dataframe tbody tr th {\n",
              "        vertical-align: top;\n",
              "    }\n",
              "\n",
              "    .dataframe thead th {\n",
              "        text-align: right;\n",
              "    }\n",
              "</style>\n",
              "<table border=\"1\" class=\"dataframe\">\n",
              "  <thead>\n",
              "    <tr style=\"text-align: right;\">\n",
              "      <th></th>\n",
              "      <th>Pclass</th>\n",
              "      <th>Sex</th>\n",
              "      <th>Age</th>\n",
              "      <th>SibSp</th>\n",
              "      <th>age_group</th>\n",
              "      <th>Dummy_Age</th>\n",
              "      <th>Cabin_Digit</th>\n",
              "      <th>Dummy_Cabin</th>\n",
              "      <th>Parch</th>\n",
              "      <th>Fare</th>\n",
              "      <th>Embarked</th>\n",
              "      <th>Family_size</th>\n",
              "    </tr>\n",
              "  </thead>\n",
              "  <tbody>\n",
              "    <tr>\n",
              "      <th>192</th>\n",
              "      <td>3</td>\n",
              "      <td>0</td>\n",
              "      <td>19.0</td>\n",
              "      <td>1</td>\n",
              "      <td>2</td>\n",
              "      <td>1</td>\n",
              "      <td>-1</td>\n",
              "      <td>0</td>\n",
              "      <td>0</td>\n",
              "      <td>7.8542</td>\n",
              "      <td>0</td>\n",
              "      <td>1</td>\n",
              "    </tr>\n",
              "    <tr>\n",
              "      <th>191</th>\n",
              "      <td>2</td>\n",
              "      <td>1</td>\n",
              "      <td>19.0</td>\n",
              "      <td>0</td>\n",
              "      <td>2</td>\n",
              "      <td>1</td>\n",
              "      <td>-1</td>\n",
              "      <td>0</td>\n",
              "      <td>0</td>\n",
              "      <td>13.0000</td>\n",
              "      <td>0</td>\n",
              "      <td>0</td>\n",
              "    </tr>\n",
              "    <tr>\n",
              "      <th>714</th>\n",
              "      <td>2</td>\n",
              "      <td>1</td>\n",
              "      <td>52.0</td>\n",
              "      <td>0</td>\n",
              "      <td>2</td>\n",
              "      <td>1</td>\n",
              "      <td>-1</td>\n",
              "      <td>0</td>\n",
              "      <td>0</td>\n",
              "      <td>13.0000</td>\n",
              "      <td>0</td>\n",
              "      <td>0</td>\n",
              "    </tr>\n",
              "    <tr>\n",
              "      <th>532</th>\n",
              "      <td>3</td>\n",
              "      <td>1</td>\n",
              "      <td>17.0</td>\n",
              "      <td>1</td>\n",
              "      <td>1</td>\n",
              "      <td>1</td>\n",
              "      <td>-1</td>\n",
              "      <td>0</td>\n",
              "      <td>1</td>\n",
              "      <td>7.2292</td>\n",
              "      <td>1</td>\n",
              "      <td>2</td>\n",
              "    </tr>\n",
              "    <tr>\n",
              "      <th>132</th>\n",
              "      <td>3</td>\n",
              "      <td>0</td>\n",
              "      <td>47.0</td>\n",
              "      <td>1</td>\n",
              "      <td>2</td>\n",
              "      <td>1</td>\n",
              "      <td>-1</td>\n",
              "      <td>0</td>\n",
              "      <td>0</td>\n",
              "      <td>14.5000</td>\n",
              "      <td>0</td>\n",
              "      <td>1</td>\n",
              "    </tr>\n",
              "    <tr>\n",
              "      <th>...</th>\n",
              "      <td>...</td>\n",
              "      <td>...</td>\n",
              "      <td>...</td>\n",
              "      <td>...</td>\n",
              "      <td>...</td>\n",
              "      <td>...</td>\n",
              "      <td>...</td>\n",
              "      <td>...</td>\n",
              "      <td>...</td>\n",
              "      <td>...</td>\n",
              "      <td>...</td>\n",
              "      <td>...</td>\n",
              "    </tr>\n",
              "    <tr>\n",
              "      <th>86</th>\n",
              "      <td>3</td>\n",
              "      <td>1</td>\n",
              "      <td>16.0</td>\n",
              "      <td>1</td>\n",
              "      <td>1</td>\n",
              "      <td>1</td>\n",
              "      <td>-1</td>\n",
              "      <td>0</td>\n",
              "      <td>3</td>\n",
              "      <td>34.3750</td>\n",
              "      <td>0</td>\n",
              "      <td>4</td>\n",
              "    </tr>\n",
              "    <tr>\n",
              "      <th>370</th>\n",
              "      <td>1</td>\n",
              "      <td>1</td>\n",
              "      <td>25.0</td>\n",
              "      <td>1</td>\n",
              "      <td>2</td>\n",
              "      <td>1</td>\n",
              "      <td>3</td>\n",
              "      <td>1</td>\n",
              "      <td>0</td>\n",
              "      <td>55.4417</td>\n",
              "      <td>1</td>\n",
              "      <td>1</td>\n",
              "    </tr>\n",
              "    <tr>\n",
              "      <th>165</th>\n",
              "      <td>3</td>\n",
              "      <td>1</td>\n",
              "      <td>9.0</td>\n",
              "      <td>0</td>\n",
              "      <td>1</td>\n",
              "      <td>1</td>\n",
              "      <td>-1</td>\n",
              "      <td>0</td>\n",
              "      <td>2</td>\n",
              "      <td>20.5250</td>\n",
              "      <td>0</td>\n",
              "      <td>2</td>\n",
              "    </tr>\n",
              "    <tr>\n",
              "      <th>780</th>\n",
              "      <td>3</td>\n",
              "      <td>0</td>\n",
              "      <td>13.0</td>\n",
              "      <td>0</td>\n",
              "      <td>1</td>\n",
              "      <td>1</td>\n",
              "      <td>-1</td>\n",
              "      <td>0</td>\n",
              "      <td>0</td>\n",
              "      <td>7.2292</td>\n",
              "      <td>1</td>\n",
              "      <td>0</td>\n",
              "    </tr>\n",
              "    <tr>\n",
              "      <th>335</th>\n",
              "      <td>3</td>\n",
              "      <td>1</td>\n",
              "      <td>-1.0</td>\n",
              "      <td>0</td>\n",
              "      <td>-1</td>\n",
              "      <td>0</td>\n",
              "      <td>-1</td>\n",
              "      <td>0</td>\n",
              "      <td>0</td>\n",
              "      <td>7.8958</td>\n",
              "      <td>0</td>\n",
              "      <td>0</td>\n",
              "    </tr>\n",
              "  </tbody>\n",
              "</table>\n",
              "<p>268 rows × 12 columns</p>\n",
              "</div>\n",
              "      <button class=\"colab-df-convert\" onclick=\"convertToInteractive('df-fdf616a3-53cf-4337-91ed-e539c969b408')\"\n",
              "              title=\"Convert this dataframe to an interactive table.\"\n",
              "              style=\"display:none;\">\n",
              "        \n",
              "  <svg xmlns=\"http://www.w3.org/2000/svg\" height=\"24px\"viewBox=\"0 0 24 24\"\n",
              "       width=\"24px\">\n",
              "    <path d=\"M0 0h24v24H0V0z\" fill=\"none\"/>\n",
              "    <path d=\"M18.56 5.44l.94 2.06.94-2.06 2.06-.94-2.06-.94-.94-2.06-.94 2.06-2.06.94zm-11 1L8.5 8.5l.94-2.06 2.06-.94-2.06-.94L8.5 2.5l-.94 2.06-2.06.94zm10 10l.94 2.06.94-2.06 2.06-.94-2.06-.94-.94-2.06-.94 2.06-2.06.94z\"/><path d=\"M17.41 7.96l-1.37-1.37c-.4-.4-.92-.59-1.43-.59-.52 0-1.04.2-1.43.59L10.3 9.45l-7.72 7.72c-.78.78-.78 2.05 0 2.83L4 21.41c.39.39.9.59 1.41.59.51 0 1.02-.2 1.41-.59l7.78-7.78 2.81-2.81c.8-.78.8-2.07 0-2.86zM5.41 20L4 18.59l7.72-7.72 1.47 1.35L5.41 20z\"/>\n",
              "  </svg>\n",
              "      </button>\n",
              "      \n",
              "  <style>\n",
              "    .colab-df-container {\n",
              "      display:flex;\n",
              "      flex-wrap:wrap;\n",
              "      gap: 12px;\n",
              "    }\n",
              "\n",
              "    .colab-df-convert {\n",
              "      background-color: #E8F0FE;\n",
              "      border: none;\n",
              "      border-radius: 50%;\n",
              "      cursor: pointer;\n",
              "      display: none;\n",
              "      fill: #1967D2;\n",
              "      height: 32px;\n",
              "      padding: 0 0 0 0;\n",
              "      width: 32px;\n",
              "    }\n",
              "\n",
              "    .colab-df-convert:hover {\n",
              "      background-color: #E2EBFA;\n",
              "      box-shadow: 0px 1px 2px rgba(60, 64, 67, 0.3), 0px 1px 3px 1px rgba(60, 64, 67, 0.15);\n",
              "      fill: #174EA6;\n",
              "    }\n",
              "\n",
              "    [theme=dark] .colab-df-convert {\n",
              "      background-color: #3B4455;\n",
              "      fill: #D2E3FC;\n",
              "    }\n",
              "\n",
              "    [theme=dark] .colab-df-convert:hover {\n",
              "      background-color: #434B5C;\n",
              "      box-shadow: 0px 1px 3px 1px rgba(0, 0, 0, 0.15);\n",
              "      filter: drop-shadow(0px 1px 2px rgba(0, 0, 0, 0.3));\n",
              "      fill: #FFFFFF;\n",
              "    }\n",
              "  </style>\n",
              "\n",
              "      <script>\n",
              "        const buttonEl =\n",
              "          document.querySelector('#df-fdf616a3-53cf-4337-91ed-e539c969b408 button.colab-df-convert');\n",
              "        buttonEl.style.display =\n",
              "          google.colab.kernel.accessAllowed ? 'block' : 'none';\n",
              "\n",
              "        async function convertToInteractive(key) {\n",
              "          const element = document.querySelector('#df-fdf616a3-53cf-4337-91ed-e539c969b408');\n",
              "          const dataTable =\n",
              "            await google.colab.kernel.invokeFunction('convertToInteractive',\n",
              "                                                     [key], {});\n",
              "          if (!dataTable) return;\n",
              "\n",
              "          const docLinkHtml = 'Like what you see? Visit the ' +\n",
              "            '<a target=\"_blank\" href=https://colab.research.google.com/notebooks/data_table.ipynb>data table notebook</a>'\n",
              "            + ' to learn more about interactive tables.';\n",
              "          element.innerHTML = '';\n",
              "          dataTable['output_type'] = 'display_data';\n",
              "          await google.colab.output.renderOutput(dataTable, element);\n",
              "          const docLink = document.createElement('div');\n",
              "          docLink.innerHTML = docLinkHtml;\n",
              "          element.appendChild(docLink);\n",
              "        }\n",
              "      </script>\n",
              "    </div>\n",
              "  </div>\n",
              "  "
            ]
          },
          "metadata": {},
          "execution_count": 104
        }
      ],
      "source": [
        "X_test"
      ]
    },
    {
      "cell_type": "code",
      "execution_count": null,
      "metadata": {
        "colab": {
          "base_uri": "https://localhost:8080/"
        },
        "id": "-ZNCDLCRxoNN",
        "outputId": "bcae602f-8591-4ff7-baf2-b1ccc84f8627"
      },
      "outputs": [
        {
          "output_type": "stream",
          "name": "stdout",
          "text": [
            "<class 'pandas.core.frame.DataFrame'>\n",
            "Int64Index: 891 entries, 192 to 872\n",
            "Data columns (total 12 columns):\n",
            " #   Column       Non-Null Count  Dtype  \n",
            "---  ------       --------------  -----  \n",
            " 0   Pclass       891 non-null    int64  \n",
            " 1   Sex          891 non-null    int64  \n",
            " 2   Age          891 non-null    float64\n",
            " 3   SibSp        891 non-null    int64  \n",
            " 4   age_group    891 non-null    int64  \n",
            " 5   Dummy_Age    891 non-null    int64  \n",
            " 6   Cabin_Digit  891 non-null    int64  \n",
            " 7   Dummy_Cabin  891 non-null    int64  \n",
            " 8   Parch        891 non-null    int64  \n",
            " 9   Fare         891 non-null    float64\n",
            " 10  Embarked     891 non-null    int64  \n",
            " 11  Family_size  891 non-null    int64  \n",
            "dtypes: float64(2), int64(10)\n",
            "memory usage: 122.8 KB\n"
          ]
        }
      ],
      "source": [
        "df.info()"
      ]
    },
    {
      "cell_type": "markdown",
      "metadata": {
        "id": "vGXpN7j1hTla"
      },
      "source": [
        "# Section 8 - Decision Tree "
      ]
    },
    {
      "cell_type": "code",
      "execution_count": null,
      "metadata": {
        "id": "DcCH_La4iT7D"
      },
      "outputs": [],
      "source": [
        "#Scikit\n",
        "from sklearn.tree import DecisionTreeClassifier\n",
        "#from sklearn.ensemble import BaggingRegressor, RandomForestRegressor, AdaBoostRegressor, GradientBoostingRegressor\n",
        "from sklearn.metrics import accuracy_score, confusion_matrix\n",
        "from sklearn import metrics\n",
        "\n",
        "import warnings\n",
        "warnings.simplefilter('ignore')"
      ]
    },
    {
      "cell_type": "code",
      "execution_count": null,
      "metadata": {
        "id": "dYNN7IrWZtxM"
      },
      "outputs": [],
      "source": [
        "#accuracy = pd.DataFrame({'Decision Tree': accuracy_score(y_test, pred_dtc),\n",
        "#                    'Decision Tree no prune': accuracy_score(y_class_test,pred_dtc_noprune) },\n",
        "#                    index=[0]                    )\n",
        "\n",
        "#accuracy"
      ]
    },
    {
      "cell_type": "code",
      "execution_count": null,
      "metadata": {
        "id": "TIFwUC2pY5kv"
      },
      "outputs": [],
      "source": [
        "# Grow tree without prunning\n",
        "#dtr_noprune = sk_tree.DecisionTreeRegressor().fit(X_train,y_train)\n",
        "\n",
        "# Plot!\n",
        "#dot_data = sk_tree.export_graphviz(dtr_noprune, out_file=None, \n",
        "#                     filled=True, rounded=True,\n",
        "#                     feature_names = features) \n",
        "\n",
        "#graph = graphviz.Source(dot_data) \n",
        "#graph"
      ]
    },
    {
      "cell_type": "code",
      "execution_count": null,
      "metadata": {
        "id": "l4M25rPeV914"
      },
      "outputs": [],
      "source": [
        "#pred_dtr_noprune = dtr_noprune.predict(X_test)"
      ]
    },
    {
      "cell_type": "code",
      "execution_count": null,
      "metadata": {
        "id": "e7HpqLFeZAmL"
      },
      "outputs": [],
      "source": [
        "#accuracy.loc['No Prune'] = [explained_variance_score(y_test, pred_dtr_noprune),\n",
        "#                            mean_absolute_error(y_test,pred_dtr_noprune) ,\n",
        "#                            median_absolute_error(y_test, pred_dtr_noprune),\n",
        "#                            r2_score(y_test,pred_dtr_noprune)]"
      ]
    },
    {
      "cell_type": "code",
      "execution_count": null,
      "metadata": {
        "id": "ze8tOTtIWNc3"
      },
      "outputs": [],
      "source": [
        "# 3) Predict Naive\n",
        "\n",
        "#y_pred_dtc = dtc.predict(X_test)\n",
        "#pred_dtc_noprune = dtc_noprune.predict(X_test)\n",
        "#cm_dtc = confusion_matrix(y_test, y_pred_dtc)\n",
        "\n",
        "\n",
        "\n",
        "#accuracy = pd.DataFrame({'Decision Tree': accuracy_score(y_test, pred_dtc),\n",
        "                    #'Decision Tree no prune': accuracy_score(y_test,pred_dtc_noprune) },\n",
        "                    #index=[0]                    )\n",
        "\n",
        "#accuracy\n",
        "\n",
        "#print(\"Accuracy\", metrics.accuracy_score(y_test, y_pred_dtc))\n",
        "\n",
        "## PCA --> https://www.projectpro.io/recipes/optimize-hyper-parameters-of-decisiontree-model-using-grid-search-in-python\n",
        "## Principal componente seria overall quality "
      ]
    },
    {
      "cell_type": "markdown",
      "metadata": {
        "id": "uU2SbVt5WZjM"
      },
      "source": [
        "Adding depth to the trees"
      ]
    },
    {
      "cell_type": "code",
      "execution_count": null,
      "metadata": {
        "colab": {
          "base_uri": "https://localhost:8080/",
          "height": 440
        },
        "id": "OyY7wncJqbEN",
        "outputId": "81e69984-c991-4425-992b-2cdbd8d43dd0"
      },
      "outputs": [
        {
          "output_type": "execute_result",
          "data": {
            "text/plain": [
              "<graphviz.files.Source at 0x7fc44e41b6d0>"
            ],
            "image/svg+xml": "<?xml version=\"1.0\" encoding=\"UTF-8\" standalone=\"no\"?>\n<!DOCTYPE svg PUBLIC \"-//W3C//DTD SVG 1.1//EN\"\n \"http://www.w3.org/Graphics/SVG/1.1/DTD/svg11.dtd\">\n<!-- Generated by graphviz version 2.40.1 (20161225.0304)\n -->\n<!-- Title: Tree Pages: 1 -->\n<svg width=\"602pt\" height=\"314pt\"\n viewBox=\"0.00 0.00 601.50 314.00\" xmlns=\"http://www.w3.org/2000/svg\" xmlns:xlink=\"http://www.w3.org/1999/xlink\">\n<g id=\"graph0\" class=\"graph\" transform=\"scale(1 1) rotate(0) translate(4 310)\">\n<title>Tree</title>\n<polygon fill=\"#ffffff\" stroke=\"transparent\" points=\"-4,4 -4,-310 597.5,-310 597.5,4 -4,4\"/>\n<!-- 0 -->\n<g id=\"node1\" class=\"node\">\n<title>0</title>\n<path fill=\"#f4cbad\" stroke=\"#000000\" d=\"M367,-306C367,-306 259,-306 259,-306 253,-306 247,-300 247,-294 247,-294 247,-235 247,-235 247,-229 253,-223 259,-223 259,-223 367,-223 367,-223 373,-223 379,-229 379,-235 379,-235 379,-294 379,-294 379,-300 373,-306 367,-306\"/>\n<text text-anchor=\"middle\" x=\"313\" y=\"-290.8\" font-family=\"Helvetica,sans-Serif\" font-size=\"14.00\" fill=\"#000000\">X[1] &lt;= 0.5</text>\n<text text-anchor=\"middle\" x=\"313\" y=\"-275.8\" font-family=\"Helvetica,sans-Serif\" font-size=\"14.00\" fill=\"#000000\">gini = 0.466</text>\n<text text-anchor=\"middle\" x=\"313\" y=\"-260.8\" font-family=\"Helvetica,sans-Serif\" font-size=\"14.00\" fill=\"#000000\">samples = 623</text>\n<text text-anchor=\"middle\" x=\"313\" y=\"-245.8\" font-family=\"Helvetica,sans-Serif\" font-size=\"14.00\" fill=\"#000000\">value = [393, 230]</text>\n<text text-anchor=\"middle\" x=\"313\" y=\"-230.8\" font-family=\"Helvetica,sans-Serif\" font-size=\"14.00\" fill=\"#000000\">class = Survived</text>\n</g>\n<!-- 1 -->\n<g id=\"node2\" class=\"node\">\n<title>1</title>\n<path fill=\"#7bbeee\" stroke=\"#000000\" d=\"M298,-187C298,-187 176,-187 176,-187 170,-187 164,-181 164,-175 164,-175 164,-116 164,-116 164,-110 170,-104 176,-104 176,-104 298,-104 298,-104 304,-104 310,-110 310,-116 310,-116 310,-175 310,-175 310,-181 304,-187 298,-187\"/>\n<text text-anchor=\"middle\" x=\"237\" y=\"-171.8\" font-family=\"Helvetica,sans-Serif\" font-size=\"14.00\" fill=\"#000000\">X[0] &lt;= 2.5</text>\n<text text-anchor=\"middle\" x=\"237\" y=\"-156.8\" font-family=\"Helvetica,sans-Serif\" font-size=\"14.00\" fill=\"#000000\">gini = 0.376</text>\n<text text-anchor=\"middle\" x=\"237\" y=\"-141.8\" font-family=\"Helvetica,sans-Serif\" font-size=\"14.00\" fill=\"#000000\">samples = 219</text>\n<text text-anchor=\"middle\" x=\"237\" y=\"-126.8\" font-family=\"Helvetica,sans-Serif\" font-size=\"14.00\" fill=\"#000000\">value = [55, 164]</text>\n<text text-anchor=\"middle\" x=\"237\" y=\"-111.8\" font-family=\"Helvetica,sans-Serif\" font-size=\"14.00\" fill=\"#000000\">class = No Survived</text>\n</g>\n<!-- 0&#45;&gt;1 -->\n<g id=\"edge1\" class=\"edge\">\n<title>0&#45;&gt;1</title>\n<path fill=\"none\" stroke=\"#000000\" d=\"M286.4189,-222.8796C280.8395,-214.1434 274.8981,-204.8404 269.1405,-195.8253\"/>\n<polygon fill=\"#000000\" stroke=\"#000000\" points=\"272.0269,-193.8421 263.6946,-187.2981 266.1274,-197.6098 272.0269,-193.8421\"/>\n<text text-anchor=\"middle\" x=\"258.3111\" y=\"-208.0116\" font-family=\"Helvetica,sans-Serif\" font-size=\"14.00\" fill=\"#000000\">True</text>\n</g>\n<!-- 4 -->\n<g id=\"node5\" class=\"node\">\n<title>4</title>\n<path fill=\"#ea9a60\" stroke=\"#000000\" d=\"M440,-187C440,-187 340,-187 340,-187 334,-187 328,-181 328,-175 328,-175 328,-116 328,-116 328,-110 334,-104 340,-104 340,-104 440,-104 440,-104 446,-104 452,-110 452,-116 452,-116 452,-175 452,-175 452,-181 446,-187 440,-187\"/>\n<text text-anchor=\"middle\" x=\"390\" y=\"-171.8\" font-family=\"Helvetica,sans-Serif\" font-size=\"14.00\" fill=\"#000000\">X[6] &lt;= 1.0</text>\n<text text-anchor=\"middle\" x=\"390\" y=\"-156.8\" font-family=\"Helvetica,sans-Serif\" font-size=\"14.00\" fill=\"#000000\">gini = 0.273</text>\n<text text-anchor=\"middle\" x=\"390\" y=\"-141.8\" font-family=\"Helvetica,sans-Serif\" font-size=\"14.00\" fill=\"#000000\">samples = 404</text>\n<text text-anchor=\"middle\" x=\"390\" y=\"-126.8\" font-family=\"Helvetica,sans-Serif\" font-size=\"14.00\" fill=\"#000000\">value = [338, 66]</text>\n<text text-anchor=\"middle\" x=\"390\" y=\"-111.8\" font-family=\"Helvetica,sans-Serif\" font-size=\"14.00\" fill=\"#000000\">class = Survived</text>\n</g>\n<!-- 0&#45;&gt;4 -->\n<g id=\"edge4\" class=\"edge\">\n<title>0&#45;&gt;4</title>\n<path fill=\"none\" stroke=\"#000000\" d=\"M339.9309,-222.8796C345.5837,-214.1434 351.6033,-204.8404 357.4366,-195.8253\"/>\n<polygon fill=\"#000000\" stroke=\"#000000\" points=\"360.4601,-197.5952 362.9542,-187.2981 354.5831,-193.7924 360.4601,-197.5952\"/>\n<text text-anchor=\"middle\" x=\"368.1924\" y=\"-208.0431\" font-family=\"Helvetica,sans-Serif\" font-size=\"14.00\" fill=\"#000000\">False</text>\n</g>\n<!-- 2 -->\n<g id=\"node3\" class=\"node\">\n<title>2</title>\n<path fill=\"#46a3e7\" stroke=\"#000000\" d=\"M134,-68C134,-68 12,-68 12,-68 6,-68 0,-62 0,-56 0,-56 0,-12 0,-12 0,-6 6,0 12,0 12,0 134,0 134,0 140,0 146,-6 146,-12 146,-12 146,-56 146,-56 146,-62 140,-68 134,-68\"/>\n<text text-anchor=\"middle\" x=\"73\" y=\"-52.8\" font-family=\"Helvetica,sans-Serif\" font-size=\"14.00\" fill=\"#000000\">gini = 0.115</text>\n<text text-anchor=\"middle\" x=\"73\" y=\"-37.8\" font-family=\"Helvetica,sans-Serif\" font-size=\"14.00\" fill=\"#000000\">samples = 114</text>\n<text text-anchor=\"middle\" x=\"73\" y=\"-22.8\" font-family=\"Helvetica,sans-Serif\" font-size=\"14.00\" fill=\"#000000\">value = [7, 107]</text>\n<text text-anchor=\"middle\" x=\"73\" y=\"-7.8\" font-family=\"Helvetica,sans-Serif\" font-size=\"14.00\" fill=\"#000000\">class = No Survived</text>\n</g>\n<!-- 1&#45;&gt;2 -->\n<g id=\"edge2\" class=\"edge\">\n<title>1&#45;&gt;2</title>\n<path fill=\"none\" stroke=\"#000000\" d=\"M175.9325,-103.9815C161.3919,-94.0957 145.9103,-83.5701 131.4886,-73.7651\"/>\n<polygon fill=\"#000000\" stroke=\"#000000\" points=\"133.3725,-70.8137 123.1349,-68.0856 129.4368,-76.6025 133.3725,-70.8137\"/>\n</g>\n<!-- 3 -->\n<g id=\"node4\" class=\"node\">\n<title>3</title>\n<path fill=\"#e0f0fb\" stroke=\"#000000\" d=\"M298,-68C298,-68 176,-68 176,-68 170,-68 164,-62 164,-56 164,-56 164,-12 164,-12 164,-6 170,0 176,0 176,0 298,0 298,0 304,0 310,-6 310,-12 310,-12 310,-56 310,-56 310,-62 304,-68 298,-68\"/>\n<text text-anchor=\"middle\" x=\"237\" y=\"-52.8\" font-family=\"Helvetica,sans-Serif\" font-size=\"14.00\" fill=\"#000000\">gini = 0.496</text>\n<text text-anchor=\"middle\" x=\"237\" y=\"-37.8\" font-family=\"Helvetica,sans-Serif\" font-size=\"14.00\" fill=\"#000000\">samples = 105</text>\n<text text-anchor=\"middle\" x=\"237\" y=\"-22.8\" font-family=\"Helvetica,sans-Serif\" font-size=\"14.00\" fill=\"#000000\">value = [48, 57]</text>\n<text text-anchor=\"middle\" x=\"237\" y=\"-7.8\" font-family=\"Helvetica,sans-Serif\" font-size=\"14.00\" fill=\"#000000\">class = No Survived</text>\n</g>\n<!-- 1&#45;&gt;3 -->\n<g id=\"edge3\" class=\"edge\">\n<title>1&#45;&gt;3</title>\n<path fill=\"none\" stroke=\"#000000\" d=\"M237,-103.9815C237,-95.618 237,-86.7965 237,-78.3409\"/>\n<polygon fill=\"#000000\" stroke=\"#000000\" points=\"240.5001,-78.2636 237,-68.2637 233.5001,-78.2637 240.5001,-78.2636\"/>\n</g>\n<!-- 5 -->\n<g id=\"node6\" class=\"node\">\n<title>5</title>\n<path fill=\"#e89152\" stroke=\"#000000\" d=\"M440,-68C440,-68 340,-68 340,-68 334,-68 328,-62 328,-56 328,-56 328,-12 328,-12 328,-6 334,0 340,0 340,0 440,0 440,0 446,0 452,-6 452,-12 452,-12 452,-56 452,-56 452,-62 446,-68 440,-68\"/>\n<text text-anchor=\"middle\" x=\"390\" y=\"-52.8\" font-family=\"Helvetica,sans-Serif\" font-size=\"14.00\" fill=\"#000000\">gini = 0.201</text>\n<text text-anchor=\"middle\" x=\"390\" y=\"-37.8\" font-family=\"Helvetica,sans-Serif\" font-size=\"14.00\" fill=\"#000000\">samples = 327</text>\n<text text-anchor=\"middle\" x=\"390\" y=\"-22.8\" font-family=\"Helvetica,sans-Serif\" font-size=\"14.00\" fill=\"#000000\">value = [290, 37]</text>\n<text text-anchor=\"middle\" x=\"390\" y=\"-7.8\" font-family=\"Helvetica,sans-Serif\" font-size=\"14.00\" fill=\"#000000\">class = Survived</text>\n</g>\n<!-- 4&#45;&gt;5 -->\n<g id=\"edge5\" class=\"edge\">\n<title>4&#45;&gt;5</title>\n<path fill=\"none\" stroke=\"#000000\" d=\"M390,-103.9815C390,-95.618 390,-86.7965 390,-78.3409\"/>\n<polygon fill=\"#000000\" stroke=\"#000000\" points=\"393.5001,-78.2636 390,-68.2637 386.5001,-78.2637 393.5001,-78.2636\"/>\n</g>\n<!-- 6 -->\n<g id=\"node7\" class=\"node\">\n<title>6</title>\n<path fill=\"#f5cdb1\" stroke=\"#000000\" d=\"M581.5,-68C581.5,-68 482.5,-68 482.5,-68 476.5,-68 470.5,-62 470.5,-56 470.5,-56 470.5,-12 470.5,-12 470.5,-6 476.5,0 482.5,0 482.5,0 581.5,0 581.5,0 587.5,0 593.5,-6 593.5,-12 593.5,-12 593.5,-56 593.5,-56 593.5,-62 587.5,-68 581.5,-68\"/>\n<text text-anchor=\"middle\" x=\"532\" y=\"-52.8\" font-family=\"Helvetica,sans-Serif\" font-size=\"14.00\" fill=\"#000000\">gini = 0.47</text>\n<text text-anchor=\"middle\" x=\"532\" y=\"-37.8\" font-family=\"Helvetica,sans-Serif\" font-size=\"14.00\" fill=\"#000000\">samples = 77</text>\n<text text-anchor=\"middle\" x=\"532\" y=\"-22.8\" font-family=\"Helvetica,sans-Serif\" font-size=\"14.00\" fill=\"#000000\">value = [48, 29]</text>\n<text text-anchor=\"middle\" x=\"532\" y=\"-7.8\" font-family=\"Helvetica,sans-Serif\" font-size=\"14.00\" fill=\"#000000\">class = Survived</text>\n</g>\n<!-- 4&#45;&gt;6 -->\n<g id=\"edge6\" class=\"edge\">\n<title>4&#45;&gt;6</title>\n<path fill=\"none\" stroke=\"#000000\" d=\"M442.8756,-103.9815C455.1655,-94.3313 468.2319,-84.0714 480.4632,-74.4673\"/>\n<polygon fill=\"#000000\" stroke=\"#000000\" points=\"482.6602,-77.1923 488.3638,-68.2637 478.3371,-71.6867 482.6602,-77.1923\"/>\n</g>\n</g>\n</svg>\n"
          },
          "metadata": {},
          "execution_count": 112
        }
      ],
      "source": [
        "dtc = sk_tree.DecisionTreeClassifier(max_depth = 2) # after we tested for the hyperparameters \n",
        "dtc_noprune = sk_tree.DecisionTreeClassifier()\n",
        "\n",
        "dtc.fit(X_train, y_train)\n",
        "dtc_noprune.fit(X_train, y_train)\n",
        "\n",
        "dot_data = sk_tree.export_graphviz(dtc, out_file=None, \n",
        "                     class_names = ['Survived', 'No Survived'],\n",
        "                     filled=True, rounded=True) \n",
        "\n",
        "graph = graphviz.Source(dot_data) \n",
        "graph"
      ]
    },
    {
      "cell_type": "code",
      "execution_count": null,
      "metadata": {
        "colab": {
          "base_uri": "https://localhost:8080/"
        },
        "id": "j_etCsG1rDYt",
        "outputId": "f2c4a606-744c-4fbb-fd30-207cb0f0e969"
      },
      "outputs": [
        {
          "output_type": "stream",
          "name": "stdout",
          "text": [
            "Accuracy 0.4962686567164179\n"
          ]
        }
      ],
      "source": [
        "# 3) Predict\n",
        "\n",
        "y_pred_dtc = dtc.predict(X_test)\n",
        "#pred_dtc_noprune = dtc_noprune.predict(X_test)\n",
        "cm_dtc = confusion_matrix(y_test, y_pred_dtc)\n",
        "\n",
        "\n",
        "\n",
        "#accuracy = pd.DataFrame({'Decision Tree': accuracy_score(y_test, pred_dtc),\n",
        "                    #'Decision Tree no prune': accuracy_score(y_test,pred_dtc_noprune) },\n",
        "                    #index=[0]                    )\n",
        "\n",
        "#accuracy\n",
        "\n",
        "print(\"Accuracy\", metrics.accuracy_score(y_test, y_pred_dtc))\n",
        "\n",
        "## PCA --> https://www.projectpro.io/recipes/optimize-hyper-parameters-of-decisiontree-model-using-grid-search-in-python\n",
        "## Principal componente seria overall quality "
      ]
    },
    {
      "cell_type": "code",
      "execution_count": null,
      "metadata": {
        "colab": {
          "base_uri": "https://localhost:8080/",
          "height": 295
        },
        "id": "pF8LtcfFrqJy",
        "outputId": "2d759333-5b8e-41de-d845-f2942d032228"
      },
      "outputs": [
        {
          "output_type": "display_data",
          "data": {
            "text/plain": [
              "<Figure size 432x288 with 2 Axes>"
            ],
            "image/png": "[encoded data removed]"
          },
          "metadata": {
            "needs_background": "light"
          }
        }
      ],
      "source": [
        "# Now, lets check our Confusion Matrix for Decision Tree  \n",
        "\n",
        "labels = [\"Survived\", \"No Survived\"]\n",
        "\n",
        "ax= plt.subplot()\n",
        "sns.heatmap(cm_dtc, annot=True, fmt='g', ax=ax, cmap=\"YlGnBu\"); \n",
        "# labels, title and ticks\n",
        "ax.set_xlabel('Predicted labels');ax.set_ylabel('True labels'); \n",
        "ax.set_title('Confusion Matrix'); \n",
        "ax.xaxis.set_ticklabels(labels); ax.yaxis.set_ticklabels(labels);"
      ]
    },
    {
      "cell_type": "code",
      "source": [
        "import time\n",
        "\n",
        "dtc = sk_tree.DecisionTreeClassifier(max_depth = 2) \n",
        "dtc_noprune = sk_tree.DecisionTreeClassifier()\n",
        "dtc.fit(X_train, y_train)\n",
        "dtc_noprune.fit(X_train, y_train)\n",
        "y_pred_dtc = dtc.predict(X_test)\n",
        "cm_dtc = confusion_matrix(y_test, y_pred_dtc)\n",
        "print(\"Accuracy\", metrics.accuracy_score(y_test, y_pred_dtc))\n",
        "\n",
        "training_start = time.perf_counter()\n",
        "training_end = time.perf_counter()\n",
        "prediction_start = time.perf_counter()\n",
        "preds = dtc.predict(X_test)\n",
        "prediction_end = time.perf_counter()\n",
        "acc_dtc = (preds == y_test).sum().astype(float) / len(preds)*100\n",
        "dtc_train_time = training_end-training_start\n",
        "dtc_prediction_time = prediction_end-prediction_start\n",
        "print(\"Decision Tree's prediction accuracy is: %3.2f\" % (acc_dtc))\n",
        "print(\"Time consumed for training: %4.3f\" % (dtc_train_time))\n",
        "print(\"Time consumed for prediction: %6.5f seconds\" % (dtc_prediction_time))"
      ],
      "metadata": {
        "colab": {
          "base_uri": "https://localhost:8080/"
        },
        "id": "MKzgofcxCXri",
        "outputId": "5271b14b-c74c-4045-e184-17f3cf54d899"
      },
      "execution_count": null,
      "outputs": [
        {
          "output_type": "stream",
          "name": "stdout",
          "text": [
            "Accuracy 0.4962686567164179\n",
            "Decision Tree's prediction accuracy is: 49.63\n",
            "Time consumed for training: 0.000\n",
            "Time consumed for prediction: 0.00414 seconds\n"
          ]
        }
      ]
    },
    {
      "cell_type": "code",
      "execution_count": null,
      "metadata": {
        "id": "t6Oqvn3BWUiG"
      },
      "outputs": [],
      "source": [
        "# To optimize the hyperparameters \n",
        "\n",
        "# We got insights from: \n",
        "# 1. https://www.projectpro.io/recipes/optimize-hyper-parameters-of-decisiontree-model-using-grid-search-in-python\n",
        "# 2. https://www.analyticsvidhya.com/blog/2020/11/hyperparameter-tuning-using-optuna/ \n",
        "\n",
        "# From link 1:\n",
        "\n",
        "from sklearn import decomposition, datasets\n",
        "from sklearn import tree\n",
        "from sklearn.pipeline import Pipeline\n",
        "from sklearn.model_selection import GridSearchCV\n",
        "from sklearn.preprocessing import StandardScaler"
      ]
    },
    {
      "cell_type": "code",
      "execution_count": null,
      "metadata": {
        "id": "SBQgHdR6W0Q3"
      },
      "outputs": [],
      "source": [
        "std_slc = StandardScaler()"
      ]
    },
    {
      "cell_type": "code",
      "execution_count": null,
      "metadata": {
        "id": "RjTldu7eW-sj"
      },
      "outputs": [],
      "source": [
        "pca = decomposition.PCA()"
      ]
    },
    {
      "cell_type": "code",
      "execution_count": null,
      "metadata": {
        "id": "TEWN9G-XXB_5"
      },
      "outputs": [],
      "source": [
        "dec_tree = tree.DecisionTreeClassifier()"
      ]
    },
    {
      "cell_type": "code",
      "execution_count": null,
      "metadata": {
        "id": "59ezq6yVXF-G"
      },
      "outputs": [],
      "source": [
        " pipe = Pipeline(steps=[('std_slc', std_slc),\n",
        "                           ('pca', pca),\n",
        "                           ('dec_tree', dec_tree)])"
      ]
    },
    {
      "cell_type": "code",
      "execution_count": null,
      "metadata": {
        "id": "38xhq1LNXJP4"
      },
      "outputs": [],
      "source": [
        "n_components = list(range(1,X_train.shape[1]+1,1))"
      ]
    },
    {
      "cell_type": "code",
      "execution_count": null,
      "metadata": {
        "id": "L0OvtmOdXVWl"
      },
      "outputs": [],
      "source": [
        "criterion = ['gini','entropy']\n",
        "max_depth= [2,4,6,8,10,12]"
      ]
    },
    {
      "cell_type": "code",
      "execution_count": null,
      "metadata": {
        "id": "2JQzNPzMXdJS"
      },
      "outputs": [],
      "source": [
        "parameters = dict(pca__n_components=n_components,\n",
        "                      dec_tree__criterion=criterion,\n",
        "                      dec_tree__max_depth=max_depth)\n"
      ]
    },
    {
      "cell_type": "code",
      "execution_count": null,
      "metadata": {
        "colab": {
          "base_uri": "https://localhost:8080/"
        },
        "id": "KNoWfhUgXwxo",
        "outputId": "e650b16e-aaa2-4ace-f3c3-e21f02733a2b"
      },
      "outputs": [
        {
          "output_type": "execute_result",
          "data": {
            "text/plain": [
              "GridSearchCV(estimator=Pipeline(steps=[('std_slc', StandardScaler()),\n",
              "                                       ('pca', PCA()),\n",
              "                                       ('dec_tree', DecisionTreeClassifier())]),\n",
              "             param_grid={'dec_tree__criterion': ['gini', 'entropy'],\n",
              "                         'dec_tree__max_depth': [2, 4, 6, 8, 10, 12],\n",
              "                         'pca__n_components': [1, 2, 3, 4, 5, 6, 7, 8, 9, 10,\n",
              "                                               11, 12]})"
            ]
          },
          "metadata": {},
          "execution_count": 125
        }
      ],
      "source": [
        "clf_GS = GridSearchCV(pipe, parameters)\n",
        "clf_GS.fit(X_train, y_train)"
      ]
    },
    {
      "cell_type": "code",
      "execution_count": null,
      "metadata": {
        "colab": {
          "base_uri": "https://localhost:8080/"
        },
        "id": "HbyU2RJXYGDQ",
        "outputId": "38e70387-c847-4563-e52b-0451ccc9ce60"
      },
      "outputs": [
        {
          "output_type": "stream",
          "name": "stdout",
          "text": [
            "Best Criterion: gini\n",
            "Best max_depth: 6\n",
            "Best Number Of Components: 9\n",
            "\n",
            "DecisionTreeClassifier(max_depth=6)\n"
          ]
        }
      ],
      "source": [
        "print('Best Criterion:', clf_GS.best_estimator_.get_params()['dec_tree__criterion'])\n",
        "print('Best max_depth:', clf_GS.best_estimator_.get_params()['dec_tree__max_depth'])\n",
        "print('Best Number Of Components:', clf_GS.best_estimator_.get_params()['pca__n_components'])\n",
        "print(); print(clf_GS.best_estimator_.get_params()['dec_tree'])"
      ]
    },
    {
      "cell_type": "code",
      "execution_count": null,
      "metadata": {
        "id": "Nitoe5kinmHL"
      },
      "outputs": [],
      "source": [
        "#y_class_train = pd.qcut(y_train,q = 2, labels = [\"0\", \"1\"],duplicates='drop')\n",
        "#y_class_test = pd.qcut(y_test,q = 2, labels = [\"0\", \"1\"])\n",
        "\n",
        "#y_class_train.value_counts()"
      ]
    },
    {
      "cell_type": "code",
      "execution_count": null,
      "metadata": {
        "id": "YKNQN11pnS4m"
      },
      "outputs": [],
      "source": [
        "# Retirado do https://towardsdatascience.com/an-exhaustive-guide-to-classification-using-decision-trees-8d472e77223f \n",
        "#clf_en = DecisionTreeClassifier(criterion='entropy', max_depth=3, random_state=0)\n",
        "#clf_en.fit(X_train, y_train)\n",
        "#y_pred_en = clf_en.predict(X_test)"
      ]
    },
    {
      "cell_type": "code",
      "execution_count": null,
      "metadata": {
        "id": "eKRyRrFLmlHU"
      },
      "outputs": [],
      "source": [
        "#def mean_absolute_percentage_error(y_true, y_pred): \n",
        "#    y_true, y_pred = np.array(y_true), np.array(y_pred)\n",
        "#    return np.mean(np.abs((y_true - y_pred) / y_true)) * 100"
      ]
    },
    {
      "cell_type": "markdown",
      "metadata": {
        "id": "ZYYQlEoSk7UL"
      },
      "source": [
        "# Section 9 - Random Forest\n"
      ]
    },
    {
      "cell_type": "code",
      "execution_count": null,
      "metadata": {
        "colab": {
          "base_uri": "https://localhost:8080/"
        },
        "id": "p7VkcAD8Y-xt",
        "outputId": "3f4fb4a1-39dd-4a2e-e5c1-549185e5dfb7"
      },
      "outputs": [
        {
          "output_type": "stream",
          "name": "stdout",
          "text": [
            "Accuracy 0.5261194029850746\n"
          ]
        }
      ],
      "source": [
        "# From: https://www.geeksforgeeks.org/random-forest-classifier-using-scikit-learn/\n",
        "\n",
        "from sklearn.ensemble import RandomForestClassifier\n",
        "\n",
        "clf = RandomForestClassifier(n_estimators = 100) \n",
        " \n",
        "# Training the model on the training dataset\n",
        "# fit function is used to train the model using the training sets as parameters\n",
        "clf.fit(X_train, y_train)\n",
        " \n",
        "# performing predictions on the test dataset\n",
        "y_pred_rf = clf.predict(X_test)\n",
        " \n",
        "# using metrics module for accuracy calculation\n",
        "print(\"Accuracy\", metrics.accuracy_score(y_test, y_pred_rf))\n",
        "\n",
        "# confusion matrix\n",
        "cm_rf = confusion_matrix(y_test, y_pred_rf)"
      ]
    },
    {
      "cell_type": "code",
      "execution_count": null,
      "metadata": {
        "colab": {
          "base_uri": "https://localhost:8080/",
          "height": 295
        },
        "id": "YSdkwsvLZo3V",
        "outputId": "72cb06f3-c0c8-40e4-f711-29065671f444"
      },
      "outputs": [
        {
          "output_type": "display_data",
          "data": {
            "text/plain": [
              "<Figure size 432x288 with 2 Axes>"
            ],
            "image/png": "[encoded data removed]"
          },
          "metadata": {
            "needs_background": "light"
          }
        }
      ],
      "source": [
        "# Now, lets check our Confusion Matrix for Random Forest\n",
        "\n",
        "labels = [\"Survived\", \"No Survived\"]\n",
        "\n",
        "ax= plt.subplot()\n",
        "sns.heatmap(cm_rf, annot=True, fmt='g', ax=ax, cmap=\"YlGnBu\"); \n",
        "# labels, title and ticks\n",
        "ax.set_xlabel('Predicted labels');ax.set_ylabel('True labels'); \n",
        "ax.set_title('Confusion Matrix'); \n",
        "ax.xaxis.set_ticklabels(labels); ax.yaxis.set_ticklabels(labels);"
      ]
    },
    {
      "cell_type": "markdown",
      "source": [
        "OPTIMIZING HYPERPARAMETERS"
      ],
      "metadata": {
        "id": "qcw0E2pWdUD8"
      }
    },
    {
      "cell_type": "code",
      "source": [
        "from sklearn.model_selection import validation_curve\n",
        "from sklearn.datasets import load_iris\n",
        "from sklearn.linear_model import Ridge\n",
        "from scipy.stats import pearsonr"
      ],
      "metadata": {
        "id": "7fCpKe7zeE7O"
      },
      "execution_count": null,
      "outputs": []
    },
    {
      "cell_type": "code",
      "source": [
        "forest = RandomForestClassifier(random_state = 1, n_estimators = 10, min_samples_split = 1)"
      ],
      "metadata": {
        "id": "cs9aM0cfCwe6"
      },
      "execution_count": null,
      "outputs": []
    },
    {
      "cell_type": "code",
      "source": [
        "forest = RandomForestClassifier(random_state = 1)\n",
        "modelF = forest.fit(X_train, y_train)\n",
        "y_predF = modelF.predict(X_test)"
      ],
      "metadata": {
        "id": "5pia6_-FdYpH"
      },
      "execution_count": null,
      "outputs": []
    },
    {
      "cell_type": "code",
      "source": [
        "#train_scoreNum, test_scoreNum = validation_curve(\n",
        "#                                RandomForestClassifier(),\n",
        "#                                X = X_train, y = y_train, \n",
        "#                                param_name = 'n_estimators', \n",
        "#                                param_range = num_est, cv = 3)"
      ],
      "metadata": {
        "id": "Tu5JYelUdehu"
      },
      "execution_count": null,
      "outputs": []
    },
    {
      "cell_type": "markdown",
      "source": [
        "Another try "
      ],
      "metadata": {
        "id": "rG1DYmMJ4OCd"
      }
    },
    {
      "cell_type": "code",
      "source": [
        "from sklearn.ensemble import RandomForestClassifier\n",
        "rf = RandomForestClassifier(random_state = 42)\n",
        "from pprint import pprint\n",
        "\n",
        "# Look at parameters used by our current forest\n",
        "print('Parameters currently in use:\\n')\n",
        "pprint(rf.get_params())"
      ],
      "metadata": {
        "colab": {
          "base_uri": "https://localhost:8080/"
        },
        "id": "JdctdLSy4S0D",
        "outputId": "7dd1e52e-9998-4c60-f65b-93b9df9949e5"
      },
      "execution_count": null,
      "outputs": [
        {
          "output_type": "stream",
          "name": "stdout",
          "text": [
            "Parameters currently in use:\n",
            "\n",
            "{'bootstrap': True,\n",
            " 'ccp_alpha': 0.0,\n",
            " 'class_weight': None,\n",
            " 'criterion': 'gini',\n",
            " 'max_depth': None,\n",
            " 'max_features': 'auto',\n",
            " 'max_leaf_nodes': None,\n",
            " 'max_samples': None,\n",
            " 'min_impurity_decrease': 0.0,\n",
            " 'min_samples_leaf': 1,\n",
            " 'min_samples_split': 2,\n",
            " 'min_weight_fraction_leaf': 0.0,\n",
            " 'n_estimators': 100,\n",
            " 'n_jobs': None,\n",
            " 'oob_score': False,\n",
            " 'random_state': 42,\n",
            " 'verbose': 0,\n",
            " 'warm_start': False}\n"
          ]
        }
      ]
    },
    {
      "cell_type": "code",
      "source": [
        "from sklearn.model_selection import RandomizedSearchCV\n",
        "# Number of trees in random forest\n",
        "n_estimators = [int(x) for x in np.linspace(start = 200, stop = 2000, num = 10)]\n",
        "# Number of features to consider at every split\n",
        "max_features = ['auto', 'sqrt']\n",
        "# Maximum number of levels in tree\n",
        "max_depth = [int(x) for x in np.linspace(10, 110, num = 11)]\n",
        "max_depth.append(None)\n",
        "# Minimum number of samples required to split a node\n",
        "min_samples_split = [2, 5, 10]\n",
        "# Minimum number of samples required at each leaf node\n",
        "min_samples_leaf = [1, 2, 4]\n",
        "# Method of selecting samples for training each tree\n",
        "bootstrap = [True, False]\n",
        "# Create the random grid\n",
        "random_grid = {'n_estimators': n_estimators,\n",
        "               'max_features': max_features,\n",
        "               'max_depth': max_depth,\n",
        "               'min_samples_split': min_samples_split,\n",
        "               'min_samples_leaf': min_samples_leaf,\n",
        "               'bootstrap': bootstrap}\n",
        "pprint(random_grid)"
      ],
      "metadata": {
        "colab": {
          "base_uri": "https://localhost:8080/"
        },
        "id": "Kt2coDCv4ssw",
        "outputId": "301d5faf-255b-44de-feea-e71ec1597154"
      },
      "execution_count": null,
      "outputs": [
        {
          "output_type": "stream",
          "name": "stdout",
          "text": [
            "{'bootstrap': [True, False],\n",
            " 'max_depth': [10, 20, 30, 40, 50, 60, 70, 80, 90, 100, 110, None],\n",
            " 'max_features': ['auto', 'sqrt'],\n",
            " 'min_samples_leaf': [1, 2, 4],\n",
            " 'min_samples_split': [2, 5, 10],\n",
            " 'n_estimators': [200, 400, 600, 800, 1000, 1200, 1400, 1600, 1800, 2000]}\n"
          ]
        }
      ]
    },
    {
      "cell_type": "code",
      "source": [
        "# Use the random grid to search for best hyperparameters\n",
        "# First create the base model to tune\n",
        "rf = RandomForestClassifier()\n",
        "\n",
        "# Random search of parameters, using 3 fold cross validation, \n",
        "\n",
        "# search across 100 different combinations, and use all available cores\n",
        "rf_random = RandomizedSearchCV(estimator = rf, param_distributions = random_grid, n_iter = 100, cv = 3, verbose=2, random_state=42, n_jobs = -1)\n",
        "\n",
        "# Fit the random search model\n",
        "rf_random.fit(X_train, y_train)"
      ],
      "metadata": {
        "colab": {
          "base_uri": "https://localhost:8080/"
        },
        "id": "_-4mLy0H40vZ",
        "outputId": "2bb6d7cc-5854-439d-9470-4a45cc5de063"
      },
      "execution_count": null,
      "outputs": [
        {
          "output_type": "stream",
          "name": "stdout",
          "text": [
            "Fitting 3 folds for each of 100 candidates, totalling 300 fits\n"
          ]
        },
        {
          "output_type": "execute_result",
          "data": {
            "text/plain": [
              "RandomizedSearchCV(cv=3, estimator=RandomForestClassifier(), n_iter=100,\n",
              "                   n_jobs=-1,\n",
              "                   param_distributions={'bootstrap': [True, False],\n",
              "                                        'max_depth': [10, 20, 30, 40, 50, 60,\n",
              "                                                      70, 80, 90, 100, 110,\n",
              "                                                      None],\n",
              "                                        'max_features': ['auto', 'sqrt'],\n",
              "                                        'min_samples_leaf': [1, 2, 4],\n",
              "                                        'min_samples_split': [2, 5, 10],\n",
              "                                        'n_estimators': [200, 400, 600, 800,\n",
              "                                                         1000, 1200, 1400, 1600,\n",
              "                                                         1800, 2000]},\n",
              "                   random_state=42, verbose=2)"
            ]
          },
          "metadata": {},
          "execution_count": 136
        }
      ]
    },
    {
      "cell_type": "markdown",
      "source": [
        "Fitting 3 folds for each of 100 candidates, totalling 300 fits\n",
        "RandomizedSearchCV(cv=3, estimator=RandomForestClassifier(), n_iter=100,\n",
        "                   n_jobs=-1,\n",
        "                   param_distributions={'bootstrap': [True, False],\n",
        "                                        'max_depth': [10, 20, 30, 40, 50, 60,\n",
        "                                                      70, 80, 90, 100, 110,\n",
        "                                                      None],\n",
        "                                        'max_features': ['auto', 'sqrt'],\n",
        "                                        'min_samples_leaf': [1, 2, 4],\n",
        "                                        'min_samples_split': [2, 5, 10],\n",
        "                                        'n_estimators': [200, 400, 600, 800,\n",
        "                                                         1000, 1200, 1400, 1600,\n",
        "                                                         1800, 2000]},\n",
        "                   random_state=42, verbose=2)"
      ],
      "metadata": {
        "id": "9r91ycZt8kRn"
      }
    },
    {
      "cell_type": "code",
      "source": [
        "rf_random.best_params_"
      ],
      "metadata": {
        "colab": {
          "base_uri": "https://localhost:8080/"
        },
        "id": "K8LPiI7x5obR",
        "outputId": "53057add-88ad-4b6a-ba80-9470f2fe20b5"
      },
      "execution_count": null,
      "outputs": [
        {
          "output_type": "execute_result",
          "data": {
            "text/plain": [
              "{'bootstrap': True,\n",
              " 'max_depth': 10,\n",
              " 'max_features': 'sqrt',\n",
              " 'min_samples_leaf': 2,\n",
              " 'min_samples_split': 5,\n",
              " 'n_estimators': 1000}"
            ]
          },
          "metadata": {},
          "execution_count": 137
        }
      ]
    },
    {
      "cell_type": "markdown",
      "source": [
        "{'bootstrap': False,\n",
        " 'max_depth': 40,\n",
        " 'max_features': 'auto',\n",
        " 'min_samples_leaf': 2,\n",
        " 'min_samples_split': 10,\n",
        " 'n_estimators': 400}"
      ],
      "metadata": {
        "id": "xhcAKbTz8l-2"
      }
    },
    {
      "cell_type": "code",
      "source": [
        "def evaluate(model, X_test, y_test):\n",
        "    predictions = model.predict(X_test)\n",
        "    errors = abs(predictions - y_test)\n",
        "    acc_rfc = metrics.accuracy_score(y_test, predictions)\n",
        "    print('Model Performance')\n",
        "    print('Average Error: {:0.4f} degrees.'.format(np.mean(errors)))\n",
        "    print('Accuracy = {:0.2f}'.format(acc_rfc))\n",
        "    return acc_rfc\n",
        "\n",
        "base_model = RandomForestClassifier(n_estimators = 10, random_state = 42)\n",
        "base_model.fit(X_train, y_train)\n",
        "base_accuracy = evaluate(base_model, X_test, y_test)\n",
        "\n"
      ],
      "metadata": {
        "colab": {
          "base_uri": "https://localhost:8080/"
        },
        "id": "SkhqZ8qx9DZQ",
        "outputId": "79967bb0-5f9b-493e-fa36-1ab8930208c2"
      },
      "execution_count": null,
      "outputs": [
        {
          "output_type": "stream",
          "name": "stdout",
          "text": [
            "Model Performance\n",
            "Average Error: 0.4739 degrees.\n",
            "Accuracy = 0.53\n"
          ]
        }
      ]
    },
    {
      "cell_type": "code",
      "source": [
        "#predictions = model.predict(X_test)\n",
        "#acc_rfc = metrics.accuracy_score(y_test, predictions)"
      ],
      "metadata": {
        "id": "0_qIWp5LGnhV"
      },
      "execution_count": null,
      "outputs": []
    },
    {
      "cell_type": "code",
      "source": [
        "acc_rfc = 0.53"
      ],
      "metadata": {
        "id": "9W8_BXBaGh9S"
      },
      "execution_count": null,
      "outputs": []
    },
    {
      "cell_type": "markdown",
      "metadata": {
        "id": "egFgAXCKk-yT"
      },
      "source": [
        "# Section 10 - AdaBoost and XG Boost"
      ]
    },
    {
      "cell_type": "markdown",
      "source": [
        "AdaBoost"
      ],
      "metadata": {
        "id": "BF2OPYXRaMT2"
      }
    },
    {
      "cell_type": "code",
      "execution_count": null,
      "metadata": {
        "id": "tG6BDZC_onaW"
      },
      "outputs": [],
      "source": [
        "from sklearn.ensemble import AdaBoostClassifier"
      ]
    },
    {
      "cell_type": "code",
      "execution_count": null,
      "metadata": {
        "id": "gMmez8rsm322"
      },
      "outputs": [],
      "source": [
        "# From:https://www.datacamp.com/tutorial/adaboost-classifier-python\n",
        "\n",
        "# Create adaboost classifer object\n",
        "abc = AdaBoostClassifier(n_estimators=50,\n",
        "                         learning_rate=1)\n",
        "# Train Adaboost Classifer\n",
        "model = abc.fit(X_train, y_train)\n",
        "\n",
        "#Predict the response for test dataset\n",
        "y_pred_adb = model.predict(X_test)"
      ]
    },
    {
      "cell_type": "code",
      "source": [
        "acc_abc=metrics.accuracy_score(y_test, y_pred_adb)"
      ],
      "metadata": {
        "id": "fhYF5vBBBuyl"
      },
      "execution_count": null,
      "outputs": []
    },
    {
      "cell_type": "code",
      "execution_count": null,
      "metadata": {
        "id": "aaoRPCeyoye0",
        "colab": {
          "base_uri": "https://localhost:8080/"
        },
        "outputId": "f6045fd8-5cc2-4f01-f8c2-1c98a19669c6"
      },
      "outputs": [
        {
          "output_type": "stream",
          "name": "stdout",
          "text": [
            "Accuracy: 0.47761194029850745\n"
          ]
        }
      ],
      "source": [
        "# Computing model accuracy\n",
        "print(\"Accuracy:\",metrics.accuracy_score(y_test, y_pred_adb))"
      ]
    },
    {
      "cell_type": "code",
      "execution_count": null,
      "metadata": {
        "id": "ckrlA1oMHJ_h"
      },
      "outputs": [],
      "source": [
        "# Confusion Matrix\n",
        "cm_adb = confusion_matrix(y_test, y_pred_adb)"
      ]
    },
    {
      "cell_type": "code",
      "execution_count": null,
      "metadata": {
        "id": "34aoOYVjHaC3",
        "colab": {
          "base_uri": "https://localhost:8080/",
          "height": 295
        },
        "outputId": "f956d148-18b5-4afb-ca54-e3e94f6985cd"
      },
      "outputs": [
        {
          "output_type": "display_data",
          "data": {
            "text/plain": [
              "<Figure size 432x288 with 2 Axes>"
            ],
            "image/png": "[encoded data removed]"
          },
          "metadata": {
            "needs_background": "light"
          }
        }
      ],
      "source": [
        "# Now, lets check our Confusion Matrix for AdaBoost\n",
        "\n",
        "labels = [\"Survived\", \"No Survived\"]\n",
        "\n",
        "ax= plt.subplot()\n",
        "sns.heatmap(cm_adb, annot=True, fmt='g', ax=ax, cmap=\"YlGnBu\"); \n",
        "# labels, title and ticks\n",
        "ax.set_xlabel('Predicted labels');ax.set_ylabel('True labels'); \n",
        "ax.set_title('Confusion Matrix'); \n",
        "ax.xaxis.set_ticklabels(labels); ax.yaxis.set_ticklabels(labels);"
      ]
    },
    {
      "cell_type": "code",
      "source": [
        "training_start = time.perf_counter()\n",
        "training_end = time.perf_counter()\n",
        "prediction_start = time.perf_counter()\n",
        "preds = abc.predict(X_test)\n",
        "prediction_end = time.perf_counter()\n",
        "acc_abc = (preds == y_test).sum().astype(float) / len(preds)*100\n",
        "abc_train_time = training_end-training_start\n",
        "abc_prediction_time = prediction_end-prediction_start\n",
        "print(\"AdaBoostClassifier's prediction accuracy is: %3.2f\" % (acc_abc))\n",
        "print(\"Time consumed for training: %4.3f seconds\" % (abc_train_time))\n",
        "print(\"Time consumed for prediction: %6.5f seconds\" % (abc_prediction_time))"
      ],
      "metadata": {
        "id": "4BDU_QKjC_te",
        "colab": {
          "base_uri": "https://localhost:8080/"
        },
        "outputId": "8117cf66-fbf2-4aa6-f79e-b50fd01950c6"
      },
      "execution_count": null,
      "outputs": [
        {
          "output_type": "stream",
          "name": "stdout",
          "text": [
            "AdaBoostClassifier's prediction accuracy is: 47.76\n",
            "Time consumed for training: 0.000 seconds\n",
            "Time consumed for prediction: 0.02122 seconds\n"
          ]
        }
      ]
    },
    {
      "cell_type": "markdown",
      "source": [
        "XG Boosting"
      ],
      "metadata": {
        "id": "bXULn9CQDM6u"
      }
    },
    {
      "cell_type": "code",
      "source": [
        "from xgboost import XGBClassifier\n",
        "\n",
        "xgb = XGBClassifier(n_estimators=100)\n",
        "training_start = time.perf_counter()\n",
        "model = xgb.fit(X_train, y_train)\n",
        "y_pred_xgb = model.predict(X_test)\n",
        "cm_xgb = confusion_matrix(y_test, y_pred_xgb)\n",
        "training_end = time.perf_counter()\n",
        "prediction_start = time.perf_counter()\n",
        "preds = xgb.predict(X_test)\n",
        "prediction_end = time.perf_counter()\n",
        "acc_xgb = (preds == y_test).sum().astype(float) / len(preds)*100\n",
        "xgb_train_time = training_end-training_start\n",
        "xgb_prediction_time = prediction_end-prediction_start\n",
        "print(\"XGBoost's prediction accuracy is: %3.2f\" % (acc_xgb))\n",
        "print(\"Time consumed for training: %4.3f\" % (xgb_train_time))\n",
        "print(\"Time consumed for prediction: %6.5f seconds\" % (xgb_prediction_time))"
      ],
      "metadata": {
        "id": "LEqoG19mDIVl",
        "colab": {
          "base_uri": "https://localhost:8080/"
        },
        "outputId": "ff2771c5-d623-45f0-cb79-a85c5bb01c60"
      },
      "execution_count": null,
      "outputs": [
        {
          "output_type": "stream",
          "name": "stdout",
          "text": [
            "XGBoost's prediction accuracy is: 50.37\n",
            "Time consumed for training: 0.172\n",
            "Time consumed for prediction: 0.00197 seconds\n"
          ]
        }
      ]
    },
    {
      "cell_type": "code",
      "source": [
        "acc_xgb=50.37"
      ],
      "metadata": {
        "id": "qBHHc7GcYPuF"
      },
      "execution_count": null,
      "outputs": []
    },
    {
      "cell_type": "markdown",
      "source": [
        "\\\\\n",
        "\n",
        "# Section 11 - Logistic Regression"
      ],
      "metadata": {
        "id": "fL4ebUyLm2yo"
      }
    },
    {
      "cell_type": "code",
      "source": [
        "from sklearn.linear_model import LogisticRegression"
      ],
      "metadata": {
        "id": "L42_o-B_Htye"
      },
      "execution_count": null,
      "outputs": []
    },
    {
      "cell_type": "code",
      "source": [
        "X_train = X_train[[\"Sex\",\"Fare\",\"Family_size\",\"Age\",\"Cabin_Digit\",\"Pclass\"]]\n"
      ],
      "metadata": {
        "id": "4K-xqW_7IMG1"
      },
      "execution_count": null,
      "outputs": []
    },
    {
      "cell_type": "code",
      "source": [
        "X_test = X_test[[\"Sex\",\"Fare\",\"Family_size\",\"Age\",\"Cabin_Digit\",\"Pclass\"]]"
      ],
      "metadata": {
        "id": "ZmEZ9TiKJOsi"
      },
      "execution_count": null,
      "outputs": []
    },
    {
      "cell_type": "code",
      "source": [
        "# Logistic Regression\n",
        "\n",
        "logreg = LogisticRegression()\n",
        "logreg.fit(X_train, y_train)\n",
        "Y_pred = logreg.predict(X_test)\n",
        "acc_log = round(logreg.score(X_train, y_train) * 100, 2)\n",
        "acc_log"
      ],
      "metadata": {
        "id": "YOZWL_a0HSIe",
        "colab": {
          "base_uri": "https://localhost:8080/"
        },
        "outputId": "6087c6a5-80e0-44d8-ac65-171470ae7173"
      },
      "execution_count": null,
      "outputs": [
        {
          "output_type": "execute_result",
          "data": {
            "text/plain": [
              "81.54"
            ]
          },
          "metadata": {},
          "execution_count": 153
        }
      ]
    },
    {
      "cell_type": "code",
      "source": [
        "coeff_df = pd.DataFrame(train_df.columns.delete(0))\n",
        "coeff_df.columns = ['Feature']\n",
        "coeff_df[\"Correlation\"] = pd.Series(logreg.coef_[0])\n",
        "\n",
        "coeff_df.sort_values(by='Correlation', ascending=False)"
      ],
      "metadata": {
        "id": "L8ewAyrmH-ue",
        "colab": {
          "base_uri": "https://localhost:8080/",
          "height": 394
        },
        "outputId": "c605a078-fd48-47c3-800c-e071cd28e2c5"
      },
      "execution_count": null,
      "outputs": [
        {
          "output_type": "execute_result",
          "data": {
            "text/plain": [
              "     Feature  Correlation\n",
              "4        Age     0.077391\n",
              "1     Pclass     0.000974\n",
              "3        Sex    -0.024072\n",
              "2       Name    -0.185135\n",
              "5      SibSp    -0.931369\n",
              "0   Survived    -2.952098\n",
              "6      Parch          NaN\n",
              "7     Ticket          NaN\n",
              "8       Fare          NaN\n",
              "9      Cabin          NaN\n",
              "10  Embarked          NaN"
            ],
            "text/html": [
              "\n",
              "  <div id=\"df-03e85784-a36d-4fd7-97b1-e606d912b081\">\n",
              "    <div class=\"colab-df-container\">\n",
              "      <div>\n",
              "<style scoped>\n",
              "    .dataframe tbody tr th:only-of-type {\n",
              "        vertical-align: middle;\n",
              "    }\n",
              "\n",
              "    .dataframe tbody tr th {\n",
              "        vertical-align: top;\n",
              "    }\n",
              "\n",
              "    .dataframe thead th {\n",
              "        text-align: right;\n",
              "    }\n",
              "</style>\n",
              "<table border=\"1\" class=\"dataframe\">\n",
              "  <thead>\n",
              "    <tr style=\"text-align: right;\">\n",
              "      <th></th>\n",
              "      <th>Feature</th>\n",
              "      <th>Correlation</th>\n",
              "    </tr>\n",
              "  </thead>\n",
              "  <tbody>\n",
              "    <tr>\n",
              "      <th>4</th>\n",
              "      <td>Age</td>\n",
              "      <td>0.077391</td>\n",
              "    </tr>\n",
              "    <tr>\n",
              "      <th>1</th>\n",
              "      <td>Pclass</td>\n",
              "      <td>0.000974</td>\n",
              "    </tr>\n",
              "    <tr>\n",
              "      <th>3</th>\n",
              "      <td>Sex</td>\n",
              "      <td>-0.024072</td>\n",
              "    </tr>\n",
              "    <tr>\n",
              "      <th>2</th>\n",
              "      <td>Name</td>\n",
              "      <td>-0.185135</td>\n",
              "    </tr>\n",
              "    <tr>\n",
              "      <th>5</th>\n",
              "      <td>SibSp</td>\n",
              "      <td>-0.931369</td>\n",
              "    </tr>\n",
              "    <tr>\n",
              "      <th>0</th>\n",
              "      <td>Survived</td>\n",
              "      <td>-2.952098</td>\n",
              "    </tr>\n",
              "    <tr>\n",
              "      <th>6</th>\n",
              "      <td>Parch</td>\n",
              "      <td>NaN</td>\n",
              "    </tr>\n",
              "    <tr>\n",
              "      <th>7</th>\n",
              "      <td>Ticket</td>\n",
              "      <td>NaN</td>\n",
              "    </tr>\n",
              "    <tr>\n",
              "      <th>8</th>\n",
              "      <td>Fare</td>\n",
              "      <td>NaN</td>\n",
              "    </tr>\n",
              "    <tr>\n",
              "      <th>9</th>\n",
              "      <td>Cabin</td>\n",
              "      <td>NaN</td>\n",
              "    </tr>\n",
              "    <tr>\n",
              "      <th>10</th>\n",
              "      <td>Embarked</td>\n",
              "      <td>NaN</td>\n",
              "    </tr>\n",
              "  </tbody>\n",
              "</table>\n",
              "</div>\n",
              "      <button class=\"colab-df-convert\" onclick=\"convertToInteractive('df-03e85784-a36d-4fd7-97b1-e606d912b081')\"\n",
              "              title=\"Convert this dataframe to an interactive table.\"\n",
              "              style=\"display:none;\">\n",
              "        \n",
              "  <svg xmlns=\"http://www.w3.org/2000/svg\" height=\"24px\"viewBox=\"0 0 24 24\"\n",
              "       width=\"24px\">\n",
              "    <path d=\"M0 0h24v24H0V0z\" fill=\"none\"/>\n",
              "    <path d=\"M18.56 5.44l.94 2.06.94-2.06 2.06-.94-2.06-.94-.94-2.06-.94 2.06-2.06.94zm-11 1L8.5 8.5l.94-2.06 2.06-.94-2.06-.94L8.5 2.5l-.94 2.06-2.06.94zm10 10l.94 2.06.94-2.06 2.06-.94-2.06-.94-.94-2.06-.94 2.06-2.06.94z\"/><path d=\"M17.41 7.96l-1.37-1.37c-.4-.4-.92-.59-1.43-.59-.52 0-1.04.2-1.43.59L10.3 9.45l-7.72 7.72c-.78.78-.78 2.05 0 2.83L4 21.41c.39.39.9.59 1.41.59.51 0 1.02-.2 1.41-.59l7.78-7.78 2.81-2.81c.8-.78.8-2.07 0-2.86zM5.41 20L4 18.59l7.72-7.72 1.47 1.35L5.41 20z\"/>\n",
              "  </svg>\n",
              "      </button>\n",
              "      \n",
              "  <style>\n",
              "    .colab-df-container {\n",
              "      display:flex;\n",
              "      flex-wrap:wrap;\n",
              "      gap: 12px;\n",
              "    }\n",
              "\n",
              "    .colab-df-convert {\n",
              "      background-color: #E8F0FE;\n",
              "      border: none;\n",
              "      border-radius: 50%;\n",
              "      cursor: pointer;\n",
              "      display: none;\n",
              "      fill: #1967D2;\n",
              "      height: 32px;\n",
              "      padding: 0 0 0 0;\n",
              "      width: 32px;\n",
              "    }\n",
              "\n",
              "    .colab-df-convert:hover {\n",
              "      background-color: #E2EBFA;\n",
              "      box-shadow: 0px 1px 2px rgba(60, 64, 67, 0.3), 0px 1px 3px 1px rgba(60, 64, 67, 0.15);\n",
              "      fill: #174EA6;\n",
              "    }\n",
              "\n",
              "    [theme=dark] .colab-df-convert {\n",
              "      background-color: #3B4455;\n",
              "      fill: #D2E3FC;\n",
              "    }\n",
              "\n",
              "    [theme=dark] .colab-df-convert:hover {\n",
              "      background-color: #434B5C;\n",
              "      box-shadow: 0px 1px 3px 1px rgba(0, 0, 0, 0.15);\n",
              "      filter: drop-shadow(0px 1px 2px rgba(0, 0, 0, 0.3));\n",
              "      fill: #FFFFFF;\n",
              "    }\n",
              "  </style>\n",
              "\n",
              "      <script>\n",
              "        const buttonEl =\n",
              "          document.querySelector('#df-03e85784-a36d-4fd7-97b1-e606d912b081 button.colab-df-convert');\n",
              "        buttonEl.style.display =\n",
              "          google.colab.kernel.accessAllowed ? 'block' : 'none';\n",
              "\n",
              "        async function convertToInteractive(key) {\n",
              "          const element = document.querySelector('#df-03e85784-a36d-4fd7-97b1-e606d912b081');\n",
              "          const dataTable =\n",
              "            await google.colab.kernel.invokeFunction('convertToInteractive',\n",
              "                                                     [key], {});\n",
              "          if (!dataTable) return;\n",
              "\n",
              "          const docLinkHtml = 'Like what you see? Visit the ' +\n",
              "            '<a target=\"_blank\" href=https://colab.research.google.com/notebooks/data_table.ipynb>data table notebook</a>'\n",
              "            + ' to learn more about interactive tables.';\n",
              "          element.innerHTML = '';\n",
              "          dataTable['output_type'] = 'display_data';\n",
              "          await google.colab.output.renderOutput(dataTable, element);\n",
              "          const docLink = document.createElement('div');\n",
              "          docLink.innerHTML = docLinkHtml;\n",
              "          element.appendChild(docLink);\n",
              "        }\n",
              "      </script>\n",
              "    </div>\n",
              "  </div>\n",
              "  "
            ]
          },
          "metadata": {},
          "execution_count": 154
        }
      ]
    },
    {
      "cell_type": "markdown",
      "source": [
        "Comparing all models"
      ],
      "metadata": {
        "id": "PQQEVTLQDcTk"
      }
    },
    {
      "cell_type": "code",
      "source": [
        "results = pd.DataFrame({\n",
        "\t    'Model': ['Decision Tree', 'AdaBoost',\n",
        "\t              'XGBoost', 'Random Forest',\"Logistic Regression\"],\n",
        "\t    'Score': [acc_dtc, acc_xgb, acc_abc*100, acc_rfc*100,acc_log]}) \n",
        "\n",
        "result_df = results.sort_values(by='Score', ascending=False)\n",
        "result_df = result_df.set_index('Model')\n",
        "result_df"
      ],
      "metadata": {
        "id": "Cl9D40LRDfi9",
        "colab": {
          "base_uri": "https://localhost:8080/",
          "height": 238
        },
        "outputId": "8915882c-891d-4ac4-fe39-228dbc373ec5"
      },
      "execution_count": null,
      "outputs": [
        {
          "output_type": "execute_result",
          "data": {
            "text/plain": [
              "                           Score\n",
              "Model                           \n",
              "XGBoost              4776.119403\n",
              "Logistic Regression    81.540000\n",
              "Random Forest          53.000000\n",
              "AdaBoost               50.373134\n",
              "Decision Tree          49.626866"
            ],
            "text/html": [
              "\n",
              "  <div id=\"df-c7cf3f9c-a8a7-4b82-9889-ac4a9b2183aa\">\n",
              "    <div class=\"colab-df-container\">\n",
              "      <div>\n",
              "<style scoped>\n",
              "    .dataframe tbody tr th:only-of-type {\n",
              "        vertical-align: middle;\n",
              "    }\n",
              "\n",
              "    .dataframe tbody tr th {\n",
              "        vertical-align: top;\n",
              "    }\n",
              "\n",
              "    .dataframe thead th {\n",
              "        text-align: right;\n",
              "    }\n",
              "</style>\n",
              "<table border=\"1\" class=\"dataframe\">\n",
              "  <thead>\n",
              "    <tr style=\"text-align: right;\">\n",
              "      <th></th>\n",
              "      <th>Score</th>\n",
              "    </tr>\n",
              "    <tr>\n",
              "      <th>Model</th>\n",
              "      <th></th>\n",
              "    </tr>\n",
              "  </thead>\n",
              "  <tbody>\n",
              "    <tr>\n",
              "      <th>XGBoost</th>\n",
              "      <td>4776.119403</td>\n",
              "    </tr>\n",
              "    <tr>\n",
              "      <th>Logistic Regression</th>\n",
              "      <td>81.540000</td>\n",
              "    </tr>\n",
              "    <tr>\n",
              "      <th>Random Forest</th>\n",
              "      <td>53.000000</td>\n",
              "    </tr>\n",
              "    <tr>\n",
              "      <th>AdaBoost</th>\n",
              "      <td>50.373134</td>\n",
              "    </tr>\n",
              "    <tr>\n",
              "      <th>Decision Tree</th>\n",
              "      <td>49.626866</td>\n",
              "    </tr>\n",
              "  </tbody>\n",
              "</table>\n",
              "</div>\n",
              "      <button class=\"colab-df-convert\" onclick=\"convertToInteractive('df-c7cf3f9c-a8a7-4b82-9889-ac4a9b2183aa')\"\n",
              "              title=\"Convert this dataframe to an interactive table.\"\n",
              "              style=\"display:none;\">\n",
              "        \n",
              "  <svg xmlns=\"http://www.w3.org/2000/svg\" height=\"24px\"viewBox=\"0 0 24 24\"\n",
              "       width=\"24px\">\n",
              "    <path d=\"M0 0h24v24H0V0z\" fill=\"none\"/>\n",
              "    <path d=\"M18.56 5.44l.94 2.06.94-2.06 2.06-.94-2.06-.94-.94-2.06-.94 2.06-2.06.94zm-11 1L8.5 8.5l.94-2.06 2.06-.94-2.06-.94L8.5 2.5l-.94 2.06-2.06.94zm10 10l.94 2.06.94-2.06 2.06-.94-2.06-.94-.94-2.06-.94 2.06-2.06.94z\"/><path d=\"M17.41 7.96l-1.37-1.37c-.4-.4-.92-.59-1.43-.59-.52 0-1.04.2-1.43.59L10.3 9.45l-7.72 7.72c-.78.78-.78 2.05 0 2.83L4 21.41c.39.39.9.59 1.41.59.51 0 1.02-.2 1.41-.59l7.78-7.78 2.81-2.81c.8-.78.8-2.07 0-2.86zM5.41 20L4 18.59l7.72-7.72 1.47 1.35L5.41 20z\"/>\n",
              "  </svg>\n",
              "      </button>\n",
              "      \n",
              "  <style>\n",
              "    .colab-df-container {\n",
              "      display:flex;\n",
              "      flex-wrap:wrap;\n",
              "      gap: 12px;\n",
              "    }\n",
              "\n",
              "    .colab-df-convert {\n",
              "      background-color: #E8F0FE;\n",
              "      border: none;\n",
              "      border-radius: 50%;\n",
              "      cursor: pointer;\n",
              "      display: none;\n",
              "      fill: #1967D2;\n",
              "      height: 32px;\n",
              "      padding: 0 0 0 0;\n",
              "      width: 32px;\n",
              "    }\n",
              "\n",
              "    .colab-df-convert:hover {\n",
              "      background-color: #E2EBFA;\n",
              "      box-shadow: 0px 1px 2px rgba(60, 64, 67, 0.3), 0px 1px 3px 1px rgba(60, 64, 67, 0.15);\n",
              "      fill: #174EA6;\n",
              "    }\n",
              "\n",
              "    [theme=dark] .colab-df-convert {\n",
              "      background-color: #3B4455;\n",
              "      fill: #D2E3FC;\n",
              "    }\n",
              "\n",
              "    [theme=dark] .colab-df-convert:hover {\n",
              "      background-color: #434B5C;\n",
              "      box-shadow: 0px 1px 3px 1px rgba(0, 0, 0, 0.15);\n",
              "      filter: drop-shadow(0px 1px 2px rgba(0, 0, 0, 0.3));\n",
              "      fill: #FFFFFF;\n",
              "    }\n",
              "  </style>\n",
              "\n",
              "      <script>\n",
              "        const buttonEl =\n",
              "          document.querySelector('#df-c7cf3f9c-a8a7-4b82-9889-ac4a9b2183aa button.colab-df-convert');\n",
              "        buttonEl.style.display =\n",
              "          google.colab.kernel.accessAllowed ? 'block' : 'none';\n",
              "\n",
              "        async function convertToInteractive(key) {\n",
              "          const element = document.querySelector('#df-c7cf3f9c-a8a7-4b82-9889-ac4a9b2183aa');\n",
              "          const dataTable =\n",
              "            await google.colab.kernel.invokeFunction('convertToInteractive',\n",
              "                                                     [key], {});\n",
              "          if (!dataTable) return;\n",
              "\n",
              "          const docLinkHtml = 'Like what you see? Visit the ' +\n",
              "            '<a target=\"_blank\" href=https://colab.research.google.com/notebooks/data_table.ipynb>data table notebook</a>'\n",
              "            + ' to learn more about interactive tables.';\n",
              "          element.innerHTML = '';\n",
              "          dataTable['output_type'] = 'display_data';\n",
              "          await google.colab.output.renderOutput(dataTable, element);\n",
              "          const docLink = document.createElement('div');\n",
              "          docLink.innerHTML = docLinkHtml;\n",
              "          element.appendChild(docLink);\n",
              "        }\n",
              "      </script>\n",
              "    </div>\n",
              "  </div>\n",
              "  "
            ]
          },
          "metadata": {},
          "execution_count": 158
        }
      ]
    },
    {
      "cell_type": "markdown",
      "source": [
        "Running Feature Importance"
      ],
      "metadata": {
        "id": "L--7J1WgbReo"
      }
    },
    {
      "cell_type": "code",
      "execution_count": null,
      "metadata": {
        "colab": {
          "base_uri": "https://localhost:8080/"
        },
        "id": "qJOTralGleDp",
        "outputId": "1f7c7269-0eaa-4f64-ca7b-8880206c8b15"
      },
      "outputs": [
        {
          "output_type": "execute_result",
          "data": {
            "text/plain": [
              "RandomForestClassifier(random_state=0)"
            ]
          },
          "metadata": {},
          "execution_count": 159
        }
      ],
      "source": [
        "# FEATURE IMPORTANCE\n",
        "\n",
        "\n",
        "from sklearn.ensemble import RandomForestClassifier\n",
        "\n",
        "feature_names = [f\"feature {i}\" for i in range(df.shape[1])]\n",
        "forest = RandomForestClassifier(random_state=0)\n",
        "forest.fit(X_train, y_train)\n"
      ]
    },
    {
      "cell_type": "code",
      "execution_count": null,
      "metadata": {
        "colab": {
          "base_uri": "https://localhost:8080/"
        },
        "id": "F7MNgJ8Om3G2",
        "outputId": "66a51456-5451-4c5b-ae48-2dbd2872b8ad"
      },
      "outputs": [
        {
          "output_type": "stream",
          "name": "stdout",
          "text": [
            "Elapsed time to compute the importances: 0.027 seconds\n"
          ]
        }
      ],
      "source": [
        "\n",
        "import time\n",
        "import numpy as np\n",
        "\n",
        "start_time = time.time()\n",
        "importances = forest.feature_importances_\n",
        "std = np.std([tree.feature_importances_ for tree in forest.estimators_], axis=0)\n",
        "elapsed_time = time.time() - start_time\n",
        "\n",
        "print(f\"Elapsed time to compute the importances: {elapsed_time:.3f} seconds\")\n"
      ]
    },
    {
      "cell_type": "code",
      "execution_count": null,
      "metadata": {
        "colab": {
          "base_uri": "https://localhost:8080/",
          "height": 389
        },
        "id": "yKIu7Dgcnfgs",
        "outputId": "07080aa7-b890-4cf2-ac0c-78262211c830"
      },
      "outputs": [
        {
          "output_type": "error",
          "ename": "ValueError",
          "evalue": "ignored",
          "traceback": [
            "\u001b[0;31m---------------------------------------------------------------------------\u001b[0m",
            "\u001b[0;31mValueError\u001b[0m                                Traceback (most recent call last)",
            "\u001b[0;32m<ipython-input-164-6f8dfd8f5f0c>\u001b[0m in \u001b[0;36m<module>\u001b[0;34m()\u001b[0m\n\u001b[1;32m      2\u001b[0m \u001b[0;32mimport\u001b[0m \u001b[0mpandas\u001b[0m \u001b[0;32mas\u001b[0m \u001b[0mpd\u001b[0m\u001b[0;34m\u001b[0m\u001b[0;34m\u001b[0m\u001b[0m\n\u001b[1;32m      3\u001b[0m \u001b[0;34m\u001b[0m\u001b[0m\n\u001b[0;32m----> 4\u001b[0;31m \u001b[0mforest_importances\u001b[0m \u001b[0;34m=\u001b[0m \u001b[0mpd\u001b[0m\u001b[0;34m.\u001b[0m\u001b[0mSeries\u001b[0m\u001b[0;34m(\u001b[0m\u001b[0mimportances\u001b[0m\u001b[0;34m,\u001b[0m \u001b[0mindex\u001b[0m\u001b[0;34m=\u001b[0m\u001b[0mfeature_names\u001b[0m\u001b[0;34m)\u001b[0m\u001b[0;34m\u001b[0m\u001b[0;34m\u001b[0m\u001b[0m\n\u001b[0m\u001b[1;32m      5\u001b[0m \u001b[0;34m\u001b[0m\u001b[0m\n\u001b[1;32m      6\u001b[0m \u001b[0mfig\u001b[0m\u001b[0;34m,\u001b[0m \u001b[0max\u001b[0m \u001b[0;34m=\u001b[0m \u001b[0mplt\u001b[0m\u001b[0;34m.\u001b[0m\u001b[0msubplots\u001b[0m\u001b[0;34m(\u001b[0m\u001b[0;34m)\u001b[0m\u001b[0;34m\u001b[0m\u001b[0;34m\u001b[0m\u001b[0m\n",
            "\u001b[0;32m/usr/local/lib/python3.7/dist-packages/pandas/core/series.py\u001b[0m in \u001b[0;36m__init__\u001b[0;34m(self, data, index, dtype, name, copy, fastpath)\u001b[0m\n\u001b[1;32m    428\u001b[0m                 \u001b[0mindex\u001b[0m \u001b[0;34m=\u001b[0m \u001b[0mibase\u001b[0m\u001b[0;34m.\u001b[0m\u001b[0mdefault_index\u001b[0m\u001b[0;34m(\u001b[0m\u001b[0mlen\u001b[0m\u001b[0;34m(\u001b[0m\u001b[0mdata\u001b[0m\u001b[0;34m)\u001b[0m\u001b[0;34m)\u001b[0m\u001b[0;34m\u001b[0m\u001b[0;34m\u001b[0m\u001b[0m\n\u001b[1;32m    429\u001b[0m             \u001b[0;32melif\u001b[0m \u001b[0mis_list_like\u001b[0m\u001b[0;34m(\u001b[0m\u001b[0mdata\u001b[0m\u001b[0;34m)\u001b[0m\u001b[0;34m:\u001b[0m\u001b[0;34m\u001b[0m\u001b[0;34m\u001b[0m\u001b[0m\n\u001b[0;32m--> 430\u001b[0;31m                 \u001b[0mcom\u001b[0m\u001b[0;34m.\u001b[0m\u001b[0mrequire_length_match\u001b[0m\u001b[0;34m(\u001b[0m\u001b[0mdata\u001b[0m\u001b[0;34m,\u001b[0m \u001b[0mindex\u001b[0m\u001b[0;34m)\u001b[0m\u001b[0;34m\u001b[0m\u001b[0;34m\u001b[0m\u001b[0m\n\u001b[0m\u001b[1;32m    431\u001b[0m \u001b[0;34m\u001b[0m\u001b[0m\n\u001b[1;32m    432\u001b[0m             \u001b[0;31m# create/copy the manager\u001b[0m\u001b[0;34m\u001b[0m\u001b[0;34m\u001b[0m\u001b[0;34m\u001b[0m\u001b[0m\n",
            "\u001b[0;32m/usr/local/lib/python3.7/dist-packages/pandas/core/common.py\u001b[0m in \u001b[0;36mrequire_length_match\u001b[0;34m(data, index)\u001b[0m\n\u001b[1;32m    530\u001b[0m     \u001b[0;32mif\u001b[0m \u001b[0mlen\u001b[0m\u001b[0;34m(\u001b[0m\u001b[0mdata\u001b[0m\u001b[0;34m)\u001b[0m \u001b[0;34m!=\u001b[0m \u001b[0mlen\u001b[0m\u001b[0;34m(\u001b[0m\u001b[0mindex\u001b[0m\u001b[0;34m)\u001b[0m\u001b[0;34m:\u001b[0m\u001b[0;34m\u001b[0m\u001b[0;34m\u001b[0m\u001b[0m\n\u001b[1;32m    531\u001b[0m         raise ValueError(\n\u001b[0;32m--> 532\u001b[0;31m             \u001b[0;34m\"Length of values \"\u001b[0m\u001b[0;34m\u001b[0m\u001b[0;34m\u001b[0m\u001b[0m\n\u001b[0m\u001b[1;32m    533\u001b[0m             \u001b[0;34mf\"({len(data)}) \"\u001b[0m\u001b[0;34m\u001b[0m\u001b[0;34m\u001b[0m\u001b[0m\n\u001b[1;32m    534\u001b[0m             \u001b[0;34m\"does not match length of index \"\u001b[0m\u001b[0;34m\u001b[0m\u001b[0;34m\u001b[0m\u001b[0m\n",
            "\u001b[0;31mValueError\u001b[0m: Length of values (6) does not match length of index (12)"
          ]
        }
      ],
      "source": [
        "\n",
        "import pandas as pd\n",
        "\n",
        "forest_importances = pd.Series(importances, index=feature_names)\n",
        "\n",
        "fig, ax = plt.subplots()\n",
        "forest_importances.plot.bar(yerr=std, ax=ax)\n",
        "ax.set_title(\"Feature importances using MDI\")\n",
        "ax.set_ylabel(\"Mean decrease in impurity\")\n",
        "fig.tight_layout()\n"
      ]
    },
    {
      "cell_type": "markdown",
      "source": [
        "### Insights and Results \n",
        "\n",
        "In this section, we run our decision tree and the random forest, AdaBoost, XGboost, and Loggist regression models to compare their accuracies. Our best accuracy was reached by the model of Logistic Regression, with a score of 83%. However, the remaining models did not perform as well as expected, considering that other users who were taking part of the Titanic challenge were able to get an accuracy measure of over 75%. This indicates that feature engineering and model optimization should gain more attention in future attempts. Nevertheless, we discovered by the feature importance that Sex, Fare, Age, Cabin_Digit, and Pclass are the main characteristics that explain if a Titanic passenger survived the tragedy."
      ],
      "metadata": {
        "id": "SUwcYt7FR0mj"
      }
    },
    {
      "cell_type": "markdown",
      "source": [
        "### Conclusion - next steps"
      ],
      "metadata": {
        "id": "9u-g5iWof_s1"
      }
    },
    {
      "cell_type": "markdown",
      "source": [
        "Next steps of this work include advancing in feature engineering techniques, especially in creating a new variable Has_Title, which would encode the extracted titles that are considered rare. In addition, we believe combining the best models using stacking techniques would also be a further development path.\n"
      ],
      "metadata": {
        "id": "xnFpZywki_Fi"
      }
    }
  ],
  "metadata": {
    "colab": {
      "collapsed_sections": [],
      "name": "Titanic_MachineLearning_G1.ipynb",
      "provenance": []
    },
    "kernelspec": {
      "display_name": "Python 3",
      "language": "python",
      "name": "python3"
    },
    "language_info": {
      "codemirror_mode": {
        "name": "ipython",
        "version": 3
      },
      "file_extension": ".py",
      "mimetype": "text/x-python",
      "name": "python",
      "nbconvert_exporter": "python",
      "pygments_lexer": "ipython3",
      "version": "3.10.0"
    }
  },
  "nbformat": 4,
  "nbformat_minor": 0
}